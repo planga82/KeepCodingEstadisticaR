{
 "cells": [
  {
   "cell_type": "markdown",
   "metadata": {},
   "source": [
    "# Tipos de error\n",
    "\n",
    "En estadística a veces se realizan hipótesis que pueden ser ciertas o falsas con cierto grado de confianza.\n",
    "\n",
    "Partimos de dos hipótesis:\n",
    "* Hipótesis nula, $H_0$: Es la hipótesis original, la que generalmente intentamos probar o desmentir.\n",
    "* Hipótesis alternativa, $H_1$: Es la hipótesis que tenemos que aceptar cuando $H_0$ se demuestra falsa.\n",
    "\n",
    "**Ejemplos de hipótesis:**\n",
    "\n",
    "Sobre la altura de las personas.\n",
    "* $H_0$: La media de la altura en España es 1.80m.\n",
    "* $H_1$: La media de la altura en España NO es 1.80m.\n",
    "\n",
    "Sobre el color de los perros:\n",
    "* $H_0$: Todos los perros son verdes.\n",
    "* $H_1$: Algún perro no es verde.\n",
    "\n",
    "Sobre pruebas médicas:\n",
    "* $H_0$: No está embarazada.\n",
    "* $H_1$: Sí está embarazada.\n",
    "\n",
    "\n",
    "\n",
    "\n",
    "Si nuestro test estadístico dice que la hipótesis $H_1$ es cierta pero en realidad la que es cierta es la hipótesis $H_0$ estaremos cometiendo un error.\n",
    "El tipo de error depende de si nos hemos equivocado prediciendo $H_0$ o $H_1$.\n",
    "\n",
    "||$H_0$ cierta|$H_1$ cierta|\n",
    "|-|-|-|\n",
    "|Elegimos $H_0$| No hay error |Error tipo II, falso negativo|\n",
    "|Elegimos $H_1$| Error tipo I, falso positivo| No hay error |\n",
    "\n",
    "||$H_0$ cierta|$H_1$ cierta|\n",
    "|-|-|-|\n",
    "|Elegimos $H_0$| ![](tests/homerFat.jpg) No hay error | ![](tests/MargeError.png) Error tipo II, falso negativo |\n",
    "|Elegimos $H_1$| ![](tests/homerError.jpg) Error tipo I, falso positivo | ![](tests/MargePregnant.png) No hay error |\n",
    "\n",
    "\n",
    "\n",
    "\n",
    "### p-valor\n",
    "\n",
    "En los tests estadísitcos trataremos de confirmar o desmentir la hipótesis nula $H_0$ mediante un valor de confianza llamado p-valor.\n",
    "\n",
    "El p-valor es la probabilidad de que dado un modelo,la probabilidad de nuestros datos encajen en ese modelo. Es decir, es:\n",
    "\n",
    "\\\\[\n",
    "P(X \\mid \\theta)\n",
    "\\\\]\n",
    "\n",
    "No confundir con:\n",
    "\n",
    "\\\\[\n",
    "P(\\theta \\mid X)\n",
    "\\\\]\n",
    "\n",
    "Que es la probabilidad de que, dadas las muestras $X$, nuestro modelo sea $\\theta$.\n",
    "\n",
    "### Dirección de la prueba\n",
    "\n",
    "Un test puede ser unilateral o bilateral, en función de los resultados que queramos medir:\n"
   ]
  },
  {
   "cell_type": "markdown",
   "metadata": {},
   "source": [
    "# Comparando dos grupos de datos cuantitavos\n",
    "\n",
    "## T-test de student\n",
    "\n",
    "El t-test es usado cuando tienes dos grupos de datos y quieres saber si la media de ambos grupos es igual o no. Tenemos dos hipótesis:\n",
    "\\\\[H_0 : \\mu(X) = \\mu(Y) \\\\]\n",
    "\\\\[H_1 : \\mu(X) \\ne \\mu(Y) \\\\]\n",
    "\n",
    "Empezamos con las siguientes asumpciones:\n",
    "1. Las muestras han sido seleccionas por muestreo aleatorio simple dentro de la población.\n",
    "2. Las poblaciones siguen una distribución normal. (sino usar test Wilcoxon-Mann-Whitney)\n",
    "3. Ambas poblaciones tienen la misma varianza. (sino usar test Welch)\n",
    "4. Las poblaciones no están correladas. (sino usar t-test emparejado)\n",
    "\n",
    "Primero calculamos la media y varianza de ambos grupos. El test para verificar si la hipótesis nula $H_0$ es cierta puede ser calculado como sigue:\n",
    "\n",
    "\\\\[ t=\\frac{E[X]-E[Y]}{s_p·\\sqrt{\\frac{1}{n_x}+\\frac{1}{n_y}}} \\\\]\n",
    "\n",
    "Donde $s_p$ es la desviación estandar compuesta, calculada como:\n",
    "\n",
    "\\\\[ s^2_p=\\frac{(n_x-1)Var[X]+(n_y-1)Var[Y]}{n_x+n_y-2} \\\\]\n",
    "\n",
    "Donde $n_x$ y $n_y$ son los números de muestras en cada uno de los grupos muestreados. El número de grados de libertad es \n",
    "$d.f.=n_x+n_y-2$. Podemos asumir que las dos varianzas son iguales si ambas pasan el test de varianza de Fisher(F-test).\n"
   ]
  },
  {
   "cell_type": "code",
   "execution_count": 1,
   "metadata": {},
   "outputs": [
    {
     "data": {
      "text/html": [
       "'El margen que nos interesa está en el rango: [ -2.09 , 2.09 ]'"
      ],
      "text/latex": [
       "'El margen que nos interesa está en el rango: {[} -2.09 , 2.09 {]}'"
      ],
      "text/markdown": [
       "'El margen que nos interesa está en el rango: [ -2.09 , 2.09 ]'"
      ],
      "text/plain": [
       "[1] \"El margen que nos interesa está en el rango: [ -2.09 , 2.09 ]\""
      ]
     },
     "metadata": {},
     "output_type": "display_data"
    },
    {
     "data": {},
     "metadata": {},
     "output_type": "display_data"
    },
    {
     "data": {
      "image/png": "[encoded data removed]",
      "text/plain": [
       "plot without title"
      ]
     },
     "metadata": {},
     "output_type": "display_data"
    }
   ],
   "source": [
    "library(ggplot2)\n",
    "d.f.<-20\n",
    "\n",
    "loth<-qt(0.025,d.f.,lower.tail = T)\n",
    "upth<-qt(0.025,d.f.,lower.tail = F)\n",
    "\n",
    "paste(\"El margen que nos interesa está en el rango: [\",\n",
    "      round(loth,2),\",\",round(upth,2),\"]\")\n",
    "\n",
    "\n",
    "qsd009<-function(x){    \n",
    "    out<-dt(x,d.f.)\n",
    "    out[x> loth  & x<upth  ]<-NA\n",
    "    out\n",
    "}\n",
    "options(repr.plot.height=4,repr.plot.width=6)\n",
    "xdf<-data.frame(z=c(-4,4))\n",
    "ggplot(xdf,aes(x=z))+stat_function(fun=dt,args = list(df = d.f.))+\n",
    "  stat_function(fun=qsd009, geom=\"area\",fill=\"red\")+\n",
    "  geom_text(x=3,y=0.1,size=4,label=paste0(\"t_cdf(\",round(upth,2),\")=0.975\"))+\n",
    "  geom_text(x=-3,y=0.1,size=4,label=paste0(\"t_cdf(\",round(loth,2),\")=0.025\"))+\n",
    "  theme_linedraw()\n",
    "options(repr.plot.height=7,repr.plot.width=7)"
   ]
  },
  {
   "cell_type": "markdown",
   "metadata": {},
   "source": [
    "### Funciones en R\n",
    "\n",
    "Supongamos que tenemos dos variables aleatorias X, con 10 muestras, e Y, con 15 muestas. Queremos saber si ambas proceden de la misma población. Una forma de saberlo es calcular la media de X e Y.\n",
    "A continuación calcular el test t-student y ver el p-valor. \n",
    "\n",
    "* Un valor muy **bajo**, por ejemplo inferior a 0.05, nos llevaría a rechazar la hipótesis nula $H_0$ y afirmar que las medias son tan diferentes que probablemente vendrán de poblaciones distintas.\n",
    "* Un p-valor **alto** nos indicaría que la hipótesis $H_0$ es posible que sea cierta.\n",
    "\n"
   ]
  },
  {
   "cell_type": "markdown",
   "metadata": {},
   "source": [
    "#### Test bilateral"
   ]
  },
  {
   "cell_type": "code",
   "execution_count": 2,
   "metadata": {},
   "outputs": [
    {
     "name": "stdout",
     "output_type": "stream",
     "text": [
      "[1] \"El pvalor es 0.699891449630045\"\n"
     ]
    }
   ],
   "source": [
    "set.seed(123)\n",
    "nx<-10\n",
    "ny<-15\n",
    "X<-rnorm(nx,mean=7,sd=3)\n",
    "Y<-rnorm(ny,mean=8,sd=3)\n",
    "sp<-sqrt(((nx-1)*var(X)+(ny-1)*var(Y))/(nx+ny-2))\n",
    "t<-(mean(X)-mean(Y))/(sp*sqrt(1/nx+1/ny))\n",
    "pvalue<-pt(t,nx+ny-2)*2\n",
    "print(paste(\"El pvalor es\",pvalue))"
   ]
  },
  {
   "cell_type": "markdown",
   "metadata": {},
   "source": [
    "El p-valor es aproximadamente 0.7, lo que signififa que es bastante probable que las medias de X e Y sean iguales. Por lo tanto en este caso no podemos rechazar la hipótesis nula $H_0$. \n",
    "\n",
    "El mismo procedimiento lo podemos ejecutar usando la función *t.test*:"
   ]
  },
  {
   "cell_type": "code",
   "execution_count": 3,
   "metadata": {},
   "outputs": [
    {
     "data": {
      "text/plain": [
       "\n",
       "\tTwo Sample t-test\n",
       "\n",
       "data:  X and Y\n",
       "t = -0.39032, df = 23, p-value = 0.6999\n",
       "alternative hypothesis: true difference in means is not equal to 0\n",
       "95 percent confidence interval:\n",
       " -2.899342  1.978902\n",
       "sample estimates:\n",
       "mean of x mean of y \n",
       " 7.223877  7.684097 \n"
      ]
     },
     "metadata": {},
     "output_type": "display_data"
    }
   ],
   "source": [
    "t.test(X,Y,var.equal=TRUE)"
   ]
  },
  {
   "cell_type": "code",
   "execution_count": 4,
   "metadata": {},
   "outputs": [
    {
     "data": {
      "text/html": [
       "'El margen que nos llevaría a rechazar la hipótesis nula está fuera del rango: [ -2.1 , 2.1 ]'"
      ],
      "text/latex": [
       "'El margen que nos llevaría a rechazar la hipótesis nula está fuera del rango: {[} -2.1 , 2.1 {]}'"
      ],
      "text/markdown": [
       "'El margen que nos llevaría a rechazar la hipótesis nula está fuera del rango: [ -2.1 , 2.1 ]'"
      ],
      "text/plain": [
       "[1] \"El margen que nos llevaría a rechazar la hipótesis nula está fuera del rango: [ -2.1 , 2.1 ]\""
      ]
     },
     "metadata": {},
     "output_type": "display_data"
    },
    {
     "data": {},
     "metadata": {},
     "output_type": "display_data"
    },
    {
     "data": {
      "image/png": "[encoded data removed]",
      "text/plain": [
       "plot without title"
      ]
     },
     "metadata": {},
     "output_type": "display_data"
    }
   ],
   "source": [
    "d.f.<-nx+nx-2\n",
    "\n",
    "loth<-qt(0.025,d.f.,lower.tail = T)\n",
    "upth<-qt(0.025,d.f.,lower.tail = F)\n",
    "\n",
    "paste(\"El margen que nos llevaría a rechazar la hipótesis nula está fuera del rango: [\",\n",
    "      round(loth,2),\",\",round(upth,2),\"]\")\n",
    "\n",
    "\n",
    "qsd009<-function(x){    \n",
    "    out<-dt(x,d.f.)\n",
    "    out[x> loth  & x<upth  ]<-NA\n",
    "    out\n",
    "}\n",
    "\n",
    "qsdtest<-function(x){    \n",
    "    out<-dt(x,d.f.)\n",
    "    out[x> -abs(t)  & x< abs(t)  ]<-NA\n",
    "    out\n",
    "}\n",
    "\n",
    "\n",
    "options(repr.plot.height=4,repr.plot.width=6)\n",
    "xdf<-data.frame(z=c(-4,4))\n",
    "ggplot(xdf,aes(x=z))+stat_function(fun=dt,args = list(df = d.f.))+\n",
    "  stat_function(fun=qsd009, geom=\"area\",fill=\"red\",alpha=0.3)+\n",
    "  stat_function(fun=qsdtest, geom=\"area\",fill=\"yellow\",alpha=0.2)+\n",
    "  geom_text(x=3,y=0.1,size=4,label=paste0(\"t_cdf(\",round(upth,2),\")=0.975\"))+\n",
    "  geom_text(x=-3,y=0.1,size=4,label=paste0(\"t_cdf(\",round(loth,2),\")=0.025\"))+\n",
    "\n",
    "  geom_vline(xintercept = t,color=\"blue\")+\n",
    "\n",
    "  theme_linedraw()\n",
    "options(repr.plot.height=7,repr.plot.width=7)"
   ]
  },
  {
   "cell_type": "markdown",
   "metadata": {},
   "source": [
    "El p.valor es la integral de las dos áreas amarillas. Para rechazar la hipótesis nula el área debería ser la de las zona roja."
   ]
  },
  {
   "cell_type": "markdown",
   "metadata": {},
   "source": [
    "#### Test unilateral (izquierda)"
   ]
  },
  {
   "cell_type": "code",
   "execution_count": 5,
   "metadata": {},
   "outputs": [
    {
     "data": {
      "text/plain": [
       "\n",
       "\tTwo Sample t-test\n",
       "\n",
       "data:  X and Y\n",
       "t = -0.39032, df = 23, p-value = 0.3499\n",
       "alternative hypothesis: true difference in means is less than 0\n",
       "95 percent confidence interval:\n",
       "     -Inf 1.560579\n",
       "sample estimates:\n",
       "mean of x mean of y \n",
       " 7.223877  7.684097 \n"
      ]
     },
     "metadata": {},
     "output_type": "display_data"
    }
   ],
   "source": [
    "t.test(X,Y,var.equal=TRUE,alternative = \"less\")"
   ]
  },
  {
   "cell_type": "code",
   "execution_count": 6,
   "metadata": {},
   "outputs": [
    {
     "data": {},
     "metadata": {},
     "output_type": "display_data"
    },
    {
     "data": {
      "image/png": "[encoded data removed]",
      "text/plain": [
       "plot without title"
      ]
     },
     "metadata": {},
     "output_type": "display_data"
    }
   ],
   "source": [
    "loth<-qt(0.05,d.f.,lower.tail = T)\n",
    "\n",
    "qsd009<-function(x){    \n",
    "    out<-dt(x,d.f.)\n",
    "    out[x> loth  ]<-NA\n",
    "    out\n",
    "}\n",
    "\n",
    "qsdtest<-function(x){    \n",
    "    out<-dt(x,d.f.)\n",
    "    out[ x> t  ]<-NA\n",
    "    out\n",
    "}\n",
    "options(repr.plot.height=4,repr.plot.width=6)\n",
    "ggplot(xdf,aes(x=z))+stat_function(fun=dt,args = list(df = d.f.))+\n",
    "  stat_function(fun=qsd009, geom=\"area\",fill=\"red\",alpha=0.3)+\n",
    "  stat_function(fun=qsdtest, geom=\"area\",fill=\"yellow\",alpha=0.4)+\n",
    "  geom_vline(xintercept = t,color=\"blue\")+\n",
    "  theme_linedraw()\n",
    "options(repr.plot.height=7,repr.plot.width=7)"
   ]
  },
  {
   "cell_type": "markdown",
   "metadata": {},
   "source": [
    "#### Test unilateral (derecha)"
   ]
  },
  {
   "cell_type": "code",
   "execution_count": 7,
   "metadata": {},
   "outputs": [
    {
     "data": {
      "text/plain": [
       "\n",
       "\tTwo Sample t-test\n",
       "\n",
       "data:  X and Y\n",
       "t = -0.39032, df = 23, p-value = 0.6501\n",
       "alternative hypothesis: true difference in means is greater than 0\n",
       "95 percent confidence interval:\n",
       " -2.481019       Inf\n",
       "sample estimates:\n",
       "mean of x mean of y \n",
       " 7.223877  7.684097 \n"
      ]
     },
     "metadata": {},
     "output_type": "display_data"
    }
   ],
   "source": [
    "t.test(X,Y,var.equal=TRUE,alternative = \"greater\" )"
   ]
  },
  {
   "cell_type": "code",
   "execution_count": 8,
   "metadata": {},
   "outputs": [
    {
     "data": {},
     "metadata": {},
     "output_type": "display_data"
    },
    {
     "data": {
      "image/png": "[encoded data removed]",
      "text/plain": [
       "plot without title"
      ]
     },
     "metadata": {},
     "output_type": "display_data"
    }
   ],
   "source": [
    "upth<-qt(0.05,d.f.,lower.tail = F)\n",
    "\n",
    "qsd009<-function(x){    \n",
    "    out<-dt(x,d.f.)\n",
    "    out[ x<upth  ]<-NA\n",
    "    out\n",
    "}\n",
    "\n",
    "qsdtest<-function(x){    \n",
    "    out<-dt(x,d.f.)\n",
    "    out[ x< t  ]<-NA\n",
    "    out\n",
    "}\n",
    "options(repr.plot.height=4,repr.plot.width=6)\n",
    "ggplot(xdf,aes(x=z))+stat_function(fun=dt,args = list(df = d.f.))+\n",
    "  stat_function(fun=qsd009, geom=\"area\",fill=\"red\",alpha=0.3)+\n",
    "  stat_function(fun=qsdtest, geom=\"area\",fill=\"yellow\",alpha=0.4)+\n",
    "  geom_vline(xintercept = t,color=\"blue\")+\n",
    "  theme_linedraw()\n",
    "options(repr.plot.height=7,repr.plot.width=7)"
   ]
  },
  {
   "cell_type": "markdown",
   "metadata": {},
   "source": [
    "## t-test de Welch\n",
    "\n",
    "Este test es usado cuando asumimos que las dos poblaciones no tienen porqué tener la misma varianza. El test estdístico es calculado así:\n",
    "\\\\[ t=\\frac{E[X]-E[Y]}{s_{\\bar{\\Delta}}} \\\\]\n",
    "\n",
    "donde\n",
    "\\\\[ s_{\\bar{\\Delta}}=\\sqrt{\\frac{Var[X]}{n_x}+\\frac{Var[Y]}{n_y}} \\\\]\n",
    "\n",
    "Y el número de grados de libertad es:\n",
    "\\\\[ d.f.= \\frac{\\left(\\frac{Var[X]}{n_x}+\\frac{Var[Y]}{n_y} \\right)^2}{\\frac{\\left( \\frac{Var[X]}{n_x} \\right)^2}{n_x-1} + \\frac{\\left( \\frac{Var[Y]}{n_y} \\right)^2}{n_y-1}} \\\\]\n",
    "\n",
    "igualmente lo calculamos sobre una t-student. Lo único que cambia es la forma de calcular los grados de libertad y la varianza."
   ]
  },
  {
   "cell_type": "markdown",
   "metadata": {},
   "source": [
    "### Funciones en R\n",
    "\n",
    "Supongamos que al igual que en el caso anterior tenemos dos variables aleatorias X, con 10 muestras, e Y, con 15 muestas. Queremos saber si ambas proceden de la misma población. Una forma de saberlo es calcular la media de X e Y sin asumir que ambos grupos tienen la misma varianza. A continuación calcular el test t-student y ver el p-valor.\n",
    "\n"
   ]
  },
  {
   "cell_type": "code",
   "execution_count": 9,
   "metadata": {},
   "outputs": [
    {
     "name": "stdout",
     "output_type": "stream",
     "text": [
      "[1] \"El pvalor es 0.0136516316049945\"\n"
     ]
    }
   ],
   "source": [
    "set.seed(123)\n",
    "X<-rnorm(nx,mean=7,sd=3)\n",
    "Y<-rnorm(ny,mean=10,sd=0.1)\n",
    "sd<-sqrt(var(X)/nx+var(Y)/ny)\n",
    "t<-(mean(X)-mean(Y))/(sd)\n",
    "df<-(var(X)/nx+var(Y)/ny)^2/((var(X)/nx)^2/(nx-1)+(var(Y)/ny)^2/(ny-1))\n",
    "pvalue<-pt(t,df)*2\n",
    "print(paste(\"El pvalor es\",pvalue))"
   ]
  },
  {
   "cell_type": "markdown",
   "metadata": {},
   "source": [
    "Esto se puede hacer en R con el comando *t.test*:"
   ]
  },
  {
   "cell_type": "code",
   "execution_count": 10,
   "metadata": {},
   "outputs": [
    {
     "data": {
      "text/plain": [
       "\n",
       "\tWelch Two Sample t-test\n",
       "\n",
       "data:  X and Y\n",
       "t = -3.0553, df = 9.0137, p-value = 0.01365\n",
       "alternative hypothesis: true difference in means is not equal to 0\n",
       "95 percent confidence interval:\n",
       " -4.8127864 -0.7183995\n",
       "sample estimates:\n",
       "mean of x mean of y \n",
       " 7.223877  9.989470 \n"
      ]
     },
     "metadata": {},
     "output_type": "display_data"
    }
   ],
   "source": [
    "t.test(X,Y,var.equal = FALSE)"
   ]
  },
  {
   "cell_type": "markdown",
   "metadata": {},
   "source": [
    "En este caso esl p-valor es realmente bajo, así que podemos rechazar la hipótesis nula y asumir que ambas medias no son iguales.\n",
    "\n",
    "\n",
    "![Imagen no cargada. Edita y borra la @](tests/pvalor.jpg @)"
   ]
  },
  {
   "cell_type": "markdown",
   "metadata": {},
   "source": [
    "### Ejemplo: Peso de los niños al nacer\n",
    "\n",
    "Este dataset contien información de bebes recien nacidos y sus padres. Nos vamos a centrar en si la madre era o no fumadora."
   ]
  },
  {
   "cell_type": "code",
   "execution_count": 11,
   "metadata": {},
   "outputs": [
    {
     "data": {
      "text/plain": [
       "\n",
       "\tWelch Two Sample t-test\n",
       "\n",
       "data:  bwt$Birthweight[bwt$smoker == \"YES\"] and bwt$Birthweight[bwt$smoker == \"NO\"]\n",
       "t = -2.0735, df = 39.662, p-value = 0.04467\n",
       "alternative hypothesis: true difference in means is not equal to 0\n",
       "95 percent confidence interval:\n",
       " -1.60512583 -0.02032871\n",
       "sample estimates:\n",
       "mean of x mean of y \n",
       " 6.877273  7.690000 \n"
      ]
     },
     "metadata": {},
     "output_type": "display_data"
    }
   ],
   "source": [
    "bwt<-read.csv(\"tests/birthweight_reduced.csv\")\n",
    "bwt$smoker<-factor(bwt$smoker,labels = c(\"NO\",\"YES\"))\n",
    "\n",
    "tw<-t.test(bwt$Birthweight[bwt$smoker==\"YES\"],bwt$Birthweight[bwt$smoker==\"NO\"])\n",
    "tw"
   ]
  },
  {
   "cell_type": "markdown",
   "metadata": {},
   "source": [
    "**Test bilateral**. Hipótesis:\n",
    "\n",
    "* $H_0$ : El paso medio de los niños al nacer es igual en las madres fumadoras y no fumadoras.\n",
    "* $H_1$ : El paso medio de los niños al nacer es diferente (mayor o menor) en las madres fumadoras y no fumadoras.\n",
    "\n",
    "El pvalor es menor de 0.05, podemos tener indicios para rechazar la hipótesis nula y asumir que el peso de los niños al nacer va a ser diferente si las madres fuman o no.\n",
    "\n",
    "AVISO: No sabemos si los niños de las madres fumadores pesan más o menos, solo que pesan **distinto**."
   ]
  },
  {
   "cell_type": "code",
   "execution_count": 12,
   "metadata": {},
   "outputs": [
    {
     "data": {
      "text/html": [
       "'El margen que nos llevaría a rechazar la hipótesis nula está fuera del rango: [ -2.02 , 2.02 ]'"
      ],
      "text/latex": [
       "'El margen que nos llevaría a rechazar la hipótesis nula está fuera del rango: {[} -2.02 , 2.02 {]}'"
      ],
      "text/markdown": [
       "'El margen que nos llevaría a rechazar la hipótesis nula está fuera del rango: [ -2.02 , 2.02 ]'"
      ],
      "text/plain": [
       "[1] \"El margen que nos llevaría a rechazar la hipótesis nula está fuera del rango: [ -2.02 , 2.02 ]\""
      ]
     },
     "metadata": {},
     "output_type": "display_data"
    },
    {
     "data": {},
     "metadata": {},
     "output_type": "display_data"
    },
    {
     "data": {
      "image/png": "[encoded data removed]",
      "text/plain": [
       "plot without title"
      ]
     },
     "metadata": {},
     "output_type": "display_data"
    }
   ],
   "source": [
    "d.f.<-tw$parameter\n",
    "t<-tw$statistic\n",
    "loth<-qt(0.025,d.f.,lower.tail = T)\n",
    "upth<-qt(0.025,d.f.,lower.tail = F)\n",
    "\n",
    "paste(\"El margen que nos llevaría a rechazar la hipótesis nula está fuera del rango: [\",\n",
    "      round(loth,2),\",\",round(upth,2),\"]\")\n",
    "\n",
    "\n",
    "qsd009<-function(x){    \n",
    "    out<-dt(x,d.f.)\n",
    "    out[x> loth  & x<upth  ]<-NA\n",
    "    out\n",
    "}\n",
    "\n",
    "qsdtest<-function(x){    \n",
    "    out<-dt(x,d.f.)\n",
    "    out[x> -abs(t)  & x< abs(t)  ]<-NA\n",
    "    out\n",
    "}\n",
    "\n",
    "\n",
    "options(repr.plot.height=4,repr.plot.width=6)\n",
    "xdf<-data.frame(z=c(-4,4))\n",
    "ggplot(xdf,aes(x=z))+stat_function(fun=dt,args = list(df = d.f.))+\n",
    "  stat_function(fun=qsd009, geom=\"area\",fill=\"red\",alpha=0.3)+\n",
    "  stat_function(fun=qsdtest, geom=\"area\",fill=\"yellow\",alpha=0.2)+\n",
    "  geom_text(x=3,y=0.1,size=4,label=paste0(\"t_cdf(\",round(upth,2),\")=0.975\"))+\n",
    "  geom_text(x=-3,y=0.1,size=4,label=paste0(\"t_cdf(\",round(loth,2),\")=0.025\"))+\n",
    "\n",
    "  geom_vline(xintercept = t,color=\"blue\")+\n",
    "\n",
    "  theme_linedraw()\n",
    "options(repr.plot.height=7,repr.plot.width=7)"
   ]
  },
  {
   "cell_type": "markdown",
   "metadata": {},
   "source": [
    "**Test unilateral** (izquierdo). Hipótesis:\n",
    "\n",
    "* $H_0$ : El paso medio de los niños al nacer es **mayor o igual** en las madres fumadoras que en las **no** fumadoras.\n",
    "* $H_1$ : El paso medio de los niños al nacer es **menor** en las madres fumadoras que en las **no** fumadoras."
   ]
  },
  {
   "cell_type": "code",
   "execution_count": 13,
   "metadata": {},
   "outputs": [
    {
     "data": {
      "text/plain": [
       "\n",
       "\tWelch Two Sample t-test\n",
       "\n",
       "data:  bwt$Birthweight[bwt$smoker == \"YES\"] and bwt$Birthweight[bwt$smoker == \"NO\"]\n",
       "t = -2.0735, df = 39.662, p-value = 0.02233\n",
       "alternative hypothesis: true difference in means is less than 0\n",
       "95 percent confidence interval:\n",
       "       -Inf -0.1525855\n",
       "sample estimates:\n",
       "mean of x mean of y \n",
       " 6.877273  7.690000 \n"
      ]
     },
     "metadata": {},
     "output_type": "display_data"
    }
   ],
   "source": [
    "tw<-t.test(bwt$Birthweight[bwt$smoker==\"YES\"],bwt$Birthweight[bwt$smoker==\"NO\"],alternative = \"less\")\n",
    "tw"
   ]
  },
  {
   "cell_type": "markdown",
   "metadata": {},
   "source": [
    "El pvalor es menor de 0.05, podemos tener indicios para rechazar la hipótesis nula y asumir que el peso de los **niños de las madres fumadoras pesan menos**."
   ]
  },
  {
   "cell_type": "code",
   "execution_count": 14,
   "metadata": {},
   "outputs": [
    {
     "data": {},
     "metadata": {},
     "output_type": "display_data"
    },
    {
     "data": {
      "image/png": "[encoded data removed]",
      "text/plain": [
       "plot without title"
      ]
     },
     "metadata": {},
     "output_type": "display_data"
    }
   ],
   "source": [
    "loth<-qt(0.05,d.f.,lower.tail = T)\n",
    "\n",
    "qsd009<-function(x){    \n",
    "    out<-dt(x,d.f.)\n",
    "    out[x> loth  ]<-NA\n",
    "    out\n",
    "}\n",
    "\n",
    "qsdtest<-function(x){    \n",
    "    out<-dt(x,d.f.)\n",
    "    out[ x> t  ]<-NA\n",
    "    out\n",
    "}\n",
    "options(repr.plot.height=4,repr.plot.width=6)\n",
    "ggplot(xdf,aes(x=z))+stat_function(fun=dt,args = list(df = d.f.))+\n",
    "  stat_function(fun=qsd009, geom=\"area\",fill=\"red\",alpha=1)+\n",
    "  stat_function(fun=qsdtest, geom=\"area\",fill=\"yellow\",alpha=0.9)+\n",
    "  geom_vline(xintercept = t,color=\"blue\")+\n",
    "  theme_linedraw()\n",
    "options(repr.plot.height=7,repr.plot.width=7)"
   ]
  },
  {
   "cell_type": "markdown",
   "metadata": {},
   "source": [
    "**Test unilateral** (derecho). Hipótesis:\n",
    "\n",
    "* $H_0$ : El paso medio de los niños al nacer es **menor o igual** en las madres fumadoras que en las **no** fumadoras.\n",
    "* $H_1$ : El paso medio de los niños al nacer es **mayor** en las madres fumadoras que en las **no** fumadoras."
   ]
  },
  {
   "cell_type": "code",
   "execution_count": 15,
   "metadata": {},
   "outputs": [
    {
     "data": {
      "text/plain": [
       "\n",
       "\tWelch Two Sample t-test\n",
       "\n",
       "data:  bwt$Birthweight[bwt$smoker == \"YES\"] and bwt$Birthweight[bwt$smoker == \"NO\"]\n",
       "t = -2.0735, df = 39.662, p-value = 0.9777\n",
       "alternative hypothesis: true difference in means is greater than 0\n",
       "95 percent confidence interval:\n",
       " -1.472869       Inf\n",
       "sample estimates:\n",
       "mean of x mean of y \n",
       " 6.877273  7.690000 \n"
      ]
     },
     "metadata": {},
     "output_type": "display_data"
    }
   ],
   "source": [
    "tw<-t.test(bwt$Birthweight[bwt$smoker==\"YES\"],bwt$Birthweight[bwt$smoker==\"NO\"],alternative = \"greater\")\n",
    "tw"
   ]
  },
  {
   "cell_type": "code",
   "execution_count": 16,
   "metadata": {},
   "outputs": [
    {
     "data": {},
     "metadata": {},
     "output_type": "display_data"
    },
    {
     "data": {
      "image/png": "[encoded data removed]",
      "text/plain": [
       "plot without title"
      ]
     },
     "metadata": {},
     "output_type": "display_data"
    }
   ],
   "source": [
    "upth<-qt(0.05,d.f.,lower.tail = F)\n",
    "\n",
    "qsd009<-function(x){    \n",
    "    out<-dt(x,d.f.)\n",
    "    out[ x<upth  ]<-NA\n",
    "    out\n",
    "}\n",
    "\n",
    "qsdtest<-function(x){    \n",
    "    out<-dt(x,d.f.)\n",
    "    out[ x< t  ]<-NA\n",
    "    out\n",
    "}\n",
    "options(repr.plot.height=4,repr.plot.width=6)\n",
    "ggplot(xdf,aes(x=z))+stat_function(fun=dt,args = list(df = d.f.))+\n",
    "  stat_function(fun=qsd009, geom=\"area\",fill=\"red\",alpha=0.3)+\n",
    "  stat_function(fun=qsdtest, geom=\"area\",fill=\"yellow\",alpha=0.4)+\n",
    "  geom_vline(xintercept = t,color=\"blue\")+\n",
    "  theme_linedraw()"
   ]
  },
  {
   "cell_type": "markdown",
   "metadata": {},
   "source": [
    "En este caso no podemos rechazar la hipótesis nula. El tabaco puede afectar o no al bebé, pero lo que parece más probable es que un bebé de madre fumadora no va a pesar más."
   ]
  },
  {
   "cell_type": "markdown",
   "metadata": {},
   "source": [
    "## T-test emparejado\n",
    "\n",
    "Este test es usado cuando hay **dos grupos** de datos los cuales están **correlados** y quieres saber si la media de ambos grupos es la misma o no. Esto puede ser usado por ejemplo para comprobar un estudio médico y queremos comprobar si los valores han cambiado antes y después del tratamiento. La hipóteis nula dice que la diferencia entre las dos medias es igual a $\\mu_0$\n",
    "\\\\[H_0 : \\mu(X) - \\mu(Y) = \\mu_0 \\\\]\n",
    "\\\\[H_1 : \\mu(X) -\\mu(Y) \\ne \\mu_0 \\\\]\n",
    "El test estadístico es calculado de la media y varianza de la diferencia de las dos muestras:\n",
    "\\\\[ t=\\frac{E[X-Y]-\\mu_0}{\\sqrt{var[X-Y]/n}}\\\\]"
   ]
  },
  {
   "cell_type": "markdown",
   "metadata": {},
   "source": [
    "### Funciones en R\n",
    "\n"
   ]
  },
  {
   "cell_type": "code",
   "execution_count": 17,
   "metadata": {},
   "outputs": [
    {
     "name": "stdout",
     "output_type": "stream",
     "text": [
      "[1] \"El pvalor es 0.749034550097531\"\n"
     ]
    }
   ],
   "source": [
    "n<-20\n",
    "X<-rnorm(n,mean=5,sd=4)\n",
    "Y<-X-rnorm(n,mean=3,sd=2)\n",
    "mu0<-3\n",
    "D<-X-Y\n",
    "t<-(mean(D)-mu0)/(sqrt(var(D)/nx))\n",
    "pvalor<-pt(t,n-1)*2\n",
    "print(paste(\"El pvalor es\",pvalor))"
   ]
  },
  {
   "cell_type": "markdown",
   "metadata": {},
   "source": [
    "O con la función *t.test*"
   ]
  },
  {
   "cell_type": "code",
   "execution_count": 18,
   "metadata": {},
   "outputs": [
    {
     "data": {
      "text/plain": [
       "\n",
       "\tPaired t-test\n",
       "\n",
       "data:  X and Y\n",
       "t = -0.45905, df = 19, p-value = 0.6514\n",
       "alternative hypothesis: true difference in means is not equal to 3\n",
       "95 percent confidence interval:\n",
       " 2.096329 3.578581\n",
       "sample estimates:\n",
       "mean of the differences \n",
       "               2.837455 \n"
      ]
     },
     "metadata": {},
     "output_type": "display_data"
    }
   ],
   "source": [
    "t.test(X,Y,mu=mu0,paired=TRUE)"
   ]
  },
  {
   "cell_type": "markdown",
   "metadata": {},
   "source": [
    "### Ejemplo: Colesterol\n",
    "\n",
    "Un estudio probó si el colesterol se redujo después de usar una cierta marca de margarina como parte de una dieta baja en grasas y baja en colesterol. Los sujetos consumieron en promedio 2,31g del ingrediente activo, stanol eastern, un día. Este conjunto de datos contiene información sobre 18 personas que usan margarina para reducir el colesterol en tres puntos de tiempo.\n",
    "Fuente: [www.statstutor.ac.uk](http://www.statstutor.ac.uk)"
   ]
  },
  {
   "cell_type": "code",
   "execution_count": 19,
   "metadata": {},
   "outputs": [
    {
     "data": {
      "text/html": [
       "<table>\n",
       "<thead><tr><th scope=col>ID</th><th scope=col>Before</th><th scope=col>After4weeks</th><th scope=col>After8weeks</th><th scope=col>Margarine</th></tr></thead>\n",
       "<tbody>\n",
       "\t<tr><td>1   </td><td>6.42</td><td>5.83</td><td>5.75</td><td>B   </td></tr>\n",
       "\t<tr><td>2   </td><td>6.76</td><td>6.20</td><td>6.13</td><td>A   </td></tr>\n",
       "\t<tr><td>3   </td><td>6.56</td><td>5.83</td><td>5.71</td><td>B   </td></tr>\n",
       "\t<tr><td>4   </td><td>4.80</td><td>4.27</td><td>4.15</td><td>A   </td></tr>\n",
       "\t<tr><td>5   </td><td>8.43</td><td>7.71</td><td>7.67</td><td>B   </td></tr>\n",
       "\t<tr><td>6   </td><td>7.49</td><td>7.12</td><td>7.05</td><td>A   </td></tr>\n",
       "</tbody>\n",
       "</table>\n"
      ],
      "text/latex": [
       "\\begin{tabular}{r|lllll}\n",
       " ID & Before & After4weeks & After8weeks & Margarine\\\\\n",
       "\\hline\n",
       "\t 1    & 6.42 & 5.83 & 5.75 & B   \\\\\n",
       "\t 2    & 6.76 & 6.20 & 6.13 & A   \\\\\n",
       "\t 3    & 6.56 & 5.83 & 5.71 & B   \\\\\n",
       "\t 4    & 4.80 & 4.27 & 4.15 & A   \\\\\n",
       "\t 5    & 8.43 & 7.71 & 7.67 & B   \\\\\n",
       "\t 6    & 7.49 & 7.12 & 7.05 & A   \\\\\n",
       "\\end{tabular}\n"
      ],
      "text/markdown": [
       "\n",
       "ID | Before | After4weeks | After8weeks | Margarine | \n",
       "|---|---|---|---|---|---|\n",
       "| 1    | 6.42 | 5.83 | 5.75 | B    | \n",
       "| 2    | 6.76 | 6.20 | 6.13 | A    | \n",
       "| 3    | 6.56 | 5.83 | 5.71 | B    | \n",
       "| 4    | 4.80 | 4.27 | 4.15 | A    | \n",
       "| 5    | 8.43 | 7.71 | 7.67 | B    | \n",
       "| 6    | 7.49 | 7.12 | 7.05 | A    | \n",
       "\n",
       "\n"
      ],
      "text/plain": [
       "  ID Before After4weeks After8weeks Margarine\n",
       "1 1  6.42   5.83        5.75        B        \n",
       "2 2  6.76   6.20        6.13        A        \n",
       "3 3  6.56   5.83        5.71        B        \n",
       "4 4  4.80   4.27        4.15        A        \n",
       "5 5  8.43   7.71        7.67        B        \n",
       "6 6  7.49   7.12        7.05        A        "
      ]
     },
     "metadata": {},
     "output_type": "display_data"
    },
    {
     "name": "stdout",
     "output_type": "stream",
     "text": [
      "[1] \"Para la margarina tipo A\"\n"
     ]
    },
    {
     "data": {
      "text/plain": [
       "\n",
       "\tPaired t-test\n",
       "\n",
       "data:  chl$Before[chl$Margarine == \"A\"] and chl$After4weeks[chl$Margarine == \"A\"]\n",
       "t = 11.098, df = 8, p-value = 3.88e-06\n",
       "alternative hypothesis: true difference in means is not equal to 0\n",
       "95 percent confidence interval:\n",
       " 0.3846643 0.5864468\n",
       "sample estimates:\n",
       "mean of the differences \n",
       "              0.4855556 \n"
      ]
     },
     "metadata": {},
     "output_type": "display_data"
    },
    {
     "name": "stdout",
     "output_type": "stream",
     "text": [
      "[1] \"Para la margarina tipo B\"\n"
     ]
    },
    {
     "data": {
      "text/plain": [
       "\n",
       "\tPaired t-test\n",
       "\n",
       "data:  chl$Before[chl$Margarine == \"B\"] and chl$After4weeks[chl$Margarine == \"B\"]\n",
       "t = 13.857, df = 8, p-value = 7.112e-07\n",
       "alternative hypothesis: true difference in means is not equal to 0\n",
       "95 percent confidence interval:\n",
       " 0.5390531 0.7542802\n",
       "sample estimates:\n",
       "mean of the differences \n",
       "              0.6466667 \n"
      ]
     },
     "metadata": {},
     "output_type": "display_data"
    }
   ],
   "source": [
    "chl<-read.csv(\"tests/stcp-dataset-cholesterol_des.csv\")\n",
    "head(chl)\n",
    "\n",
    "print(\"Para la margarina tipo A\")\n",
    "t.test(chl$Before[chl$Margarine==\"A\"],chl$After4weeks[chl$Margarine==\"A\"],paired=TRUE)\n",
    "print(\"Para la margarina tipo B\")\n",
    "t.test(chl$Before[chl$Margarine==\"B\"],chl$After4weeks[chl$Margarine==\"B\"],paired=TRUE)"
   ]
  },
  {
   "cell_type": "markdown",
   "metadata": {},
   "source": [
    "En ambos casos el p-valor es bastante bajo, así que parece que los sujetos realmente bajaron su nivel de colesterol, muy posiblemente a causa de la margarina."
   ]
  },
  {
   "cell_type": "markdown",
   "metadata": {},
   "source": [
    "## Wilcoxon-Mann-Whitney test\n",
    "\n",
    "El U-test Mann-Whitney es usado para **comparar si dos variables independientes vienen de la misma distribución**. Funciona bajo las siguientes suposiciones:\n",
    "* Todas las observaciones de ambos grupos son independientes entre sí,\n",
    "* Las respuestas son ordinales (es decir, se puede decir al menos, de dos observaciones, caul es la mayor)\n",
    "* Bajo la hipótesis nula $H_0$, la probabilidad de que una observación de la población X supere una observación de la segunda población Y es igual a la probabilidad de que una observación de Y exceda una observación de X. \n",
    "* La hipótesis alternativa $H_1$ es la probabilidad de que una observación de la población X que excede una observación de la segunda población Y sea diferente de la probabilidad de que una observación de Y exceda una observación de X. La alternativa también puede establecerse en términos de una sola prueba a los lados, por ejemplo: P (X> Y)> P (Y> X).\n",
    "\n",
    "Las hipótesis son:\n",
    "\\\\[\n",
    "\\begin{split}\n",
    "H_0 : P(X > Y) = P(Y > X) \\\\\n",
    "H_1 :P(X > Y) \\ne P(Y > X)\n",
    "\\end{split}\n",
    "\\\\]\n"
   ]
  },
  {
   "cell_type": "markdown",
   "metadata": {},
   "source": [
    "### Funciones en R\n",
    "\n",
    "Esto puede ser calculado en R con la función $wilcox.test$"
   ]
  },
  {
   "cell_type": "code",
   "execution_count": 20,
   "metadata": {},
   "outputs": [
    {
     "data": {
      "text/html": [
       "<ol class=list-inline>\n",
       "\t<li>21</li>\n",
       "\t<li>21</li>\n",
       "\t<li>22.8</li>\n",
       "\t<li>21.4</li>\n",
       "\t<li>18.7</li>\n",
       "\t<li>18.1</li>\n",
       "\t<li>14.3</li>\n",
       "\t<li>24.4</li>\n",
       "\t<li>22.8</li>\n",
       "\t<li>19.2</li>\n",
       "\t<li>17.8</li>\n",
       "\t<li>16.4</li>\n",
       "\t<li>17.3</li>\n",
       "\t<li>15.2</li>\n",
       "\t<li>10.4</li>\n",
       "\t<li>10.4</li>\n",
       "\t<li>14.7</li>\n",
       "\t<li>32.4</li>\n",
       "\t<li>30.4</li>\n",
       "\t<li>33.9</li>\n",
       "\t<li>21.5</li>\n",
       "\t<li>15.5</li>\n",
       "\t<li>15.2</li>\n",
       "\t<li>13.3</li>\n",
       "\t<li>19.2</li>\n",
       "\t<li>27.3</li>\n",
       "\t<li>26</li>\n",
       "\t<li>30.4</li>\n",
       "\t<li>15.8</li>\n",
       "\t<li>19.7</li>\n",
       "\t<li>15</li>\n",
       "\t<li>21.4</li>\n",
       "</ol>\n"
      ],
      "text/latex": [
       "\\begin{enumerate*}\n",
       "\\item 21\n",
       "\\item 21\n",
       "\\item 22.8\n",
       "\\item 21.4\n",
       "\\item 18.7\n",
       "\\item 18.1\n",
       "\\item 14.3\n",
       "\\item 24.4\n",
       "\\item 22.8\n",
       "\\item 19.2\n",
       "\\item 17.8\n",
       "\\item 16.4\n",
       "\\item 17.3\n",
       "\\item 15.2\n",
       "\\item 10.4\n",
       "\\item 10.4\n",
       "\\item 14.7\n",
       "\\item 32.4\n",
       "\\item 30.4\n",
       "\\item 33.9\n",
       "\\item 21.5\n",
       "\\item 15.5\n",
       "\\item 15.2\n",
       "\\item 13.3\n",
       "\\item 19.2\n",
       "\\item 27.3\n",
       "\\item 26\n",
       "\\item 30.4\n",
       "\\item 15.8\n",
       "\\item 19.7\n",
       "\\item 15\n",
       "\\item 21.4\n",
       "\\end{enumerate*}\n"
      ],
      "text/markdown": [
       "1. 21\n",
       "2. 21\n",
       "3. 22.8\n",
       "4. 21.4\n",
       "5. 18.7\n",
       "6. 18.1\n",
       "7. 14.3\n",
       "8. 24.4\n",
       "9. 22.8\n",
       "10. 19.2\n",
       "11. 17.8\n",
       "12. 16.4\n",
       "13. 17.3\n",
       "14. 15.2\n",
       "15. 10.4\n",
       "16. 10.4\n",
       "17. 14.7\n",
       "18. 32.4\n",
       "19. 30.4\n",
       "20. 33.9\n",
       "21. 21.5\n",
       "22. 15.5\n",
       "23. 15.2\n",
       "24. 13.3\n",
       "25. 19.2\n",
       "26. 27.3\n",
       "27. 26\n",
       "28. 30.4\n",
       "29. 15.8\n",
       "30. 19.7\n",
       "31. 15\n",
       "32. 21.4\n",
       "\n",
       "\n"
      ],
      "text/plain": [
       " [1] 21.0 21.0 22.8 21.4 18.7 18.1 14.3 24.4 22.8 19.2 17.8 16.4 17.3 15.2 10.4\n",
       "[16] 10.4 14.7 32.4 30.4 33.9 21.5 15.5 15.2 13.3 19.2 27.3 26.0 30.4 15.8 19.7\n",
       "[31] 15.0 21.4"
      ]
     },
     "metadata": {},
     "output_type": "display_data"
    }
   ],
   "source": [
    "mtcars$mpg"
   ]
  },
  {
   "cell_type": "code",
   "execution_count": 21,
   "metadata": {},
   "outputs": [
    {
     "data": {
      "text/html": [
       "<ol class=list-inline>\n",
       "\t<li>1</li>\n",
       "\t<li>1</li>\n",
       "\t<li>1</li>\n",
       "\t<li>0</li>\n",
       "\t<li>0</li>\n",
       "\t<li>0</li>\n",
       "\t<li>0</li>\n",
       "\t<li>0</li>\n",
       "\t<li>0</li>\n",
       "\t<li>0</li>\n",
       "\t<li>0</li>\n",
       "\t<li>0</li>\n",
       "\t<li>0</li>\n",
       "\t<li>0</li>\n",
       "\t<li>0</li>\n",
       "\t<li>0</li>\n",
       "\t<li>0</li>\n",
       "\t<li>1</li>\n",
       "\t<li>1</li>\n",
       "\t<li>1</li>\n",
       "\t<li>0</li>\n",
       "\t<li>0</li>\n",
       "\t<li>0</li>\n",
       "\t<li>0</li>\n",
       "\t<li>0</li>\n",
       "\t<li>1</li>\n",
       "\t<li>1</li>\n",
       "\t<li>1</li>\n",
       "\t<li>1</li>\n",
       "\t<li>1</li>\n",
       "\t<li>1</li>\n",
       "\t<li>1</li>\n",
       "</ol>\n"
      ],
      "text/latex": [
       "\\begin{enumerate*}\n",
       "\\item 1\n",
       "\\item 1\n",
       "\\item 1\n",
       "\\item 0\n",
       "\\item 0\n",
       "\\item 0\n",
       "\\item 0\n",
       "\\item 0\n",
       "\\item 0\n",
       "\\item 0\n",
       "\\item 0\n",
       "\\item 0\n",
       "\\item 0\n",
       "\\item 0\n",
       "\\item 0\n",
       "\\item 0\n",
       "\\item 0\n",
       "\\item 1\n",
       "\\item 1\n",
       "\\item 1\n",
       "\\item 0\n",
       "\\item 0\n",
       "\\item 0\n",
       "\\item 0\n",
       "\\item 0\n",
       "\\item 1\n",
       "\\item 1\n",
       "\\item 1\n",
       "\\item 1\n",
       "\\item 1\n",
       "\\item 1\n",
       "\\item 1\n",
       "\\end{enumerate*}\n"
      ],
      "text/markdown": [
       "1. 1\n",
       "2. 1\n",
       "3. 1\n",
       "4. 0\n",
       "5. 0\n",
       "6. 0\n",
       "7. 0\n",
       "8. 0\n",
       "9. 0\n",
       "10. 0\n",
       "11. 0\n",
       "12. 0\n",
       "13. 0\n",
       "14. 0\n",
       "15. 0\n",
       "16. 0\n",
       "17. 0\n",
       "18. 1\n",
       "19. 1\n",
       "20. 1\n",
       "21. 0\n",
       "22. 0\n",
       "23. 0\n",
       "24. 0\n",
       "25. 0\n",
       "26. 1\n",
       "27. 1\n",
       "28. 1\n",
       "29. 1\n",
       "30. 1\n",
       "31. 1\n",
       "32. 1\n",
       "\n",
       "\n"
      ],
      "text/plain": [
       " [1] 1 1 1 0 0 0 0 0 0 0 0 0 0 0 0 0 0 1 1 1 0 0 0 0 0 1 1 1 1 1 1 1"
      ]
     },
     "metadata": {},
     "output_type": "display_data"
    }
   ],
   "source": [
    "mtcars$am "
   ]
  },
  {
   "cell_type": "code",
   "execution_count": 22,
   "metadata": {},
   "outputs": [
    {
     "name": "stderr",
     "output_type": "stream",
     "text": [
      "Warning message in wilcox.test.default(x = c(21.4, 18.7, 18.1, 14.3, 24.4, 22.8, :\n",
      "“cannot compute exact p-value with ties”"
     ]
    },
    {
     "data": {
      "text/plain": [
       "\n",
       "\tWilcoxon rank sum test with continuity correction\n",
       "\n",
       "data:  mpg by am\n",
       "W = 42, p-value = 0.001871\n",
       "alternative hypothesis: true location shift is not equal to 0\n"
      ]
     },
     "metadata": {},
     "output_type": "display_data"
    }
   ],
   "source": [
    "wilcox.test(mpg ~ am, data=mtcars) "
   ]
  },
  {
   "cell_type": "markdown",
   "metadata": {},
   "source": [
    "Podemos asumir que el consumo de gasolina de un coche (mtcars\\$mpg, miles per gallon), es independiente de si el coche es o no automático (mtcars\\$am) porque el valor tan bajo del p-valor nos obliga a rechazar la hipótesis nula."
   ]
  },
  {
   "cell_type": "markdown",
   "metadata": {},
   "source": [
    "## Test de varianza Fisher\n",
    "\n",
    "El test F es usado cuando se tienen **dos** grupos de datos procedentes de una distribución **normal** y se quiere saber si la **varianza** de ambos grupos es la misma. Esto significa que las variables son homocedasticas. La hipótesis con la que trabaja este test es :\n",
    "\\\\[H_0 : \\sigma(X) = \\sigma(Y) \\\\]\n",
    "\\\\[H_1 : \\sigma(X) \\ne \\sigma(Y) \\\\]\n",
    "\n",
    "El test estadítico se basa en el cociente de dos varianzas:\n",
    "\\\\[F=\\frac{Var[X]}{Var[Y]}\\\\]\n",
    "\n",
    "Esto sigue una distribución F con $n_x-1$ y $n_y-1$ grados de libertad."
   ]
  },
  {
   "cell_type": "code",
   "execution_count": 23,
   "metadata": {},
   "outputs": [
    {
     "data": {
      "text/plain": [
       "\n",
       "\tF test to compare two variances\n",
       "\n",
       "data:  X and Y\n",
       "F = 3.4123, num df = 9, denom df = 14, p-value = 0.03946\n",
       "alternative hypothesis: true ratio of variances is not equal to 1\n",
       "95 percent confidence interval:\n",
       "  1.063265 12.959890\n",
       "sample estimates:\n",
       "ratio of variances \n",
       "          3.412336 \n"
      ]
     },
     "metadata": {},
     "output_type": "display_data"
    }
   ],
   "source": [
    "nx<-10\n",
    "ny<-15\n",
    "X<-rnorm(nx,mean=7,sd=3)\n",
    "Y<-rnorm(ny,mean=8,sd=3)\n",
    "var.test(X,Y)"
   ]
  },
  {
   "cell_type": "code",
   "execution_count": 122,
   "metadata": {},
   "outputs": [
    {
     "data": {
      "text/html": [
       "0.676572009535222"
      ],
      "text/latex": [
       "0.676572009535222"
      ],
      "text/markdown": [
       "0.676572009535222"
      ],
      "text/plain": [
       "[1] 0.676572"
      ]
     },
     "metadata": {},
     "output_type": "display_data"
    }
   ],
   "source": [
    "df(1, df1=nx, df2=ny, ncp=0, log = FALSE)"
   ]
  },
  {
   "cell_type": "markdown",
   "metadata": {},
   "source": [
    "### Test de Bartlett\n",
    "\n",
    "El test F es usado cuando se tienen **varios** grupos de datos procedentes de una distribución **cualquiera** y se quiere saber si la **varianza** de ambos grupos es la misma. Esto significa que las variables son homocedasticas. La hipótesis con la que trabaja este test es :\n",
    "\\\\[H_0 : \\sigma(X) = \\sigma(Y) \\\\]\n",
    "\\\\[H_1 : \\sigma(X) \\ne \\sigma(Y) \\\\]\n"
   ]
  },
  {
   "cell_type": "code",
   "execution_count": 24,
   "metadata": {},
   "outputs": [
    {
     "data": {
      "text/plain": [
       "\n",
       "\tBartlett test of homogeneity of variances\n",
       "\n",
       "data:  X by group\n",
       "Bartlett's K-squared = 16.973, df = 1, p-value = 3.791e-05\n"
      ]
     },
     "metadata": {},
     "output_type": "display_data"
    }
   ],
   "source": [
    "n<- 20\n",
    "df<-data.frame(X=runif(n,min=-1,max=2),group=\"A\")\n",
    "df<-rbind(df,data.frame(X=runif(n,min=0,max=1),group=\"B\"))\n",
    "\n",
    "\n",
    "bartlett.test(X~group,data=df)"
   ]
  },
  {
   "cell_type": "markdown",
   "metadata": {},
   "source": [
    "## Comparando normalidad (Shapiro)\n",
    "\n",
    "El Test de Shapiro–Wilk se usa para comprobar la normalidad de un conjunto de datos. \n",
    "Se plantea como hipótesis nula que una muestra X proviene de una población normalmente distribuida. Se considera como unos de los tests más fiables.\n",
    "\n",
    "En R se ejecuta llamando a shapiro.test()"
   ]
  },
  {
   "cell_type": "code",
   "execution_count": 25,
   "metadata": {},
   "outputs": [
    {
     "data": {
      "text/plain": [
       "\n",
       "\tShapiro-Wilk normality test\n",
       "\n",
       "data:  rnorm(100, mean = 10, sd = 4)\n",
       "W = 0.97321, p-value = 0.03909\n"
      ]
     },
     "metadata": {},
     "output_type": "display_data"
    }
   ],
   "source": [
    "shapiro.test(rnorm(100,mean=10,sd=4))"
   ]
  },
  {
   "cell_type": "code",
   "execution_count": 26,
   "metadata": {},
   "outputs": [
    {
     "data": {
      "text/plain": [
       "\n",
       "\tShapiro-Wilk normality test\n",
       "\n",
       "data:  runif(100, min = -10, max = 10)\n",
       "W = 0.94841, p-value = 0.0006532\n"
      ]
     },
     "metadata": {},
     "output_type": "display_data"
    }
   ],
   "source": [
    "shapiro.test(runif(100,min = -10,max = 10))"
   ]
  },
  {
   "cell_type": "markdown",
   "metadata": {},
   "source": [
    "Si el p-valor es muy bajo deberíamos rechazar la hipótesis nula. Es decir, la distribución no es normal."
   ]
  },
  {
   "cell_type": "markdown",
   "metadata": {},
   "source": [
    "### Ejemplo: Peso de niños al nacer"
   ]
  },
  {
   "cell_type": "code",
   "execution_count": 27,
   "metadata": {},
   "outputs": [
    {
     "data": {
      "text/html": [
       "'Las muestras de peso para madres fumadoras parecen seguir una gaussiana. pvalor: 0.955512608511625'"
      ],
      "text/latex": [
       "'Las muestras de peso para madres fumadoras parecen seguir una gaussiana. pvalor: 0.955512608511625'"
      ],
      "text/markdown": [
       "'Las muestras de peso para madres fumadoras parecen seguir una gaussiana. pvalor: 0.955512608511625'"
      ],
      "text/plain": [
       "[1] \"Las muestras de peso para madres fumadoras parecen seguir una gaussiana. pvalor: 0.955512608511625\""
      ]
     },
     "metadata": {},
     "output_type": "display_data"
    },
    {
     "data": {
      "text/html": [
       "'Las muestras de peso para madres NO fumadoras parecen seguir una gaussiana. pvalor: 0.727691701451127'"
      ],
      "text/latex": [
       "'Las muestras de peso para madres NO fumadoras parecen seguir una gaussiana. pvalor: 0.727691701451127'"
      ],
      "text/markdown": [
       "'Las muestras de peso para madres NO fumadoras parecen seguir una gaussiana. pvalor: 0.727691701451127'"
      ],
      "text/plain": [
       "[1] \"Las muestras de peso para madres NO fumadoras parecen seguir una gaussiana. pvalor: 0.727691701451127\""
      ]
     },
     "metadata": {},
     "output_type": "display_data"
    },
    {
     "name": "stdout",
     "output_type": "stream",
     "text": [
      "[1] \"Podemos aplicar un t-welch's test\"\n"
     ]
    },
    {
     "data": {
      "text/plain": [
       "\n",
       "\tWelch Two Sample t-test\n",
       "\n",
       "data:  bwt$Birthweight[bwt$smoker == \"YES\"] and bwt$Birthweight[bwt$smoker == \"NO\"]\n",
       "t = -2.0735, df = 39.662, p-value = 0.04467\n",
       "alternative hypothesis: true difference in means is not equal to 0\n",
       "95 percent confidence interval:\n",
       " -1.60512583 -0.02032871\n",
       "sample estimates:\n",
       "mean of x mean of y \n",
       " 6.877273  7.690000 \n"
      ]
     },
     "metadata": {},
     "output_type": "display_data"
    },
    {
     "name": "stdout",
     "output_type": "stream",
     "text": [
      "[1] \"Parece que podría haber una diferencia estadística significativa en el peso del bebé si la madre fuma o no.\"\n"
     ]
    }
   ],
   "source": [
    "library(ggplot2)\n",
    "bwt<-read.csv(\"tests/birthweight_reduced.csv\")\n",
    "bwt$smoker<-factor(bwt$smoker,labels = c(\"NO\",\"YES\"))\n",
    "\n",
    "paste(\"Las muestras de peso para madres fumadoras parecen seguir una gaussiana. pvalor:\",\n",
    "          shapiro.test(bwt$Birthweight[bwt$smoker==\"YES\"])$p.value)\n",
    "paste(\"Las muestras de peso para madres NO fumadoras parecen seguir una gaussiana. pvalor:\",\n",
    "          shapiro.test(bwt$Birthweight[bwt$smoker==\"NO\"])$p.value)\n",
    "\n",
    "tw<-t.test(bwt$Birthweight[bwt$smoker==\"YES\"],bwt$Birthweight[bwt$smoker==\"NO\"])\n",
    "print(\"Podemos aplicar un t-welch's test\")\n",
    "tw\n",
    "print(\"Parece que podría haber una diferencia estadística significativa en el peso del bebé si la madre fuma o no.\")\n"
   ]
  },
  {
   "cell_type": "code",
   "execution_count": 28,
   "metadata": {},
   "outputs": [
    {
     "data": {
      "text/plain": [
       "\n",
       "Call:\n",
       "lm(formula = Birthweight ~ Gestation + motherage + mnocig + mheight + \n",
       "    fage, data = bwt)\n",
       "\n",
       "Residuals:\n",
       "    Min      1Q  Median      3Q     Max \n",
       "-1.4093 -0.5878 -0.1046  0.6506  1.6698 \n",
       "\n",
       "Coefficients:\n",
       "             Estimate Std. Error t value Pr(>|t|)    \n",
       "(Intercept) -15.25324    3.72568  -4.094 0.000229 ***\n",
       "Gestation     0.30082    0.05431   5.539 2.87e-06 ***\n",
       "motherage    -0.05218    0.04278  -1.220 0.230527    \n",
       "mnocig       -0.02572    0.01156  -2.225 0.032415 *  \n",
       "mheight       0.16033    0.05657   2.834 0.007482 ** \n",
       "fage          0.06844    0.03504   1.953 0.058587 .  \n",
       "---\n",
       "Signif. codes:  0 ‘***’ 0.001 ‘**’ 0.01 ‘*’ 0.05 ‘.’ 0.1 ‘ ’ 1\n",
       "\n",
       "Residual standard error: 0.8583 on 36 degrees of freedom\n",
       "Multiple R-squared:  0.6342,\tAdjusted R-squared:  0.5834 \n",
       "F-statistic: 12.48 on 5 and 36 DF,  p-value: 4.619e-07\n"
      ]
     },
     "metadata": {},
     "output_type": "display_data"
    }
   ],
   "source": [
    "\n",
    "bwt<-read.csv(\"tests/birthweight_reduced.csv\")\n",
    "model<-lm(data=bwt, formula = Birthweight ~ Gestation+motherage+mnocig+mheight+fage)\n",
    "summary(model)"
   ]
  },
  {
   "cell_type": "markdown",
   "metadata": {},
   "source": [
    "# Comparando distintos grupos de datos\n",
    "\n",
    "## ANOVA 1 variable\n",
    "\n",
    "Usamos ANOVA para comparar las medias de tres o más grupos de datos. Es decir, compara una variable dependiente (los datos de entrada) con una variable independiente  que tiene tres o más niveles (uno por cada grupo). Cada nivel identifica cada uno de los grupos de datos. La hipótesis nula afirma qeu todos los grupos tienen la misma media:\n",
    "\\\\[\n",
    "\\begin{split}\n",
    "H_0 : \\mu_1 = \\mu_2 = ... = \\mu_k \\\\\n",
    "H_1 : \\text{at leas one pair }\\mu_j\\ne \\mu_i \n",
    "\\end{split}\n",
    "\\\\]\n",
    "Estas hipótesis examinan si las muestras siguen la siguiente regresión lineal: $y_{ij}=\\mu_j+\\varepsilon_{ij}$, donde:\n",
    "* $y_{ij}$ es la variable dependiente, muestra i-ésima del grupo j.\n",
    "* $\\mu_j$ es la media real de grupo j, de la población total (desconocida pero estimable)\n",
    "* $\\varepsilon_{ij}$ son los errores resultantes del modelo\n",
    "* $\\bar{y}_j$ es la media muestral del grupo j\n",
    "* $k$ es el número de grupos\n",
    "* $n_j$ es el número de muestras del grupo j\n",
    "* $n=\\sum_{j=1}^{k}n_j$ es el número total de muestras\n",
    "\n",
    "El test-F omnibus test en anova de una variable es:\n",
    "\\\\[\n",
    "F=\\frac{\\sum_{j=1}^{k} n_j \\left ( \\bar{y_j}-\\bar{y} \\right )^2 / \\left ( k-1 \\right ) }{\\sum_{j=1}^{k} \\sum_{i=1}^{n_j} \\left ( y_{ij}-\\bar{y_j} \\right )^2 / \\left ( n-k \\right ) }=\\frac{\\text{Suma cuadrádica de residuos en cada grupo}}{\\text{Suma cuadrádica de residuos dentro de un grupo}}\n",
    "\\\\]\n",
    "\n",
    "\n",
    "\n",
    "ANOVA produce un test estadístico F, la relación de la varianza calculada entre los medios a la varianza dentro de las muestras. * Si los medios del grupo provienen de poblaciones con los mismos valores medios, la varianza entre los medios del grupo debe ser menor que la varianza de las muestras *, siguiendo el teorema del límite central. Por lo tanto, una relación más alta implica que las muestras se tomaron de poblaciones con diferentes valores medios.\n",
    "\n",
    "Cuando solo hay dos medios para comparar la prueba t de Student (se debe usar la prueba t de Student), la prueba t y la prueba F son equivalentes; la relación entre ANOVA y t viene dada por $F = t^2$.\n",
    "\n",
    "\n",
    "\n",
    "Suposiciones de ANOVA:\n",
    "* La variable dependiente está distribuida sigue una distribución normal en cada grupo.\n",
    "* Hay homogeneidad de varianzas.\n",
    "* Las observaciones son independientes.\n"
   ]
  },
  {
   "cell_type": "markdown",
   "metadata": {},
   "source": [
    "### Funciones en R"
   ]
  },
  {
   "cell_type": "code",
   "execution_count": 29,
   "metadata": {},
   "outputs": [
    {
     "name": "stdout",
     "output_type": "stream",
     "text": [
      "[1] \"El pvalor es 0.00907240548036725\"\n"
     ]
    }
   ],
   "source": [
    "set.seed(123)\n",
    "n1<-40; n2<-50; n3<-70\n",
    "m1<-18; m2<-15; m3<-15\n",
    "sd<-7\n",
    "\n",
    "a1<-rnorm(n1,mean=m1,sd=sd)\n",
    "a2<-rnorm(n2,mean=m2,sd=sd)\n",
    "a3<-rnorm(n3,mean=m3,sd=sd)\n",
    "\n",
    "ma1<-mean(a1)\n",
    "ma2<-mean(a2)\n",
    "ma3<-mean(a3)\n",
    "ma<-mean(c(a1,a2,a3))\n",
    "masq_between_group<-n1*(ma1-ma)^2+n2*(ma2-ma)^2+n3*(ma3-ma)^2\n",
    "df_between_group<-3-1\n",
    "mean_square_value_between_group<-masq_between_group/df_between_group\n",
    "\n",
    "masq_within_group<-sum((a1-ma1)^2)+sum((a2-ma2)^2)+sum((a3-ma3)^2)\n",
    "df_within_group<-n1-1+n2-1+n3-1\n",
    "mean_square_value_within_group<-masq_within_group/df_within_group\n",
    "\n",
    "F<-mean_square_value_between_group/mean_square_value_within_group\n",
    "\n",
    "pvalue<-1-pf(F,df_between_group,df_within_group)\n",
    "print(paste(\"El pvalor es\",pvalue))"
   ]
  },
  {
   "cell_type": "markdown",
   "metadata": {},
   "source": [
    "El p-valor es realmente bajo, por lo que podemos rechazar la hipótesis nula. Esto significa que no todos los grupos tienen la misma media. Se puede calcular con la función *aov*."
   ]
  },
  {
   "cell_type": "code",
   "execution_count": 30,
   "metadata": {},
   "outputs": [
    {
     "data": {
      "text/plain": [
       "             Df Sum Sq Mean Sq F value  Pr(>F)   \n",
       "cl            2    416  208.00   4.846 0.00907 **\n",
       "Residuals   157   6738   42.92                   \n",
       "---\n",
       "Signif. codes:  0 ‘***’ 0.001 ‘**’ 0.01 ‘*’ 0.05 ‘.’ 0.1 ‘ ’ 1"
      ]
     },
     "metadata": {},
     "output_type": "display_data"
    }
   ],
   "source": [
    "df <- rbind(data.frame(value=a1,cl=\"1\"),data.frame(value=a2,cl=\"2\"),data.frame(value=a3,cl=\"3\"))\n",
    "summary(aov( value ~ cl, data=df))"
   ]
  },
  {
   "cell_type": "markdown",
   "metadata": {},
   "source": [
    "O equivalentemente con la función *oneway.test* con el parámetro *var.equal=T*"
   ]
  },
  {
   "cell_type": "code",
   "execution_count": 31,
   "metadata": {},
   "outputs": [
    {
     "data": {
      "text/plain": [
       "\n",
       "\tOne-way analysis of means\n",
       "\n",
       "data:  value and cl\n",
       "F = 4.8462, num df = 2, denom df = 157, p-value = 0.009072\n"
      ]
     },
     "metadata": {},
     "output_type": "display_data"
    }
   ],
   "source": [
    "oneway.test( value ~ cl, data=df,var.equal = T)"
   ]
  },
  {
   "cell_type": "markdown",
   "metadata": {},
   "source": [
    "#### Diferente varianza\n",
    "\n",
    "Cuando los grupos no presentan la misma varianza, en lugar del test F se puede utilizar el test de Welch. Esto lo hace R con la función *oneway.test*"
   ]
  },
  {
   "cell_type": "code",
   "execution_count": 32,
   "metadata": {},
   "outputs": [
    {
     "data": {
      "text/plain": [
       "\n",
       "\tOne-way analysis of means (not assuming equal variances)\n",
       "\n",
       "data:  value and cl\n",
       "F = 4.9434, num df = 2.00, denom df = 95.29, p-value = 0.009065\n"
      ]
     },
     "metadata": {},
     "output_type": "display_data"
    }
   ],
   "source": [
    "oneway.test( value ~ cl, data=df)"
   ]
  },
  {
   "cell_type": "markdown",
   "metadata": {},
   "source": [
    "### Diferentes distribuciones\n",
    "\n",
    "\n",
    "El test de Kruskal-Wallis se utiliza cuando en ANOVA no cumplimos la normalidad de los datos, cuando las muestras no vienen de una distribución uniforme.\n",
    "\n",
    "En R se utiliza la función *kruskal.test()*"
   ]
  },
  {
   "cell_type": "markdown",
   "metadata": {},
   "source": [
    "### Test de Tukey\n",
    "\n",
    "El test de Tukey también conocido como test HSD (honest significant difference), puede ser usado para encontrar las medias que son significativamente diferentes de cada uno de los grupos. El test de Tukey compara las medias de cada grupo respecto a las medias de cada otro grupo e indentifica cualquier diferencia entre las dos medias mayores que el error esperado. \n",
    "\n",
    "Es euivalente a un test de studnet pero con una pequeña diferenia. Cuando se hace el test Turkey se sume homogeneidad, así que la varianza es calculada con todas las muestras de todos los grupo. Cuando se hace un test de estudent la varianza de cada grupo es calculada independientemente lo cual produce un resultado menos robusto.\n"
   ]
  },
  {
   "cell_type": "code",
   "execution_count": 33,
   "metadata": {},
   "outputs": [
    {
     "data": {
      "text/plain": [
       "  Tukey multiple comparisons of means\n",
       "    95% family-wise confidence level\n",
       "\n",
       "Fit: aov(formula = value ~ cl, data = df)\n",
       "\n",
       "$cl\n",
       "         diff       lwr        upr     p adj\n",
       "2-1 -2.915559 -6.203899  0.3727813 0.0935302\n",
       "3-1 -4.021321 -7.093792 -0.9488498 0.0065190\n",
       "3-2 -1.105762 -3.976061  1.7645366 0.6338282\n"
      ]
     },
     "metadata": {},
     "output_type": "display_data"
    }
   ],
   "source": [
    "TukeyHSD(aov( value ~ cl, data=df))"
   ]
  },
  {
   "cell_type": "markdown",
   "metadata": {},
   "source": [
    "Esto significa que el grupo 3 y 2 tienen una alta probabilidad de tener la misma media, y que la media del grupo 1 es diferente."
   ]
  },
  {
   "cell_type": "code",
   "execution_count": 34,
   "metadata": {},
   "outputs": [
    {
     "data": {},
     "metadata": {},
     "output_type": "display_data"
    },
    {
     "data": {
      "image/png": "[encoded data removed]",
      "text/plain": [
       "plot without title"
      ]
     },
     "metadata": {},
     "output_type": "display_data"
    }
   ],
   "source": [
    "tky<-TukeyHSD(aov( value ~ cl, data=df))\n",
    "tky.result<-data.frame(tky$cl)\n",
    "cn <-sort(unique(df$cl))\n",
    "resm <- matrix(NA, length(cn),length(cn))\n",
    "rownames(resm) <- cn\n",
    "colnames(resm) <- cn\n",
    "resm[lower.tri(resm) ] <- round(tky.result$p.adj,4)\n",
    "resm[upper.tri(resm) ] <- t(resm)[upper.tri(resm)] \n",
    "diag(resm) <- 1\n",
    "library(ggplot2)\n",
    "library(reshape2)\n",
    "dfResm <- melt(resm)\n",
    "ggplot(dfResm, aes(x=Var1, y=Var2, fill=value))+\n",
    "  geom_tile(colour = \"black\")+\n",
    "  geom_text(aes(label=paste(round(value*100,0),\"%\")),size = 3) +\n",
    "  scale_fill_gradient(low = \"white\",high = \"steelblue\")+\n",
    "  ylab(\"Class\")+xlab(\"Class\")+theme_bw()+\n",
    "  theme(axis.text.x = element_text(angle = 90, hjust = 1),legend.position=\"none\")"
   ]
  },
  {
   "cell_type": "markdown",
   "metadata": {},
   "source": [
    "### Ejemplo: Efectividad de una dieta\n",
    "\n",
    "https://www.sheffield.ac.uk/polopoly_fs/1.570199!/file/stcp-Rdataset-Diet.csv\n",
    "\n",
    "Los datos contienen información de 76 personas que tomaron una de las tres dietas (1, 2 o 3). Además se aporta información extra como edad, género y altura. El objetivo del estudio es compara cual de las tres dietas era la mejor para perder peso."
   ]
  },
  {
   "cell_type": "code",
   "execution_count": 35,
   "metadata": {},
   "outputs": [
    {
     "data": {
      "text/html": [
       "<table>\n",
       "<thead><tr><th></th><th scope=col>gender</th><th scope=col>Age</th><th scope=col>Height</th><th scope=col>pre.weight</th><th scope=col>Diet</th><th scope=col>weight6weeks</th><th scope=col>loss</th></tr></thead>\n",
       "<tbody>\n",
       "\t<tr><th scope=row>25</th><td>NA   </td><td>41   </td><td>171  </td><td> 60  </td><td>2    </td><td> 60.0</td><td>0.0  </td></tr>\n",
       "\t<tr><th scope=row>26</th><td>NA   </td><td>32   </td><td>174  </td><td>103  </td><td>2    </td><td>103.0</td><td>0.0  </td></tr>\n",
       "\t<tr><th scope=row>1</th><td> 0   </td><td>22   </td><td>159  </td><td> 58  </td><td>1    </td><td> 54.2</td><td>3.8  </td></tr>\n",
       "\t<tr><th scope=row>2</th><td> 0   </td><td>46   </td><td>192  </td><td> 60  </td><td>1    </td><td> 54.0</td><td>6.0  </td></tr>\n",
       "\t<tr><th scope=row>3</th><td> 0   </td><td>55   </td><td>170  </td><td> 64  </td><td>1    </td><td> 63.3</td><td>0.7  </td></tr>\n",
       "\t<tr><th scope=row>4</th><td> 0   </td><td>33   </td><td>171  </td><td> 64  </td><td>1    </td><td> 61.1</td><td>2.9  </td></tr>\n",
       "</tbody>\n",
       "</table>\n"
      ],
      "text/latex": [
       "\\begin{tabular}{r|lllllll}\n",
       "  & gender & Age & Height & pre.weight & Diet & weight6weeks & loss\\\\\n",
       "\\hline\n",
       "\t25 & NA    & 41    & 171   &  60   & 2     &  60.0 & 0.0  \\\\\n",
       "\t26 & NA    & 32    & 174   & 103   & 2     & 103.0 & 0.0  \\\\\n",
       "\t1 &  0    & 22    & 159   &  58   & 1     &  54.2 & 3.8  \\\\\n",
       "\t2 &  0    & 46    & 192   &  60   & 1     &  54.0 & 6.0  \\\\\n",
       "\t3 &  0    & 55    & 170   &  64   & 1     &  63.3 & 0.7  \\\\\n",
       "\t4 &  0    & 33    & 171   &  64   & 1     &  61.1 & 2.9  \\\\\n",
       "\\end{tabular}\n"
      ],
      "text/markdown": [
       "\n",
       "| <!--/--> | gender | Age | Height | pre.weight | Diet | weight6weeks | loss | \n",
       "|---|---|---|---|---|---|\n",
       "| 25 | NA    | 41    | 171   |  60   | 2     |  60.0 | 0.0   | \n",
       "| 26 | NA    | 32    | 174   | 103   | 2     | 103.0 | 0.0   | \n",
       "| 1 |  0    | 22    | 159   |  58   | 1     |  54.2 | 3.8   | \n",
       "| 2 |  0    | 46    | 192   |  60   | 1     |  54.0 | 6.0   | \n",
       "| 3 |  0    | 55    | 170   |  64   | 1     |  63.3 | 0.7   | \n",
       "| 4 |  0    | 33    | 171   |  64   | 1     |  61.1 | 2.9   | \n",
       "\n",
       "\n"
      ],
      "text/plain": [
       "   gender Age Height pre.weight Diet weight6weeks loss\n",
       "25 NA     41  171     60        2     60.0        0.0 \n",
       "26 NA     32  174    103        2    103.0        0.0 \n",
       "1   0     22  159     58        1     54.2        3.8 \n",
       "2   0     46  192     60        1     54.0        6.0 \n",
       "3   0     55  170     64        1     63.3        0.7 \n",
       "4   0     33  171     64        1     61.1        2.9 "
      ]
     },
     "metadata": {},
     "output_type": "display_data"
    }
   ],
   "source": [
    "diet = read.csv(\"tests/stcp-Rdataset-Diet.csv\",row.names=1)\n",
    "diet$loss = diet$pre.weight - diet$weight6weeks\n",
    "diet$Diet<-factor(diet$Diet)\n",
    "head(diet)"
   ]
  },
  {
   "cell_type": "code",
   "execution_count": 36,
   "metadata": {},
   "outputs": [
    {
     "data": {},
     "metadata": {},
     "output_type": "display_data"
    },
    {
     "data": {
      "image/png": "[encoded data removed]",
      "text/plain": [
       "plot without title"
      ]
     },
     "metadata": {},
     "output_type": "display_data"
    }
   ],
   "source": [
    "library(ggplot2)\n",
    "ggplot(diet,aes(y=loss,x=Diet,color=Diet))+geom_boxplot()"
   ]
  },
  {
   "cell_type": "markdown",
   "metadata": {},
   "source": [
    "Comprobamos que los datos siguen una normal y que las varianzas son iguales con lo cual podemos **aplicar un test ANOVA**."
   ]
  },
  {
   "cell_type": "code",
   "execution_count": 38,
   "metadata": {},
   "outputs": [
    {
     "name": "stdout",
     "output_type": "stream",
     "text": [
      "[1] \"Diet: 1 pvalue: 0.0774863354064023\"\n",
      "[1] \"Diet: 2 pvalue: 0.961174848331039\"\n",
      "[1] \"Diet: 3 pvalue: 0.372040025775311\"\n"
     ]
    },
    {
     "data": {
      "text/plain": [
       "\n",
       "\tBartlett test of homogeneity of variances\n",
       "\n",
       "data:  loss by Diet\n",
       "Bartlett's K-squared = 0.33745, df = 2, p-value = 0.8447\n"
      ]
     },
     "metadata": {},
     "output_type": "display_data"
    }
   ],
   "source": [
    "for (v in levels(diet$Diet)){\n",
    "    print(paste(\"Diet:\",v,\"pvalue:\",\n",
    "                shapiro.test(diet$loss[diet$Diet==v])$p.value))    \n",
    "}\n",
    "\n",
    "bartlett.test(loss~Diet,data=diet)"
   ]
  },
  {
   "cell_type": "markdown",
   "metadata": {},
   "source": [
    "Aplicamos el test ANOVA y vemos que efectivamente, hay una diferencia estadística significativa entre las diferentes dietas."
   ]
  },
  {
   "cell_type": "code",
   "execution_count": 110,
   "metadata": {},
   "outputs": [
    {
     "data": {
      "text/plain": [
       "            Df Sum Sq Mean Sq F value  Pr(>F)   \n",
       "Diet         2   71.1   35.55   6.197 0.00323 **\n",
       "Residuals   75  430.2    5.74                   \n",
       "---\n",
       "Signif. codes:  0 ‘***’ 0.001 ‘**’ 0.01 ‘*’ 0.05 ‘.’ 0.1 ‘ ’ 1"
      ]
     },
     "metadata": {},
     "output_type": "display_data"
    },
    {
     "data": {
      "text/plain": [
       "Call:\n",
       "   aov(formula = loss ~ Diet, data = diet)\n",
       "\n",
       "Terms:\n",
       "                    Diet Residuals\n",
       "Sum of Squares   71.0937  430.1793\n",
       "Deg. of Freedom        2        75\n",
       "\n",
       "Residual standard error: 2.394937\n",
       "Estimated effects may be unbalanced"
      ]
     },
     "metadata": {},
     "output_type": "display_data"
    }
   ],
   "source": [
    "anovatest<-aov(loss~Diet,data=diet)\n",
    "summary(anovatest)\n",
    "anovatest"
   ]
  },
  {
   "cell_type": "code",
   "execution_count": 39,
   "metadata": {},
   "outputs": [
    {
     "data": {},
     "metadata": {},
     "output_type": "display_data"
    },
    {
     "data": {
      "image/png": "[encoded data removed]",
      "text/plain": [
       "plot without title"
      ]
     },
     "metadata": {},
     "output_type": "display_data"
    }
   ],
   "source": [
    "tky<-TukeyHSD(aov( value ~ cl, data=df))\n",
    "\n",
    "tky<-TukeyHSD(aov(loss~Diet,data=diet))\n",
    "tky.result<-data.frame(tky$Diet)\n",
    "cn <-sort(unique(diet$Diet))\n",
    "resm <- matrix(NA, length(cn),length(cn))\n",
    "rownames(resm) <- cn\n",
    "colnames(resm) <- cn\n",
    "resm[lower.tri(resm) ] <- round(tky.result$p.adj,4)\n",
    "resm[upper.tri(resm) ] <- t(resm)[upper.tri(resm)] \n",
    "diag(resm) <- 1\n",
    "library(ggplot2)\n",
    "library(reshape2)\n",
    "dfResm <- melt(resm)\n",
    "ggplot(dfResm, aes(x=Var1, y=Var2, fill=value))+\n",
    "  geom_tile(colour = \"black\")+\n",
    "  geom_text(aes(label=paste(round(value*100,0),\"%\")),size = 3) +\n",
    "  scale_fill_gradient(low = \"white\",high = \"steelblue\")+\n",
    "  ylab(\"Class\")+xlab(\"Class\")+theme_bw()+\n",
    "  theme(axis.text.x = element_text(angle = 90, hjust = 1),legend.position=\"none\")"
   ]
  },
  {
   "cell_type": "markdown",
   "metadata": {},
   "source": [
    "# ANOVA dos grupos\n",
    "\n",
    "El ANOVA de dos grupos es una extensión del ANOVA de un factor en el que hay dos variables (factores) que interactúan con los datos. En este caso, los datos se dan en forma de matriz donde cada celda tendrá las muestras correspondientes a los dos factores dependientes, uno dado por el número de fila y otro por el número de columna.\n",
    "\n",
    "La hipótesis nula afirma que todos los grupos tienen la misma media:\n",
    "\\\\[\n",
    "\\begin{split}\n",
    "H_0 &: \\beta_1 = \\beta_2 = \\beta_3 = 0\\\\\n",
    "H_1 &: \\text{al menos un par }\\beta_j\\ne \\beta_i\n",
    "\\end{split}\n",
    "\\\\]\n",
    "Estas hipótesis examinan si las muestras siguen la siguiente regresión lineal de diferentes grupos: $y_{i}=\\beta_0+\\beta_1x_{i1}+\\beta_2x_{i2}+\\beta_3x_{i1}x_{i2}+\\varepsilon_{i}=\\widehat{y_i}+\\varepsilon_{i}$, donde:\n",
    "* $y_{i}$ es la variable dependiente, muestra i-ésima.\n",
    "* $\\beta_0$ es un coeficiente desconocido que tiene que ser estimado, es independiente de todas las variables.\n",
    "* $\\beta_1$ es un coeficiente desconocido que tiene que ser estimado para la primera variable independiente $x_{i1}$.\n",
    "* $\\beta_2$ es un coeficiente desconocido que tiene que ser estimado para la segunda variable independiente $x_{i2}$.\n",
    "* $\\beta_3$ es un coeficiente desconocido que tiene que ser estimado, refleja la interdepencia entre $x_{i1}$ y $x_{i2}$.\n",
    "* $x_{i1}$ es la primera variable dependiente asociada con la i-ésima muestra.\n",
    "* $x_{i2}$ es la segunda variable dependiente asociada con la i-ésima muestra.\n",
    "* $\\varepsilon_{ij}$ son los errores resultantes del modelo.\n",
    "* $\\widehat{y_i}$ es la estimación de la i-esima variable.\n",
    "* $k$ es el número de grupos\n",
    "* $n$ es el número total de muestras\n",
    "\n",
    "\n",
    "El test estadítico F es:\n",
    "\\\\[\n",
    "F=\\frac{\\sum_{j=1}^{n} \\left ( \\widehat{y_j}-\\bar{y} \\right )^2 / k }{\\sum_{j=1}^{k} \\sum_{i=1}^{n_j} \\left ( y_{ij}-\\widehat{y_j} \\right )^2 / \\left ( n-k-1 \\right ) }\n",
    "\\\\]"
   ]
  },
  {
   "cell_type": "markdown",
   "metadata": {},
   "source": [
    "### Funciones en R"
   ]
  },
  {
   "cell_type": "code",
   "execution_count": 40,
   "metadata": {},
   "outputs": [
    {
     "data": {
      "text/plain": [
       "            Df Sum Sq Mean Sq F value   Pr(>F)    \n",
       "var1         1   18.3   18.32   5.047    0.027 *  \n",
       "var2         1  248.7  248.69  68.525 7.31e-13 ***\n",
       "var1:var2    1    0.0    0.00   0.001    0.972    \n",
       "Residuals   96  348.4    3.63                     \n",
       "---\n",
       "Signif. codes:  0 ‘***’ 0.001 ‘**’ 0.01 ‘*’ 0.05 ‘.’ 0.1 ‘ ’ 1"
      ]
     },
     "metadata": {},
     "output_type": "display_data"
    }
   ],
   "source": [
    "varId1<-c(1,2)\n",
    "varId2<-seq(0,5,length=4)\n",
    "var1<-c(rep(varId1,each=50))\n",
    "var2<-c(rep(varId2,length.out=length(var1)))\n",
    "\n",
    "y<-rnorm(length(var1),mean=0,sd=2)+var1+var2\n",
    "dfy<-data.frame(y,var1,var2)\n",
    "\n",
    "summary(aov( y ~ var1*var2, data=dfy))\n"
   ]
  },
  {
   "cell_type": "code",
   "execution_count": 41,
   "metadata": {},
   "outputs": [
    {
     "data": {
      "text/plain": [
       "            Df Sum Sq Mean Sq F value  Pr(>F)   \n",
       "Diet         2   60.5  30.264   5.629 0.00541 **\n",
       "gender       1    0.2   0.169   0.031 0.85991   \n",
       "Diet:gender  2   33.9  16.952   3.153 0.04884 * \n",
       "Residuals   70  376.3   5.376                   \n",
       "---\n",
       "Signif. codes:  0 ‘***’ 0.001 ‘**’ 0.01 ‘*’ 0.05 ‘.’ 0.1 ‘ ’ 1\n",
       "2 observations deleted due to missingness"
      ]
     },
     "metadata": {},
     "output_type": "display_data"
    }
   ],
   "source": [
    "summary(aov(loss~Diet*gender,data=diet))"
   ]
  },
  {
   "cell_type": "markdown",
   "metadata": {
    "collapsed": true
   },
   "source": [
    "# Tablas de contingencia\n",
    "\n",
    "Una tabla de contingencia es una tabla o matriz que muestar la frecuencia de ocurrencia de diferentes variables.\n",
    "\n",
    "||perro|gato|\n",
    "|-|-|-|\n",
    "|blanco|10|5|\n",
    "|negro|4|3|\n",
    "\n",
    "## Chi cuadrado\n",
    "\n",
    "El test chi cuadrado de Pearson puede ser usado como un test para validad la **independencia de datos categóricos**. Las hipótesis son:\n",
    "* La hipótesis nula $H_0$ es que las variables son independientes, no hay asociación estadística.\n",
    "* La hipótesis alternativa $H_1$ es que hay una relación estadístico o asociación entre variables.\n",
    "\n",
    "Este test hace las siguientes suposiciones:\n",
    "* Muestra obtenida por muestreo aleatorio.\n",
    "* La muestra es lo suficientemente grande.\n",
    "* El conteo en cada celda también tiene que ser estadísticamente significativo.\n",
    "* Las muestras se suponen independientes, los datos no pueden estar correlados.\n",
    "\n",
    "Este test se puede usar para las siguientes comparaciones:\n",
    "* **Test de homogeneidad** (goodnes: Compara si la distribución de datos es homogenea.\n",
    "* **Test de independencia**: Compara si observaciones de dos variables son independedientes una de la otra.\n",
    "* **Test de bondad**: para comparar si una distribución de frecuencias observdada difiere de una teórica.\n",
    "\n",
    "\n",
    "### Una variable\n",
    "\n",
    "En esta caso las observaciones consisten en valores de una única variable independiente (ej: un dado).\n",
    "El valor del test estadístico es:\n",
    "\n",
    "\\\\[\n",
    "\\chi^2 = \\sum_{i=1}^{n} \\frac{(O_i-E_i)^2}{E_i} = N \\sum_i^n \\frac{(O_i/N-p_i)^2}{p_i}\n",
    "\\\\]\n",
    "\n",
    "Donde:\n",
    "* $N$ es el número total de elementos observados.\n",
    "* $O_i$ es el número de elementos observados en la categoría *i*.\n",
    "* $E_i$ es el número de elementos esperados en la categoría *i*.\n",
    "* $p_i$ es la probabilidad esperada de encontrar un elemento en la categoría *i*. $$p_i=E_i/N$$\n",
    "* $n$ es el número de categoría en el estudio.\n",
    "\n",
    "Este estadístico es usado para calcular el p-valor comparando el valor del estadístico con la distribución chi-cuadrado donde el número de grados de libertad será $n-1$."
   ]
  },
  {
   "cell_type": "markdown",
   "metadata": {},
   "source": [
    "#### Funciones en R\n",
    "\n",
    "Por ejemplo, imaginemos que queremos comprobar si un dado de 4 lados es justo, es decir, si no está trucado. Tiramos 40 veces y apuntamos el número de veces. La tabla de frecuencias que aparece es:\n",
    "\n",
    "|**1**|**2**|**3**|**4**|\n",
    "|---|---|---|---|\n",
    "| 10| 7 | 9 | 14|\n",
    "\n",
    "Comprobar esto sería un **test de homogeneidad**.\n"
   ]
  },
  {
   "cell_type": "code",
   "execution_count": 86,
   "metadata": {},
   "outputs": [
    {
     "name": "stdout",
     "output_type": "stream",
     "text": [
      "[1] \"El pvalor es 0.457489546878183\"\n"
     ]
    }
   ],
   "source": [
    "observed<-c(10,7,9,14)\n",
    "#observed<-c(10,7,9,0)\n",
    "N<-sum(observed)\n",
    "expected<-N/length(observed)\n",
    "test<-sum((observed-expected)^2/expected)\n",
    "\n",
    "pvalue<-1-pchisq(test,length(observed)-1)\n",
    "print(paste(\"El pvalor es\",pvalue))"
   ]
  },
  {
   "cell_type": "markdown",
   "metadata": {},
   "source": [
    "El p-valor para aceptar la hipótesis nula es muy alto, así que podemos asumir $H_0$ y suponer que el dado probablemente sea justo. La función *chisq.test* de R puede ser usada para este propósito:"
   ]
  },
  {
   "cell_type": "code",
   "execution_count": 87,
   "metadata": {},
   "outputs": [
    {
     "data": {
      "text/plain": [
       "\n",
       "\tChi-squared test for given probabilities\n",
       "\n",
       "data:  observed\n",
       "X-squared = 2.6, df = 3, p-value = 0.4575\n"
      ]
     },
     "metadata": {},
     "output_type": "display_data"
    }
   ],
   "source": [
    "cqt<-chisq.test(observed)\n",
    "cqt"
   ]
  },
  {
   "cell_type": "code",
   "execution_count": 88,
   "metadata": {},
   "outputs": [
    {
     "data": {},
     "metadata": {},
     "output_type": "display_data"
    },
    {
     "data": {
      "image/png": "[encoded data removed]",
      "text/plain": [
       "plot without title"
      ]
     },
     "metadata": {},
     "output_type": "display_data"
    }
   ],
   "source": [
    "d.f.<-cqt$statistic\n",
    "t<-cqt$parameter\n",
    "loth<-qchisq(0.05,d.f.,lower.tail = T)\n",
    "\n",
    "\n",
    "qsd009<-function(x){    \n",
    "    out<-dchisq(x,d.f.)\n",
    "    out[x> loth  ]<-NA\n",
    "    out\n",
    "}\n",
    "\n",
    "qsdtest<-function(x){    \n",
    "    out<-dchisq(x,d.f.)\n",
    "    out[ x> t  ]<-NA\n",
    "    out\n",
    "}\n",
    "\n",
    "chdf<-data.frame(z=c(-1,15))\n",
    "\n",
    "ggplot(chdf,aes(x=z))+stat_function(fun=dchisq,args = list(df = d.f.))+  \n",
    "  stat_function(fun=qsdtest, geom=\"area\",fill=\"yellow\",alpha=0.9)+\n",
    "  stat_function(fun=qsd009, geom=\"area\",fill=\"red\",alpha=1)+\n",
    "  geom_vline(xintercept = t,color=\"blue\")+\n",
    "  theme_linedraw()\n",
    "options(repr.plot.height=7,repr.plot.width=7)"
   ]
  },
  {
   "cell_type": "markdown",
   "metadata": {},
   "source": [
    "### Dos variables\n",
    "\n",
    "En este caso, una observación consiste en los valores de dos variables. La hipótesis nula es que la ocurrencia de estos valores sea estadísticamente independiente. Cada observación está localizada en una celda de una matriz llamada tabla de contingencia. Si hay $r$ filas y $c$ columnas en la tabla, la frecuencia teórica por cada celda, bajo la hipótesis de independencia es:\n",
    "\n",
    "\\\\[\n",
    "    E_{i,j}=N p_i p_j\n",
    "\\\\]\n",
    "Donde:\n",
    "* p_i: Es la probabilidad de la fila $i$.\n",
    "* p_j: Es la probabilidad de la columna $j$.\n",
    "\n",
    "En este caso el valor del test estadístico es:\n",
    "\n",
    "\\\\[\n",
    "\\chi^2 = \\sum_i\\sum_j \\frac{(O_{i,j}-E_{i,j})^2}{E_{i,j}} \n",
    "\\\\]\n",
    "\n",
    "Y el número de grados de libertad es $$(r-1)(c-1)$$."
   ]
  },
  {
   "cell_type": "markdown",
   "metadata": {},
   "source": [
    "#### Funciones en R\n",
    "\n",
    "Imaginemos que tenemos tres grupos de personas, A, B y C y les preguntamos si les gustan más los gatos o los perros. Obtendríamos la siguietne tabla:\n",
    "\n",
    "| |**A**|**B**|**C**|\n",
    "|---|---|---|---|\n",
    "|cats | 100| 205 | 95  |\n",
    "|dogs | 203| 401 | 205 |\n",
    "\n",
    "Esto sería un **test de independencia** para ver si hay diferencia entre perros y gatos."
   ]
  },
  {
   "cell_type": "code",
   "execution_count": 45,
   "metadata": {},
   "outputs": [
    {
     "data": {
      "text/plain": [
       "\n",
       "\tPearson's Chi-squared test\n",
       "\n",
       "data:  M\n",
       "X-squared = 0.42478, df = 2, p-value = 0.8087\n"
      ]
     },
     "metadata": {},
     "output_type": "display_data"
    }
   ],
   "source": [
    "M <- as.table(rbind(c(100, 205, 95), c(203, 401, 205)))\n",
    "dimnames(M) <- list(animal = c(\"cats\", \"dogs\"), group = c(\"A\",\"B\", \"C\"))\n",
    "chisq.test(M)"
   ]
  },
  {
   "cell_type": "markdown",
   "metadata": {},
   "source": [
    "El elevado p-valor de 0.81 indica que podemos aceptar $H_0$, lo que significa que no hay diferencias en los grupos de personas que le gustan los perros y los gatos.\n",
    "\n",
    "Si modificamos una celda del grupo **C** y perros, obtenenemos un resultado diferente, en este caso tenemos que rechazar la hipótesis nula $H_0$ y asumir que hay diferencias entre perros y gatos para el siguiene grupo:\n",
    "\n",
    "| |**A**|**B**|**C**|\n",
    "|---|---|---|---|\n",
    "|cats | 100| 205 | 95  |\n",
    "|dogs | 203| 401 | 275 |"
   ]
  },
  {
   "cell_type": "code",
   "execution_count": 93,
   "metadata": {},
   "outputs": [
    {
     "data": {
      "text/html": [
       "0.0217480353117031"
      ],
      "text/latex": [
       "0.0217480353117031"
      ],
      "text/markdown": [
       "0.0217480353117031"
      ],
      "text/plain": [
       "[1] 0.02174804"
      ]
     },
     "metadata": {},
     "output_type": "display_data"
    }
   ],
   "source": [
    "M <- as.table(rbind(c(100, 205, 95), c(203, 401, 275)))\n",
    "cqt<-chisq.test(M)\n",
    "cqt$p.value"
   ]
  },
  {
   "cell_type": "code",
   "execution_count": 94,
   "metadata": {},
   "outputs": [
    {
     "data": {},
     "metadata": {},
     "output_type": "display_data"
    },
    {
     "data": {
      "image/png": "[encoded data removed]",
      "text/plain": [
       "plot without title"
      ]
     },
     "metadata": {},
     "output_type": "display_data"
    }
   ],
   "source": [
    "d.f.<-cqt$statistic\n",
    "t<-cqt$parameter\n",
    "loth<-qchisq(0.05,d.f.,lower.tail = T)\n",
    "\n",
    "\n",
    "qsd009<-function(x){    \n",
    "    out<-dchisq(x,d.f.)\n",
    "    out[x> loth  ]<-NA\n",
    "    out\n",
    "}\n",
    "\n",
    "qsdtest<-function(x){    \n",
    "    out<-dchisq(x,d.f.)\n",
    "    out[ x> t  ]<-NA\n",
    "    out\n",
    "}\n",
    "\n",
    "chdf<-data.frame(z=c(-1,15))\n",
    "\n",
    "ggplot(chdf,aes(x=z))+stat_function(fun=dchisq,args = list(df = d.f.))+  \n",
    "  stat_function(fun=qsdtest, geom=\"area\",fill=\"yellow\",alpha=0.9)+\n",
    "  stat_function(fun=qsd009, geom=\"area\",fill=\"red\",alpha=1)+\n",
    "  geom_vline(xintercept = t,color=\"blue\")+\n",
    "  theme_linedraw()\n",
    "options(repr.plot.height=7,repr.plot.width=7)"
   ]
  },
  {
   "cell_type": "markdown",
   "metadata": {},
   "source": [
    "## Comparando distribuciones\n",
    "\n",
    "Es posible comparar si una distribución discreta sigue o no determinada función de probabilidad conocida. Para ello basta con comprobar como varía en una tabla\n",
    "\n",
    "En estos casos el valor $E_{i}$ es pasado como parámetro.\n",
    "\n",
    "\\\\[\n",
    "\\chi^2 = \\sum_i^n \\frac{(O_{i}-E_{i})^2}{E_{i}}=  N \\sum_i^n \\frac{(O_{i}-p_{i})^2}{p_{i}}\n",
    "\\\\]\n",
    "\n",
    "donde el número de grados de libertad es igual al número de columnas posibles menos el número de parámetros estimados:\n",
    "\\\\[\n",
    "d.f=n-p\n",
    "\\\\]"
   ]
  },
  {
   "cell_type": "code",
   "execution_count": 47,
   "metadata": {},
   "outputs": [
    {
     "data": {
      "text/html": [
       "<table>\n",
       "<tbody>\n",
       "\t<tr><th scope=row>primary</th><td>0.000 </td><td>0.000 </td><td>0.100 </td><td>0.1000</td><td>0.0000</td><td>0.0000</td><td>0.4000</td><td>0.1000</td><td>0.1000</td><td>0.0000</td><td>0.0000</td><td>0.1000</td><td>0.0000</td><td>0.000 </td><td>0.1000</td><td>0.000 </td></tr>\n",
       "\t<tr><th scope=row>reference</th><td>0.001 </td><td>0.007 </td><td>0.024 </td><td>0.0552</td><td>0.0952</td><td>0.1314</td><td>0.1511</td><td>0.1489</td><td>0.1284</td><td>0.0985</td><td>0.0679</td><td>0.0426</td><td>0.0245</td><td>0.013 </td><td>0.0064</td><td>0.005 </td></tr>\n",
       "</tbody>\n",
       "</table>\n"
      ],
      "text/latex": [
       "\\begin{tabular}{r|llllllllllllllll}\n",
       "\tprimary & 0.000  & 0.000  & 0.100  & 0.1000 & 0.0000 & 0.0000 & 0.4000 & 0.1000 & 0.1000 & 0.0000 & 0.0000 & 0.1000 & 0.0000 & 0.000  & 0.1000 & 0.000 \\\\\n",
       "\treference & 0.001  & 0.007  & 0.024  & 0.0552 & 0.0952 & 0.1314 & 0.1511 & 0.1489 & 0.1284 & 0.0985 & 0.0679 & 0.0426 & 0.0245 & 0.013  & 0.0064 & 0.005 \\\\\n",
       "\\end{tabular}\n"
      ],
      "text/markdown": [
       "\n",
       "| primary | 0.000  | 0.000  | 0.100  | 0.1000 | 0.0000 | 0.0000 | 0.4000 | 0.1000 | 0.1000 | 0.0000 | 0.0000 | 0.1000 | 0.0000 | 0.000  | 0.1000 | 0.000  | \n",
       "| reference | 0.001  | 0.007  | 0.024  | 0.0552 | 0.0952 | 0.1314 | 0.1511 | 0.1489 | 0.1284 | 0.0985 | 0.0679 | 0.0426 | 0.0245 | 0.013  | 0.0064 | 0.005  | \n",
       "\n",
       "\n"
      ],
      "text/plain": [
       "          [,1]  [,2]  [,3]  [,4]   [,5]   [,6]   [,7]   [,8]   [,9]   [,10] \n",
       "primary   0.000 0.000 0.100 0.1000 0.0000 0.0000 0.4000 0.1000 0.1000 0.0000\n",
       "reference 0.001 0.007 0.024 0.0552 0.0952 0.1314 0.1511 0.1489 0.1284 0.0985\n",
       "          [,11]  [,12]  [,13]  [,14] [,15]  [,16]\n",
       "primary   0.0000 0.1000 0.0000 0.000 0.1000 0.000\n",
       "reference 0.0679 0.0426 0.0245 0.013 0.0064 0.005"
      ]
     },
     "metadata": {},
     "output_type": "display_data"
    },
    {
     "name": "stderr",
     "output_type": "stream",
     "text": [
      "Warning message in chisq.test(x = tdata, rescale.p = TRUE, p = probs):\n",
      "“Chi-squared approximation may be incorrect”"
     ]
    },
    {
     "data": {
      "text/plain": [
       "\n",
       "\tChi-squared test for given probabilities\n",
       "\n",
       "data:  tdata\n",
       "X-squared = 2.5971, df = 15, p-value = 0.9998\n"
      ]
     },
     "metadata": {},
     "output_type": "display_data"
    }
   ],
   "source": [
    "rdata<-rpois(10, lambda = 7)\n",
    "tdata<-table(rdata)\n",
    "tdata<-table(factor(rdata, levels = as.character(0:max(rdata))))\n",
    "tdata<-c(as.numeric(tdata),0)\n",
    "\n",
    "tdata<-tdata/sum(tdata)\n",
    "\n",
    "probs<-dpois(0:max(rdata), lambda = mean(rdata))\n",
    "probs<-c(probs,1-sum(probs))\n",
    "rbind(primary=tdata,reference=round(probs,4))\n",
    "\n",
    "chisq.test(x=tdata,rescale.p = TRUE ,p=probs)"
   ]
  },
  {
   "cell_type": "code",
   "execution_count": 48,
   "metadata": {},
   "outputs": [
    {
     "data": {
      "text/plain": [
       "\n",
       "\tChi-squared test for given probabilities with simulated p-value (based\n",
       "\ton 2000 replicates)\n",
       "\n",
       "data:  tdata\n",
       "X-squared = 2.5971, df = NA, p-value = 1\n"
      ]
     },
     "metadata": {},
     "output_type": "display_data"
    }
   ],
   "source": [
    "chisq.test(x=tdata,p=probs,simulate.p.value = T)"
   ]
  },
  {
   "cell_type": "markdown",
   "metadata": {},
   "source": [
    "## Corrección de Yates por continuidad\n",
    "\n",
    "El uso de la distribución chi-cuadrado para interpretar el test estadístico requiere suponer que la probabilidad discreta de frecuencias binomiales observadas en la tabla se puede aproximar mediante la distribución chi-cuadrado continuo. Esta suposición no es del todo correcta e introduce algún error.\n",
    "\n",
    "Para reducir el error en la aproximación, Frank Yates sugirió una corrección para la continuidad que ajusta la fórmula del test chi-cuadrado. Consiste en restar como **máximo 0.5** de la diferencia entre cada valor **observado** y su  **esperado** en una tabla de contingencia de 2×2. Si la diferencia entre el valor observado y esperado fuera menor de 0.5, el numerador simplemente se iguala a 0, no se resta 0.5.  Esto reduce el valor de chi-cuadrado obtenido y por lo tanto aumenta su valor de p.\n",
    "\n",
    "\n",
    "\\\\[\n",
    "\\chi^2 = \\sum_i\\sum_j \\frac{(\\mid O_{i,j}-E_{i,j}\\mid-min(0.5,\\mid O_{i,j}-E_{i,j}\\mid))^2}{E_{i,j}}\n",
    "\\\\]\n",
    "\n",
    "En R se activa o desactiva con el parámetro *correct* dentro de la función *chisq.test*"
   ]
  },
  {
   "cell_type": "code",
   "execution_count": 49,
   "metadata": {
    "scrolled": false
   },
   "outputs": [
    {
     "data": {
      "text/html": [
       "<table>\n",
       "<thead><tr><th></th><th scope=col>Mujeres</th><th scope=col>Hombres</th></tr></thead>\n",
       "<tbody>\n",
       "\t<tr><th scope=row>Star Trek</th><td> 7</td><td>30</td></tr>\n",
       "\t<tr><th scope=row>Star Wars</th><td>15</td><td>40</td></tr>\n",
       "</tbody>\n",
       "</table>\n"
      ],
      "text/latex": [
       "\\begin{tabular}{r|ll}\n",
       "  & Mujeres & Hombres\\\\\n",
       "\\hline\n",
       "\tStar Trek &  7 & 30\\\\\n",
       "\tStar Wars & 15 & 40\\\\\n",
       "\\end{tabular}\n"
      ],
      "text/markdown": [
       "\n",
       "| <!--/--> | Mujeres | Hombres | \n",
       "|---|---|\n",
       "| Star Trek |  7 | 30 | \n",
       "| Star Wars | 15 | 40 | \n",
       "\n",
       "\n"
      ],
      "text/plain": [
       "          Mujeres Hombres\n",
       "Star Trek  7      30     \n",
       "Star Wars 15      40     "
      ]
     },
     "metadata": {},
     "output_type": "display_data"
    },
    {
     "data": {
      "text/plain": [
       "\n",
       "\tPearson's Chi-squared test with Yates' continuity correction\n",
       "\n",
       "data:  m\n",
       "X-squared = 0.45138, df = 1, p-value = 0.5017\n"
      ]
     },
     "metadata": {},
     "output_type": "display_data"
    },
    {
     "data": {
      "text/html": [
       "<table>\n",
       "<thead><tr><th></th><th scope=col>Mujeres</th><th scope=col>Hombres</th></tr></thead>\n",
       "<tbody>\n",
       "\t<tr><th scope=row>Star Trek</th><td> 7</td><td>30</td></tr>\n",
       "\t<tr><th scope=row>Star Wars</th><td>15</td><td>40</td></tr>\n",
       "</tbody>\n",
       "</table>\n"
      ],
      "text/latex": [
       "\\begin{tabular}{r|ll}\n",
       "  & Mujeres & Hombres\\\\\n",
       "\\hline\n",
       "\tStar Trek &  7 & 30\\\\\n",
       "\tStar Wars & 15 & 40\\\\\n",
       "\\end{tabular}\n"
      ],
      "text/markdown": [
       "\n",
       "| <!--/--> | Mujeres | Hombres | \n",
       "|---|---|\n",
       "| Star Trek |  7 | 30 | \n",
       "| Star Wars | 15 | 40 | \n",
       "\n",
       "\n"
      ],
      "text/plain": [
       "          Mujeres Hombres\n",
       "Star Trek  7      30     \n",
       "Star Wars 15      40     "
      ]
     },
     "metadata": {},
     "output_type": "display_data"
    },
    {
     "data": {
      "text/plain": [
       "\n",
       "\tPearson's Chi-squared test\n",
       "\n",
       "data:  m\n",
       "X-squared = 0.8484, df = 1, p-value = 0.357\n"
      ]
     },
     "metadata": {},
     "output_type": "display_data"
    }
   ],
   "source": [
    "m <- matrix(c(7, 30, 15,40 ),nrow=2, byrow = F, dimnames = list(c(\"Star Trek\",\"Star Wars\"),c(\"Mujeres\",\"Hombres\")))\n",
    "m\n",
    "chisq.test(m)\n",
    "\n",
    "m <- matrix(c(7, 30, 15,40 ),nrow=2, byrow = F, dimnames = list(c(\"Star Trek\",\"Star Wars\"),c(\"Mujeres\",\"Hombres\")))\n",
    "m\n",
    "chisq.test(m,correct = FALSE)"
   ]
  },
  {
   "cell_type": "markdown",
   "metadata": {},
   "source": [
    "## Fisher\n",
    "\n",
    "El test exacto de Fisher siempre da el valor exacto del pvalor, a diferencia del test chi cuadrado el cual es solamente una aproximación, además funciona bien con muestras pequeñas. \n",
    "\n",
    "Una regla aproximada para decidir si usar la aproximáción del test chi-cuadrado o es necesario aplicar el test de fisher es cuando los valores de alguna de las celdas en una tabla de contingencia es menor de 5 o menor de 10 si solo hay dos columnas.\n",
    "\n",
    "El test es difícil de calcular a mano, pero fácil de calcular en R con la función *fisher.test*.\n"
   ]
  },
  {
   "cell_type": "code",
   "execution_count": 50,
   "metadata": {},
   "outputs": [
    {
     "data": {
      "text/plain": [
       "\n",
       "\tFisher's Exact Test for Count Data\n",
       "\n",
       "data:  M\n",
       "p-value = 0.02023\n",
       "alternative hypothesis: two.sided\n"
      ]
     },
     "metadata": {},
     "output_type": "display_data"
    }
   ],
   "source": [
    "M <- as.table(rbind(c(100, 205, 95), c(203, 401, 275)))\n",
    "fisher.test(M)\n"
   ]
  },
  {
   "cell_type": "markdown",
   "metadata": {},
   "source": [
    "## Ejemplo: Dataset Titanic\n",
    "\n",
    "El Titanic se hundió en 1912 con la pérdida de la mayoría de sus pasajeros. Se pueden obtener detalles sobre 1309 pasajeros y tripulación a bordo del barco Titanic.\n",
    "Fuente: [www.statstutor.ac.uk](http://www.statstutor.ac.uk)\n",
    "\n",
    "Veamos si la nacionalidad del pasaje tiene que ver o no a la hora de saber si sobrevivieron o no:"
   ]
  },
  {
   "cell_type": "code",
   "execution_count": 51,
   "metadata": {},
   "outputs": [
    {
     "data": {
      "text/plain": [
       "          survived\n",
       "Residence  Died Survived\n",
       "  American  113      145\n",
       "  British   206       96\n",
       "  Other     490      259"
      ]
     },
     "metadata": {},
     "output_type": "display_data"
    }
   ],
   "source": [
    "tit<-read.csv(file = \"tests/stcp-dataset-titanic_des.csv\")\n",
    "tit$Residence<-factor(tit$Residence,labels = c(\"American\",\"British\",\"Other\"))\n",
    "tit$survived<-factor(tit$survived,labels = c(\"Died\",\"Survived\"))\n",
    "tblres<-table(tit[,c(\"Residence\",\"survived\")])\n",
    "tblres"
   ]
  },
  {
   "cell_type": "code",
   "execution_count": 52,
   "metadata": {},
   "outputs": [
    {
     "data": {
      "text/plain": [
       "\n",
       "\tPearson's Chi-squared test\n",
       "\n",
       "data:  tblres\n",
       "X-squared = 44.835, df = 2, p-value = 1.838e-10\n"
      ]
     },
     "metadata": {},
     "output_type": "display_data"
    },
    {
     "data": {
      "text/plain": [
       "\n",
       "\tFisher's Exact Test for Count Data\n",
       "\n",
       "data:  tblres\n",
       "p-value = 3.122e-10\n",
       "alternative hypothesis: two.sided\n"
      ]
     },
     "metadata": {},
     "output_type": "display_data"
    }
   ],
   "source": [
    "chisq.test(tblres)\n",
    "fisher.test(tblres)"
   ]
  },
  {
   "cell_type": "markdown",
   "metadata": {},
   "source": [
    "Ambos tests nos obligan a rechazar la hipótesis nula: La nacionalidad no influye con la tasa de supervivencia.\n",
    "\n",
    "Así pues tenemos que concluir que si que existe una diferencia significativa en la probabilidad de sobrevivir dependiendo de la nacionalidad."
   ]
  },
  {
   "cell_type": "markdown",
   "metadata": {},
   "source": [
    "# Distribuciones estadísticas\n",
    "\n",
    "Podemos ver si una variable aleatoria sigue una distribución estadística con los denominados ajustes de bondad (Goodness of fit).\n",
    "\n",
    "Los pasos para tratar de encontrar una distribución estadísca que encaje son:\n",
    "\n",
    "1. Observar su distribución en frecuencias, calcular histograma (geom_histogram) o la probabilidad estimada (geom_density)\n",
    "1. Hacer una suposición sobre que distribución podría encajar. La estimación de los parámetros concretos se hará utilizando *Máxima versoimilitud*\n",
    "1. Utilizar un test estadístico para comprobar como de buena o mala es la distribución.\n",
    "\n"
   ]
  },
  {
   "cell_type": "code",
   "execution_count": 53,
   "metadata": {},
   "outputs": [
    {
     "data": {},
     "metadata": {},
     "output_type": "display_data"
    },
    {
     "data": {
      "image/png": "[encoded data removed]",
      "text/plain": [
       "plot without title"
      ]
     },
     "metadata": {},
     "output_type": "display_data"
    }
   ],
   "source": [
    "bwt<-read.csv(\"tests/birthweight_reduced.csv\")\n",
    "\n",
    "bwtmn<-mean(bwt$Birthweight)\n",
    "bwtsd<-sd(bwt$Birthweight)\n",
    "\n",
    "library(ggplot2)\n",
    "ggplot(data=bwt,aes(x=Birthweight))+\n",
    "    stat_function(fun=dnorm,args = list(mean = bwtmn, sd=bwtsd), geom=\"area\",color=\"green\",fill=\"green\",alpha=0.1)+\n",
    "    geom_density(color=\"red\")+\n",
    "    theme_linedraw()"
   ]
  },
  {
   "cell_type": "markdown",
   "metadata": {},
   "source": [
    "## Test Chi-cuadrado\n",
    "\n",
    "Ya vimos antes como utilizar este test para comparar una distribución de poisson. En esta sección veremos como repetir lo mismo para una distribución continua.\n",
    "\n",
    "El proceso es bastante sencillo simplemente hay que calcular el histograma de la función continua y calcular la probabilidad de que un punto aparezca en una de las barras usando como referencia la variable deseada."
   ]
  },
  {
   "cell_type": "code",
   "execution_count": 130,
   "metadata": {},
   "outputs": [
    {
     "data": {
      "text/plain": [
       "$breaks\n",
       " [1]  4.0  4.5  5.0  5.5  6.0  6.5  7.0  7.5  8.0  8.5  9.0  9.5 10.0\n",
       "\n",
       "$counts\n",
       " [1] 1 1 1 3 5 5 8 5 4 5 1 3\n",
       "\n",
       "$density\n",
       " [1] 0.04761905 0.04761905 0.04761905 0.14285714 0.23809524 0.23809524\n",
       " [7] 0.38095238 0.23809524 0.19047619 0.23809524 0.04761905 0.14285714\n",
       "\n",
       "$mids\n",
       " [1] 4.25 4.75 5.25 5.75 6.25 6.75 7.25 7.75 8.25 8.75 9.25 9.75\n",
       "\n",
       "$xname\n",
       "[1] \"bwt$Birthweight\"\n",
       "\n",
       "$equidist\n",
       "[1] TRUE\n",
       "\n",
       "attr(,\"class\")\n",
       "[1] \"histogram\""
      ]
     },
     "metadata": {},
     "output_type": "display_data"
    }
   ],
   "source": [
    "bwthist <- hist(bwt$Birthweight,breaks=14, right=FALSE,plot = FALSE)\n",
    "bwthist"
   ]
  },
  {
   "cell_type": "code",
   "execution_count": 162,
   "metadata": {},
   "outputs": [
    {
     "data": {
      "text/html": [
       "<table>\n",
       "<tbody>\n",
       "\t<tr><th scope=row>test</th><td>0.0476</td><td>0.0476</td><td>0.0476</td><td>0.1429</td><td>0.2381</td><td>0.2381</td><td>0.3810</td><td>0.2381</td><td>0.1905</td><td>0.2381</td><td>0.0476</td><td>0.1429</td></tr>\n",
       "\t<tr><th scope=row>reference</th><td>0.0188</td><td>0.0255</td><td>0.0480</td><td>0.0786</td><td>0.1119</td><td>0.1385</td><td>0.1491</td><td>0.1396</td><td>0.1137</td><td>0.0805</td><td>0.0495</td><td>0.0464</td></tr>\n",
       "</tbody>\n",
       "</table>\n"
      ],
      "text/latex": [
       "\\begin{tabular}{r|llllllllllll}\n",
       "\ttest & 0.0476 & 0.0476 & 0.0476 & 0.1429 & 0.2381 & 0.2381 & 0.3810 & 0.2381 & 0.1905 & 0.2381 & 0.0476 & 0.1429\\\\\n",
       "\treference & 0.0188 & 0.0255 & 0.0480 & 0.0786 & 0.1119 & 0.1385 & 0.1491 & 0.1396 & 0.1137 & 0.0805 & 0.0495 & 0.0464\\\\\n",
       "\\end{tabular}\n"
      ],
      "text/markdown": [
       "\n",
       "| test | 0.0476 | 0.0476 | 0.0476 | 0.1429 | 0.2381 | 0.2381 | 0.3810 | 0.2381 | 0.1905 | 0.2381 | 0.0476 | 0.1429 | \n",
       "| reference | 0.0188 | 0.0255 | 0.0480 | 0.0786 | 0.1119 | 0.1385 | 0.1491 | 0.1396 | 0.1137 | 0.0805 | 0.0495 | 0.0464 | \n",
       "\n",
       "\n"
      ],
      "text/plain": [
       "          [,1]   [,2]   [,3]   [,4]   [,5]   [,6]   [,7]   [,8]   [,9]   [,10] \n",
       "test      0.0476 0.0476 0.0476 0.1429 0.2381 0.2381 0.3810 0.2381 0.1905 0.2381\n",
       "reference 0.0188 0.0255 0.0480 0.0786 0.1119 0.1385 0.1491 0.1396 0.1137 0.0805\n",
       "          [,11]  [,12] \n",
       "test      0.0476 0.1429\n",
       "reference 0.0495 0.0464"
      ]
     },
     "metadata": {},
     "output_type": "display_data"
    }
   ],
   "source": [
    "suppressWarnings(library('zoo'))\n",
    "breaks<-bwthist$breaks\n",
    "breaks[1]<- -Inf\n",
    "breaks[length(breaks)]<- Inf\n",
    "\n",
    "breaks_cdf <- pnorm(breaks, mean=bwtmn, sd=bwtsd)\n",
    "ref.probs <- rollapply(data=breaks_cdf, width=2, function(x) x[2]-x[1])\n",
    "\n",
    "rbind(test=round(bwthist$density,4),reference=round(ref.probs,4))\n"
   ]
  },
  {
   "cell_type": "code",
   "execution_count": 56,
   "metadata": {},
   "outputs": [
    {
     "name": "stderr",
     "output_type": "stream",
     "text": [
      "Warning message in chisq.test(bwthist$density, p = ref.probs):\n",
      "“Chi-squared approximation may be incorrect”"
     ]
    },
    {
     "data": {
      "text/plain": [
       "\n",
       "\tChi-squared test for given probabilities\n",
       "\n",
       "data:  bwthist$density\n",
       "X-squared = 0.16074, df = 11, p-value = 1\n"
      ]
     },
     "metadata": {},
     "output_type": "display_data"
    }
   ],
   "source": [
    "chisq.test(bwthist$density, p=ref.probs)"
   ]
  },
  {
   "cell_type": "markdown",
   "metadata": {},
   "source": [
    "### Test Kolmogorov-Smirnov"
   ]
  },
  {
   "cell_type": "markdown",
   "metadata": {},
   "source": [
    "Compara la probabilidad acumulada de una distribución con una de referencia.\n",
    "\n",
    "La función acumulativa empírica se puede representar como:\n",
    "\\\\[\n",
    "F_{n}(x)={1 \\over n}\\sum _{i=1}^{n}\\left\\{{\\begin{matrix}1&\\mathrm {si} \\ y_{i}\\leq x,\\\\0&\\text{otro caso} .\\end{matrix}}\\right.\n",
    "\\\\]\n",
    "El estadístico de Kolmogorov-Smirnov es:\n",
    "\\\\[\n",
    "D_{n}=\\sup _{x}|F_{n}(x)-F(x)|\n",
    "\\\\]\n",
    "\n",
    "La función acumulativa de la distribución de Komogorov es:\n",
    "\\\\[\n",
    "{Pr} (K\\leq x)=1-2\\sum _{k=1}^{\\infty }(-1)^{k-1}e^{-2k^{2}x^{2}}={\\frac {\\sqrt {2\\pi }}{x}}\\sum _{k=1}^{\\infty }e^{-(2k-1)^{2}\\pi ^{2}/(8x^{2})}\n",
    "\\\\]"
   ]
  },
  {
   "cell_type": "code",
   "execution_count": 173,
   "metadata": {},
   "outputs": [
    {
     "data": {},
     "metadata": {},
     "output_type": "display_data"
    },
    {
     "data": {
      "text/html": [
       "<span style=white-space:pre-wrap>'F estadístico:  0.211578581649773'</span>"
      ],
      "text/latex": [
       "'F estadístico:  0.211578581649773'"
      ],
      "text/markdown": [
       "<span style=white-space:pre-wrap>'F estadístico:  0.211578581649773'</span>"
      ],
      "text/plain": [
       "[1] \"F estadístico:  0.211578581649773\""
      ]
     },
     "metadata": {},
     "output_type": "display_data"
    },
    {
     "data": {
      "image/png": "[encoded data removed]",
      "text/plain": [
       "plot without title"
      ]
     },
     "metadata": {},
     "output_type": "display_data"
    }
   ],
   "source": [
    "myrnd<-runif(100,min=-5,5)\n",
    "x<-sort(myrnd)\n",
    "cdf1<-cumsum(abs(x))/sum(abs(myrnd))\n",
    "cdf2<-pnorm(x,mean=0,sd=sqrt(100/12))\n",
    "idx<-which.max(abs(cdf1-cdf2))\n",
    "\n",
    "ggplot(data=data.frame(x=x,test=cdf1,reference=cdf2),aes(x=x))+\n",
    "    geom_step(aes(y=cdf1),col=\"red\")+\n",
    "    geom_line(aes(y=cdf2),col=\"blue\")+\n",
    "    geom_segment(x=x[idx],y=cdf1[idx],xend=x[idx],yend=cdf2[idx])+\n",
    "    theme_light()\n",
    "\n",
    "\n",
    "paste(\"F estadístico: \",abs(cdf1[idx]-cdf2[idx]))"
   ]
  },
  {
   "cell_type": "markdown",
   "metadata": {},
   "source": [
    "En R se puede probar con la función *ks.test*"
   ]
  },
  {
   "cell_type": "code",
   "execution_count": 175,
   "metadata": {},
   "outputs": [
    {
     "data": {
      "text/plain": [
       "\n",
       "\tOne-sample Kolmogorov-Smirnov test\n",
       "\n",
       "data:  myrnd\n",
       "D = 0.09399, p-value = 0.3401\n",
       "alternative hypothesis: two-sided\n"
      ]
     },
     "metadata": {},
     "output_type": "display_data"
    }
   ],
   "source": [
    "ks.test(myrnd,\"pnorm\",0,sqrt(100/12))"
   ]
  },
  {
   "cell_type": "markdown",
   "metadata": {},
   "source": [
    "También se puede utilizar para comparar entre dos distribuciones cualquiera para comprobar si son iguales o no."
   ]
  },
  {
   "cell_type": "code",
   "execution_count": 178,
   "metadata": {},
   "outputs": [
    {
     "data": {
      "text/plain": [
       "\n",
       "\tTwo-sample Kolmogorov-Smirnov test\n",
       "\n",
       "data:  myrnd and rnorm(length(myrnd), 0, sqrt(100/12))\n",
       "D = 0.13, p-value = 0.3667\n",
       "alternative hypothesis: two-sided\n"
      ]
     },
     "metadata": {},
     "output_type": "display_data"
    }
   ],
   "source": [
    "ks.test(myrnd, rnorm(length(myrnd),0,sqrt(100/12)))"
   ]
  },
  {
   "cell_type": "markdown",
   "metadata": {},
   "source": [
    "Si volvemos al ejemplo del peso de los bebes, podemos ejecutar este test para ver si sigue una gaussiana o no:"
   ]
  },
  {
   "cell_type": "code",
   "execution_count": 180,
   "metadata": {},
   "outputs": [
    {
     "data": {},
     "metadata": {},
     "output_type": "display_data"
    },
    {
     "data": {
      "image/png": "[encoded data removed]",
      "text/plain": [
       "plot without title"
      ]
     },
     "metadata": {},
     "output_type": "display_data"
    }
   ],
   "source": [
    "options(repr.plot.height=4,repr.plot.width=6)\n",
    "ggplot(data=bwt,aes(x=Birthweight))+\n",
    "    stat_ecdf()+\n",
    "    stat_function(fun=pnorm,args =  list(mean = bwtmn, sd=bwtsd),col=\"red\")+\n",
    "    theme_linedraw()+xlab(\"Peso\")+ylab(\"prob acumulada\")+ggtitle(\"Peso de un bebé al nacer\")"
   ]
  },
  {
   "cell_type": "code",
   "execution_count": 181,
   "metadata": {},
   "outputs": [
    {
     "name": "stderr",
     "output_type": "stream",
     "text": [
      "Warning message in ks.test(bwt$Birthweight, \"pnorm\", bwtmn, bwtsd):\n",
      "“ties should not be present for the Kolmogorov-Smirnov test”"
     ]
    },
    {
     "data": {
      "text/plain": [
       "\n",
       "\tOne-sample Kolmogorov-Smirnov test\n",
       "\n",
       "data:  bwt$Birthweight\n",
       "D = 0.060715, p-value = 0.9978\n",
       "alternative hypothesis: two-sided\n"
      ]
     },
     "metadata": {},
     "output_type": "display_data"
    }
   ],
   "source": [
    "ks.test(bwt$Birthweight,\"pnorm\",bwtmn,bwtsd)"
   ]
  },
  {
   "cell_type": "markdown",
   "metadata": {},
   "source": [
    "El K-S test de R se queja de que hay datos duplicados. Algo que no debería ocurrir cuando tenemos datos que siguen una distribución realmente aleatoria.\n",
    "\n",
    "Tampoco se aconseja calcular los parámetros estadísticos como media y varianza de las muestras en si."
   ]
  },
  {
   "cell_type": "markdown",
   "metadata": {},
   "source": [
    "## Máxima verosimilitud (MLE)\n",
    "\n",
    "La Máxima verosimilitud (Maximum likelihood estimation) es un método para estimar los parámetros de un modelo estadístico dadas ciertas observaciones del modelo."
   ]
  },
  {
   "cell_type": "markdown",
   "metadata": {},
   "source": [
    "### Ejemplo\n",
    "\n",
    "Imagínate que tienes çuna báscula defectuosa. Y la utilizas para medir el peso de un bebe niña recién nacido.\n",
    "Te salen 3 medidas: 3kg, 3.2kg y 5.1kg.\n",
    "\n",
    "¿Cual es la media?\n",
    "\n",
    "Si suponemos que la media son 4kg y la desviación típica 1kg tendríamos la siguiente gráfica, ¿cual sería la probabilidad de obtener esas medidas?"
   ]
  },
  {
   "cell_type": "code",
   "execution_count": 237,
   "metadata": {},
   "outputs": [
    {
     "data": {},
     "metadata": {},
     "output_type": "display_data"
    },
    {
     "data": {
      "image/png": "[encoded data removed]",
      "text/plain": [
       "plot without title"
      ]
     },
     "metadata": {},
     "output_type": "display_data"
    }
   ],
   "source": [
    "weights<-c(3,3.2,6)\n",
    "\n",
    "options(repr.plot.height=4,repr.plot.width=6)\n",
    "xdf<-data.frame(z=c(0,8))\n",
    "ggplot(xdf,aes(x=z))+stat_function(fun=dnorm,args = list(mean = 4, sd =1))+\n",
    "  geom_vline(xintercept = weights[1],color=\"blue\")+\n",
    "  geom_vline(xintercept = weights[2],color=\"blue\")+\n",
    "  geom_vline(xintercept = weights[3],color=\"blue\")+\n",
    "  ylab(\"probabilidad\")+xlab(\"Peso [kg]\")+\n",
    "  theme_linedraw()\n"
   ]
  },
  {
   "cell_type": "markdown",
   "metadata": {},
   "source": [
    "La probabilidad a posteriori condicionada a una gaussiana de media $\\mu=4$ y desviación típida $\\sigma=1$ se calcula como:\n",
    "\\\\[\n",
    "\\begin{split}\n",
    "    P(X \\mid \\theta) &= P(X \\mid \\mu,\\sigma)  = \\prod_{i=1}^N P(x_i \\mid \\mu,\\sigma) \\\\ \n",
    "    P(X \\mid \\mu,\\sigma) &= \\prod_{i=1}^N \\frac {1}{\\sqrt {2\\pi \\sigma ^{2}}}\\;e^{-{\\frac {(x_i-\\mu )^{2}}{2\\sigma ^{2}}}}\n",
    "\\end{split}\n",
    "\\\\]\n"
   ]
  },
  {
   "cell_type": "code",
   "execution_count": 238,
   "metadata": {},
   "outputs": [
    {
     "data": {
      "text/html": [
       "'La probabilidad es: P(X|4,1)=0.00378'"
      ],
      "text/latex": [
       "'La probabilidad es: P(X\\textbar{}4,1)=0.00378'"
      ],
      "text/markdown": [
       "'La probabilidad es: P(X|4,1)=0.00378'"
      ],
      "text/plain": [
       "[1] \"La probabilidad es: P(X|4,1)=0.00378\""
      ]
     },
     "metadata": {},
     "output_type": "display_data"
    }
   ],
   "source": [
    "mnkg=4\n",
    "sdkg=1\n",
    "prob<-dnorm(weights[1],mean=mnkg,sd=sdkg)*dnorm(weights[2],mean=mnkg,sd=sdkg)*dnorm(weights[3],mean=mnkg,sd=sdkg)\n",
    "paste0(\"La probabilidad es: P(X|\",mnkg,\",\",sdkg,\")=\",round(prob,5))"
   ]
  },
  {
   "cell_type": "markdown",
   "metadata": {},
   "source": [
    "¿Qué ocurriría si tuvieramos una gaussiana de media 3.6? ¿cual sería la probabilidad?"
   ]
  },
  {
   "cell_type": "code",
   "execution_count": 239,
   "metadata": {},
   "outputs": [
    {
     "data": {
      "text/html": [
       "'La probabilidad es: P(X|3.6,1)=0.00275'"
      ],
      "text/latex": [
       "'La probabilidad es: P(X\\textbar{}3.6,1)=0.00275'"
      ],
      "text/markdown": [
       "'La probabilidad es: P(X|3.6,1)=0.00275'"
      ],
      "text/plain": [
       "[1] \"La probabilidad es: P(X|3.6,1)=0.00275\""
      ]
     },
     "metadata": {},
     "output_type": "display_data"
    }
   ],
   "source": [
    "mnkg=3.6\n",
    "sdkg=1\n",
    "prob<-dnorm(weights[1],mean=mnkg,sd=sdkg)*dnorm(weights[2],mean=mnkg,sd=sdkg)*dnorm(weights[3],mean=mnkg,sd=sdkg)\n",
    "paste0(\"La probabilidad es: P(X|\",mnkg,\",\",sdkg,\")=\",round(prob,5))"
   ]
  },
  {
   "cell_type": "markdown",
   "metadata": {},
   "source": [
    "¿Cual es el valor óptimo de $\\theta=\\{\\mu,\\sigma\\}$ que maximiza la probabilidad?\n",
    "\n",
    "La probabilidad para el vector $X$ de $n$ observaciones viene dada por:\n",
    "\\\\[\n",
    "\\mathcal {L}(\\theta)=P(X_1=x_1,X_2=x_2,\\ldots,X_n=x_n)=f(x_1;\\theta)\\cdot f(x_2;\\theta)\\cdots f(x_n;\\theta)=\\prod\\limits_{i=1}^n f(x_i;\\theta)\n",
    "\\\\]\n",
    "\n",
    "Es el estimador de máxima verosimilitud, que se calcula como: \n",
    "\\\\[\n",
    "\\hat {\\theta }\\in \\{{\\underset {\\theta \\in \\Theta }{\\operatorname {arg\\,max} }}\\ {\\mathcal {L}}(\\theta \\,;x)\\}\n",
    "\\\\]\n",
    "\n",
    "Maximizar $\\mathcal {L}$ equivale a maximizar su logaritmo. Muchas veces es mejor trabajar con logaritmos, sobretodo con funciones de probabilidad basadas en exponenciales:\n",
    "\\\\[\n",
    "{\\displaystyle \\ell (\\theta \\,;x)=\\ln {\\mathcal {L}}(\\theta \\,;x),}\n",
    "\\\\]\n",
    "\n",
    "Su máximo se puede obtener derivando respecto a $\\theta$ e igualando a cero:\n",
    "\n",
    "\\\\[\n",
    " \\frac {\\partial }{\\partial \\theta }\\ln {\\Big (}{\\mathcal {L}}(\\theta ){\\Big )}=0\n",
    "\\\\]"
   ]
  },
  {
   "cell_type": "markdown",
   "metadata": {},
   "source": [
    "#### Ejemplo MLE de gaussiana:\n",
    "\n",
    "La función de distribución es:\n",
    "\\\\[\n",
    "f(x\\mid \\mu ,\\sigma )={\\frac {1}{{\\sqrt {2\\pi \\sigma ^{2}}}\\ }}\\exp {\\left(-{\\frac {(x-\\mu )^{2}}{2\\sigma ^{2}}}\\right)},\n",
    "\\\\]\n",
    "\n",
    "La probabilidad de de tener una muestra de $n$ muestras independientes identicamente distribuidas de forma aleatoria es: \n",
    "\\\\[\n",
    "\\mathcal {L}(\\theta)=\\mathcal {L}(\\mu ,\\sigma ) =f(x_{1},\\ldots ,x_{n}\\mid \\mu ,\\sigma ^{2})=\\prod _{i=1}^{n}f(x_{i}\\mid \\mu ,\\sigma ^{2})=\\left({\\frac {1}{2\\pi \\sigma ^{2}}}\\right)^{n/2}\\exp \\left(-{\\frac {\\sum _{i=1}^{n}(x_{i}-\\mu )^{2}}{2\\sigma ^{2}}}\\right),\n",
    "\\\\]\n",
    "\n",
    "Para simplificar pasamos a logaritmos:\n",
    "\\\\[\n",
    "\\ln {\\Big (}{\\mathcal {L}}(\\mu ,\\sigma ){\\Big )}=-{\\frac {\\,n\\,}{2}}\\ln(2\\pi \\sigma ^{2})-{\\frac {1}{2\\sigma ^{2}}}\\sum _{i=1}^{n}(\\,x_{i}-\\mu \\,)^{2}\n",
    "\\\\]\n",
    "\n",
    "Calculamos el estimador de máxima verosimilitud para la media:\n",
    "\\\\[\n",
    "{\\begin{aligned}0&={\\frac {\\partial }{\\partial \\mu }}\\log {\\Big (}{\\mathcal {L}}(\\mu ,\\sigma ){\\Big )}=0-{\\frac {\\;-2\\!n({\\bar {x}}-\\mu )\\;}{2\\sigma ^{2}}}.\\end{aligned}}\n",
    "\\\\]\n",
    "El resultado es:\n",
    "\\\\[\n",
    "{\\hat {\\mu }}={\\bar {x}}=\\sum _{i=1}^{n}{\\frac {\\,x_{i}\\,}{n}}\n",
    "\\\\]\n",
    "Si repetimos el proceso para la desviación típica obtendríamos:\n",
    "\\\\[\n",
    "\\widehat {\\sigma }^{2}={\\frac {1}{n}}\\sum _{i=1}^{n}(x_{i}-\\mu )^{2}\n",
    "\\\\]\n",
    "**AVISO**: El MLE no nos devuevle el estimador sesgado de la varianza porque $\\mu \\neq \\hat {\\mu }$. Si en la equación de $\\widehat {\\sigma }^{2}$ metemos la de $\\hat {\\mu }$. Obtenemos:\n",
    "\\\\[\n",
    "\\operatorname {E} {\\big [}\\;{\\widehat {\\sigma }}^{2}\\;{\\big ]}={\\frac {\\,n-1\\,}{n}}\\sigma ^{2}.\n",
    "\\\\]"
   ]
  },
  {
   "cell_type": "code",
   "execution_count": 306,
   "metadata": {},
   "outputs": [
    {
     "data": {
      "text/html": [
       "'La media óptima calculada mediante MLE es: 4.0666897864532'"
      ],
      "text/latex": [
       "'La media óptima calculada mediante MLE es: 4.0666897864532'"
      ],
      "text/markdown": [
       "'La media óptima calculada mediante MLE es: 4.0666897864532'"
      ],
      "text/plain": [
       "[1] \"La media óptima calculada mediante MLE es: 4.0666897864532\""
      ]
     },
     "metadata": {},
     "output_type": "display_data"
    },
    {
     "data": {
      "text/html": [
       "'La media estimada es: 4.06666666666667'"
      ],
      "text/latex": [
       "'La media estimada es: 4.06666666666667'"
      ],
      "text/markdown": [
       "'La media estimada es: 4.06666666666667'"
      ],
      "text/plain": [
       "[1] \"La media estimada es: 4.06666666666667\""
      ]
     },
     "metadata": {},
     "output_type": "display_data"
    },
    {
     "data": {
      "text/html": [
       "'La desviación típica óptima calculada mediante MLE es: 1.36951726338789'"
      ],
      "text/latex": [
       "'La desviación típica óptima calculada mediante MLE es: 1.36951726338789'"
      ],
      "text/markdown": [
       "'La desviación típica óptima calculada mediante MLE es: 1.36951726338789'"
      ],
      "text/plain": [
       "[1] \"La desviación típica óptima calculada mediante MLE es: 1.36951726338789\""
      ]
     },
     "metadata": {},
     "output_type": "display_data"
    },
    {
     "data": {
      "text/html": [
       "'La desviación típica estimada es: 1.67729941672122'"
      ],
      "text/latex": [
       "'La desviación típica estimada es: 1.67729941672122'"
      ],
      "text/markdown": [
       "'La desviación típica estimada es: 1.67729941672122'"
      ],
      "text/plain": [
       "[1] \"La desviación típica estimada es: 1.67729941672122\""
      ]
     },
     "metadata": {},
     "output_type": "display_data"
    }
   ],
   "source": [
    "mnkg=3.6\n",
    "sdkg=1\n",
    "\n",
    "l<-function(theta){\n",
    "    mnkg=theta[1]\n",
    "    sdkg=theta[2]\n",
    "    -prod(sapply(weights,function(xi) dnorm(xi,mean=mnkg,sd=sdkg)))\n",
    "}\n",
    "                \n",
    "o<-optim(c(5,1), l)\n",
    "                \n",
    "paste(\"La media óptima calculada mediante MLE es:\",o$par[1])\n",
    "paste(\"La media estimada es:\",mean(weights))\n",
    "                 \n",
    "paste(\"La desviación típica óptima calculada mediante MLE es:\",o$par[2])\n",
    "paste(\"La desviación típica estimada es:\",sd(weights))                 "
   ]
  },
  {
   "cell_type": "markdown",
   "metadata": {},
   "source": [
    "\n",
    "#### Ejemplo MLE de bernoulli:\n",
    "\n",
    "La formula de la distribución de probabilidad de una Bernuilli es:\n",
    "\\\\[\n",
    "f(k;p)=p^k(1-p)^{1-k}\n",
    "\\\\]\n",
    "\n",
    "La probabilidad de de tener una muestra de $n$ muestras independientes identicamente distribuidas de forma aleatoria es: \n",
    "\\\\[\n",
    "\\mathcal {L}(\\theta)=\\mathcal {L}(p ) =f(x_{1},\\ldots ,x_{n}\\mid \\mu ,\\sigma ^{2})=\\prod _{i=1}^{n}f(x_{i}\\mid \\mu ,\\sigma ^{2})=p^{\\sum x_i} (1-p)^{n-\\sum x_i}\n",
    "\\\\]\n",
    "\n",
    "Para simplificar pasamos a logaritmos:\n",
    "\\\\[\n",
    "\\ln {\\Big (}{\\mathcal {L}}(p ){\\Big )}=\\Big(\\sum x_i\\Big)\\ln(p)+\\Big(n-\\sum x_i\\Big)\\ln(1-p)\n",
    "\\\\]\n",
    "\n",
    "Calculamos el estimador de máxima verosimilitud para calcular $p$:\n",
    "\\\\[\n",
    "0={\\frac {\\partial }{\\partial p }}\\log {\\Big (}{\\mathcal {L}}(p ){\\Big )}=\\frac{\\Big(\\sum x_i\\Big)}{p}+\\frac{\\Big(n-\\sum x_i\\Big)}{(1-p)}\n",
    "\\\\]\n",
    "El resultado es:\n",
    "\\\\[\n",
    "{\\hat {p }}=\\sum _{i=1}^{n}{\\frac {\\,x_{i}\\,}{n}}\n",
    "\\\\]"
   ]
  },
  {
   "cell_type": "code",
   "execution_count": 304,
   "metadata": {},
   "outputs": [
    {
     "data": {
      "text/html": [
       "'La media óptima calculada mediante MLE es: 0.33999841269516'"
      ],
      "text/latex": [
       "'La media óptima calculada mediante MLE es: 0.33999841269516'"
      ],
      "text/markdown": [
       "'La media óptima calculada mediante MLE es: 0.33999841269516'"
      ],
      "text/plain": [
       "[1] \"La media óptima calculada mediante MLE es: 0.33999841269516\""
      ]
     },
     "metadata": {},
     "output_type": "display_data"
    },
    {
     "data": {
      "text/html": [
       "'La media estimada es: 0.34'"
      ],
      "text/latex": [
       "'La media estimada es: 0.34'"
      ],
      "text/markdown": [
       "'La media estimada es: 0.34'"
      ],
      "text/plain": [
       "[1] \"La media estimada es: 0.34\""
      ]
     },
     "metadata": {},
     "output_type": "display_data"
    }
   ],
   "source": [
    "X<-rbinom(50,size=1,p=0.3)\n",
    "\n",
    "l<-function(p){\n",
    "    -prod(sapply(X,function(xi) p^xi*(1-p)^(1-xi)))\n",
    "}\n",
    "                \n",
    "o<-optimize(l,c(0,1))\n",
    "                \n",
    "paste(\"La media óptima calculada mediante MLE es:\",o$minimum)\n",
    "paste(\"La media estimada es:\",mean(X))\n",
    "                 \n"
   ]
  },
  {
   "cell_type": "markdown",
   "metadata": {},
   "source": [
    "### Maximum a Posteriori (MAP)\n",
    "\n",
    "Imaginemos que tenemos información adicional, como por ejemplo la siguiente tabla de la [OMS](http://www.who.int/childgrowth/standards/sft_wfa_girls_p/en/):\n",
    "![](funcionesR/percentiles.png)\n",
    "Ahí vemos que la media de las niñas al nacer es de 3.2kg.\n",
    "\n",
    "¿Cómo podemos saber la varianza?\n"
   ]
  },
  {
   "cell_type": "code",
   "execution_count": 260,
   "metadata": {},
   "outputs": [
    {
     "data": {
      "text/html": [
       "'La desviación típica calculada con el percentil 97 es: 0.531690450066428'"
      ],
      "text/latex": [
       "'La desviación típica calculada con el percentil 97 es: 0.531690450066428'"
      ],
      "text/markdown": [
       "'La desviación típica calculada con el percentil 97 es: 0.531690450066428'"
      ],
      "text/plain": [
       "[1] \"La desviación típica calculada con el percentil 97 es: 0.531690450066428\""
      ]
     },
     "metadata": {},
     "output_type": "display_data"
    },
    {
     "data": {
      "text/html": [
       "'La desviación típica calculada con el percentil 85 es: 0.48242367051124'"
      ],
      "text/latex": [
       "'La desviación típica calculada con el percentil 85 es: 0.48242367051124'"
      ],
      "text/markdown": [
       "'La desviación típica calculada con el percentil 85 es: 0.48242367051124'"
      ],
      "text/plain": [
       "[1] \"La desviación típica calculada con el percentil 85 es: 0.48242367051124\""
      ]
     },
     "metadata": {},
     "output_type": "display_data"
    },
    {
     "data": {
      "text/html": [
       "'La desviación típica calculada con el percentil 15 es: 0.385938936408992'"
      ],
      "text/latex": [
       "'La desviación típica calculada con el percentil 15 es: 0.385938936408992'"
      ],
      "text/markdown": [
       "'La desviación típica calculada con el percentil 15 es: 0.385938936408992'"
      ],
      "text/plain": [
       "[1] \"La desviación típica calculada con el percentil 15 es: 0.385938936408992\""
      ]
     },
     "metadata": {},
     "output_type": "display_data"
    },
    {
     "data": {
      "text/html": [
       "'La desviación típica calculada con el percentil 3 es: 0.425352360053143'"
      ],
      "text/latex": [
       "'La desviación típica calculada con el percentil 3 es: 0.425352360053143'"
      ],
      "text/markdown": [
       "'La desviación típica calculada con el percentil 3 es: 0.425352360053143'"
      ],
      "text/plain": [
       "[1] \"La desviación típica calculada con el percentil 3 es: 0.425352360053143\""
      ]
     },
     "metadata": {},
     "output_type": "display_data"
    }
   ],
   "source": [
    "calcVar<-function(x,p,weight){\n",
    "    #(qnorm(0.97,mean=3.2,sd=x)-4.2)^2\n",
    "    (qnorm(p,mean=3.2,sd=x)-weight)^2\n",
    "}\n",
    "o<-optimize(calcVar,c(0,2),p=0.97,weight=4.2)\n",
    "paste(\"La desviación típica calculada con el percentil 97 es:\",o$minimum)\n",
    "\n",
    "o<-optimize(calcVar,c(0,2),p=0.85,weight=3.7)\n",
    "paste(\"La desviación típica calculada con el percentil 85 es:\",o$minimum)\n",
    "\n",
    "o<-optimize(calcVar,c(0,2),p=0.15,weight=2.8)\n",
    "paste(\"La desviación típica calculada con el percentil 15 es:\",o$minimum)\n",
    "\n",
    "o<-optimize(calcVar,c(0,2),p=0.03,weight=2.4)\n",
    "paste(\"La desviación típica calculada con el percentil 3 es:\",o$minimum)"
   ]
  },
  {
   "cell_type": "markdown",
   "metadata": {},
   "source": [
    "Para redondear, supongamos que el conocimiento que tenemos a priori es que los niños al nacer tienen una media de 3.2kg y una desviación típica de 0.5.\n",
    "\n",
    "Acorde con Bayes, si tenemos información previa (el prior) podemos calcular la probabilidad a posteriori como:\n",
    "\\\\[\n",
    "P(\\theta|X)=\\frac{P(X|\\theta)·P_{apriori}(\\theta)}{P(X)}\n",
    "\\\\]\n",
    "\n",
    "Donde $X$ son los datos que tenemos y $\\theta$ son los parámetros que estimamos.\n",
    "\n",
    "Dados los pesos que hemos medido, \n",
    "¿cual es la probabilidad de que sigan una gaussiana de media 3.2 y desviación 0.5?"
   ]
  },
  {
   "cell_type": "code",
   "execution_count": 261,
   "metadata": {},
   "outputs": [
    {
     "data": {},
     "metadata": {},
     "output_type": "display_data"
    },
    {
     "data": {
      "image/png": "[encoded data removed]",
      "text/plain": [
       "plot without title"
      ]
     },
     "metadata": {},
     "output_type": "display_data"
    }
   ],
   "source": [
    "options(repr.plot.height=4,repr.plot.width=6)\n",
    "xdf<-data.frame(z=c(0,8))\n",
    "ggplot(xdf,aes(x=z))+stat_function(fun=dnorm,args = list(mean = 3.2, sd =0.5))+\n",
    "  geom_vline(xintercept = weights[1],color=\"blue\")+\n",
    "  geom_vline(xintercept = weights[2],color=\"blue\")+\n",
    "  geom_vline(xintercept = weights[3],color=\"blue\")+\n",
    "  ylab(\"probabilidad\")+xlab(\"Peso [kg]\")+\n",
    "  theme_linedraw()"
   ]
  },
  {
   "cell_type": "code",
   "execution_count": 263,
   "metadata": {},
   "outputs": [
    {
     "name": "stdout",
     "output_type": "stream",
     "text": [
      "[1] \"La probabilidad de que pese 3 es 0.736540280606647\"\n",
      "[1] \"La probabilidad de que pese 3.2 es 0.797884560802865\"\n",
      "[1] \"La probabilidad de que pese 6 es 1.23652410003317e-07\"\n"
     ]
    }
   ],
   "source": [
    "for (w in weights){\n",
    "    print(paste(\"La probabilidad de que pese\",w,\"es\",dnorm(w,mean=3.2,sd=0.5)))\n",
    "}"
   ]
  },
  {
   "cell_type": "markdown",
   "metadata": {},
   "source": [
    "Como vemos, la probabilidad de haber realizado una medida de 6kg es bastante baja. Es posible que se trate de un outlayer, un valor atípico, producto de un error en la medida."
   ]
  },
  {
   "cell_type": "markdown",
   "metadata": {},
   "source": [
    "Si seguimos adelante con el teorema de Bayes, lo que nos interesa es obtener el máximo a posteriori, maximizar $P(\\theta|X)$\n",
    "\n",
    "\\\\[\n",
    "\\hat {\\theta }\\in \\{{\\underset {\\theta \\in \\Theta }{\\operatorname {arg\\,max} }} P(\\theta|X)\\} =\\hat {\\theta }\\in \\{{\\underset {\\theta \\in \\Theta }{\\operatorname {arg\\,max} }} \\frac{P(X|\\theta)·P_{apriori}(\\theta)}{P(X)}\\}\n",
    "\\\\]\n",
    "\n",
    "Lo cual equivale a:\n",
    "\\\\[\n",
    "\\hat {\\theta }\\in \\{{\\underset {\\theta \\in \\Theta }{\\operatorname {arg\\,max} }} P(\\theta|X)= P(X|\\theta)·P_{apriori}(\\theta)\\}\n",
    "\\\\]"
   ]
  },
  {
   "cell_type": "code",
   "execution_count": 299,
   "metadata": {},
   "outputs": [
    {
     "data": {
      "text/html": [
       "'La media óptima calculada mediante MLE es: 3.38998936880164'"
      ],
      "text/latex": [
       "'La media óptima calculada mediante MLE es: 3.38998936880164'"
      ],
      "text/markdown": [
       "'La media óptima calculada mediante MLE es: 3.38998936880164'"
      ],
      "text/plain": [
       "[1] \"La media óptima calculada mediante MLE es: 3.38998936880164\""
      ]
     },
     "metadata": {},
     "output_type": "display_data"
    },
    {
     "data": {
      "text/html": [
       "'La media real es: 4.06666666666667'"
      ],
      "text/latex": [
       "'La media real es: 4.06666666666667'"
      ],
      "text/markdown": [
       "'La media real es: 4.06666666666667'"
      ],
      "text/plain": [
       "[1] \"La media real es: 4.06666666666667\""
      ]
     },
     "metadata": {},
     "output_type": "display_data"
    },
    {
     "data": {
      "text/html": [
       "'La desviación típica óptima calculada mediante MLE es: 1.5275622348084'"
      ],
      "text/latex": [
       "'La desviación típica óptima calculada mediante MLE es: 1.5275622348084'"
      ],
      "text/markdown": [
       "'La desviación típica óptima calculada mediante MLE es: 1.5275622348084'"
      ],
      "text/plain": [
       "[1] \"La desviación típica óptima calculada mediante MLE es: 1.5275622348084\""
      ]
     },
     "metadata": {},
     "output_type": "display_data"
    },
    {
     "data": {
      "text/html": [
       "'La desviación típica real es: 1.67729941672122'"
      ],
      "text/latex": [
       "'La desviación típica real es: 1.67729941672122'"
      ],
      "text/markdown": [
       "'La desviación típica real es: 1.67729941672122'"
      ],
      "text/plain": [
       "[1] \"La desviación típica real es: 1.67729941672122\""
      ]
     },
     "metadata": {},
     "output_type": "display_data"
    }
   ],
   "source": [
    "ewl<-function(theta){\n",
    "    mnkg=theta[1]\n",
    "    sdkg=theta[2]\n",
    "    mnkg_apriori=3.2\n",
    "    sdkg_apriori=0.5\n",
    "    -prod(sapply(weights,function(xi) (dnorm(xi,mean=mnkg,sd=sdkg)*dnorm(mnkg,mean=mnkg_apriori,sd=sdkg_apriori))))\n",
    "}                \n",
    "                 \n",
    "o<-optim(c(5,1), newl)\n",
    "\n",
    "paste(\"La media óptima calculada mediante MAP es:\",o$par[1])\n",
    "paste(\"La media estimada es:\",mean(weights))\n",
    "                 \n",
    "paste(\"La desviación típica óptima calculada mediante MAP es:\",o$par[2])\n",
    "paste(\"La desviación típica estimada es:\",sd(weights))       "
   ]
  },
  {
   "cell_type": "markdown",
   "metadata": {},
   "source": [
    "Como vemos, el MAP no se ve muy afectado por nuestro dato atípico de 6kg."
   ]
  },
  {
   "cell_type": "markdown",
   "metadata": {},
   "source": [
    "#### Bayesianos vs Frecuentistas\n",
    "\n",
    "De obligada referencia: https://xkcd.com/1132/\n",
    "\n",
    "El MLE es igual al MAP cuando el prior es completamente desconocido, es decir, cuando es una uniforme.\n",
    "\n",
    "Características de aproximación Bayesiana:\n",
    "* La mayor parte de las veces sabemos como debería ser nuestra distribución.\n",
    "* Elegir mal el Prior puede tener consecuencias catastróficas.\n",
    "* Podemos obtener mejores resultados con menos muestras.\n",
    "\n",
    "Características de aproximación Frecuentista:\n",
    "* No necesitamos hacer ninguna suposición de los datos con lo que podemos evitar sesgos basados en prejuicios."
   ]
  },
  {
   "cell_type": "markdown",
   "metadata": {},
   "source": [
    "# Test A/B\n",
    "\n",
    "Es un nombre utilizado realizar tests controlados con dos variantes A y B. Se puede utilizar por ejemplo para ver el cambio que se produce en una en una web."
   ]
  },
  {
   "cell_type": "markdown",
   "metadata": {},
   "source": [
    "### Ejemplo test A/B\n",
    "\n",
    "Tenemos una web de compras. Sabemos que aproximadamente un 1% de los clientes que entran en la web acaban comprando algo. \n",
    "\n",
    "Queremos mejorar esto diseñando una nueva web y observando diferentes patrones en los usuarios que acceden.\n",
    "\n",
    "¿Que web es mejor la nueva o la original?"
   ]
  },
  {
   "cell_type": "code",
   "execution_count": 58,
   "metadata": {},
   "outputs": [
    {
     "data": {
      "text/plain": [
       "    user_id        group       timespend       buy     \n",
       " 1001   :  1   Control:482   Min.   : 2.993   NO :990  \n",
       " 1002   :  1   New    :518   1st Qu.: 8.545   YES: 10  \n",
       " 1003   :  1                 Median :10.687            \n",
       " 1004   :  1                 Mean   :10.945            \n",
       " 1005   :  1                 3rd Qu.:12.993            \n",
       " 1006   :  1                 Max.   :24.035            \n",
       " (Other):994                                           "
      ]
     },
     "metadata": {},
     "output_type": "display_data"
    }
   ],
   "source": [
    "set.seed(1234)\n",
    "\n",
    "generateABdata<-function(N){\n",
    "    group<-factor(rbinom(N,size=1,p=0.5),label=c(\"Control\",\"New\"))\n",
    "    timespend<-rgamma(N,scale = 1,shape = 10)\n",
    "    timespend[group==\"New\"]<-rgamma(sum(group==\"New\"),scale = 1,shape = 12)\n",
    "\n",
    "    buy<-rbinom(N,size=1,p=0.01)\n",
    "    buy[group==\"New\"]<-rbinom(sum(group==\"New\"),size=1,p=0.015)    \n",
    "    buy<-factor(buy,label=c(\"NO\",\"YES\"))    \n",
    "    timespend[buy==\"YES\" & group==\"New\"]<-rgamma(sum(buy==\"YES\" & group==\"New\"),scale = 1,shape = 8)\n",
    "\n",
    "    data.frame(user_id=factor(1000+1:N),group,timespend,buy)\n",
    "}\n",
    "\n",
    "myweb<-generateABdata(1000)\n",
    "summary(myweb)"
   ]
  },
  {
   "cell_type": "markdown",
   "metadata": {},
   "source": [
    "Primero comprobamos si el tiempo gastado en la página ha cambiado o no respecto a si la web es de control o es la nueva versión."
   ]
  },
  {
   "cell_type": "code",
   "execution_count": 59,
   "metadata": {},
   "outputs": [
    {
     "data": {
      "text/html": [
       "'Los datos del grupo de control se parecen a una gaussiana. p-valor: 0.00188543955904141'"
      ],
      "text/latex": [
       "'Los datos del grupo de control se parecen a una gaussiana. p-valor: 0.00188543955904141'"
      ],
      "text/markdown": [
       "'Los datos del grupo de control se parecen a una gaussiana. p-valor: 0.00188543955904141'"
      ],
      "text/plain": [
       "[1] \"Los datos del grupo de control se parecen a una gaussiana. p-valor: 0.00188543955904141\""
      ]
     },
     "metadata": {},
     "output_type": "display_data"
    },
    {
     "data": {
      "text/html": [
       "'Los datos del grupo nuevo se parecen a una gaussiana. p-valor: 4.2585547227643e-07'"
      ],
      "text/latex": [
       "'Los datos del grupo nuevo se parecen a una gaussiana. p-valor: 4.2585547227643e-07'"
      ],
      "text/markdown": [
       "'Los datos del grupo nuevo se parecen a una gaussiana. p-valor: 4.2585547227643e-07'"
      ],
      "text/plain": [
       "[1] \"Los datos del grupo nuevo se parecen a una gaussiana. p-valor: 4.2585547227643e-07\""
      ]
     },
     "metadata": {},
     "output_type": "display_data"
    },
    {
     "data": {
      "text/plain": [
       "\n",
       "\tWelch Two Sample t-test\n",
       "\n",
       "data:  myweb$timespend[myweb$group == \"Control\"] and myweb$timespend[myweb$group == \"New\"]\n",
       "t = -10.517, df = 986.04, p-value < 2.2e-16\n",
       "alternative hypothesis: true difference in means is not equal to 0\n",
       "95 percent confidence interval:\n",
       " -2.506248 -1.718034\n",
       "sample estimates:\n",
       "mean of x mean of y \n",
       "  9.85131  11.96345 \n"
      ]
     },
     "metadata": {},
     "output_type": "display_data"
    }
   ],
   "source": [
    "paste(\"Los datos del grupo de control se parecen a una gaussiana. p-valor:\",\n",
    "      shapiro.test(myweb$timespend[myweb$group==\"Control\"])$p.value)\n",
    "paste(\"Los datos del grupo nuevo se parecen a una gaussiana. p-valor:\",\n",
    "      shapiro.test(myweb$timespend[myweb$group==\"New\"])$p.value)\n",
    "\n",
    "\n",
    "t.test(x=myweb$timespend[myweb$group==\"Control\"],y=myweb$timespend[myweb$group==\"New\"])\n"
   ]
  },
  {
   "cell_type": "markdown",
   "metadata": {},
   "source": [
    "Parece que los usuarios pasan de media 11.9 minutos en la página nueva, mientras que en la de control pasan unos 9.8 minutos."
   ]
  },
  {
   "cell_type": "markdown",
   "metadata": {},
   "source": [
    "Veamos si el tiempo medio que pasa un usuario en la web se ve afectado si compra o no:"
   ]
  },
  {
   "cell_type": "code",
   "execution_count": 60,
   "metadata": {},
   "outputs": [
    {
     "data": {
      "text/plain": [
       "\n",
       "\tWelch Two Sample t-test\n",
       "\n",
       "data:  timespend[group == \"Control\"] and timespend[group == \"New\"]\n",
       "t = 2.0188, df = 5.3977, p-value = 0.09534\n",
       "alternative hypothesis: true difference in means is not equal to 0\n",
       "95 percent confidence interval:\n",
       " -0.6062403  5.5428813\n",
       "sample estimates:\n",
       "mean of x mean of y \n",
       " 9.959005  7.490684 \n"
      ]
     },
     "metadata": {},
     "output_type": "display_data"
    }
   ],
   "source": [
    "buy_users<-subset(myweb,buy==\"YES\")\n",
    "with(buy_users,t.test(x=timespend[group==\"Control\"],y=timespend[group==\"New\"]))"
   ]
  },
  {
   "cell_type": "markdown",
   "metadata": {},
   "source": [
    "Parece que los usuarios que compran gastan una media de 9.9 minutos en la nueva web, mientras que gastan 8.6 en la vieja. Aunque el t-test nos dice que no hay evidencia estadística suficiente para asegurar que las dos medias realmente sean diferentes."
   ]
  },
  {
   "cell_type": "markdown",
   "metadata": {},
   "source": [
    "Veamos que ocurre ahora con las compras, is han aumentado o no:"
   ]
  },
  {
   "cell_type": "code",
   "execution_count": 61,
   "metadata": {},
   "outputs": [
    {
     "data": {
      "text/html": [
       "<table>\n",
       "<thead><tr><th></th><th scope=col>compras</th><th scope=col>visitas</th></tr></thead>\n",
       "<tbody>\n",
       "\t<tr><th scope=row>control</th><td>4  </td><td>518</td></tr>\n",
       "\t<tr><th scope=row>nueva</th><td>6  </td><td>482</td></tr>\n",
       "</tbody>\n",
       "</table>\n"
      ],
      "text/latex": [
       "\\begin{tabular}{r|ll}\n",
       "  & compras & visitas\\\\\n",
       "\\hline\n",
       "\tcontrol & 4   & 518\\\\\n",
       "\tnueva & 6   & 482\\\\\n",
       "\\end{tabular}\n"
      ],
      "text/markdown": [
       "\n",
       "| <!--/--> | compras | visitas | \n",
       "|---|---|\n",
       "| control | 4   | 518 | \n",
       "| nueva | 6   | 482 | \n",
       "\n",
       "\n"
      ],
      "text/plain": [
       "        compras visitas\n",
       "control 4       518    \n",
       "nueva   6       482    "
      ]
     },
     "metadata": {},
     "output_type": "display_data"
    },
    {
     "data": {
      "text/html": [
       "'El ratio de compras en la web de control es:0.0077 con un intervalo de confianza: [0.0021,0.0197]'"
      ],
      "text/latex": [
       "'El ratio de compras en la web de control es:0.0077 con un intervalo de confianza: {[}0.0021,0.0197{]}'"
      ],
      "text/markdown": [
       "'El ratio de compras en la web de control es:0.0077 con un intervalo de confianza: [0.0021,0.0197]'"
      ],
      "text/plain": [
       "[1] \"El ratio de compras en la web de control es:0.0077 con un intervalo de confianza: [0.0021,0.0197]\""
      ]
     },
     "metadata": {},
     "output_type": "display_data"
    },
    {
     "data": {
      "text/html": [
       "'El ratio de compras en la web de control es:0.0124 con un intervalo de confianza: [0.0046,0.0269]'"
      ],
      "text/latex": [
       "'El ratio de compras en la web de control es:0.0124 con un intervalo de confianza: {[}0.0046,0.0269{]}'"
      ],
      "text/markdown": [
       "'El ratio de compras en la web de control es:0.0124 con un intervalo de confianza: [0.0046,0.0269]'"
      ],
      "text/plain": [
       "[1] \"El ratio de compras en la web de control es:0.0124 con un intervalo de confianza: [0.0046,0.0269]\""
      ]
     },
     "metadata": {},
     "output_type": "display_data"
    }
   ],
   "source": [
    "s0<-sum(myweb$buy[myweb$group==\"Control\"]==\"YES\")\n",
    "t0<-sum(myweb$group==\"Control\")\n",
    "s1<-sum(myweb$buy[myweb$group==\"New\"]==\"YES\")\n",
    "t1<-sum(myweb$group==\"New\")\n",
    "\n",
    "m<-matrix(c(s0,s1,t1,t0),nrow = 2,dimnames=list(c(\"control\",\"nueva\"),c(\"compras\",\"visitas\")))\n",
    "m\n",
    "\n",
    "r1<-round(binom.test(m[1,1],m[1,2])$conf.int,4)\n",
    "r2<-round(binom.test(m[2,1],m[2,2])$conf.int,4)\n",
    "paste0(\"El ratio de compras en la web de control es:\",round(m[1,1]/m[1,2],4),\n",
    "       \" con un intervalo de confianza: [\",r1[1],\",\",r1[2],\"]\")\n",
    "paste0(\"El ratio de compras en la web de control es:\",round(m[2,1]/m[2,2],4),\n",
    "       \" con un intervalo de confianza: [\",r2[1],\",\",r2[2],\"]\")"
   ]
  },
  {
   "cell_type": "code",
   "execution_count": 62,
   "metadata": {},
   "outputs": [
    {
     "name": "stderr",
     "output_type": "stream",
     "text": [
      "Warning message in chisq.test(m):\n",
      "“Chi-squared approximation may be incorrect”"
     ]
    },
    {
     "data": {
      "text/plain": [
       "\n",
       "\tPearson's Chi-squared test with Yates' continuity correction\n",
       "\n",
       "data:  m\n",
       "X-squared = 0.18065, df = 1, p-value = 0.6708\n"
      ]
     },
     "metadata": {},
     "output_type": "display_data"
    },
    {
     "data": {
      "text/plain": [
       "\n",
       "\tFisher's Exact Test for Count Data\n",
       "\n",
       "data:  m\n",
       "p-value = 0.5352\n",
       "alternative hypothesis: true odds ratio is not equal to 1\n",
       "95 percent confidence interval:\n",
       " 0.1280036 2.6351963\n",
       "sample estimates:\n",
       "odds ratio \n",
       " 0.6206302 \n"
      ]
     },
     "metadata": {},
     "output_type": "display_data"
    }
   ],
   "source": [
    "chisq.test(m)\n",
    "fisher.test(m)"
   ]
  },
  {
   "cell_type": "markdown",
   "metadata": {},
   "source": [
    "Tanto el test de fisher como el chi-cuadrado nos indican que no hay muestras sufientes para descartar la hipótesis nula. No podemos decir que la nueva web haya mejorado el ratio de clicks."
   ]
  },
  {
   "cell_type": "markdown",
   "metadata": {},
   "source": [
    "Si recogemos más datos:"
   ]
  },
  {
   "cell_type": "code",
   "execution_count": 63,
   "metadata": {},
   "outputs": [],
   "source": [
    "myweb2<-generateABdata(4000)"
   ]
  },
  {
   "cell_type": "code",
   "execution_count": 64,
   "metadata": {},
   "outputs": [
    {
     "data": {
      "text/plain": [
       "\n",
       "\tWelch Two Sample t-test\n",
       "\n",
       "data:  timespend[group == \"Control\"] and timespend[group == \"New\"]\n",
       "t = 2.0786, df = 21.558, p-value = 0.04978\n",
       "alternative hypothesis: true difference in means is not equal to 0\n",
       "95 percent confidence interval:\n",
       " 0.001926459 3.621764135\n",
       "sample estimates:\n",
       "mean of x mean of y \n",
       " 9.305299  7.493453 \n"
      ]
     },
     "metadata": {},
     "output_type": "display_data"
    }
   ],
   "source": [
    "buy_users<-subset(myweb2,buy==\"YES\")\n",
    "with(buy_users,t.test(x=timespend[group==\"Control\"],y=timespend[group==\"New\"]))"
   ]
  },
  {
   "cell_type": "markdown",
   "metadata": {},
   "source": [
    "Si somos capaces de ver que los usuarios que compran en la web nueva estan más tiempo, eso puede indicar que es más fácil comprar."
   ]
  },
  {
   "cell_type": "code",
   "execution_count": 65,
   "metadata": {},
   "outputs": [
    {
     "data": {
      "text/html": [
       "<table>\n",
       "<thead><tr><th></th><th scope=col>compras</th><th scope=col>visitas</th></tr></thead>\n",
       "<tbody>\n",
       "\t<tr><th scope=row>control</th><td>15  </td><td>2002</td></tr>\n",
       "\t<tr><th scope=row>nueva</th><td>25  </td><td>1998</td></tr>\n",
       "</tbody>\n",
       "</table>\n"
      ],
      "text/latex": [
       "\\begin{tabular}{r|ll}\n",
       "  & compras & visitas\\\\\n",
       "\\hline\n",
       "\tcontrol & 15   & 2002\\\\\n",
       "\tnueva & 25   & 1998\\\\\n",
       "\\end{tabular}\n"
      ],
      "text/markdown": [
       "\n",
       "| <!--/--> | compras | visitas | \n",
       "|---|---|\n",
       "| control | 15   | 2002 | \n",
       "| nueva | 25   | 1998 | \n",
       "\n",
       "\n"
      ],
      "text/plain": [
       "        compras visitas\n",
       "control 15      2002   \n",
       "nueva   25      1998   "
      ]
     },
     "metadata": {},
     "output_type": "display_data"
    },
    {
     "data": {
      "text/html": [
       "'El ratio de compras en la web de control es:0.0075 con un intervalo de confianza: [0.0042,0.0123]'"
      ],
      "text/latex": [
       "'El ratio de compras en la web de control es:0.0075 con un intervalo de confianza: {[}0.0042,0.0123{]}'"
      ],
      "text/markdown": [
       "'El ratio de compras en la web de control es:0.0075 con un intervalo de confianza: [0.0042,0.0123]'"
      ],
      "text/plain": [
       "[1] \"El ratio de compras en la web de control es:0.0075 con un intervalo de confianza: [0.0042,0.0123]\""
      ]
     },
     "metadata": {},
     "output_type": "display_data"
    },
    {
     "data": {
      "text/html": [
       "'El ratio de compras en la web de control es:0.0125 con un intervalo de confianza: [0.0081,0.0184]'"
      ],
      "text/latex": [
       "'El ratio de compras en la web de control es:0.0125 con un intervalo de confianza: {[}0.0081,0.0184{]}'"
      ],
      "text/markdown": [
       "'El ratio de compras en la web de control es:0.0125 con un intervalo de confianza: [0.0081,0.0184]'"
      ],
      "text/plain": [
       "[1] \"El ratio de compras en la web de control es:0.0125 con un intervalo de confianza: [0.0081,0.0184]\""
      ]
     },
     "metadata": {},
     "output_type": "display_data"
    }
   ],
   "source": [
    "s0<-sum(myweb2$buy[myweb2$group==\"Control\"]==\"YES\")\n",
    "t0<-sum(myweb2$group==\"Control\")\n",
    "s1<-sum(myweb2$buy[myweb2$group==\"New\"]==\"YES\")\n",
    "t1<-sum(myweb2$group==\"New\")\n",
    "\n",
    "m<-matrix(c(s0,s1,t1,t0),nrow = 2,dimnames=list(c(\"control\",\"nueva\"),c(\"compras\",\"visitas\")))\n",
    "m\n",
    "\n",
    "r1<-round(binom.test(m[1,1],m[1,2])$conf.int,4)\n",
    "r2<-round(binom.test(m[2,1],m[2,2])$conf.int,4)\n",
    "paste0(\"El ratio de compras en la web de control es:\",round(m[1,1]/m[1,2],4),\n",
    "       \" con un intervalo de confianza: [\",r1[1],\",\",r1[2],\"]\")\n",
    "paste0(\"El ratio de compras en la web de control es:\",round(m[2,1]/m[2,2],4),\n",
    "       \" con un intervalo de confianza: [\",r2[1],\",\",r2[2],\"]\")"
   ]
  },
  {
   "cell_type": "markdown",
   "metadata": {},
   "source": [
    "Los ratio son más pequeños y apenas se solapan, parece que la web nueva mejora el ratio de compras. Algo que podemos comprobar con el test chi-cuadrado."
   ]
  },
  {
   "cell_type": "code",
   "execution_count": 66,
   "metadata": {},
   "outputs": [
    {
     "data": {
      "text/plain": [
       "\n",
       "\tPearson's Chi-squared test with Yates' continuity correction\n",
       "\n",
       "data:  m\n",
       "X-squared = 2.0183, df = 1, p-value = 0.1554\n"
      ]
     },
     "metadata": {},
     "output_type": "display_data"
    },
    {
     "data": {
      "text/plain": [
       "\n",
       "\tFisher's Exact Test for Count Data\n",
       "\n",
       "data:  m\n",
       "p-value = 0.1518\n",
       "alternative hypothesis: true odds ratio is not equal to 1\n",
       "95 percent confidence interval:\n",
       " 0.2926412 1.1851913\n",
       "sample estimates:\n",
       "odds ratio \n",
       " 0.5988795 \n"
      ]
     },
     "metadata": {},
     "output_type": "display_data"
    }
   ],
   "source": [
    "chisq.test(m)\n",
    "fisher.test(m)"
   ]
  }
 ],
 "metadata": {
  "kernelspec": {
   "display_name": "R",
   "language": "R",
   "name": "ir"
  },
  "language_info": {
   "codemirror_mode": "r",
   "file_extension": ".r",
   "mimetype": "text/x-r-source",
   "name": "R",
   "pygments_lexer": "r",
   "version": "3.2.3"
  }
 },
 "nbformat": 4,
 "nbformat_minor": 1
}
