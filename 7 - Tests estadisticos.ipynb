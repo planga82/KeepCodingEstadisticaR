{
 "cells": [
  {
   "cell_type": "markdown",
   "metadata": {},
   "source": [
    "# Tipos de error\n",
    "\n",
    "En estadística a veces se realizan hipótesis que pueden ser ciertas o falsas con cierto grado de confianza.\n",
    "\n",
    "Partimos de dos hipótesis:\n",
    "* Hipótesis nula, $H_0$: Es la hipótesis original, la que generalmente intentamos probar o desmentir.\n",
    "* Hipótesis alternativa, $H_1$: Es la hipótesis que tenemos que aceptar cuando $H_0$ se demuestra falsa.\n",
    "\n",
    "**Ejemplos de hipótesis:**\n",
    "\n",
    "Sobre la altura de las personas.\n",
    "* $H_0$: La media de la altura en España es 1.80m.\n",
    "* $H_1$: La media de la altura en España NO es 1.80m.\n",
    "\n",
    "Sobre el color de los perros:\n",
    "* $H_0$: Todos los perros son verdes.\n",
    "* $H_1$: Algún perro no es verde.\n",
    "\n",
    "Sobre pruebas médicas:\n",
    "* $H_0$: No está embarazada.\n",
    "* $H_1$: Sí está embarazada.\n",
    "\n",
    "\n",
    "\n",
    "\n",
    "Si nuestro test estadístico dice que la hipótesis $H_1$ es cierta pero en realidad la que es cierta es la hipótesis $H_0$ estaremos cometiendo un error.\n",
    "El tipo de error depende de si nos hemos equivocado prediciendo $H_0$ o $H_1$.\n",
    "\n",
    "||$H_0$ cierta|$H_1$ cierta|\n",
    "|-|-|-|\n",
    "|Elegimos $H_0$| No hay error |Error tipo II, falso negativo|\n",
    "|Elegimos $H_1$| Error tipo I, falso positivo| No hay error |\n",
    "\n",
    "||$H_0$ cierta|$H_1$ cierta|\n",
    "|-|-|-|\n",
    "|Elegimos $H_0$| ![](tests/homerFat.jpg) No hay error | ![](tests/MargeError.png) Error tipo II, falso negativo |\n",
    "|Elegimos $H_1$| ![](tests/homerError.jpg) Error tipo I, falso positivo | ![](tests/MargePregnant.png) No hay error |\n",
    "\n",
    "\n",
    "\n",
    "\n",
    "### p-valor\n",
    "\n",
    "En los tests estadísitcos trataremos de confirmar o desmentir la hipótesis nula $H_0$ mediante un valor de confianza llamado $p-value$\n"
   ]
  },
  {
   "cell_type": "markdown",
   "metadata": {},
   "source": [
    "# Comparando dos grupos de datos cuantitavos\n",
    "\n",
    "## T-test de student\n",
    "\n",
    "El t-test es usado cuando tienes dos grupos de datos y quieres saber si la media de ambos grupos es igual o no. Tenemos dos hipótesis:\n",
    "\\\\[H_0 : \\mu(X) = \\mu(Y) \\\\]\n",
    "\\\\[H_1 : \\mu(X) \\ne \\mu(Y) \\\\]\n",
    "\n",
    "Empezamos con las siguientes asumpciones:\n",
    "1. Las muestras han sido seleccionas por muestreo aleatorio simple dentro de la población.\n",
    "2. Las poblaciones siguen una distribución normal. (sino usar test Wilcoxon-Mann-Whitney)\n",
    "3. Ambas poblaciones tienen la misma varianza. (sino usar test Welch)\n",
    "4. Las poblaciones no están correladas. (sino usar t-test emparejado)\n",
    "\n",
    "Primero calculamos la media y varianza de ambos grupos. El test para verificar si la hipótesis nula $H_0$ es cierta puede ser calculado como sigue:\n",
    "\n",
    "\\\\[ t=\\frac{E[X]-E[Y]}{s_p·\\sqrt{\\frac{1}{n_x}+\\frac{1}{n_y}}} \\\\]\n",
    "\n",
    "Donde $s_p$ es la desviación estandar compuesta, calculada como:\n",
    "\n",
    "\\\\[ s^2_p=\\frac{(n_x-1)Var[X]+(n_y-1)Var[Y]}{n_x+n_y-2} \\\\]\n",
    "\n",
    "Donde $n_x$ y $n_y$ son los números de muestras en cada uno de los grupos muestreados. El número de grados de libertad es \n",
    "$d.f.=n_x+n_y-2$. Podemos asumir que las dos varianzas son iguales si ambas pasan el test de varianza de Fisher(F-test).\n"
   ]
  },
  {
   "cell_type": "markdown",
   "metadata": {},
   "source": [
    "### Funciones en R\n",
    "\n",
    "Supongamos que tenemos dos variables aleatorias X, con 10 muestras, e Y, con 15 muestas. Queremos saber si ambas proceden de la misma población. Una forma de saberlo es calcular la media de X e Y.\n",
    "A continuación calcular el test t-student y ver el p-valor. \n",
    "\n",
    "* Un valor muy **bajo**, por ejemplo inferior a 0.05, nos llevaría a rechazar la hipótesis nula $H_0$ y afirmar que las medias son tan diferentes que probablemente vendrán de poblaciones distintas.\n",
    "* Un p-valor **alto** nos indicaría que la hipótesis $H_0$ es posible que sea cierta.\n",
    "\n"
   ]
  },
  {
   "cell_type": "code",
   "execution_count": 1,
   "metadata": {},
   "outputs": [
    {
     "name": "stdout",
     "output_type": "stream",
     "text": [
      "[1] \"El pvalor es 0.699891449630045\"\n"
     ]
    }
   ],
   "source": [
    "set.seed(123)\n",
    "nx<-10\n",
    "ny<-15\n",
    "X<-rnorm(nx,mean=7,sd=3)\n",
    "Y<-rnorm(ny,mean=8,sd=3)\n",
    "sp<-sqrt(((nx-1)*var(X)+(ny-1)*var(Y))/(nx+ny-2))\n",
    "t<-(mean(X)-mean(Y))/(sp*sqrt(1/nx+1/ny))\n",
    "pvalue<-pt(t,nx+ny-2)*2\n",
    "print(paste(\"El pvalor es\",pvalue))"
   ]
  },
  {
   "cell_type": "markdown",
   "metadata": {},
   "source": [
    "El p-valor es aproximadamente 0.7, lo que signififa que es bastante probable que las medias de X e Y sean iguales. Por lo tanto en este caso no podemos rechazar la hipótesis nula $H_0$. \n",
    "\n",
    "El mismo procedimiento lo podemos ejecutar usando la función *t.test*:"
   ]
  },
  {
   "cell_type": "code",
   "execution_count": 2,
   "metadata": {},
   "outputs": [
    {
     "data": {
      "text/plain": [
       "\n",
       "\tTwo Sample t-test\n",
       "\n",
       "data:  X and Y\n",
       "t = -0.39032, df = 23, p-value = 0.6999\n",
       "alternative hypothesis: true difference in means is not equal to 0\n",
       "95 percent confidence interval:\n",
       " -2.899342  1.978902\n",
       "sample estimates:\n",
       "mean of x mean of y \n",
       " 7.223877  7.684097 \n"
      ]
     },
     "metadata": {},
     "output_type": "display_data"
    }
   ],
   "source": [
    "t.test(X,Y,var.equal=TRUE)"
   ]
  },
  {
   "cell_type": "markdown",
   "metadata": {},
   "source": [
    "## t-test de Welch\n",
    "\n",
    "Este test es usado cuando asumimos que las dos poblaciones no tienen porqué tener la misma varianza. El test estdístico es calculado así:\n",
    "\\\\[ t=\\frac{E[X]-E[Y]}{s_{\\bar{\\Delta}}} \\\\]\n",
    "\n",
    "donde\n",
    "\\\\[ s_{\\bar{\\Delta}}=\\sqrt{\\frac{Var[X]}{n_x}+\\frac{Var[Y]}{n_y}} \\\\]\n",
    "\n",
    "Y el número de grados de libertad es:\n",
    "\\\\[ d.f.= \\frac{\\left(\\frac{Var[X]}{n_x}+\\frac{Var[Y]}{n_y} \\right)^2}{\\frac{\\left( \\frac{Var[X]}{n_x} \\right)^2}{n_x-1} + \\frac{\\left( \\frac{Var[Y]}{n_y} \\right)^2}{n_y-1}} \\\\]"
   ]
  },
  {
   "cell_type": "markdown",
   "metadata": {},
   "source": [
    "### Funciones en R\n",
    "\n",
    "Supongamos que al igual que en el caso anterior tenemos dos variables aleatorias X, con 10 muestras, e Y, con 15 muestas. Queremos saber si ambas proceden de la misma población. Una forma de saberlo es calcular la media de X e Y sin asumir que ambos grupos tienen la misma varianza. A continuación calcular el test t-student y ver el p-valor.\n",
    "\n"
   ]
  },
  {
   "cell_type": "code",
   "execution_count": 3,
   "metadata": {},
   "outputs": [
    {
     "name": "stdout",
     "output_type": "stream",
     "text": [
      "[1] \"El pvalor es 0.0136516316049945\"\n"
     ]
    }
   ],
   "source": [
    "set.seed(123)\n",
    "X<-rnorm(nx,mean=7,sd=3)\n",
    "Y<-rnorm(ny,mean=10,sd=0.1)\n",
    "sd<-sqrt(var(X)/nx+var(Y)/ny)\n",
    "t<-(mean(X)-mean(Y))/(sd)\n",
    "df<-(var(X)/nx+var(Y)/ny)^2/((var(X)/nx)^2/(nx-1)+(var(Y)/ny)^2/(ny-1))\n",
    "pvalue<-pt(t,df)*2\n",
    "print(paste(\"El pvalor es\",pvalue))"
   ]
  },
  {
   "cell_type": "markdown",
   "metadata": {},
   "source": [
    "Esto se puede hacer en R con el comando *t.test*:"
   ]
  },
  {
   "cell_type": "code",
   "execution_count": 4,
   "metadata": {},
   "outputs": [
    {
     "data": {
      "text/plain": [
       "\n",
       "\tWelch Two Sample t-test\n",
       "\n",
       "data:  X and Y\n",
       "t = -3.0553, df = 9.0137, p-value = 0.01365\n",
       "alternative hypothesis: true difference in means is not equal to 0\n",
       "95 percent confidence interval:\n",
       " -4.8127864 -0.7183995\n",
       "sample estimates:\n",
       "mean of x mean of y \n",
       " 7.223877  9.989470 \n"
      ]
     },
     "metadata": {},
     "output_type": "display_data"
    }
   ],
   "source": [
    "t.test(X,Y,var.equal = FALSE)"
   ]
  },
  {
   "cell_type": "markdown",
   "metadata": {},
   "source": [
    "En este caso esl p-valor es realmente bajo, así que podemos rechazar la hipótesis nula y asumir que ambas medias no son iguales.\n",
    "\n",
    "\n",
    "![Imagen no cargada. Edita y borra la @](tests/pvalor.jpg @)"
   ]
  },
  {
   "cell_type": "markdown",
   "metadata": {},
   "source": [
    "### Ejemplo: Peso de los niños al nacer\n",
    "\n",
    "Este dataset contien información de bebes recien nacidos y sus padres. Nos vamos a centrar en si la madre era o no fumadora."
   ]
  },
  {
   "cell_type": "code",
   "execution_count": 5,
   "metadata": {},
   "outputs": [
    {
     "data": {
      "text/plain": [
       "\n",
       "\tWelch Two Sample t-test\n",
       "\n",
       "data:  bwt$Birthweight[bwt$smoker == \"YES\"] and bwt$Birthweight[bwt$smoker == \"NO\"]\n",
       "t = -2.0735, df = 39.662, p-value = 0.04467\n",
       "alternative hypothesis: true difference in means is not equal to 0\n",
       "95 percent confidence interval:\n",
       " -1.60512583 -0.02032871\n",
       "sample estimates:\n",
       "mean of x mean of y \n",
       " 6.877273  7.690000 \n"
      ]
     },
     "metadata": {},
     "output_type": "display_data"
    }
   ],
   "source": [
    "bwt<-read.csv(\"tests/birthweight_reduced.csv\")\n",
    "bwt$smoker<-factor(bwt$smoker,labels = c(\"NO\",\"YES\"))\n",
    "\n",
    "tw<-t.test(bwt$Birthweight[bwt$smoker==\"YES\"],bwt$Birthweight[bwt$smoker==\"NO\"])\n",
    "tw"
   ]
  },
  {
   "cell_type": "markdown",
   "metadata": {},
   "source": [
    "Parece que el hecho de que la madre sea fumadora aumenta las posibilidade de que el bebé nazca con menor peso."
   ]
  },
  {
   "cell_type": "markdown",
   "metadata": {},
   "source": [
    "## T-test emparejado\n",
    "\n",
    "Este test es usado cuando hay **dos grupos** de datos los cuales están **correlados** y quieres saber si la media de ambos grupos es la misma o no. Esto puede ser usado por ejemplo para comprobar un estudio médico y queremos comprobar si los valores han cambiado antes y después del tratamiento. La hipóteis nula dice que la diferencia entre las dos medias es igual a $\\mu_0$\n",
    "\\\\[H_0 : \\mu(X) - \\mu(Y) = \\mu_0 \\\\]\n",
    "\\\\[H_1 : \\mu(X) -\\mu(Y) \\ne \\mu_0 \\\\]\n",
    "El test estadístico es calculado de la media y varianza de la diferencia de las dos muestras:\n",
    "\\\\[ t=\\frac{E[X-Y]-\\mu_0}{\\sqrt{var[X-Y]/n}}\\\\]"
   ]
  },
  {
   "cell_type": "markdown",
   "metadata": {},
   "source": [
    "### Funciones en R\n",
    "\n"
   ]
  },
  {
   "cell_type": "code",
   "execution_count": 6,
   "metadata": {},
   "outputs": [
    {
     "name": "stdout",
     "output_type": "stream",
     "text": [
      "[1] \"El pvalor es 0.749034550097531\"\n"
     ]
    }
   ],
   "source": [
    "n<-20\n",
    "X<-rnorm(n,mean=5,sd=4)\n",
    "Y<-X-rnorm(n,mean=3,sd=2)\n",
    "mu0<-3\n",
    "D<-X-Y\n",
    "t<-(mean(D)-mu0)/(sqrt(var(D)/nx))\n",
    "pvalor<-pt(t,n-1)*2\n",
    "print(paste(\"El pvalor es\",pvalor))"
   ]
  },
  {
   "cell_type": "markdown",
   "metadata": {},
   "source": [
    "O con la función *t.test*"
   ]
  },
  {
   "cell_type": "code",
   "execution_count": 7,
   "metadata": {},
   "outputs": [
    {
     "data": {
      "text/plain": [
       "\n",
       "\tPaired t-test\n",
       "\n",
       "data:  X and Y\n",
       "t = -0.45905, df = 19, p-value = 0.6514\n",
       "alternative hypothesis: true difference in means is not equal to 3\n",
       "95 percent confidence interval:\n",
       " 2.096329 3.578581\n",
       "sample estimates:\n",
       "mean of the differences \n",
       "               2.837455 \n"
      ]
     },
     "metadata": {},
     "output_type": "display_data"
    }
   ],
   "source": [
    "t.test(X,Y,mu=mu0,paired=TRUE)"
   ]
  },
  {
   "cell_type": "markdown",
   "metadata": {},
   "source": [
    "### Ejemplo: Colesterol\n",
    "\n",
    "Un estudio probó si el colesterol se redujo después de usar una cierta marca de margarina como parte de una dieta baja en grasas y baja en colesterol. Los sujetos consumieron en promedio 2,31g del ingrediente activo, stanol eastern, un día. Este conjunto de datos contiene información sobre 18 personas que usan margarina para reducir el colesterol en tres puntos de tiempo.\n",
    "Fuente: [www.statstutor.ac.uk](http://www.statstutor.ac.uk)"
   ]
  },
  {
   "cell_type": "code",
   "execution_count": 8,
   "metadata": {},
   "outputs": [
    {
     "data": {
      "text/html": [
       "<table>\n",
       "<thead><tr><th scope=col>ID</th><th scope=col>Before</th><th scope=col>After4weeks</th><th scope=col>After8weeks</th><th scope=col>Margarine</th></tr></thead>\n",
       "<tbody>\n",
       "\t<tr><td>1   </td><td>6.42</td><td>5.83</td><td>5.75</td><td>B   </td></tr>\n",
       "\t<tr><td>2   </td><td>6.76</td><td>6.20</td><td>6.13</td><td>A   </td></tr>\n",
       "\t<tr><td>3   </td><td>6.56</td><td>5.83</td><td>5.71</td><td>B   </td></tr>\n",
       "\t<tr><td>4   </td><td>4.80</td><td>4.27</td><td>4.15</td><td>A   </td></tr>\n",
       "\t<tr><td>5   </td><td>8.43</td><td>7.71</td><td>7.67</td><td>B   </td></tr>\n",
       "\t<tr><td>6   </td><td>7.49</td><td>7.12</td><td>7.05</td><td>A   </td></tr>\n",
       "</tbody>\n",
       "</table>\n"
      ],
      "text/latex": [
       "\\begin{tabular}{r|lllll}\n",
       " ID & Before & After4weeks & After8weeks & Margarine\\\\\n",
       "\\hline\n",
       "\t 1    & 6.42 & 5.83 & 5.75 & B   \\\\\n",
       "\t 2    & 6.76 & 6.20 & 6.13 & A   \\\\\n",
       "\t 3    & 6.56 & 5.83 & 5.71 & B   \\\\\n",
       "\t 4    & 4.80 & 4.27 & 4.15 & A   \\\\\n",
       "\t 5    & 8.43 & 7.71 & 7.67 & B   \\\\\n",
       "\t 6    & 7.49 & 7.12 & 7.05 & A   \\\\\n",
       "\\end{tabular}\n"
      ],
      "text/markdown": [
       "\n",
       "ID | Before | After4weeks | After8weeks | Margarine | \n",
       "|---|---|---|---|---|---|\n",
       "| 1    | 6.42 | 5.83 | 5.75 | B    | \n",
       "| 2    | 6.76 | 6.20 | 6.13 | A    | \n",
       "| 3    | 6.56 | 5.83 | 5.71 | B    | \n",
       "| 4    | 4.80 | 4.27 | 4.15 | A    | \n",
       "| 5    | 8.43 | 7.71 | 7.67 | B    | \n",
       "| 6    | 7.49 | 7.12 | 7.05 | A    | \n",
       "\n",
       "\n"
      ],
      "text/plain": [
       "  ID Before After4weeks After8weeks Margarine\n",
       "1 1  6.42   5.83        5.75        B        \n",
       "2 2  6.76   6.20        6.13        A        \n",
       "3 3  6.56   5.83        5.71        B        \n",
       "4 4  4.80   4.27        4.15        A        \n",
       "5 5  8.43   7.71        7.67        B        \n",
       "6 6  7.49   7.12        7.05        A        "
      ]
     },
     "metadata": {},
     "output_type": "display_data"
    },
    {
     "name": "stdout",
     "output_type": "stream",
     "text": [
      "[1] \"Para la margarina tipo A\"\n"
     ]
    },
    {
     "data": {
      "text/plain": [
       "\n",
       "\tPaired t-test\n",
       "\n",
       "data:  chl$Before[chl$Margarine == \"A\"] and chl$After4weeks[chl$Margarine == \"A\"]\n",
       "t = 11.098, df = 8, p-value = 3.88e-06\n",
       "alternative hypothesis: true difference in means is not equal to 0\n",
       "95 percent confidence interval:\n",
       " 0.3846643 0.5864468\n",
       "sample estimates:\n",
       "mean of the differences \n",
       "              0.4855556 \n"
      ]
     },
     "metadata": {},
     "output_type": "display_data"
    },
    {
     "name": "stdout",
     "output_type": "stream",
     "text": [
      "[1] \"Para la margarina tipo B\"\n"
     ]
    },
    {
     "data": {
      "text/plain": [
       "\n",
       "\tPaired t-test\n",
       "\n",
       "data:  chl$Before[chl$Margarine == \"B\"] and chl$After4weeks[chl$Margarine == \"B\"]\n",
       "t = 13.857, df = 8, p-value = 7.112e-07\n",
       "alternative hypothesis: true difference in means is not equal to 0\n",
       "95 percent confidence interval:\n",
       " 0.5390531 0.7542802\n",
       "sample estimates:\n",
       "mean of the differences \n",
       "              0.6466667 \n"
      ]
     },
     "metadata": {},
     "output_type": "display_data"
    }
   ],
   "source": [
    "chl<-read.csv(\"tests/stcp-dataset-cholesterol_des.csv\")\n",
    "head(chl)\n",
    "\n",
    "print(\"Para la margarina tipo A\")\n",
    "t.test(chl$Before[chl$Margarine==\"A\"],chl$After4weeks[chl$Margarine==\"A\"],paired=TRUE)\n",
    "print(\"Para la margarina tipo B\")\n",
    "t.test(chl$Before[chl$Margarine==\"B\"],chl$After4weeks[chl$Margarine==\"B\"],paired=TRUE)"
   ]
  },
  {
   "cell_type": "markdown",
   "metadata": {},
   "source": [
    "En ambos casos el p-valor es bastante bajo, así que parece que los sujetos realmente bajaron su nivel de colesterol, muy posiblemente a causa de la margarina."
   ]
  },
  {
   "cell_type": "markdown",
   "metadata": {},
   "source": [
    "## Wilcoxon-Mann-Whitney test\n",
    "\n",
    "El U-test Mann-Whitney es usado para **comparar si dos variables independientes vienen de la misma distribución**. Funciona bajo las siguientes suposiciones:\n",
    "* Todas las observaciones de ambos grupos son independientes entre sí,\n",
    "* Las respuestas son ordinales (es decir, se puede decir al menos, de dos observaciones, caul es la mayor)\n",
    "* Bajo la hipótesis nula $H_0$, la probabilidad de que una observación de la población X supere una observación de la segunda población Y es igual a la probabilidad de que una observación de Y exceda una observación de X. \n",
    "* La hipótesis alternativa $H_1$ es la probabilidad de que una observación de la población X que excede una observación de la segunda población Y sea diferente de la probabilidad de que una observación de Y exceda una observación de X. La alternativa también puede establecerse en términos de una sola prueba a los lados, por ejemplo: P (X> Y)> P (Y> X).\n",
    "\n",
    "Las hipótesis son:\n",
    "\\\\[\n",
    "\\begin{split}\n",
    "H_0 : P(X > Y) = P(Y > X) \\\\\n",
    "H_1 :P(X > Y) \\ne P(Y > X)\n",
    "\\end{split}\n",
    "\\\\]\n"
   ]
  },
  {
   "cell_type": "markdown",
   "metadata": {},
   "source": [
    "### Funciones en R\n",
    "\n",
    "Esto puede ser calculado en R con la función $wilcox.test$"
   ]
  },
  {
   "cell_type": "code",
   "execution_count": 9,
   "metadata": {},
   "outputs": [
    {
     "data": {
      "text/html": [
       "<ol class=list-inline>\n",
       "\t<li>21</li>\n",
       "\t<li>21</li>\n",
       "\t<li>22.8</li>\n",
       "\t<li>21.4</li>\n",
       "\t<li>18.7</li>\n",
       "\t<li>18.1</li>\n",
       "\t<li>14.3</li>\n",
       "\t<li>24.4</li>\n",
       "\t<li>22.8</li>\n",
       "\t<li>19.2</li>\n",
       "\t<li>17.8</li>\n",
       "\t<li>16.4</li>\n",
       "\t<li>17.3</li>\n",
       "\t<li>15.2</li>\n",
       "\t<li>10.4</li>\n",
       "\t<li>10.4</li>\n",
       "\t<li>14.7</li>\n",
       "\t<li>32.4</li>\n",
       "\t<li>30.4</li>\n",
       "\t<li>33.9</li>\n",
       "\t<li>21.5</li>\n",
       "\t<li>15.5</li>\n",
       "\t<li>15.2</li>\n",
       "\t<li>13.3</li>\n",
       "\t<li>19.2</li>\n",
       "\t<li>27.3</li>\n",
       "\t<li>26</li>\n",
       "\t<li>30.4</li>\n",
       "\t<li>15.8</li>\n",
       "\t<li>19.7</li>\n",
       "\t<li>15</li>\n",
       "\t<li>21.4</li>\n",
       "</ol>\n"
      ],
      "text/latex": [
       "\\begin{enumerate*}\n",
       "\\item 21\n",
       "\\item 21\n",
       "\\item 22.8\n",
       "\\item 21.4\n",
       "\\item 18.7\n",
       "\\item 18.1\n",
       "\\item 14.3\n",
       "\\item 24.4\n",
       "\\item 22.8\n",
       "\\item 19.2\n",
       "\\item 17.8\n",
       "\\item 16.4\n",
       "\\item 17.3\n",
       "\\item 15.2\n",
       "\\item 10.4\n",
       "\\item 10.4\n",
       "\\item 14.7\n",
       "\\item 32.4\n",
       "\\item 30.4\n",
       "\\item 33.9\n",
       "\\item 21.5\n",
       "\\item 15.5\n",
       "\\item 15.2\n",
       "\\item 13.3\n",
       "\\item 19.2\n",
       "\\item 27.3\n",
       "\\item 26\n",
       "\\item 30.4\n",
       "\\item 15.8\n",
       "\\item 19.7\n",
       "\\item 15\n",
       "\\item 21.4\n",
       "\\end{enumerate*}\n"
      ],
      "text/markdown": [
       "1. 21\n",
       "2. 21\n",
       "3. 22.8\n",
       "4. 21.4\n",
       "5. 18.7\n",
       "6. 18.1\n",
       "7. 14.3\n",
       "8. 24.4\n",
       "9. 22.8\n",
       "10. 19.2\n",
       "11. 17.8\n",
       "12. 16.4\n",
       "13. 17.3\n",
       "14. 15.2\n",
       "15. 10.4\n",
       "16. 10.4\n",
       "17. 14.7\n",
       "18. 32.4\n",
       "19. 30.4\n",
       "20. 33.9\n",
       "21. 21.5\n",
       "22. 15.5\n",
       "23. 15.2\n",
       "24. 13.3\n",
       "25. 19.2\n",
       "26. 27.3\n",
       "27. 26\n",
       "28. 30.4\n",
       "29. 15.8\n",
       "30. 19.7\n",
       "31. 15\n",
       "32. 21.4\n",
       "\n",
       "\n"
      ],
      "text/plain": [
       " [1] 21.0 21.0 22.8 21.4 18.7 18.1 14.3 24.4 22.8 19.2 17.8 16.4 17.3 15.2 10.4\n",
       "[16] 10.4 14.7 32.4 30.4 33.9 21.5 15.5 15.2 13.3 19.2 27.3 26.0 30.4 15.8 19.7\n",
       "[31] 15.0 21.4"
      ]
     },
     "metadata": {},
     "output_type": "display_data"
    }
   ],
   "source": [
    "mtcars$mpg"
   ]
  },
  {
   "cell_type": "code",
   "execution_count": 10,
   "metadata": {},
   "outputs": [
    {
     "data": {
      "text/html": [
       "<ol class=list-inline>\n",
       "\t<li>1</li>\n",
       "\t<li>1</li>\n",
       "\t<li>1</li>\n",
       "\t<li>0</li>\n",
       "\t<li>0</li>\n",
       "\t<li>0</li>\n",
       "\t<li>0</li>\n",
       "\t<li>0</li>\n",
       "\t<li>0</li>\n",
       "\t<li>0</li>\n",
       "\t<li>0</li>\n",
       "\t<li>0</li>\n",
       "\t<li>0</li>\n",
       "\t<li>0</li>\n",
       "\t<li>0</li>\n",
       "\t<li>0</li>\n",
       "\t<li>0</li>\n",
       "\t<li>1</li>\n",
       "\t<li>1</li>\n",
       "\t<li>1</li>\n",
       "\t<li>0</li>\n",
       "\t<li>0</li>\n",
       "\t<li>0</li>\n",
       "\t<li>0</li>\n",
       "\t<li>0</li>\n",
       "\t<li>1</li>\n",
       "\t<li>1</li>\n",
       "\t<li>1</li>\n",
       "\t<li>1</li>\n",
       "\t<li>1</li>\n",
       "\t<li>1</li>\n",
       "\t<li>1</li>\n",
       "</ol>\n"
      ],
      "text/latex": [
       "\\begin{enumerate*}\n",
       "\\item 1\n",
       "\\item 1\n",
       "\\item 1\n",
       "\\item 0\n",
       "\\item 0\n",
       "\\item 0\n",
       "\\item 0\n",
       "\\item 0\n",
       "\\item 0\n",
       "\\item 0\n",
       "\\item 0\n",
       "\\item 0\n",
       "\\item 0\n",
       "\\item 0\n",
       "\\item 0\n",
       "\\item 0\n",
       "\\item 0\n",
       "\\item 1\n",
       "\\item 1\n",
       "\\item 1\n",
       "\\item 0\n",
       "\\item 0\n",
       "\\item 0\n",
       "\\item 0\n",
       "\\item 0\n",
       "\\item 1\n",
       "\\item 1\n",
       "\\item 1\n",
       "\\item 1\n",
       "\\item 1\n",
       "\\item 1\n",
       "\\item 1\n",
       "\\end{enumerate*}\n"
      ],
      "text/markdown": [
       "1. 1\n",
       "2. 1\n",
       "3. 1\n",
       "4. 0\n",
       "5. 0\n",
       "6. 0\n",
       "7. 0\n",
       "8. 0\n",
       "9. 0\n",
       "10. 0\n",
       "11. 0\n",
       "12. 0\n",
       "13. 0\n",
       "14. 0\n",
       "15. 0\n",
       "16. 0\n",
       "17. 0\n",
       "18. 1\n",
       "19. 1\n",
       "20. 1\n",
       "21. 0\n",
       "22. 0\n",
       "23. 0\n",
       "24. 0\n",
       "25. 0\n",
       "26. 1\n",
       "27. 1\n",
       "28. 1\n",
       "29. 1\n",
       "30. 1\n",
       "31. 1\n",
       "32. 1\n",
       "\n",
       "\n"
      ],
      "text/plain": [
       " [1] 1 1 1 0 0 0 0 0 0 0 0 0 0 0 0 0 0 1 1 1 0 0 0 0 0 1 1 1 1 1 1 1"
      ]
     },
     "metadata": {},
     "output_type": "display_data"
    }
   ],
   "source": [
    "mtcars$am "
   ]
  },
  {
   "cell_type": "code",
   "execution_count": 11,
   "metadata": {},
   "outputs": [
    {
     "name": "stderr",
     "output_type": "stream",
     "text": [
      "Warning message in wilcox.test.default(x = c(21.4, 18.7, 18.1, 14.3, 24.4, 22.8, :\n",
      "“cannot compute exact p-value with ties”"
     ]
    },
    {
     "data": {
      "text/plain": [
       "\n",
       "\tWilcoxon rank sum test with continuity correction\n",
       "\n",
       "data:  mpg by am\n",
       "W = 42, p-value = 0.001871\n",
       "alternative hypothesis: true location shift is not equal to 0\n"
      ]
     },
     "metadata": {},
     "output_type": "display_data"
    }
   ],
   "source": [
    "wilcox.test(mpg ~ am, data=mtcars) "
   ]
  },
  {
   "cell_type": "markdown",
   "metadata": {},
   "source": [
    "Podemos asumir que el consumo de gasolina de un coche (mtcars\\$mpg, miles per gallon), es independiente de si el coche es o no automático (mtcars\\$am) porque el valor tan bajo del p-valor nos obliga a rechazar la hipótesis nula."
   ]
  },
  {
   "cell_type": "markdown",
   "metadata": {},
   "source": [
    "## Test de varianza Fisher\n",
    "\n",
    "El test F es usado cuando se tienen **dos** grupos de datos procedentes de una distribución **normal** y se quiere saber si la **varianza** de ambos grupos es la misma. Esto significa que las variables son homocedasticas. La hipótesis con la que trabaja este test es :\n",
    "\\\\[H_0 : \\sigma(X) = \\sigma(Y) \\\\]\n",
    "\\\\[H_1 : \\sigma(X) \\ne \\sigma(Y) \\\\]\n",
    "\n",
    "El test estadítico se basa en el cociente de dos varianzas:\n",
    "\\\\[F=\\frac{Var[X]}{Var[Y]}\\\\]\n",
    "\n",
    "Esto sigue una distribución F con $n_x-1$ y $n_y-1$ grados de libertad."
   ]
  },
  {
   "cell_type": "code",
   "execution_count": 12,
   "metadata": {},
   "outputs": [
    {
     "data": {
      "text/plain": [
       "\n",
       "\tF test to compare two variances\n",
       "\n",
       "data:  X and Y\n",
       "F = 3.4123, num df = 9, denom df = 14, p-value = 0.03946\n",
       "alternative hypothesis: true ratio of variances is not equal to 1\n",
       "95 percent confidence interval:\n",
       "  1.063265 12.959890\n",
       "sample estimates:\n",
       "ratio of variances \n",
       "          3.412336 \n"
      ]
     },
     "metadata": {},
     "output_type": "display_data"
    }
   ],
   "source": [
    "nx<-10\n",
    "ny<-15\n",
    "X<-rnorm(nx,mean=7,sd=3)\n",
    "Y<-rnorm(ny,mean=8,sd=3)\n",
    "var.test(X,Y)"
   ]
  },
  {
   "cell_type": "markdown",
   "metadata": {},
   "source": [
    "### Test de Bartlett\n",
    "\n",
    "El test F es usado cuando se tienen **varios** grupos de datos procedentes de una distribución **cualquiera** y se quiere saber si la **varianza** de ambos grupos es la misma. Esto significa que las variables son homocedasticas. La hipótesis con la que trabaja este test es :\n",
    "\\\\[H_0 : \\sigma(X) = \\sigma(Y) \\\\]\n",
    "\\\\[H_1 : \\sigma(X) \\ne \\sigma(Y) \\\\]\n"
   ]
  },
  {
   "cell_type": "code",
   "execution_count": 13,
   "metadata": {},
   "outputs": [
    {
     "data": {
      "text/plain": [
       "\n",
       "\tBartlett test of homogeneity of variances\n",
       "\n",
       "data:  X by group\n",
       "Bartlett's K-squared = 16.973, df = 1, p-value = 3.791e-05\n"
      ]
     },
     "metadata": {},
     "output_type": "display_data"
    }
   ],
   "source": [
    "n<- 20\n",
    "df<-data.frame(X=runif(n,min=-1,max=2),group=\"A\")\n",
    "df<-rbind(df,data.frame(X=runif(n,min=0,max=1),group=\"B\"))\n",
    "\n",
    "\n",
    "bartlett.test(X~group,data=df)"
   ]
  },
  {
   "cell_type": "markdown",
   "metadata": {},
   "source": [
    "## Comparando normalidad (Shapiro)\n",
    "\n",
    "El Test de Shapiro–Wilk se usa para comprobar la normalidad de un conjunto de datos. \n",
    "Se plantea como hipótesis nula que una muestra X proviene de una población normalmente distribuida. Se considera como unos de los tests más fiables.\n",
    "\n",
    "En R se ejecuta llamando a shapiro.test()"
   ]
  },
  {
   "cell_type": "code",
   "execution_count": 14,
   "metadata": {},
   "outputs": [
    {
     "data": {
      "text/plain": [
       "\n",
       "\tShapiro-Wilk normality test\n",
       "\n",
       "data:  rnorm(100, mean = 10, sd = 4)\n",
       "W = 0.97321, p-value = 0.03909\n"
      ]
     },
     "metadata": {},
     "output_type": "display_data"
    }
   ],
   "source": [
    "shapiro.test(rnorm(100,mean=10,sd=4))"
   ]
  },
  {
   "cell_type": "code",
   "execution_count": 15,
   "metadata": {},
   "outputs": [
    {
     "data": {
      "text/plain": [
       "\n",
       "\tShapiro-Wilk normality test\n",
       "\n",
       "data:  runif(100, min = -10, max = 10)\n",
       "W = 0.94841, p-value = 0.0006532\n"
      ]
     },
     "metadata": {},
     "output_type": "display_data"
    }
   ],
   "source": [
    "shapiro.test(runif(100,min = -10,max = 10))"
   ]
  },
  {
   "cell_type": "markdown",
   "metadata": {},
   "source": [
    "Si el p-valor es muy bajo deberíamos rechazar la hipótesis nula. Es decir, la distribución no es normal."
   ]
  },
  {
   "cell_type": "markdown",
   "metadata": {},
   "source": [
    "### Ejemplo: Peso de niños al nacer"
   ]
  },
  {
   "cell_type": "code",
   "execution_count": 16,
   "metadata": {},
   "outputs": [
    {
     "data": {
      "text/html": [
       "'Las muestras de peso para madres fumadoras parecen seguir una gaussiana. pvalor: 0.955512608511625'"
      ],
      "text/latex": [
       "'Las muestras de peso para madres fumadoras parecen seguir una gaussiana. pvalor: 0.955512608511625'"
      ],
      "text/markdown": [
       "'Las muestras de peso para madres fumadoras parecen seguir una gaussiana. pvalor: 0.955512608511625'"
      ],
      "text/plain": [
       "[1] \"Las muestras de peso para madres fumadoras parecen seguir una gaussiana. pvalor: 0.955512608511625\""
      ]
     },
     "metadata": {},
     "output_type": "display_data"
    },
    {
     "data": {
      "text/html": [
       "'Las muestras de peso para madres NO fumadoras parecen seguir una gaussiana. pvalor: 0.727691701451127'"
      ],
      "text/latex": [
       "'Las muestras de peso para madres NO fumadoras parecen seguir una gaussiana. pvalor: 0.727691701451127'"
      ],
      "text/markdown": [
       "'Las muestras de peso para madres NO fumadoras parecen seguir una gaussiana. pvalor: 0.727691701451127'"
      ],
      "text/plain": [
       "[1] \"Las muestras de peso para madres NO fumadoras parecen seguir una gaussiana. pvalor: 0.727691701451127\""
      ]
     },
     "metadata": {},
     "output_type": "display_data"
    },
    {
     "name": "stdout",
     "output_type": "stream",
     "text": [
      "[1] \"Podemos aplicar un t-welch's test\"\n"
     ]
    },
    {
     "data": {
      "text/plain": [
       "\n",
       "\tWelch Two Sample t-test\n",
       "\n",
       "data:  bwt$Birthweight[bwt$smoker == \"YES\"] and bwt$Birthweight[bwt$smoker == \"NO\"]\n",
       "t = -2.0735, df = 39.662, p-value = 0.04467\n",
       "alternative hypothesis: true difference in means is not equal to 0\n",
       "95 percent confidence interval:\n",
       " -1.60512583 -0.02032871\n",
       "sample estimates:\n",
       "mean of x mean of y \n",
       " 6.877273  7.690000 \n"
      ]
     },
     "metadata": {},
     "output_type": "display_data"
    },
    {
     "name": "stdout",
     "output_type": "stream",
     "text": [
      "[1] \"Parece que podría haber una diferencia estadística significativa en el peso del bebé si la madre fuma o no.\"\n"
     ]
    }
   ],
   "source": [
    "library(ggplot2)\n",
    "bwt<-read.csv(\"tests/birthweight_reduced.csv\")\n",
    "bwt$smoker<-factor(bwt$smoker,labels = c(\"NO\",\"YES\"))\n",
    "\n",
    "paste(\"Las muestras de peso para madres fumadoras parecen seguir una gaussiana. pvalor:\",\n",
    "          shapiro.test(bwt$Birthweight[bwt$smoker==\"YES\"])$p.value)\n",
    "paste(\"Las muestras de peso para madres NO fumadoras parecen seguir una gaussiana. pvalor:\",\n",
    "          shapiro.test(bwt$Birthweight[bwt$smoker==\"NO\"])$p.value)\n",
    "\n",
    "tw<-t.test(bwt$Birthweight[bwt$smoker==\"YES\"],bwt$Birthweight[bwt$smoker==\"NO\"])\n",
    "print(\"Podemos aplicar un t-welch's test\")\n",
    "tw\n",
    "print(\"Parece que podría haber una diferencia estadística significativa en el peso del bebé si la madre fuma o no.\")\n"
   ]
  },
  {
   "cell_type": "code",
   "execution_count": 17,
   "metadata": {},
   "outputs": [
    {
     "data": {
      "text/plain": [
       "\n",
       "Call:\n",
       "lm(formula = Birthweight ~ Gestation + motherage + mnocig + mheight + \n",
       "    fage, data = bwt)\n",
       "\n",
       "Residuals:\n",
       "    Min      1Q  Median      3Q     Max \n",
       "-1.4093 -0.5878 -0.1046  0.6506  1.6698 \n",
       "\n",
       "Coefficients:\n",
       "             Estimate Std. Error t value Pr(>|t|)    \n",
       "(Intercept) -15.25324    3.72568  -4.094 0.000229 ***\n",
       "Gestation     0.30082    0.05431   5.539 2.87e-06 ***\n",
       "motherage    -0.05218    0.04278  -1.220 0.230527    \n",
       "mnocig       -0.02572    0.01156  -2.225 0.032415 *  \n",
       "mheight       0.16033    0.05657   2.834 0.007482 ** \n",
       "fage          0.06844    0.03504   1.953 0.058587 .  \n",
       "---\n",
       "Signif. codes:  0 ‘***’ 0.001 ‘**’ 0.01 ‘*’ 0.05 ‘.’ 0.1 ‘ ’ 1\n",
       "\n",
       "Residual standard error: 0.8583 on 36 degrees of freedom\n",
       "Multiple R-squared:  0.6342,\tAdjusted R-squared:  0.5834 \n",
       "F-statistic: 12.48 on 5 and 36 DF,  p-value: 4.619e-07\n"
      ]
     },
     "metadata": {},
     "output_type": "display_data"
    }
   ],
   "source": [
    "\n",
    "bwt<-read.csv(\"tests/birthweight_reduced.csv\")\n",
    "model<-lm(data=bwt, formula = Birthweight ~ Gestation+motherage+mnocig+mheight+fage)\n",
    "summary(model)"
   ]
  },
  {
   "cell_type": "markdown",
   "metadata": {},
   "source": [
    "# Comparando distintos grupos de datos\n",
    "\n",
    "## ANOVA 1 variable\n",
    "\n",
    "Usamos ANOVA para comparar las medias de tres o más grupos de datos. Es decir, compara una variable dependiente (los datos de entrada) con una variable independiente  que tiene tres o más niveles (uno por cada grupo). Cada nivel identifica cada uno de los grupos de datos. La hipótesis nula afirma qeu todos los grupos tienen la misma media:\n",
    "\\\\[\n",
    "\\begin{split}\n",
    "H_0 : \\mu_1 = \\mu_2 = ... = \\mu_k \\\\\n",
    "H_1 : \\text{at leas one pair }\\mu_j\\ne \\mu_i \n",
    "\\end{split}\n",
    "\\\\]\n",
    "Estas hipótesis examinan si las muestras siguen la siguiente regresión lineal: $y_{ij}=\\mu_j+\\varepsilon_{ij}$, donde:\n",
    "* $y_{ij}$ es la variable dependiente, muestra i-ésima del grupo j.\n",
    "* $\\mu_j$ es la media real de grupo j, de la población total (desconocida pero estimable)\n",
    "* $\\varepsilon_{ij}$ son los errores resultantes del modelo\n",
    "* $\\bar{y}_j$ es la media muestral del grupo j\n",
    "* $k$ es el número de grupos\n",
    "* $n_j$ es el número de muestras del grupo j\n",
    "* $n=\\sum_{j=1}^{k}n_j$ es el número total de muestras\n",
    "\n",
    "El test-F omnibus test en anova de una variable es:\n",
    "\\\\[\n",
    "F=\\frac{\\sum_{j=1}^{k} n_j \\left ( \\bar{y_j}-\\bar{y} \\right )^2 / \\left ( k-1 \\right ) }{\\sum_{j=1}^{k} \\sum_{i=1}^{n_j} \\left ( y_{ij}-\\bar{y_j} \\right )^2 / \\left ( n-k \\right ) }=\\frac{\\text{Suma cuadrádica de residuos en cada grupo}}{\\text{Suma cuadrádica de residuos dentro de un grupo}}\n",
    "\\\\]\n",
    "\n",
    "\n",
    "\\\\[\n",
    "F=\\frac{\\sum_j^k n_j \\left ( \\bar{y_j}-\\bar{y} \\right )^2 / \\left ( k-1 \\right ) }{\\sum_j^{k} \\sum_i^n_j \\left ( y_{ij}-\\bar{y_j} \\right )^2 / \\left ( n-k \\right ) }=\\frac{\\text{Suma cuadrádica de residuos en cada grupo}}{\\text{Suma cuadrádica de residuos dentro de un grupo}}\n",
    "\\\\]\n",
    "\n",
    "ANOVA produce un test estadístico F, la relación de la varianza calculada entre los medios a la varianza dentro de las muestras. * Si los medios del grupo provienen de poblaciones con los mismos valores medios, la varianza entre los medios del grupo debe ser menor que la varianza de las muestras *, siguiendo el teorema del límite central. Por lo tanto, una relación más alta implica que las muestras se tomaron de poblaciones con diferentes valores medios.\n",
    "\n",
    "Cuando solo hay dos medios para comparar la prueba t de Student (se debe usar la prueba t de Student), la prueba t y la prueba F son equivalentes; la relación entre ANOVA y t viene dada por $F = t^2$.\n",
    "\n",
    "\n",
    "\n",
    "Suposiciones de ANOVA:\n",
    "* La variable dependiente está distribuida sigue una distribución normal en cada grupo.\n",
    "* Hay homogeneidad de varianzas.\n",
    "* Las observaciones son independientes.\n"
   ]
  },
  {
   "cell_type": "markdown",
   "metadata": {},
   "source": [
    "### Funciones en R"
   ]
  },
  {
   "cell_type": "code",
   "execution_count": 18,
   "metadata": {},
   "outputs": [
    {
     "name": "stdout",
     "output_type": "stream",
     "text": [
      "[1] \"El pvalor es 0.00907240548036725\"\n"
     ]
    }
   ],
   "source": [
    "set.seed(123)\n",
    "n1<-40; n2<-50; n3<-70\n",
    "m1<-18; m2<-15; m3<-15\n",
    "sd<-7\n",
    "\n",
    "a1<-rnorm(n1,mean=m1,sd=sd)\n",
    "a2<-rnorm(n2,mean=m2,sd=sd)\n",
    "a3<-rnorm(n3,mean=m3,sd=sd)\n",
    "\n",
    "ma1<-mean(a1)\n",
    "ma2<-mean(a2)\n",
    "ma3<-mean(a3)\n",
    "ma<-mean(c(a1,a2,a3))\n",
    "masq_between_group<-n1*(ma1-ma)^2+n2*(ma2-ma)^2+n3*(ma3-ma)^2\n",
    "df_between_group<-3-1\n",
    "mean_square_value_between_group<-masq_between_group/df_between_group\n",
    "\n",
    "masq_within_group<-sum((a1-ma1)^2)+sum((a2-ma2)^2)+sum((a3-ma3)^2)\n",
    "df_within_group<-n1-1+n2-1+n3-1\n",
    "mean_square_value_within_group<-masq_within_group/df_within_group\n",
    "\n",
    "F<-mean_square_value_between_group/mean_square_value_within_group\n",
    "\n",
    "pvalue<-1-pf(F,df_between_group,df_within_group)\n",
    "print(paste(\"El pvalor es\",pvalue))"
   ]
  },
  {
   "cell_type": "markdown",
   "metadata": {},
   "source": [
    "El p-valor es realmente bajo, por lo que podemos rechazar la hipótesis nula. Esto significa que no todos los grupos tienen la misma media. Se puede calcular con la función *aov*."
   ]
  },
  {
   "cell_type": "code",
   "execution_count": 19,
   "metadata": {},
   "outputs": [
    {
     "data": {
      "text/plain": [
       "             Df Sum Sq Mean Sq F value  Pr(>F)   \n",
       "cl            2    416  208.00   4.846 0.00907 **\n",
       "Residuals   157   6738   42.92                   \n",
       "---\n",
       "Signif. codes:  0 ‘***’ 0.001 ‘**’ 0.01 ‘*’ 0.05 ‘.’ 0.1 ‘ ’ 1"
      ]
     },
     "metadata": {},
     "output_type": "display_data"
    }
   ],
   "source": [
    "df <- rbind(data.frame(value=a1,cl=\"1\"),data.frame(value=a2,cl=\"2\"),data.frame(value=a3,cl=\"3\"))\n",
    "summary(aov( value ~ cl, data=df))"
   ]
  },
  {
   "cell_type": "markdown",
   "metadata": {},
   "source": [
    "O equivalentemente con la función *oneway.test* con el parámetro *var.equal=T*"
   ]
  },
  {
   "cell_type": "code",
   "execution_count": 20,
   "metadata": {},
   "outputs": [
    {
     "data": {
      "text/plain": [
       "\n",
       "\tOne-way analysis of means\n",
       "\n",
       "data:  value and cl\n",
       "F = 4.8462, num df = 2, denom df = 157, p-value = 0.009072\n"
      ]
     },
     "metadata": {},
     "output_type": "display_data"
    }
   ],
   "source": [
    "oneway.test( value ~ cl, data=df,var.equal = T)"
   ]
  },
  {
   "cell_type": "markdown",
   "metadata": {},
   "source": [
    "#### Diferente varianza\n",
    "\n",
    "Cuando los grupos no presentan la misma varianza, en lugar del test F se puede utilizar el test de Welch. Esto lo hace R con la función *oneway.test*"
   ]
  },
  {
   "cell_type": "code",
   "execution_count": 21,
   "metadata": {},
   "outputs": [
    {
     "data": {
      "text/plain": [
       "\n",
       "\tOne-way analysis of means (not assuming equal variances)\n",
       "\n",
       "data:  value and cl\n",
       "F = 4.9434, num df = 2.00, denom df = 95.29, p-value = 0.009065\n"
      ]
     },
     "metadata": {},
     "output_type": "display_data"
    }
   ],
   "source": [
    "oneway.test( value ~ cl, data=df)"
   ]
  },
  {
   "cell_type": "markdown",
   "metadata": {},
   "source": [
    "### Diferentes distribuciones\n",
    "\n",
    "\n",
    "El test de Kruskal-Wallis se utiliza cuando en ANOVA no cumplimos la normalidad de los datos, cuando las muestras no vienen de una distribución uniforme.\n",
    "\n",
    "En R se utiliza la función *kruskal.test()*"
   ]
  },
  {
   "cell_type": "markdown",
   "metadata": {},
   "source": [
    "### Test de Tukey\n",
    "\n",
    "El test de Tukey también conocido como test HSD (honest significant difference), puede ser usado para encontrar las medias que son significativamente diferentes de cada uno de los grupos. El test de Tukey compara las medias de cada grupo respecto a las medias de cada otro grupo e indentifica cualquier diferencia entre las dos medias mayores que el error esperado. \n",
    "\n",
    "Es euivalente a un test de studnet pero con una pequeña diferenia. Cuando se hace el test Turkey se sume homogeneidad, así que la varianza es calculada con todas las muestras de todos los grupo. Cuando se hace un test de estudent la varianza de cada grupo es calculada independientemente lo cual produce un resultado menos robusto.\n"
   ]
  },
  {
   "cell_type": "code",
   "execution_count": 22,
   "metadata": {},
   "outputs": [
    {
     "data": {
      "text/plain": [
       "  Tukey multiple comparisons of means\n",
       "    95% family-wise confidence level\n",
       "\n",
       "Fit: aov(formula = value ~ cl, data = df)\n",
       "\n",
       "$cl\n",
       "         diff       lwr        upr     p adj\n",
       "2-1 -2.915559 -6.203899  0.3727813 0.0935302\n",
       "3-1 -4.021321 -7.093792 -0.9488498 0.0065190\n",
       "3-2 -1.105762 -3.976061  1.7645366 0.6338282\n"
      ]
     },
     "metadata": {},
     "output_type": "display_data"
    }
   ],
   "source": [
    "TukeyHSD(aov( value ~ cl, data=df))"
   ]
  },
  {
   "cell_type": "markdown",
   "metadata": {},
   "source": [
    "Esto significa que el grupo 3 y 2 tienen una alta probabilidad de tener la misma media, y que la media del grupo 1 es diferente."
   ]
  },
  {
   "cell_type": "code",
   "execution_count": 23,
   "metadata": {},
   "outputs": [
    {
     "data": {},
     "metadata": {},
     "output_type": "display_data"
    },
    {
     "data": {
      "image/png": "[encoded data removed]",
      "text/plain": [
       "plot without title"
      ]
     },
     "metadata": {},
     "output_type": "display_data"
    }
   ],
   "source": [
    "tky<-TukeyHSD(aov( value ~ cl, data=df))\n",
    "tky.result<-data.frame(tky$cl)\n",
    "cn <-sort(unique(df$cl))\n",
    "resm <- matrix(NA, length(cn),length(cn))\n",
    "rownames(resm) <- cn\n",
    "colnames(resm) <- cn\n",
    "resm[lower.tri(resm) ] <- round(tky.result$p.adj,4)\n",
    "resm[upper.tri(resm) ] <- t(resm)[upper.tri(resm)] \n",
    "diag(resm) <- 1\n",
    "library(ggplot2)\n",
    "library(reshape2)\n",
    "dfResm <- melt(resm)\n",
    "ggplot(dfResm, aes(x=Var1, y=Var2, fill=value))+\n",
    "  geom_tile(colour = \"black\")+\n",
    "  geom_text(aes(label=paste(round(value*100,0),\"%\")),size = 3) +\n",
    "  scale_fill_gradient(low = \"white\",high = \"steelblue\")+\n",
    "  ylab(\"Class\")+xlab(\"Class\")+theme_bw()+\n",
    "  theme(axis.text.x = element_text(angle = 90, hjust = 1),legend.position=\"none\")"
   ]
  },
  {
   "cell_type": "markdown",
   "metadata": {},
   "source": [
    "### Ejemplo: Efectividad de una dieta\n",
    "\n",
    "https://www.sheffield.ac.uk/polopoly_fs/1.570199!/file/stcp-Rdataset-Diet.csv\n",
    "\n",
    "Los datos contienen información de 76 personas que tomaron una de las tres dietas (1, 2 o 3). Además se aporta información extra como edad, género y altura. El objetivo del estudio es compara cual de las tres dietas era la mejor para perder peso."
   ]
  },
  {
   "cell_type": "code",
   "execution_count": 24,
   "metadata": {},
   "outputs": [
    {
     "data": {
      "text/html": [
       "<table>\n",
       "<thead><tr><th></th><th scope=col>gender</th><th scope=col>Age</th><th scope=col>Height</th><th scope=col>pre.weight</th><th scope=col>Diet</th><th scope=col>weight6weeks</th><th scope=col>loss</th></tr></thead>\n",
       "<tbody>\n",
       "\t<tr><th scope=row>25</th><td>NA   </td><td>41   </td><td>171  </td><td> 60  </td><td>2    </td><td> 60.0</td><td>0.0  </td></tr>\n",
       "\t<tr><th scope=row>26</th><td>NA   </td><td>32   </td><td>174  </td><td>103  </td><td>2    </td><td>103.0</td><td>0.0  </td></tr>\n",
       "\t<tr><th scope=row>1</th><td> 0   </td><td>22   </td><td>159  </td><td> 58  </td><td>1    </td><td> 54.2</td><td>3.8  </td></tr>\n",
       "\t<tr><th scope=row>2</th><td> 0   </td><td>46   </td><td>192  </td><td> 60  </td><td>1    </td><td> 54.0</td><td>6.0  </td></tr>\n",
       "\t<tr><th scope=row>3</th><td> 0   </td><td>55   </td><td>170  </td><td> 64  </td><td>1    </td><td> 63.3</td><td>0.7  </td></tr>\n",
       "\t<tr><th scope=row>4</th><td> 0   </td><td>33   </td><td>171  </td><td> 64  </td><td>1    </td><td> 61.1</td><td>2.9  </td></tr>\n",
       "</tbody>\n",
       "</table>\n"
      ],
      "text/latex": [
       "\\begin{tabular}{r|lllllll}\n",
       "  & gender & Age & Height & pre.weight & Diet & weight6weeks & loss\\\\\n",
       "\\hline\n",
       "\t25 & NA    & 41    & 171   &  60   & 2     &  60.0 & 0.0  \\\\\n",
       "\t26 & NA    & 32    & 174   & 103   & 2     & 103.0 & 0.0  \\\\\n",
       "\t1 &  0    & 22    & 159   &  58   & 1     &  54.2 & 3.8  \\\\\n",
       "\t2 &  0    & 46    & 192   &  60   & 1     &  54.0 & 6.0  \\\\\n",
       "\t3 &  0    & 55    & 170   &  64   & 1     &  63.3 & 0.7  \\\\\n",
       "\t4 &  0    & 33    & 171   &  64   & 1     &  61.1 & 2.9  \\\\\n",
       "\\end{tabular}\n"
      ],
      "text/markdown": [
       "\n",
       "| <!--/--> | gender | Age | Height | pre.weight | Diet | weight6weeks | loss | \n",
       "|---|---|---|---|---|---|\n",
       "| 25 | NA    | 41    | 171   |  60   | 2     |  60.0 | 0.0   | \n",
       "| 26 | NA    | 32    | 174   | 103   | 2     | 103.0 | 0.0   | \n",
       "| 1 |  0    | 22    | 159   |  58   | 1     |  54.2 | 3.8   | \n",
       "| 2 |  0    | 46    | 192   |  60   | 1     |  54.0 | 6.0   | \n",
       "| 3 |  0    | 55    | 170   |  64   | 1     |  63.3 | 0.7   | \n",
       "| 4 |  0    | 33    | 171   |  64   | 1     |  61.1 | 2.9   | \n",
       "\n",
       "\n"
      ],
      "text/plain": [
       "   gender Age Height pre.weight Diet weight6weeks loss\n",
       "25 NA     41  171     60        2     60.0        0.0 \n",
       "26 NA     32  174    103        2    103.0        0.0 \n",
       "1   0     22  159     58        1     54.2        3.8 \n",
       "2   0     46  192     60        1     54.0        6.0 \n",
       "3   0     55  170     64        1     63.3        0.7 \n",
       "4   0     33  171     64        1     61.1        2.9 "
      ]
     },
     "metadata": {},
     "output_type": "display_data"
    }
   ],
   "source": [
    "diet = read.csv(\"tests/stcp-Rdataset-Diet.csv\",row.names=1)\n",
    "diet$loss = diet$pre.weight - diet$weight6weeks\n",
    "diet$Diet<-factor(diet$Diet)\n",
    "head(diet)"
   ]
  },
  {
   "cell_type": "code",
   "execution_count": 25,
   "metadata": {},
   "outputs": [
    {
     "data": {},
     "metadata": {},
     "output_type": "display_data"
    },
    {
     "data": {
      "image/png": "[encoded data removed]",
      "text/plain": [
       "plot without title"
      ]
     },
     "metadata": {},
     "output_type": "display_data"
    }
   ],
   "source": [
    "library(ggplot2)\n",
    "ggplot(diet,aes(y=loss,x=Diet,color=Diet))+geom_boxplot()"
   ]
  },
  {
   "cell_type": "code",
   "execution_count": 26,
   "metadata": {},
   "outputs": [
    {
     "data": {
      "text/plain": [
       "            Df Sum Sq Mean Sq F value  Pr(>F)   \n",
       "Diet         2   71.1   35.55   6.197 0.00323 **\n",
       "Residuals   75  430.2    5.74                   \n",
       "---\n",
       "Signif. codes:  0 ‘***’ 0.001 ‘**’ 0.01 ‘*’ 0.05 ‘.’ 0.1 ‘ ’ 1"
      ]
     },
     "metadata": {},
     "output_type": "display_data"
    }
   ],
   "source": [
    "anovatest<-aov(loss~Diet,data=diet)\n",
    "summary(anovatest)"
   ]
  },
  {
   "cell_type": "markdown",
   "metadata": {},
   "source": [
    "Comprobamos que los datos siguen una normal y que las varianzas son iguales:"
   ]
  },
  {
   "cell_type": "code",
   "execution_count": 27,
   "metadata": {},
   "outputs": [
    {
     "name": "stdout",
     "output_type": "stream",
     "text": [
      "[1] \"Diet: 1 pvalue: 0.0774863354064023\"\n",
      "[1] \"Diet: 2 pvalue: 0.961174848331039\"\n",
      "[1] \"Diet: 3 pvalue: 0.372040025775311\"\n"
     ]
    },
    {
     "data": {
      "text/plain": [
       "\n",
       "\tBartlett test of homogeneity of variances\n",
       "\n",
       "data:  loss by Diet\n",
       "Bartlett's K-squared = 0.33745, df = 2, p-value = 0.8447\n"
      ]
     },
     "metadata": {},
     "output_type": "display_data"
    }
   ],
   "source": [
    "for (v in levels(diet$Diet)){\n",
    "    print(paste(\"Diet:\",v,\"pvalue:\",\n",
    "                shapiro.test(diet$loss[diet$Diet==v])$p.value))    \n",
    "}\n",
    "\n",
    "bartlett.test(loss~Diet,data=diet)"
   ]
  },
  {
   "cell_type": "code",
   "execution_count": 28,
   "metadata": {},
   "outputs": [
    {
     "data": {},
     "metadata": {},
     "output_type": "display_data"
    },
    {
     "data": {
      "image/png": "[encoded data removed]",
      "text/plain": [
       "plot without title"
      ]
     },
     "metadata": {},
     "output_type": "display_data"
    }
   ],
   "source": [
    "tky<-TukeyHSD(aov( value ~ cl, data=df))\n",
    "\n",
    "tky<-TukeyHSD(aov(loss~Diet,data=diet))\n",
    "tky.result<-data.frame(tky$Diet)\n",
    "cn <-sort(unique(diet$Diet))\n",
    "resm <- matrix(NA, length(cn),length(cn))\n",
    "rownames(resm) <- cn\n",
    "colnames(resm) <- cn\n",
    "resm[lower.tri(resm) ] <- round(tky.result$p.adj,4)\n",
    "resm[upper.tri(resm) ] <- t(resm)[upper.tri(resm)] \n",
    "diag(resm) <- 1\n",
    "library(ggplot2)\n",
    "library(reshape2)\n",
    "dfResm <- melt(resm)\n",
    "ggplot(dfResm, aes(x=Var1, y=Var2, fill=value))+\n",
    "  geom_tile(colour = \"black\")+\n",
    "  geom_text(aes(label=paste(round(value*100,0),\"%\")),size = 3) +\n",
    "  scale_fill_gradient(low = \"white\",high = \"steelblue\")+\n",
    "  ylab(\"Class\")+xlab(\"Class\")+theme_bw()+\n",
    "  theme(axis.text.x = element_text(angle = 90, hjust = 1),legend.position=\"none\")"
   ]
  },
  {
   "cell_type": "markdown",
   "metadata": {},
   "source": [
    "# ANOVA dos grupos\n",
    "\n",
    "El ANOVA de dos grupos es una extensión del ANOVA de un factor en el que hay dos variables (factores) que interactúan con los datos. En este caso, los datos se dan en forma de matriz donde cada celda tendrá las muestras correspondientes a los dos factores dependientes, uno dado por el número de fila y otro por el número de columna.\n",
    "\n",
    "La hipótesis nula afirma que todos los grupos tienen la misma media:\n",
    "\\\\[\n",
    "\\begin{split}\n",
    "H_0 &: \\beta_1 = \\beta_2 = \\beta_3 = 0\\\\\n",
    "H_1 &: \\text{al menos un par }\\beta_j\\ne \\beta_i\n",
    "\\end{split}\n",
    "\\\\]\n",
    "Estas hipótesis examinan si las muestras siguen la siguiente regresión lineal de diferentes grupos: $y_{i}=\\beta_0+\\beta_1x_{i1}+\\beta_2x_{i2}+\\beta_3x_{i1}x_{i2}+\\varepsilon_{i}=\\widehat{y_i}+\\varepsilon_{i}$, donde:\n",
    "* $y_{i}$ es la variable dependiente, muestra i-ésima.\n",
    "* $\\beta_0$ es un coeficiente desconocido que tiene que ser estimado, es independiente de todas las variables.\n",
    "* $\\beta_1$ es un coeficiente desconocido que tiene que ser estimado para la primera variable independiente $x_{i1}$.\n",
    "* $\\beta_2$ es un coeficiente desconocido que tiene que ser estimado para la segunda variable independiente $x_{i2}$.\n",
    "* $\\beta_3$ es un coeficiente desconocido que tiene que ser estimado, refleja la interdepencia entre $x_{i1}$ y $x_{i2}$.\n",
    "* $x_{i1}$ es la primera variable dependiente asociada con la i-ésima muestra.\n",
    "* $x_{i2}$ es la segunda variable dependiente asociada con la i-ésima muestra.\n",
    "* $\\varepsilon_{ij}$ son los errores resultantes del modelo.\n",
    "* $\\widehat{y_i}$ es la estimación de la i-esima variable.\n",
    "* $k$ es el número de grupos\n",
    "* $n$ es el número total de muestras\n",
    "\n",
    "\n",
    "El test estadítico F es:\n",
    "\\\\[\n",
    "F=\\frac{\\sum_{j=1}^{n} \\left ( \\widehat{y_j}-\\bar{y} \\right )^2 / k }{\\sum_{j=1}^{k} \\sum_{i=1}^{n_j} \\left ( y_{ij}-\\widehat{y_j} \\right )^2 / \\left ( n-k-1 \\right ) }\n",
    "\\\\]"
   ]
  },
  {
   "cell_type": "markdown",
   "metadata": {},
   "source": [
    "### Funciones en R"
   ]
  },
  {
   "cell_type": "code",
   "execution_count": 29,
   "metadata": {},
   "outputs": [
    {
     "data": {
      "text/plain": [
       "            Df Sum Sq Mean Sq F value   Pr(>F)    \n",
       "var1         1   18.3   18.32   5.047    0.027 *  \n",
       "var2         1  248.7  248.69  68.525 7.31e-13 ***\n",
       "var1:var2    1    0.0    0.00   0.001    0.972    \n",
       "Residuals   96  348.4    3.63                     \n",
       "---\n",
       "Signif. codes:  0 ‘***’ 0.001 ‘**’ 0.01 ‘*’ 0.05 ‘.’ 0.1 ‘ ’ 1"
      ]
     },
     "metadata": {},
     "output_type": "display_data"
    }
   ],
   "source": [
    "varId1<-c(1,2)\n",
    "varId2<-seq(0,5,length=4)\n",
    "var1<-c(rep(varId1,each=50))\n",
    "var2<-c(rep(varId2,length.out=length(var1)))\n",
    "\n",
    "y<-rnorm(length(var1),mean=0,sd=2)+var1+var2\n",
    "dfy<-data.frame(y,var1,var2)\n",
    "\n",
    "summary(aov( y ~ var1*var2, data=dfy))\n"
   ]
  },
  {
   "cell_type": "code",
   "execution_count": 30,
   "metadata": {},
   "outputs": [
    {
     "data": {
      "text/plain": [
       "            Df Sum Sq Mean Sq F value  Pr(>F)   \n",
       "Diet         2   60.5  30.264   5.629 0.00541 **\n",
       "gender       1    0.2   0.169   0.031 0.85991   \n",
       "Diet:gender  2   33.9  16.952   3.153 0.04884 * \n",
       "Residuals   70  376.3   5.376                   \n",
       "---\n",
       "Signif. codes:  0 ‘***’ 0.001 ‘**’ 0.01 ‘*’ 0.05 ‘.’ 0.1 ‘ ’ 1\n",
       "2 observations deleted due to missingness"
      ]
     },
     "metadata": {},
     "output_type": "display_data"
    }
   ],
   "source": [
    "summary(aov(loss~Diet*gender,data=diet))"
   ]
  },
  {
   "cell_type": "markdown",
   "metadata": {
    "collapsed": true
   },
   "source": [
    "# Tablas de contingencia\n",
    "\n",
    "Una tabla de contingencia es una tabla o matriz que muestar la frecuencia de ocurrencia de diferentes variables.\n",
    "\n",
    "||perro|gato|\n",
    "|-|-|-|\n",
    "|blanco|10|5|\n",
    "|negro|4|3|\n",
    "\n",
    "## Chi cuadrado\n",
    "\n",
    "El test chi cuadrado de Pearson puede ser usado como un test para validad la **independencia de datos categóricos**. Las hipótesis son:\n",
    "* La hipótesis nula $H_0$ es que las variables son independientes, no hay asociación estadística.\n",
    "* La hipótesis alternativa $H_1$ es que hay una relación estadístico o asociación entre variables.\n",
    "\n",
    "Este test hace las siguientes suposiciones:\n",
    "* Muestra obtenida por muestreo aleatorio.\n",
    "* La muestra es lo suficientemente grande.\n",
    "* El conteo en cada celda también tiene que ser estadísticamente significativo.\n",
    "* Las muestras se suponen independientes, los datos no pueden estar correlados.\n",
    "\n",
    "\n",
    "\n",
    "### Una variable\n",
    "\n",
    "En esta caso las observaciones consisten en valores de una única variable independiente (ej: un dado).\n",
    "El valor del test estadístico es:\n",
    "\n",
    "\\\\[\n",
    "\\chi^2 = \\sum_{i=1}^{n} \\frac{(O_i-E_i)^2}{E_i} = N \\sum_i^n \\frac{(O_i/N-p_i)^2}{p_i}\n",
    "\\\\]\n",
    "\n",
    "Donde:\n",
    "* $N$ es el número total de elementos observados.\n",
    "* $O_i$ es el número de elementos observados en la categoría *i*.\n",
    "* $E_i$ es el número de elementos esperados en la categoría *i*.\n",
    "* $p_i$ es la probabilidad esperada de encontrar un elemento en la categoría *i*. $$p_i=E_i/N$$\n",
    "* $n$ es el número de categoría en el estudio.\n",
    "\n",
    "Este estadístico es usado para calcular el p-valor comparando el valor del estadístico con la distribución chi-cuadrado donde el número de grados de libertad será $n-1$."
   ]
  },
  {
   "cell_type": "markdown",
   "metadata": {},
   "source": [
    "#### Funciones en R\n",
    "\n",
    "Por ejemplo, imaginemos que queremos comprobar si un dado de 4 lados es justo, es decir, si no está trucado. Tiramos 40 veces y apuntamos el número de veces. La tabla de frecuencias que aparece es:\n",
    "\n",
    "|**1**|**2**|**3**|**4**|\n",
    "|---|---|---|---|\n",
    "| 10| 7 | 9 | 14|\n"
   ]
  },
  {
   "cell_type": "code",
   "execution_count": 31,
   "metadata": {},
   "outputs": [
    {
     "name": "stdout",
     "output_type": "stream",
     "text": [
      "[1] \"El pvalor es 0.457489546878183\"\n"
     ]
    }
   ],
   "source": [
    "observed<-c(10,7,9,14)\n",
    "N<-sum(observed)\n",
    "expected<-N/length(observed)\n",
    "test<-sum((observed-expected)^2/expected)\n",
    "\n",
    "pvalue<-1-pchisq(test,length(observed)-1)\n",
    "print(paste(\"El pvalor es\",pvalue))"
   ]
  },
  {
   "cell_type": "markdown",
   "metadata": {},
   "source": [
    "El p-valor para aceptar la hipótesis nula es muy alto, así que podemos asumir $H_0$ y suponer que el dado probablemente sea justo. La función *chisq.test* de R puede ser usada para este propósito:"
   ]
  },
  {
   "cell_type": "code",
   "execution_count": 32,
   "metadata": {},
   "outputs": [
    {
     "data": {
      "text/plain": [
       "\n",
       "\tChi-squared test for given probabilities\n",
       "\n",
       "data:  observed\n",
       "X-squared = 2.6, df = 3, p-value = 0.4575\n"
      ]
     },
     "metadata": {},
     "output_type": "display_data"
    }
   ],
   "source": [
    "chisq.test(observed)"
   ]
  },
  {
   "cell_type": "markdown",
   "metadata": {},
   "source": [
    "### Dos variables\n",
    "\n",
    "En este caso, una observación consiste en los valores de dos variables. La hipótesis nula es que la ocurrencia de estos valores sea estadísticamente independiente. Cada observación está localizada en una celda de una matriz llamada tabla de contingencia. Si hay $r$ filas y $c$ columnas en la tabla, la frecuencia teórica por cada celda, bajo la hipótesis de independencia es:\n",
    "\n",
    "\\\\[\n",
    "    E_{i,j}=N p_i p_j\n",
    "\\\\]\n",
    "Donde:\n",
    "* p_i: Es la probabilidad de la fila $i$.\n",
    "* p_j: Es la probabilidad de la columna $j$.\n",
    "\n",
    "En este caso el valor del test estadístico es:\n",
    "\n",
    "\\\\[\n",
    "\\chi^2 = \\sum_i\\sum_j \\frac{(O_{i,j}-E_{i,j})^2}{E_{i,j}} \n",
    "\\\\]\n",
    "\n",
    "Y el número de grados de libertad es $$(r-1)(c-1)$$."
   ]
  },
  {
   "cell_type": "markdown",
   "metadata": {},
   "source": [
    "#### Funciones en R\n",
    "\n",
    "Imaginemos que tenemos tres grupos de personas, A, B y C y les preguntamos si les gustan más los gatos o los perros. Obtendríamos la siguietne tabla:\n",
    "\n",
    "| |**A**|**B**|**C**|\n",
    "|---|---|---|---|\n",
    "|cats | 100| 205 | 95  |\n",
    "|dogs | 203| 401 | 205 |\n"
   ]
  },
  {
   "cell_type": "code",
   "execution_count": 33,
   "metadata": {},
   "outputs": [
    {
     "data": {
      "text/plain": [
       "\n",
       "\tPearson's Chi-squared test\n",
       "\n",
       "data:  M\n",
       "X-squared = 0.42478, df = 2, p-value = 0.8087\n"
      ]
     },
     "metadata": {},
     "output_type": "display_data"
    }
   ],
   "source": [
    "M <- as.table(rbind(c(100, 205, 95), c(203, 401, 205)))\n",
    "dimnames(M) <- list(animal = c(\"cats\", \"dogs\"), group = c(\"A\",\"B\", \"C\"))\n",
    "chisq.test(M)"
   ]
  },
  {
   "cell_type": "markdown",
   "metadata": {},
   "source": [
    "El elevado p-valor de 0.81 indica que podemos aceptar $H_0$, lo que significa que no hay diferencias en los grupos de personas que le gustan los perros y los gatos.\n",
    "\n",
    "Si modificamos una celda del grupo **C** y perros, obtenenemos un resultado diferente, en este caso tenemos que rechazar la hipótesis nula $H_0$ y asumir que hay diferencias entre perros y gatos para el siguiene grupo:\n",
    "\n",
    "| |**A**|**B**|**C**|\n",
    "|---|---|---|---|\n",
    "|cats | 100| 205 | 95  |\n",
    "|dogs | 203| 401 | 275 |"
   ]
  },
  {
   "cell_type": "code",
   "execution_count": 34,
   "metadata": {},
   "outputs": [
    {
     "data": {
      "text/html": [
       "0.0217480353117031"
      ],
      "text/latex": [
       "0.0217480353117031"
      ],
      "text/markdown": [
       "0.0217480353117031"
      ],
      "text/plain": [
       "[1] 0.02174804"
      ]
     },
     "metadata": {},
     "output_type": "display_data"
    }
   ],
   "source": [
    "M <- as.table(rbind(c(100, 205, 95), c(203, 401, 275)))\n",
    "chisq.test(M)$p.value"
   ]
  },
  {
   "cell_type": "markdown",
   "metadata": {},
   "source": [
    "## Fisher\n",
    "\n",
    "El test exacto de Fisher siempre da el valor exacto del pvalor, a diferencia del test chi cuadrado el cual es solamente una aproximación, además funciona bien con muestras pequeñas. El test es difícil de calcular a mano, pero fácil de calcular en R con la función *fisher.test*.\n"
   ]
  },
  {
   "cell_type": "code",
   "execution_count": 35,
   "metadata": {},
   "outputs": [
    {
     "data": {
      "text/plain": [
       "\n",
       "\tFisher's Exact Test for Count Data\n",
       "\n",
       "data:  M\n",
       "p-value = 0.02023\n",
       "alternative hypothesis: two.sided\n"
      ]
     },
     "metadata": {},
     "output_type": "display_data"
    }
   ],
   "source": [
    "M <- as.table(rbind(c(100, 205, 95), c(203, 401, 275)))\n",
    "fisher.test(M)\n"
   ]
  },
  {
   "cell_type": "markdown",
   "metadata": {},
   "source": [
    "## Ejemplo: Dataset Titanic\n",
    "\n",
    "El Titanic se hundió en 1912 con la pérdida de la mayoría de sus pasajeros. Se pueden obtener detalles sobre 1309 pasajeros y tripulación a bordo del barco Titanic.\n",
    "Fuente: [www.statstutor.ac.uk](http://www.statstutor.ac.uk)\n",
    "\n",
    "Veamos si la nacionalidad del pasaje tiene que ver o no a la hora de saber si sobrevivieron o no:"
   ]
  },
  {
   "cell_type": "code",
   "execution_count": 36,
   "metadata": {},
   "outputs": [
    {
     "data": {
      "text/plain": [
       "          survived\n",
       "Residence  Died Survived\n",
       "  American  113      145\n",
       "  British   206       96\n",
       "  Other     490      259"
      ]
     },
     "metadata": {},
     "output_type": "display_data"
    }
   ],
   "source": [
    "tit<-read.csv(file = \"tests/stcp-dataset-titanic_des.csv\")\n",
    "tit$Residence<-factor(tit$Residence,labels = c(\"American\",\"British\",\"Other\"))\n",
    "tit$survived<-factor(tit$survived,labels = c(\"Died\",\"Survived\"))\n",
    "tblres<-table(tit[,c(\"Residence\",\"survived\")])\n",
    "tblres"
   ]
  },
  {
   "cell_type": "code",
   "execution_count": 37,
   "metadata": {},
   "outputs": [
    {
     "data": {
      "text/plain": [
       "\n",
       "\tPearson's Chi-squared test\n",
       "\n",
       "data:  tblres\n",
       "X-squared = 44.835, df = 2, p-value = 1.838e-10\n"
      ]
     },
     "metadata": {},
     "output_type": "display_data"
    },
    {
     "data": {
      "text/plain": [
       "\n",
       "\tFisher's Exact Test for Count Data\n",
       "\n",
       "data:  tblres\n",
       "p-value = 3.122e-10\n",
       "alternative hypothesis: two.sided\n"
      ]
     },
     "metadata": {},
     "output_type": "display_data"
    }
   ],
   "source": [
    "chisq.test(tblres)\n",
    "fisher.test(tblres)"
   ]
  },
  {
   "cell_type": "markdown",
   "metadata": {},
   "source": [
    "Ambos tests nos obligan a rechazar la hipótesis nula: La nacionalidad no influye con la tasa de supervivencia.\n",
    "\n",
    "Así pues tenemos que concluir que si que existe una diferencia significativa en la probabilidad de sobrevivir dependiendo de la nacionalidad."
   ]
  }
 ],
 "metadata": {
  "kernelspec": {
   "display_name": "R",
   "language": "R",
   "name": "ir"
  },
  "language_info": {
   "codemirror_mode": "r",
   "file_extension": ".r",
   "mimetype": "text/x-r-source",
   "name": "R",
   "pygments_lexer": "r",
   "version": "3.2.3"
  }
 },
 "nbformat": 4,
 "nbformat_minor": 1
}
