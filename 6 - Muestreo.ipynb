{
 "cells": [
  {
   "cell_type": "markdown",
   "metadata": {},
   "source": [
    "# Muestreo\n",
    "\n",
    "Muchas veces es imposible acceder a los datos completos de una población entera, por ser una población demasiado grande o simplemente porque no toda la población original es visible directamente.\n",
    "\n",
    "Es por ello que recurrimos al muestreo, tomamos una muestra *significativa* de la población original y a partir de ella calculamos los estadísticos necesarios. \n",
    "\n",
    "Por ejemplo si queremos calcular la media de altura de la población española podemos elegir al azar a varias personas, medir su altura y calcular la media. Podríamos asumir que esa es la media de la población. Pero, ¿cómo de real es esa media? \n",
    "* Si mi muestra al azar la hago seleccionando a miembros de varios equipos de baloncesto, la media seguramente me saldrá **sesgada**, su media será mayor de lo esperado.\n",
    "* Si la muestra la hago partiendo de un grupo pequeño cabe esperar que tenga una gran **varianza**, es decir, si repito el experimento con otro grupo de personas igual de reducido el valor será bastante diferente.\n",
    "\n"
   ]
  },
  {
   "cell_type": "markdown",
   "metadata": {},
   "source": [
    "## Sesgo\n",
    "\n",
    "El sesgo (en inglés bias) nos dice la diferencia entre el valor del estimador esperado y el estimador real.\n",
    "\n",
    "### Varianza como estimador sesgado\n",
    "\n",
    "Por ejemplo, la varianza de una variable muestreada es un estimador sesgado.\n",
    "Recordemos, la varianza se definía como:\n",
    "\\\\[ Var[x] =  \\frac{1}{N} \\sum _{i=1}^N \\left( x_i-\\bar{x} \\right)^2 \\\\]\n",
    "\n",
    "Comprobemos si esto es cierto, supongamos que tenemos una distribución uniforme con media 0 y varianza 4. Si tomamos una población de 5 elementos, ¿cual es la varianza que típicamente?. Podemos repetir este experimento 10.000 veces para comprobar su resultado:"
   ]
  },
  {
   "cell_type": "code",
   "execution_count": 1,
   "metadata": {},
   "outputs": [
    {
     "name": "stdout",
     "output_type": "stream",
     "text": [
      "[1] \"La varianza esperada es: 3.2016833124994\"\n"
     ]
    },
    {
     "data": {
      "image/png": "[encoded data removed]",
      "text/plain": [
       "Plot with title “Histogram of varianzaEstimada”"
      ]
     },
     "metadata": {},
     "output_type": "display_data"
    }
   ],
   "source": [
    "myVar<-function(X){\n",
    "    v<-0\n",
    "    m<-mean(X)\n",
    "    for (xi in X){\n",
    "        v<-v+(xi-m)^2\n",
    "    }\n",
    "    v/length(X)\n",
    "}\n",
    "\n",
    "n<-5\n",
    "\n",
    "varianzaEstimada<-c()\n",
    "for (i in 1:10000){\n",
    "    r<-rnorm(n,mean=0,sd=2)\n",
    "    varianzaEstimada<-c(varianzaEstimada,myVar(r))\n",
    "}\n",
    "hist(varianzaEstimada,15)\n",
    "print(paste(\"La varianza esperada es:\",mean(varianzaEstimada)))"
   ]
  },
  {
   "cell_type": "markdown",
   "metadata": {},
   "source": [
    "Como vemos obtenemos una varianza cercana a 3.176, cuando sabemos que la varianza es realmente 4.\n",
    "Lo que ocurre es que el estimador de la varianza está sesgado, hay que modificar su fórmula multiplicándolo por $\\frac{N}{N-1}$ donde $N$ es el número de elementos de la población muestreada. En nuestro caso N=5, así que:\n",
    "\\\\[\n",
    "\\frac{5}{5-1}·3.176=3.97\n",
    "\\\\]\n",
    "Lo cual da un valor mucho más próximo al esperado.\n",
    "Así pues hay que reescribir la fórmula de la varianza de la siguiente forma:\n",
    "\\\\[ Var[x] =  \\frac{1}{N-1} \\sum _{i=1}^N \\left( x_i-\\bar{x} \\right)^2 \\\\]\n",
    "\n",
    "Esta es la fórmula que utiliza R para la función *var()*\n"
   ]
  },
  {
   "cell_type": "markdown",
   "metadata": {},
   "source": [
    "### Sesgo de selección\n",
    "\n",
    "Es us sesgo en el que hay un error en la selección de elementos de la población. En nuestro ejemplo anterior el sesgo de selección sería ir a coger jugadores de baloncesto esperando que sean una muestra representativa de la altura española.\n",
    "\n",
    "Es un error sistemático que no depende del azar, es necesario identificarlo y tratar de neutraliza su efecto."
   ]
  },
  {
   "cell_type": "markdown",
   "metadata": {},
   "source": [
    "#### Sesgo del superviviente\n",
    "\n",
    "Es un tipo de sesgo de selección. Muchas veces los datos que disponemos no representan una parte fiable de la población que queremos medir, sino una parte de aquellos que han superado ciertos filtros.\n",
    "\n",
    "![Imagen no cargada. Edita y borra la @ ](https://imgs.xkcd.com/comics/survivorship_bias.png @  )"
   ]
  },
  {
   "cell_type": "markdown",
   "metadata": {},
   "source": [
    "Durante la segunda guerra mundial los aliados se enfrentaron con el problema de que muchos de sus aviones caian en combate. \n",
    "Una solución era poner más blindaje en ciertas partes estratégicas del avión, en las que sufrían más daño. Hicieron un estudio estadístico de las zonas más dañadas por el fuego nazi. Principalmente había más agujeros de bala en la parte central y en los extremos de las alas tal y como muestra la siguiente imagen de la [Wikipedia](https://en.wikipedia.org/wiki/Survivorship_bias#/media/File:Survivorship-bias.png).\n",
    "![](https://upload.wikimedia.org/wikipedia/commons/9/98/Survivorship-bias.png)\n",
    "\n",
    "Entre el ejercito empezó una corriente que sugería añadir más blindaje a las zonas donde había más daños. ¿Sería eso una buena idea?\n",
    "\n",
    "El estadista Abraham Wald recomendó exactamente lo contrario, podríamos asumir que el fuego dañaba por igual todas las partes del avión, pero los aviones que veiamos eran aquellos que a pesar de ser alcanzados podían haber continuado volando. \n",
    "\n",
    "Así pues había que aumentar el blindaje en las zonas donde no había marcas de disparos porque esos son los aviones que no habían sobrevido al viaje."
   ]
  },
  {
   "cell_type": "markdown",
   "metadata": {},
   "source": [
    "## Sesgo por omisión de variable\n",
    "\n",
    "Este sesgo ocurre cuando creamos un modelo incorrecto porque no hemos tenido en cuenta variables importantes.\n",
    "\n",
    "#### Ejemplo: Brecha de género\n",
    "\n",
    "Un estudio llevado a cabo en 2007 en EEUU por el departamento de trabajo calculó que la brecha de género, el salario, entre hombres y mujeres era de un 20.4%. Es decir, las mujeres en media ganan un 20.4% menos que los hombres. Pero si tenemos en cuenta variables ocultas como: interrupción de la carrera profesional, edad, número de hijos, estudios. En ese caso la brecha de género podría estar entre el 4.8% y el 7.1%.\n",
    "\n",
    "Un detallado análisis de este estudio se encuentra público [aquí](https://www.shrm.org/hr-today/public-policy/hr-public-policy-issues/Documents/Gender%20Wage%20Gap%20Final%20Report.pdf)"
   ]
  },
  {
   "cell_type": "markdown",
   "metadata": {},
   "source": [
    "### Paradoja de Simpson\n",
    "\n",
    "La paradoja de Simpson o el efecto Yule-Simpson, es un fenómeno en el cual una tendencia aparece en grupos diferentes pero cambia completamente cuando esos grupos son combinados."
   ]
  },
  {
   "cell_type": "code",
   "execution_count": 2,
   "metadata": {},
   "outputs": [
    {
     "data": {},
     "metadata": {},
     "output_type": "display_data"
    },
    {
     "name": "stdout",
     "output_type": "stream",
     "text": [
      "[1] \"La correlación de x,y, sin tener en cuenta los grupos es: -0.790209749998602\"\n",
      "[1] \"La correlación de x,y, para el grupo A: 1\"\n",
      "[1] \"La correlación de x,y, para el grupo B: 1\"\n"
     ]
    },
    {
     "data": {
      "image/png": "[encoded data removed]",
      "text/plain": [
       "plot without title"
      ]
     },
     "metadata": {},
     "output_type": "display_data"
    }
   ],
   "source": [
    "x1<-0:4\n",
    "y1<-2*x1+4\n",
    "\n",
    "x2<-10:14\n",
    "y2<-2*x2-30\n",
    "\n",
    "df<-data.frame(x=c(x1,x2),y=c(y1,y2),group=rep(c(\"A\",\"B\"),each=length(x1)))\n",
    "library(ggplot2)\n",
    "ggplot(data=df,aes(x,y))+geom_point(aes(color=group),size=5)+\n",
    " geom_smooth(method = 'lm')+\n",
    " geom_smooth(method = 'lm',aes(color=group))+\n",
    " theme_bw()\n",
    "\n",
    "print(paste(\"La correlación de x,y, sin tener en cuenta los grupos es:\",cor(df$x,df$y)))\n",
    "print(paste(\"La correlación de x,y, para el grupo A:\",cor(x1,y1)))\n",
    "print(paste(\"La correlación de x,y, para el grupo B:\",cor(x2,y2)))"
   ]
  },
  {
   "cell_type": "markdown",
   "metadata": {},
   "source": [
    "### Ejemplo: Relación entre precio y demanda\n",
    "\n",
    "Este ejemplo ha sido sacado de [statslife](https://www.statslife.org.uk/the-statistics-dictionary/2012-simpson-s-paradox-a-cautionary-tale-in-advanced-analytics)).\n",
    "La curva entre precio y demanda siempre debería ser una curva decreciente, a mayor precio menor demanda. Pero si no se eligen bien los datos que utilizamos para el análisis podrían salir resultados diferentes.\n",
    "\n",
    "Por ejemplo en la siguiente figura se puede ver un ejemplo de como a medida que el precio (en lorgaritmo) aumenta, también lo hace la demanda (en logaritmo). Se observa una ligera tendencia positiva.\n",
    "![](./muestreo/simpsons-paradox-del5.jpg)\n",
    "\n",
    "En cambio si observamos la distribución en el tiempo de la demanda y del precio, vemos como cuando el precio sube, la demanda baja. Pero además se observa que hay una tendencia a la baja generalizada tanto del precio como de la demanda.\n",
    "![](./muestreo/simpsons-paradox-del6.jpg)\n",
    "\n",
    "Este comportamiento de bajada generalizada sugiere que deberíamos dividir el análisis en diferentes grupos de semanas. El motivo es que al estar bajando la demanda por causas ajenas al precio nos obliga a tratar con periodos de tiempo donde la demanda solo dependa de nuestro precio y no de una tendencia generalizada que no podemos controlar con el precio.\n",
    "![](./muestreo/simpsons-paradox-del7.jpg)\n",
    "\n",
    "En este caso se ve como al separar los intervalos en semanas la pendiente cambia de signo. A mayor precio, menor demanda. La siguiente tabla muestra la pendiente y el coeficiente de determinación $R^2$:\n",
    "\n",
    "| Periodo | Pendiente | $R^2$ |\n",
    "| - | - | - |\n",
    "| Todas las semanas | 0.45 | <0.01 |\n",
    "| Semanas 1-75   | -3.4 | 0.24 |\n",
    "| Semanas 76-125 | -3.2 | 0.28 |\n",
    "| Semanas 126-156   | -2.7 | 0.23 |\n",
    "\n"
   ]
  },
  {
   "cell_type": "markdown",
   "metadata": {},
   "source": [
    "## Varianza \n",
    "\n",
    "La varianza de un estimador nos dice cuan de fiable, o cuanto error, nuestro estimador puede tener. \n",
    "\n",
    "Cuantas menos muestras tengamos, mayor varianza tandrá el estimador."
   ]
  },
  {
   "cell_type": "markdown",
   "metadata": {},
   "source": [
    "## Problema de los tanques alemanes"
   ]
  },
  {
   "cell_type": "markdown",
   "metadata": {},
   "source": [
    "### Objetivo\n",
    " \n",
    " * Mostrar cómo comparar diferentes estimadores: sesgo y varianza.\n",
    " * Cómo simular datos en R\n",
    " \n",
    "### Problema\n",
    "\n",
    "En la segunda guerra mundial los alemanes llegaron a conquistar una gran parte de Europa, para derrotarlos los Aliados tenían que conocer la fuerza de su oponente.\n",
    "\n",
    "\n",
    "#### ¿Cuantos tanques Panzer fabricaban los alemanes?\n",
    "\n",
    "\n",
    "![Panzer II](https://upload.wikimedia.org/wikipedia/commons/0/07/Bundesarchiv_Bild_101I-265-0003-18A%2C_Russland%2C_Panzer_II.jpg)\n",
    "\n",
    "Los Aliados se hacían esa pregunta y trataron de obtener respuesta utilizando dos métodos diferentes. \n",
    "* **métodos convecionales de inteligencia**: Mediante espionaje tratar de averiguar la capacidad productora.\n",
    "* **análisis estadístico**:  Analizando los números de serie de diferentes piezas de tanques destruidos en el campo de batalla.\n",
    "\n",
    "Tras finalizar la guerra se pudieron acceder a los registros alemanes y se vio que el análisis estadístico dio valores muy próximos a los reales:\n",
    "\n",
    "| Mes  | Estimación estadística| Estimación de espionaje | Registros alemanes |\n",
    "|-----|-----|-----|----|\n",
    "| June 1940 | 169 | 1,000 | 122 |\n",
    "| June 1941\t| 244 | 1,550 | 271 |\n",
    "| August 1942 |\t327\t| 1,550 | 342 |\n",
    "\n"
   ]
  },
  {
   "cell_type": "markdown",
   "metadata": {},
   "source": [
    "### ¿Cómo se estimó? \n",
    "\n",
    "Partiendo de las siguientes suposiciones:\n",
    "* Los alemanes ponen número de serie consecutivos a los tanques que fabrican.\n",
    "* El número de serie empieza en 1.\n",
    "* Tenemos los números de serie de diferentes tanques destruidos, los cuales son una muestra **aleatoria** de la población total de tanques.\n",
    "\n",
    "Consiste en estimar el **máximo** de una **distribución uniforme**.\n"
   ]
  },
  {
   "cell_type": "markdown",
   "metadata": {},
   "source": [
    "![title](muestreo/Uniform_Distribution.png)\n",
    "\\begin{equation*}\n",
    "pdf(x)=\\left\\{\\begin{matrix}\n",
    "\\frac{1}{b-a} & para\\: a \\leq x \\leq b \\\\ \n",
    "0 & para\\: x<a \\;,\\; x>b\n",
    "\\end{matrix}\\right. \\\\\n",
    "\\mu=\\frac{a+b}{2}\\;\\;\\;\\;\\sigma^2=\\frac{(b-a)^2}{12}\n",
    "\\end{equation*}"
   ]
  },
  {
   "cell_type": "markdown",
   "metadata": {},
   "source": [
    "Esta técnica que vamos a ver no solo se utilizó para el ejemplo que hemos visto de los tanques, también se puede utilizar en la actualidad para calcular cual es la producción de cualquier producto. Así por ejemplo estas técnicas se pueden utilizar para saber el **número de iPhones [vendidos](https://www.theguardian.com/technology/blog/2008/oct/08/iphone.apple)**."
   ]
  },
  {
   "cell_type": "markdown",
   "metadata": {},
   "source": [
    "### Ejemplo\n",
    "\n",
    "\n",
    "Por ejemplo, imaginemos que los alemanes fabricaron en total 5000 tanques, con números de serie del 1 al 5000. Tentremos a=1, y querremos estimar b cuyo valor real será 5000.\n",
    "\n"
   ]
  },
  {
   "cell_type": "code",
   "execution_count": 3,
   "metadata": {},
   "outputs": [
    {
     "name": "stdout",
     "output_type": "stream",
     "text": [
      "[1] \"Los números de serie de tanques capturados son:  1438,3941,2045,4413,4699\"\n"
     ]
    },
    {
     "data": {
      "image/png": "[encoded data removed]",
      "text/plain": [
       "plot without title"
      ]
     },
     "metadata": {},
     "output_type": "display_data"
    }
   ],
   "source": [
    "set.seed(123)\n",
    "totalPopulationSerialNo<-1:5000\n",
    "\n",
    "# Tamaño del gráfico en Jupyter\n",
    "options(repr.plot.width=4,repr.plot.height=3)\n",
    "\n",
    "#Vamos a dibujar la función de densidad de probabilidad \n",
    "a<-min(totalPopulationSerialNo)\n",
    "b<-max(totalPopulationSerialNo)\n",
    "pdf<-1/(b-a)\n",
    "\n",
    "plot(c(a,a,b,b), c(0,pdf,pdf,0),t=\"l\",xlim = c(0,b+1),ylim = c(0,0.0005),lwd=3,col=\"blue\",ylab=\"pdf(x)\",xlab=\"Num. serie\")\n",
    "\n",
    "\n",
    "# Capturamos 5 tanques\n",
    "capturedSerialNo<-sample(totalPopulationSerialNo,size = 5)\n",
    "\n",
    "points(capturedSerialNo,rep(pdf,length.out=length(capturedSerialNo)),col=\"black\",cex=1,pch=8)\n",
    "grid()\n",
    "\n",
    "print(paste(\"Los números de serie de tanques capturados son: \", paste(capturedSerialNo,collapse=\",\")))"
   ]
  },
  {
   "cell_type": "markdown",
   "metadata": {},
   "source": [
    "Los números de serie capturados consisten en un **muestreo aleatorio simple** de la población total de tanques.\n",
    "Nuestro objetivo es, sabiendo que se distribuyen siguiendo una función uniforme, estimar el máximo, que llamaremos **b**, suponiendo que **a=1**."
   ]
  },
  {
   "cell_type": "markdown",
   "metadata": {},
   "source": [
    "### Estimación utilizando la media\n"
   ]
  },
  {
   "cell_type": "markdown",
   "metadata": {},
   "source": [
    "En el caso de muestreo aleatoria simple, la **media** de la distribución original **coincide** con la de la muestra. Suponiendo que la media de la *población total* es $\\mu$ y que la media de nuestra distribución de *tanques capturados* es $\\bar{x}$, entonces.\n",
    "\\begin{equation*}\n",
    "\\mu=\\frac{a+b}{2}=\\frac{1}{N}\\sum_{i=1}^N{x_i}=\\bar{x}\n",
    "\\end{equation*}\n",
    "\n",
    "Desarollando llegamos a la fórmula:\n",
    "\n",
    "\\begin{equation*}\n",
    "\\bar{x}=\\frac{a+b}{2}\\\\\n",
    "2\\cdot\\bar{x}=a+b\\\\\n",
    "b=2\\cdot\\bar{x}-a \\\\\n",
    "\\end{equation*}\n"
   ]
  },
  {
   "cell_type": "code",
   "execution_count": 4,
   "metadata": {},
   "outputs": [
    {
     "name": "stdout",
     "output_type": "stream",
     "text": [
      "[1] \"Utilizando como estimador la media, el número máximo de tanques fabricados es 6613\"\n"
     ]
    }
   ],
   "source": [
    "a<-1\n",
    "b<-2*mean(capturedSerialNo)-a\n",
    "print(paste(\"Utilizando como estimador la media, el número máximo de tanques fabricados es\",round(b)))"
   ]
  },
  {
   "cell_type": "markdown",
   "metadata": {},
   "source": [
    "### Estimación utilizando la varianza\n",
    "\n",
    "Utilizando el mismo razonamiento que antes, podemos utilizar la varianza para calcular el máximo número de tanques. Sabemos que la varianza de la *población total* de tanques $\\sigma^2$ tiene que coincidir con la varianza de los *números de serie capturados* $Var[x]$.\n",
    "\\begin{equation*}\n",
    "\\sigma^2=\\frac{(b-a)^2}{12} \\\\\n",
    "Var[x]=\\frac{1}{N-1}\\sum_{i=1}^N{(x_i-\\bar{x})^2}\n",
    "\\end{equation*}\n",
    "Desarrollando llegamos a la fórmula:\n",
    "\\begin{equation*}\n",
    "Var[x]=\\frac{(b-a)^2}{12} \\\\\n",
    "12\\cdot Var[x]=(b-a)^2\\\\\n",
    "b=a+\\sqrt{12\\cdot Var[x]}\n",
    "\\end{equation*}\n",
    "\n",
    "\n"
   ]
  },
  {
   "cell_type": "code",
   "execution_count": 5,
   "metadata": {},
   "outputs": [
    {
     "name": "stdout",
     "output_type": "stream",
     "text": [
      "[1] \"Utilizando como estimador la varianza, el número máximo de tanques fabricados es 5095\"\n"
     ]
    }
   ],
   "source": [
    "a<-1\n",
    "b<-a+sqrt(12*var(capturedSerialNo))\n",
    "print(paste(\"Utilizando como estimador la varianza, el número máximo de tanques fabricados es\",round(b)))"
   ]
  },
  {
   "cell_type": "markdown",
   "metadata": {},
   "source": [
    "### ¿Cual es el mejor estimador?\n",
    "\n",
    "El mejor estimador será aquel que tenga una probabilidad mayor de dar un valor cercano al correcto.\n",
    "\n",
    "Repetimos el proceso varias veces, suponiendo que tenemos diferentes intententos o diferentes tipos de tanques que probar.\n"
   ]
  },
  {
   "cell_type": "code",
   "execution_count": 6,
   "metadata": {},
   "outputs": [
    {
     "name": "stderr",
     "output_type": "stream",
     "text": [
      "No id variables; using all as measure variables\n"
     ]
    },
    {
     "data": {},
     "metadata": {},
     "output_type": "display_data"
    },
    {
     "name": "stdout",
     "output_type": "stream",
     "text": [
      "[1] \"Estimador usando la media:    media: 4999  varianza: 1666606  margen: [2866,7122]\"\n",
      "[1] \"Estimador usando la varianza: media: 4816  varianza: 1825464  margen: [2443,6876]\"\n"
     ]
    },
    {
     "data": {
      "image/png": "[encoded data removed]",
      "text/plain": [
       "plot without title"
      ]
     },
     "metadata": {},
     "output_type": "display_data"
    }
   ],
   "source": [
    "numTries<-1e5\n",
    "numCapturedTanks<-5\n",
    "\n",
    "meanEstimated<-rep(NA,numTries)\n",
    "varEstimated<-rep(NA,numTries)\n",
    "for (i in 1:numTries){\n",
    "    capturedSerialNo<-sample(totalPopulationSerialNo,size = numCapturedTanks)\n",
    "    meanEstimated[i]<-2*mean(capturedSerialNo)-1\n",
    "    varEstimated[i]<-sqrt(12*var(capturedSerialNo))-1\n",
    "}\n",
    "df<-data.frame(mean=meanEstimated,var=varEstimated)\n",
    "margin_mean<-round(quantile(df$mean,c(0.05,0.95)))\n",
    "margin_var<-round(quantile(df$var,c(0.05,0.95)))\n",
    "\n",
    "library(ggplot2)\n",
    "library(reshape2)\n",
    "\n",
    "ggplot(data=melt(df),aes(x=value,color=variable))+geom_density()\n",
    "print(paste0(\"Estimador usando la media:    media: \",round(mean(df$mean)),\"  varianza: \",round(var(df$mean)),\n",
    "      \"  margen: [\",margin_mean[1],\",\",margin_mean[2],\"]\"))\n",
    "print(paste0(\"Estimador usando la varianza: media: \",round(mean(df$var)),\"  varianza: \",round(var(df$var)),\n",
    "      \"  margen: [\",margin_var[1],\",\",margin_var[2],\"]\"))"
   ]
  },
  {
   "cell_type": "markdown",
   "metadata": {},
   "source": [
    "### Estimador insesgado de varianza mínima"
   ]
  },
  {
   "cell_type": "markdown",
   "metadata": {},
   "source": [
    "Un **estimador insesgado de varianza mínima** es aquel que tiene menor varianza que cualquier otro estimador insesgado para todos los posibles valores del parámetro. Un estimador insesgado es un estimador que no tiene sesgo, con sesgo 0. Para el caso de una distribución uniforme es:\n",
    "\\begin{equation*}\n",
    "b=\\left(1+N^{-1}\\right)·x_N-1=x_N+\\frac{x_N}{N}-1\n",
    "\\end{equation*}\n",
    "Donde:\n",
    "* $x_N$ es el número de serie más grande capturado.\n",
    "* $N$ es el número total de tanques capturados.\n",
    "* $a=1$"
   ]
  },
  {
   "cell_type": "markdown",
   "metadata": {},
   "source": [
    "Esta fórmula sale de suponer que:\n",
    "\\begin{equation*}\n",
    "x_1-1  \\approx  b-x_N\n",
    "\\end{equation*}\n",
    "Lo que se puede extender a:\n",
    "\\begin{equation*}\n",
    "x_1-1 \\approx x_2-x_1-1 \\approx x_3-x_2-1 \\approx x_{N}-x_{N-1}-1 \\approx  b-x_N\\\\\n",
    "\\frac{(x_1-1) + (x_2-x_1-1) + (x_3-x_2-1) + \\cdots + (x_{N}-x_{N-1}-1)}{N} \\approx  b-x_N \\\\\n",
    "\\frac{x_{N}}{N}-1 \\approx  b-x_N \\\\\n",
    "b \\approx x_N +\\frac{x_N}{N}-1\n",
    "\\end{equation*}"
   ]
  },
  {
   "cell_type": "code",
   "execution_count": 7,
   "metadata": {},
   "outputs": [
    {
     "name": "stderr",
     "output_type": "stream",
     "text": [
      "No id variables; using all as measure variables\n"
     ]
    },
    {
     "data": {},
     "metadata": {},
     "output_type": "display_data"
    },
    {
     "name": "stdout",
     "output_type": "stream",
     "text": [
      "[1] \"Estimador usando la media:    media: 4999  varianza: 1666606  margen: [2866,7122]\"\n",
      "[1] \"Estimador usando la varianza: media: 4816  varianza: 1825464  margen: [2443,6876]\"\n",
      "[1] \"Estimador usando la mvue:     media: 5000  varianza: 715543   margen: [3287,5938]\"\n"
     ]
    },
    {
     "data": {
      "image/png": "[encoded data removed]",
      "text/plain": [
       "plot without title"
      ]
     },
     "metadata": {},
     "output_type": "display_data"
    }
   ],
   "source": [
    "mvue<-rep(NA,numTries)\n",
    "for (i in 1:numTries){\n",
    "    capturedSerialNo<-sample(totalPopulationSerialNo,size = numCapturedTanks)\n",
    "    mvue[i]<-max(capturedSerialNo)*(1+1/length(capturedSerialNo))-1\n",
    "}\n",
    "df<-data.frame(mean=meanEstimated,var=varEstimated,mvue=mvue)\n",
    "\n",
    "ggplot(data=melt(df),aes(x=value,color=variable))+geom_density()\n",
    "\n",
    "margin_mean<-round(quantile(df$mean,c(0.05,0.95)))\n",
    "margin_var<-round(quantile(df$var,c(0.05,0.95)))\n",
    "margin_mvue<-round(quantile(df$mvue,c(0.05,0.95)))\n",
    "\n",
    "print(paste0(\"Estimador usando la media:    media: \",round(mean(df$mean)),\"  varianza: \",round(var(df$mean)),\n",
    "      \"  margen: [\",margin_mean[1],\",\",margin_mean[2],\"]\"))\n",
    "print(paste0(\"Estimador usando la varianza: media: \",round(mean(df$var)),\"  varianza: \",round(var(df$var)),\n",
    "      \"  margen: [\",margin_var[1],\",\",margin_var[2],\"]\"))\n",
    "print(paste0(\"Estimador usando la mvue:     media: \",round(mean(df$mvue)),\"  varianza: \",round(var(df$mvue)),\n",
    "      \"   margen: [\",margin_mvue[1],\",\",margin_mvue[2],\"]\"))"
   ]
  },
  {
   "cell_type": "markdown",
   "metadata": {},
   "source": [
    "### ¿Como varía el margen con el número de tanques capturados?"
   ]
  },
  {
   "cell_type": "markdown",
   "metadata": {},
   "source": [
    "Por ahora se han realizado experimentos con un número fijo de tanques recuperados. \n",
    "\n",
    "En esta sección veremos cómo varía el margen de error dado por cada estimador en función del número de tanques capturados.\n",
    "\n",
    "Así por ejemplo podemos saber cuantos tanques necesitamos capturar como mínimo para alcanzar el margen de error necesario.\n"
   ]
  },
  {
   "cell_type": "code",
   "execution_count": 8,
   "metadata": {},
   "outputs": [
    {
     "data": {},
     "metadata": {},
     "output_type": "display_data"
    },
    {
     "data": {
      "image/png": "[encoded data removed]",
      "text/plain": [
       "plot without title"
      ]
     },
     "metadata": {},
     "output_type": "display_data"
    }
   ],
   "source": [
    "numTries<-1e3\n",
    "numTanksCaptured<-2:50\n",
    "\n",
    "margin_mean<-matrix(rep(NA,2*length(numTanksCaptured)),ncol=2)\n",
    "margin_var<-matrix(rep(NA,2*length(numTanksCaptured)),ncol=2)\n",
    "margin_mvue<-matrix(rep(NA,2*length(numTanksCaptured)),ncol=2)\n",
    "\n",
    "for (j in 1:length(numTanksCaptured)){\n",
    "    \n",
    "    meanEstimated<-rep(NA,numTries)\n",
    "    varEstimated<-rep(NA,numTries)\n",
    "    mvue<-rep(NA,numTries)\n",
    "    for (i in 1:numTries){\n",
    "        capturedSerialNo<-sample(totalPopulationSerialNo,size = numTanksCaptured[j])\n",
    "        meanEstimated[i]<-2*mean(capturedSerialNo)-1\n",
    "        varEstimated[i]<-sqrt(12*var(capturedSerialNo))-1\n",
    "        mvue[i]<-max(capturedSerialNo)*(1+1/length(capturedSerialNo))-1\n",
    "    }\n",
    "\n",
    "    margin_mean[j,]<-quantile(meanEstimated,c(0.05,0.95))\n",
    "    margin_var[j,]<-quantile(varEstimated,c(0.05,0.95))\n",
    "    margin_mvue[j,]<-quantile(mvue,c(0.05,0.95))\n",
    "}\n",
    "\n",
    "df_mean<-melt(data.frame(m1=margin_mean[,1],m2=margin_mean[,2],num=numTanksCaptured),id=\"num\")\n",
    "df_mean$group<-\"mean\"\n",
    "df_var<-melt(data.frame(v1=margin_var[,1],v2=margin_var[,2],num=numTanksCaptured),id=\"num\")\n",
    "df_var$group<-\"variance\"\n",
    "df_mvue<-melt(data.frame(n1=margin_mvue[,1],n2=margin_mvue[,2],num=numTanksCaptured),id=\"num\")\n",
    "df_mvue$group<-\"mvue\"\n",
    "df<-rbind(df_mean,df_var,df_mvue)\n",
    "\n",
    "ggplot(data=df,aes(x=num,y=value,group=variable,color=group))+geom_line()"
   ]
  },
  {
   "cell_type": "markdown",
   "metadata": {
    "collapsed": true
   },
   "source": [
    "# Tipos de muestreo\n",
    "\n",
    "## Muestreo aleatorio simple \n",
    "\n",
    "En este grupo se encuentran los métodos en los cuales se toma una muestra aleatoria de la población total. Consiste en seleccionar al azar diferentes elementos de la población. Puede ser:\n",
    "* con reemplazo: Si un mismo elemento puede ser seleccionado más de una vez.\n",
    "* sin reemplazo: Una vez que se selecciona un elemento no se puede puede volver a seleccionar.\n",
    "\n",
    "Por ejemplo si de un mazo de cartas seleccionamos 5 al azar estaremos realizando muestreo aleatorio simple sin reemplazo.\n",
    "![](./muestreo/muestreoaleatorio.jpg)"
   ]
  },
  {
   "cell_type": "markdown",
   "metadata": {},
   "source": [
    "### Funciones en R\n",
    "\n",
    "En R existe la función *sample()* que permite hacer muestreo aleatorio con o sin reemplazo.\n",
    "\n",
    "Veamos un ejemplo con el dataset Iris"
   ]
  },
  {
   "cell_type": "code",
   "execution_count": 9,
   "metadata": {},
   "outputs": [
    {
     "name": "stdout",
     "output_type": "stream",
     "text": [
      "[1] \"Los índices de los elementos seleccionados del dataset iris son: 55,147,71,48,26\"\n"
     ]
    },
    {
     "data": {
      "text/html": [
       "<table>\n",
       "<thead><tr><th></th><th scope=col>Sepal.Length</th><th scope=col>Sepal.Width</th><th scope=col>Petal.Length</th><th scope=col>Petal.Width</th><th scope=col>Species</th></tr></thead>\n",
       "<tbody>\n",
       "\t<tr><th scope=row>55</th><td>6.5       </td><td>2.8       </td><td>4.6       </td><td>1.5       </td><td>versicolor</td></tr>\n",
       "\t<tr><th scope=row>147</th><td>6.3       </td><td>2.5       </td><td>5.0       </td><td>1.9       </td><td>virginica </td></tr>\n",
       "\t<tr><th scope=row>71</th><td>5.9       </td><td>3.2       </td><td>4.8       </td><td>1.8       </td><td>versicolor</td></tr>\n",
       "\t<tr><th scope=row>48</th><td>4.6       </td><td>3.2       </td><td>1.4       </td><td>0.2       </td><td>setosa    </td></tr>\n",
       "\t<tr><th scope=row>26</th><td>5.0       </td><td>3.0       </td><td>1.6       </td><td>0.2       </td><td>setosa    </td></tr>\n",
       "</tbody>\n",
       "</table>\n"
      ],
      "text/latex": [
       "\\begin{tabular}{r|lllll}\n",
       "  & Sepal.Length & Sepal.Width & Petal.Length & Petal.Width & Species\\\\\n",
       "\\hline\n",
       "\t55 & 6.5        & 2.8        & 4.6        & 1.5        & versicolor\\\\\n",
       "\t147 & 6.3        & 2.5        & 5.0        & 1.9        & virginica \\\\\n",
       "\t71 & 5.9        & 3.2        & 4.8        & 1.8        & versicolor\\\\\n",
       "\t48 & 4.6        & 3.2        & 1.4        & 0.2        & setosa    \\\\\n",
       "\t26 & 5.0        & 3.0        & 1.6        & 0.2        & setosa    \\\\\n",
       "\\end{tabular}\n"
      ],
      "text/markdown": [
       "\n",
       "| <!--/--> | Sepal.Length | Sepal.Width | Petal.Length | Petal.Width | Species | \n",
       "|---|---|---|---|---|\n",
       "| 55 | 6.5        | 2.8        | 4.6        | 1.5        | versicolor | \n",
       "| 147 | 6.3        | 2.5        | 5.0        | 1.9        | virginica  | \n",
       "| 71 | 5.9        | 3.2        | 4.8        | 1.8        | versicolor | \n",
       "| 48 | 4.6        | 3.2        | 1.4        | 0.2        | setosa     | \n",
       "| 26 | 5.0        | 3.0        | 1.6        | 0.2        | setosa     | \n",
       "\n",
       "\n"
      ],
      "text/plain": [
       "    Sepal.Length Sepal.Width Petal.Length Petal.Width Species   \n",
       "55  6.5          2.8         4.6          1.5         versicolor\n",
       "147 6.3          2.5         5.0          1.9         virginica \n",
       "71  5.9          3.2         4.8          1.8         versicolor\n",
       "48  4.6          3.2         1.4          0.2         setosa    \n",
       "26  5.0          3.0         1.6          0.2         setosa    "
      ]
     },
     "metadata": {},
     "output_type": "display_data"
    }
   ],
   "source": [
    "N<-5\n",
    "indices<-sample(1:nrow(iris),N, replace = F)\n",
    "print(paste(\"Los índices de los elementos seleccionados del dataset iris son:\",paste(indices,collapse=\",\")))\n",
    "iris[indices,]"
   ]
  },
  {
   "cell_type": "markdown",
   "metadata": {},
   "source": [
    "## Muestreo sistemático\n",
    "\n",
    "Se comienza colcando toda la población en el orden deseado, se selecciona el primer elemento y a continuación se va seleccionado el k-ésimo elemento siguiente al previamente seleccionado. *k* se conoce como intervalo de muestreo se puede calcular como:\n",
    "\\\\[\n",
    "k=\\frac{\\text{Tamaño población total}}{\\text{Tamaño de muestra}}\n",
    "\\\\]\n",
    "\n",
    "En el siguiente ejemplo con cartas se han seleccionado las cartas eligiendo un $k=3$:\n",
    "\n",
    "![](./muestreo/muestreosistematico.jpg)"
   ]
  },
  {
   "cell_type": "markdown",
   "metadata": {},
   "source": [
    "### Funciones en R\n",
    "\n",
    "En R podemos usar la función *seq(from,to, by=k)* para realizar el muestreo sistemático.\n",
    "\n",
    "Veamos un ejemplo con el dataset Iris"
   ]
  },
  {
   "cell_type": "code",
   "execution_count": 10,
   "metadata": {},
   "outputs": [
    {
     "name": "stdout",
     "output_type": "stream",
     "text": [
      "[1] \"Los índices de los elementos seleccionados del dataset iris son: 1,31,61,91,121\"\n"
     ]
    },
    {
     "data": {
      "text/html": [
       "<table>\n",
       "<thead><tr><th></th><th scope=col>Sepal.Length</th><th scope=col>Sepal.Width</th><th scope=col>Petal.Length</th><th scope=col>Petal.Width</th><th scope=col>Species</th></tr></thead>\n",
       "<tbody>\n",
       "\t<tr><th scope=row>1</th><td>5.1       </td><td>3.5       </td><td>1.4       </td><td>0.2       </td><td>setosa    </td></tr>\n",
       "\t<tr><th scope=row>31</th><td>4.8       </td><td>3.1       </td><td>1.6       </td><td>0.2       </td><td>setosa    </td></tr>\n",
       "\t<tr><th scope=row>61</th><td>5.0       </td><td>2.0       </td><td>3.5       </td><td>1.0       </td><td>versicolor</td></tr>\n",
       "\t<tr><th scope=row>91</th><td>5.5       </td><td>2.6       </td><td>4.4       </td><td>1.2       </td><td>versicolor</td></tr>\n",
       "\t<tr><th scope=row>121</th><td>6.9       </td><td>3.2       </td><td>5.7       </td><td>2.3       </td><td>virginica </td></tr>\n",
       "</tbody>\n",
       "</table>\n"
      ],
      "text/latex": [
       "\\begin{tabular}{r|lllll}\n",
       "  & Sepal.Length & Sepal.Width & Petal.Length & Petal.Width & Species\\\\\n",
       "\\hline\n",
       "\t1 & 5.1        & 3.5        & 1.4        & 0.2        & setosa    \\\\\n",
       "\t31 & 4.8        & 3.1        & 1.6        & 0.2        & setosa    \\\\\n",
       "\t61 & 5.0        & 2.0        & 3.5        & 1.0        & versicolor\\\\\n",
       "\t91 & 5.5        & 2.6        & 4.4        & 1.2        & versicolor\\\\\n",
       "\t121 & 6.9        & 3.2        & 5.7        & 2.3        & virginica \\\\\n",
       "\\end{tabular}\n"
      ],
      "text/markdown": [
       "\n",
       "| <!--/--> | Sepal.Length | Sepal.Width | Petal.Length | Petal.Width | Species | \n",
       "|---|---|---|---|---|\n",
       "| 1 | 5.1        | 3.5        | 1.4        | 0.2        | setosa     | \n",
       "| 31 | 4.8        | 3.1        | 1.6        | 0.2        | setosa     | \n",
       "| 61 | 5.0        | 2.0        | 3.5        | 1.0        | versicolor | \n",
       "| 91 | 5.5        | 2.6        | 4.4        | 1.2        | versicolor | \n",
       "| 121 | 6.9        | 3.2        | 5.7        | 2.3        | virginica  | \n",
       "\n",
       "\n"
      ],
      "text/plain": [
       "    Sepal.Length Sepal.Width Petal.Length Petal.Width Species   \n",
       "1   5.1          3.5         1.4          0.2         setosa    \n",
       "31  4.8          3.1         1.6          0.2         setosa    \n",
       "61  5.0          2.0         3.5          1.0         versicolor\n",
       "91  5.5          2.6         4.4          1.2         versicolor\n",
       "121 6.9          3.2         5.7          2.3         virginica "
      ]
     },
     "metadata": {},
     "output_type": "display_data"
    }
   ],
   "source": [
    "k<-30\n",
    "indices<-seq(1,nrow(iris),by=k)\n",
    "print(paste(\"Los índices de los elementos seleccionados del dataset iris son:\",paste(indices,collapse=\",\")))\n",
    "iris[indices,]"
   ]
  },
  {
   "cell_type": "markdown",
   "metadata": {
    "collapsed": true
   },
   "source": [
    "## Muestreo estratificado\n",
    "\n",
    "Consiste en dividir los datos en grupos. Luego sobre cada grupo se selecciona el número de elementos deseado.\n",
    "\n",
    "![](./muestreo/muestreoestratificado.jpg)"
   ]
  },
  {
   "cell_type": "markdown",
   "metadata": {},
   "source": [
    "### Funciones en R\n",
    "\n",
    "En R podemos usar la función *subset* para elegir cada uno de los subgrupos y luego *sample* para elegir elementos dentro de cada grupo.\n",
    "\n",
    "Veamos un ejemplo con el dataset Iris"
   ]
  },
  {
   "cell_type": "code",
   "execution_count": 11,
   "metadata": {},
   "outputs": [
    {
     "name": "stdout",
     "output_type": "stream",
     "text": [
      "[1] \"Hay 3 grupos, son: setosa,versicolor,virginica\"\n"
     ]
    },
    {
     "data": {
      "text/html": [
       "<table>\n",
       "<thead><tr><th></th><th scope=col>Sepal.Length</th><th scope=col>Sepal.Width</th><th scope=col>Petal.Length</th><th scope=col>Petal.Width</th><th scope=col>Species</th></tr></thead>\n",
       "<tbody>\n",
       "\t<tr><th scope=row>8</th><td>5.0       </td><td>3.4       </td><td>1.5       </td><td>0.2       </td><td>setosa    </td></tr>\n",
       "\t<tr><th scope=row>21</th><td>5.4       </td><td>3.4       </td><td>1.7       </td><td>0.2       </td><td>setosa    </td></tr>\n",
       "\t<tr><th scope=row>82</th><td>5.5       </td><td>2.4       </td><td>3.7       </td><td>1.0       </td><td>versicolor</td></tr>\n",
       "\t<tr><th scope=row>72</th><td>6.1       </td><td>2.8       </td><td>4.0       </td><td>1.3       </td><td>versicolor</td></tr>\n",
       "\t<tr><th scope=row>117</th><td>6.5       </td><td>3.0       </td><td>5.5       </td><td>1.8       </td><td>virginica </td></tr>\n",
       "\t<tr><th scope=row>108</th><td>7.3       </td><td>2.9       </td><td>6.3       </td><td>1.8       </td><td>virginica </td></tr>\n",
       "</tbody>\n",
       "</table>\n"
      ],
      "text/latex": [
       "\\begin{tabular}{r|lllll}\n",
       "  & Sepal.Length & Sepal.Width & Petal.Length & Petal.Width & Species\\\\\n",
       "\\hline\n",
       "\t8 & 5.0        & 3.4        & 1.5        & 0.2        & setosa    \\\\\n",
       "\t21 & 5.4        & 3.4        & 1.7        & 0.2        & setosa    \\\\\n",
       "\t82 & 5.5        & 2.4        & 3.7        & 1.0        & versicolor\\\\\n",
       "\t72 & 6.1        & 2.8        & 4.0        & 1.3        & versicolor\\\\\n",
       "\t117 & 6.5        & 3.0        & 5.5        & 1.8        & virginica \\\\\n",
       "\t108 & 7.3        & 2.9        & 6.3        & 1.8        & virginica \\\\\n",
       "\\end{tabular}\n"
      ],
      "text/markdown": [
       "\n",
       "| <!--/--> | Sepal.Length | Sepal.Width | Petal.Length | Petal.Width | Species | \n",
       "|---|---|---|---|---|---|\n",
       "| 8 | 5.0        | 3.4        | 1.5        | 0.2        | setosa     | \n",
       "| 21 | 5.4        | 3.4        | 1.7        | 0.2        | setosa     | \n",
       "| 82 | 5.5        | 2.4        | 3.7        | 1.0        | versicolor | \n",
       "| 72 | 6.1        | 2.8        | 4.0        | 1.3        | versicolor | \n",
       "| 117 | 6.5        | 3.0        | 5.5        | 1.8        | virginica  | \n",
       "| 108 | 7.3        | 2.9        | 6.3        | 1.8        | virginica  | \n",
       "\n",
       "\n"
      ],
      "text/plain": [
       "    Sepal.Length Sepal.Width Petal.Length Petal.Width Species   \n",
       "8   5.0          3.4         1.5          0.2         setosa    \n",
       "21  5.4          3.4         1.7          0.2         setosa    \n",
       "82  5.5          2.4         3.7          1.0         versicolor\n",
       "72  6.1          2.8         4.0          1.3         versicolor\n",
       "117 6.5          3.0         5.5          1.8         virginica \n",
       "108 7.3          2.9         6.3          1.8         virginica "
      ]
     },
     "metadata": {},
     "output_type": "display_data"
    }
   ],
   "source": [
    "groups<-unique(iris$Species)\n",
    "print(paste(\"Hay\",length(groups),\"grupos, son:\",paste(groups,collapse=\",\")))\n",
    "\n",
    "muestraIris<-iris[0,]\n",
    "\n",
    "for (group in groups){\n",
    "    subgrupoIris<-subset(iris,Species==group)\n",
    "    idx<-sample(1:nrow(subgrupoIris),2)\n",
    "    muestraIris<-rbind(muestraIris,subgrupoIris[idx,])\n",
    "}\n",
    "muestraIris\n"
   ]
  },
  {
   "cell_type": "markdown",
   "metadata": {},
   "source": [
    "# Margen de error\n",
    "\n",
    "Hasta ahora hemos hablado sobre como seleccionar elementos, pero ¿en qué afecta elegir más o menos elementos?\n",
    "\n",
    "Entendemos como margen de error a la cantidad de desconocimiento que tenemos del test estadístico que calculamos. Cuantos más elementos cojamos menor será el margen de error.\n",
    "De la mano del margen de error viene el **intervalo de confianza**, que indica el grado de confianza que tenemos a la hora de dar un test estadístico.\n",
    "\n",
    "Por ejemplo podemos decir que la media de altura de un grupo de personas es de $1.70m$ con un error del $\\pm 10$ para el 95% de las muestras, o que su margen de confianza en el 95% de los casos es $[1.60,1.80]$.\n"
   ]
  },
  {
   "cell_type": "markdown",
   "metadata": {},
   "source": [
    "## Distribución gaussiana\n",
    "\n",
    "Supongamos que hay una población la cual sigue una distribución gaussiana. Queremos calcular la media de dicha distribución, pero no podemos acceder al total de la población sino a una muestra de la misma. Tendremos dos casos:\n",
    "* Varianza conocida: Alguien nos ha dicho cual es la varianza real que tiene la población total.\n",
    "* Varianza desconocida: Tendremos que estimar la varianza de la población total en base a la varianza de nuestra meustra.\n",
    "\n",
    "### Varianza conocida\n",
    "\n",
    "De la muestra podemos calcular la media $\\bar{x}$, la varianza es conocida e igual a $\\sigma^2$.\n",
    "\n",
    "Podemos comprobar que el **error estandar de la media** es $\\sigma_M^2=\\frac{\\sigma^2}{n}$ donde $n$ es el número de elementos en nuestra muestra."
   ]
  },
  {
   "cell_type": "markdown",
   "metadata": {},
   "source": [
    "El intervalo de confianza para la media viene dado por la siguietne fórmula:\n",
    "\\\\[\n",
    "\\begin{split}\n",
    "\\text{Limite inferior} = \\bar{x}-Q(p/2)·\\sigma_M=\\bar{x}-Q(p/2)·\\frac{\\sigma^2}{\\sqrt{n}} \\\\\n",
    "\\text{Limite superior} = \\bar{x}+Q(p/2)·\\sigma_M=\\bar{x}+Q(p/2)·\\frac{\\sigma^2}{\\sqrt{n}} \\\\\n",
    "\\end{split}\n",
    "\\\\]\n",
    "Donde $p$, a veces llamado p-valor, es la probabilidad de que la media se encuentre fuera de ese rango.\n",
    "También podemos decir que se encuentra dentro del rango con una confianza de $1-p$."
   ]
  },
  {
   "cell_type": "markdown",
   "metadata": {},
   "source": [
    "#### Ejemplo R\n",
    "\n",
    "Tenemos 20 muestras que sabemos que vienen de una distribución gausiana de varianza 3, pero su media es desconocida, tenemos que estimarla, ¿cual será su valor con un p-valor de 0.05?"
   ]
  },
  {
   "cell_type": "code",
   "execution_count": 12,
   "metadata": {},
   "outputs": [
    {
     "name": "stdout",
     "output_type": "stream",
     "text": [
      "[1] \"La media es 7.22955042680595 con un error de ±1.31478381086487\"\n",
      "[1] \"El intervalo de confianza con un p-valor=0.05 es:[5.91476661594108,8.54433423767083]\"\n"
     ]
    }
   ],
   "source": [
    "set.seed(12345)\n",
    "n=20\n",
    "s=3\n",
    "X<-rnorm(n,mean=7,sd=s)\n",
    "m<-mean(X)\n",
    "sm<-s/sqrt(n)\n",
    "error <- qnorm(0.025,lower.tail = F)*sm\n",
    "upl <- m+error\n",
    "lowl <- m-error\n",
    "print(paste0(\"La media es \",m,\" con un error de ±\",error))\n",
    "print(paste0(\"El intervalo de confianza con un p-valor=0.05 es:[\",lowl,\",\",upl,\"]\"))"
   ]
  },
  {
   "cell_type": "markdown",
   "metadata": {},
   "source": [
    "Podemos demostrar estos resultados haciendo una simulación en R, imaginando que repetimos este experimento miles de veces y calculamos la distribución del a media."
   ]
  },
  {
   "cell_type": "code",
   "execution_count": 13,
   "metadata": {},
   "outputs": [
    {
     "name": "stdout",
     "output_type": "stream",
     "text": [
      "[1] \"La media del estimador es: 7.00086693686664\"\n",
      "[1] \"La varianza del estimador es: 0.447951034333951\"\n",
      "[1] \"La varianza predicha del estimador es: 0.45\"\n"
     ]
    }
   ],
   "source": [
    "NumTrials<-50000\n",
    "n<-20\n",
    "s<-3\n",
    "meanArray<-c()\n",
    "for (i in 1:NumTrials){\n",
    "    X<-rnorm(n,mean=7,sd=s)\n",
    "    meanArray<-c(meanArray,mean(X))\n",
    "}\n",
    "print(paste(\"La media del estimador es:\",mean(meanArray)))\n",
    "print(paste(\"La varianza del estimador es:\",var(meanArray)))\n",
    "print(paste(\"La varianza predicha del estimador es:\", s^2/n ))"
   ]
  },
  {
   "cell_type": "code",
   "execution_count": 14,
   "metadata": {},
   "outputs": [
    {
     "data": {},
     "metadata": {},
     "output_type": "display_data"
    },
    {
     "data": {
      "image/png": "[encoded data removed]",
      "text/plain": [
       "plot without title"
      ]
     },
     "metadata": {},
     "output_type": "display_data"
    }
   ],
   "source": [
    "require(ggplot2)\n",
    "df<-data.frame(x=meanArray)\n",
    "\n",
    "sm<-s/sqrt(n)\n",
    "\n",
    "fillarea<-function(x){\n",
    "    \n",
    "    error <- qnorm(0.025,lower.tail = F)*sm\n",
    "    \n",
    "    out<-dnorm(x,mean = 7, sd=sm)\n",
    "    out[x<(7-error)]<-NA\n",
    "    out[x>(7+error)]<-NA\n",
    "    out\n",
    "}\n",
    "\n",
    "ggplot(df,aes(x))+geom_density()+    \n",
    "    stat_function(fun=dnorm,args = list(mean = 7, sd=sm),col=\"red\")+\n",
    "    stat_function(fun=fillarea, geom=\"area\",fill=\"green\",alpha=0.2)+\n",
    "    geom_text(x=7,y=0.3,size=4,label=\"95%\")\n",
    "    "
   ]
  },
  {
   "cell_type": "markdown",
   "metadata": {},
   "source": [
    "### Varianza desconocida\n",
    "\n",
    "Evidentemente muy pocas veces vamos a saber cual es la varianza de la población original, la mayoría de las veces tendremos que estimarla. \n",
    "La desviación típica de la media se calcula esta vez sobre la varianza estimada:\n",
    "\\\\[\n",
    "\\sigma_M^2 = \\frac{Var[x]}{n}\n",
    "\\\\]\n",
    "\n",
    "Así pues en la incertidumbre de la media hay que añadir la incertidumbre del cálculo de la varianza. Por este motivo para calcular los límites no podemos utilizar la función Q(x) de una gaussiana sino que tendrémos que utilizar la distribución t-student.\n",
    "\n",
    "Los intervalos de confianza para un p-valor de $p$ y $n$ muestras vendrá dado por la fórmula:\n",
    "\n",
    "\\\\[\n",
    "\\begin{split}\n",
    "\\text{Limite inferior} = \\bar{x}-Q(p)·\\sigma_M=\\bar{x}-t(1-p/2,n-1)·\\frac{\\sqrt {var[X]}}{\\sqrt{n}} \\\\\n",
    "\\text{Limite superior} = \\bar{x}+Q(p)·\\sigma_M=\\bar{x}+t(1-p/2,n-1)·\\frac{\\sqrt {var[X]}}{\\sqrt{n}} \\\\\n",
    "\\end{split}\n",
    "\\\\]\n",
    "\n",
    "Donde t(p,n-1) es la función cumulativa de porbabilidad de una distribución t-student con $n-1$ grados de libertad."
   ]
  },
  {
   "cell_type": "markdown",
   "metadata": {},
   "source": [
    "#### Ejemplo R\n",
    "\n",
    "Tenemos 20 muestras que sabemos que vienen de una distribución gausiana de varianza y media desconocida. ¿Cual será  el valor de la media con un p-valor de 0.05?"
   ]
  },
  {
   "cell_type": "code",
   "execution_count": 15,
   "metadata": {},
   "outputs": [
    {
     "name": "stdout",
     "output_type": "stream",
     "text": [
      "[1] \"La media es 7.22955042680595 con un error de ±1.17088139833778\"\n",
      "[1] \"El intervalo de confianza con un p-valor=0.05 es:[6.05866902846817,8.40043182514374]\"\n"
     ]
    }
   ],
   "source": [
    "set.seed(12345)\n",
    "n<-20\n",
    "X<-rnorm(n,mean=7,sd=3)\n",
    "m<-mean(X)\n",
    "sm=sd(X)/sqrt(n)\n",
    "error <- qt(0.975,n-1)*sm\n",
    "upl <- m+error\n",
    "lowl <- m-error\n",
    "print(paste0(\"La media es \",m,\" con un error de ±\",error))\n",
    "print(paste0(\"El intervalo de confianza con un p-valor=0.05 es:[\",lowl,\",\",upl,\"]\"))"
   ]
  },
  {
   "cell_type": "code",
   "execution_count": 16,
   "metadata": {},
   "outputs": [
    {
     "name": "stdout",
     "output_type": "stream",
     "text": [
      "[1] \"Podemos utilizar la función t.test:\"\n"
     ]
    },
    {
     "data": {
      "text/plain": [
       "\n",
       "\tOne Sample t-test\n",
       "\n",
       "data:  X\n",
       "t = 12.923, df = 19, p-value = 7.336e-11\n",
       "alternative hypothesis: true mean is not equal to 0\n",
       "95 percent confidence interval:\n",
       " 6.058669 8.400432\n",
       "sample estimates:\n",
       "mean of x \n",
       "  7.22955 \n"
      ]
     },
     "metadata": {},
     "output_type": "display_data"
    }
   ],
   "source": [
    "print(\"Podemos utilizar la función t.test:\")\n",
    "\n",
    "t.test(x=X,conf.level=0.95)"
   ]
  },
  {
   "cell_type": "markdown",
   "metadata": {},
   "source": [
    "## Intervalo de confianza para proporciones\n",
    "\n",
    "Imaginemos que hemos realizado $n$ experimentos independientes, cada experimento puede acaber con éxito con una probabilidad $p$.\n",
    "\n",
    "Si de los $n$ experimentos realizados tenemos $n_s$ experimentos que acaban en éxito, podemos estimar la probabilidad como $\\hat{p}=\\frac{n_s}{n}$. \n",
    "\n",
    "Pero está claro que no se tiene la misma confianza en la proporción si hacemos 2 experimento o 2000, aunque ambos ofrezcan una $\\hat{p}=0.5$.\n",
    "La proporción $\\hat{p}=0.5=\\frac{1000}{2000}$ parece tener una mayor confianza que $\\hat{p}=0.5=\\frac{1}{2}$.\n",
    "A calcular el margen de error de esta probabilidad se le llama credibilidad de una proporción o probabilidades de cobertura.\n"
   ]
  },
  {
   "cell_type": "markdown",
   "metadata": {},
   "source": [
    "### Aproximación gaussiana asintótica\n",
    "\n",
    "También conocida como método de Wald, el margen de error es símetrico y viene dado por la fórmula:\n",
    "\\\\[\n",
    "\\Delta \\hat{p} = Q(\\alpha/2)\\sqrt{\\frac{\\hat{p}(1-\\hat{p})}{n}}\n",
    "\\\\]\n",
    "El problema es que esta fómula puede llevar a dos aberraciones:\n",
    "* Para bajas proporciones, cuando $n_s$ es bajo, el límite inferior puede ser negativo ($\\Delta \\hat{p}>\\hat{p}$). Para $\\hat{p}$ cercano a 1, el límite superior puede excedeer 1.\n",
    "* Intervalo \\Delta \\hat{p}=0 ocurre cuando p=0 o p=1. Aunque el uso del factor corrector de continuidad puede solucionarlo:\n",
    "\\\\[\n",
    "\\Delta \\hat{p} = Q(\\alpha/2)\\sqrt{\\frac{\\hat{p}(1-\\hat{p})}{n}}+\\frac{1}{2n}\n",
    "\\\\]\n"
   ]
  },
  {
   "cell_type": "code",
   "execution_count": 17,
   "metadata": {},
   "outputs": [
    {
     "name": "stdout",
     "output_type": "stream",
     "text": [
      "[1] \"Probabilidad: 0.314  Éxitos: 314  Eventos totales: 1000\"\n"
     ]
    }
   ],
   "source": [
    "data_sample<-runif(1000, min = 0, max = 1) > 0.7\n",
    "n<-length(data_sample)\n",
    "ns<-sum(data_sample)\n",
    "p_<-ns/n\n",
    "print(paste(\"Probabilidad:\",p_,\" Éxitos:\",ns,\" Eventos totales:\",n))\n"
   ]
  },
  {
   "cell_type": "code",
   "execution_count": 18,
   "metadata": {},
   "outputs": [
    {
     "name": "stdout",
     "output_type": "stream",
     "text": [
      "[1] \"Intervalo de confianza del 95%: [0.28473429827359,0.34326570172641]\"\n"
     ]
    },
    {
     "data": {
      "text/plain": [
       "\n",
       "\t1-sample proportions test with continuity correction\n",
       "\n",
       "data:  ns out of n, null probability 0.5\n",
       "X-squared = 137.64, df = 1, p-value < 2.2e-16\n",
       "alternative hypothesis: true p is not equal to 0.5\n",
       "95 percent confidence interval:\n",
       " 0.2855066 0.3439416\n",
       "sample estimates:\n",
       "    p \n",
       "0.314 \n"
      ]
     },
     "metadata": {},
     "output_type": "display_data"
    }
   ],
   "source": [
    "pval<-0.05\n",
    "E<-qnorm(pval/2,lower.tail = F)*sqrt(p_*(1-p_)/n)+1/(2*n)\n",
    "print(paste0(\"Intervalo de confianza del 95%: [\",p_-E,\",\",p_+E,\"]\"))\n",
    "prop.test(ns,n,conf.level = 1-pval)"
   ]
  },
  {
   "cell_type": "markdown",
   "metadata": {},
   "source": [
    "### Intervalo de confianza de proporcion binomal\n",
    "\n",
    "Recoremos lo que era una función binomal:\n",
    "\n",
    "> La distribución binomial es una generalización de la distribución de Bernoulli para nn sucesos independientes, cada uno de los cuales tiene dos posibles resultados Si/No con probabilidad pp.\n",
    "\n",
    "> Ejemplo: Tiramos al aire 3 monedas y mirarmos cual es la probabilidad de que 2 salgan cara.\n",
    "\n",
    "> Variables que definen la distribución:\n",
    "\n",
    ">   * p - probabilidad de éxito de un caso individual\n",
    ">   * n - número de eventos totales que se desean medir\n",
    ">   * k - número de eventos que ha salido SI.\n",
    "\n",
    "En este caso el intervalo de confianza no es simétrico y viene dado por la fórmula $(inf S_{\\geq }, sup S_{\\leq })$:\n",
    "\\\\[\n",
    "\\begin{split}\n",
    "S_{\\geq } =  \\left\\{ \\theta  \\mid P[Bin(n;\\theta) \\geq n_s ] > \\frac{\\alpha}{2} \\right\\} \\\\\n",
    "S_{\\leq } =  \\left\\{ \\theta  \\mid P[Bin(n;\\theta) \\leq n_s ] > \\frac{\\alpha}{2} \\right\\}\n",
    "\\end{split}\n",
    "\\\\]\n",
    "\n"
   ]
  },
  {
   "cell_type": "markdown",
   "metadata": {},
   "source": [
    "### Funciones en R\n",
    "\n",
    "Esto se puede calcular en R ejecutando la función binom.test:"
   ]
  },
  {
   "cell_type": "code",
   "execution_count": 19,
   "metadata": {},
   "outputs": [
    {
     "data": {
      "text/plain": [
       "\n",
       "\tExact binomial test\n",
       "\n",
       "data:  ns and n\n",
       "number of successes = 314, number of trials = 1000, p-value < 2.2e-16\n",
       "alternative hypothesis: true probability of success is not equal to 0.5\n",
       "95 percent confidence interval:\n",
       " 0.2853174 0.3437823\n",
       "sample estimates:\n",
       "probability of success \n",
       "                 0.314 \n"
      ]
     },
     "metadata": {},
     "output_type": "display_data"
    }
   ],
   "source": [
    "binom.test(ns,n)"
   ]
  }
 ],
 "metadata": {
  "kernelspec": {
   "display_name": "R",
   "language": "R",
   "name": "ir"
  },
  "language_info": {
   "codemirror_mode": "r",
   "file_extension": ".r",
   "mimetype": "text/x-r-source",
   "name": "R",
   "pygments_lexer": "r",
   "version": "3.2.3"
  }
 },
 "nbformat": 4,
 "nbformat_minor": 1
}
