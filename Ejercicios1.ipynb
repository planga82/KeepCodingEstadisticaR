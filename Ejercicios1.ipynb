{
 "cells": [
  {
   "cell_type": "markdown",
   "metadata": {},
   "source": [
    "## Calcular el Factorial de un número"
   ]
  },
  {
   "cell_type": "code",
   "execution_count": 1,
   "metadata": {},
   "outputs": [],
   "source": [
    "myFactorialRecursive<-function(x){    \n",
    "    x<-as.integer(x)\n",
    "    if (x<=1){\n",
    "        return(1)\n",
    "    }else{\n",
    "        return (x*myFactorialRecursive(x-1))\n",
    "    }\n",
    "}\n",
    "\n",
    "myFactorialIter<-function(x){\n",
    "    f <- 1\n",
    "    x<-as.integer(x)\n",
    "    if (x<=1){\n",
    "        return(1)\n",
    "    }else{\n",
    "        for (i in 1:x){\n",
    "               f<-i*f\n",
    "        }        \n",
    "    }\n",
    "    f\n",
    "}"
   ]
  },
  {
   "cell_type": "code",
   "execution_count": 2,
   "metadata": {},
   "outputs": [
    {
     "data": {
      "text/html": [
       "120"
      ],
      "text/latex": [
       "120"
      ],
      "text/markdown": [
       "120"
      ],
      "text/plain": [
       "[1] 120"
      ]
     },
     "metadata": {},
     "output_type": "display_data"
    },
    {
     "data": {
      "text/html": [
       "120"
      ],
      "text/latex": [
       "120"
      ],
      "text/markdown": [
       "120"
      ],
      "text/plain": [
       "[1] 120"
      ]
     },
     "metadata": {},
     "output_type": "display_data"
    },
    {
     "data": {
      "text/html": [
       "120"
      ],
      "text/latex": [
       "120"
      ],
      "text/markdown": [
       "120"
      ],
      "text/plain": [
       "[1] 120"
      ]
     },
     "metadata": {},
     "output_type": "display_data"
    }
   ],
   "source": [
    "v<-5\n",
    "myFactorialRecursive(v)\n",
    "myFactorialIter(v)\n",
    "factorial(v)"
   ]
  },
  {
   "cell_type": "markdown",
   "metadata": {},
   "source": [
    "## Percentiles\n",
    "\n",
    "Hacer una función que calcule el percentil de un vector. Recibirá dos parámetros, el vector y el percentil que queremos ver, sino se indica el percentil se supondrá que es el 50%."
   ]
  },
  {
   "cell_type": "code",
   "execution_count": 3,
   "metadata": {},
   "outputs": [],
   "source": [
    "calcPercentile<-function(x,p=50){\n",
    "    p<-p/100\n",
    "    x<-sort(na.omit(x))\n",
    "    idx<- 1+(length(x)-1)*p\n",
    "    err<-ceiling(idx)-idx\n",
    "        \n",
    "    xl<-x[floor(idx)]\n",
    "    xh<-x[ceiling(idx)]   \n",
    "\n",
    "    xl*err+xh*(1-err)\n",
    "}"
   ]
  },
  {
   "cell_type": "code",
   "execution_count": 4,
   "metadata": {},
   "outputs": [
    {
     "data": {
      "text/html": [
       "4.48882322642021"
      ],
      "text/latex": [
       "4.48882322642021"
      ],
      "text/markdown": [
       "4.48882322642021"
      ],
      "text/plain": [
       "[1] 4.488823"
      ]
     },
     "metadata": {},
     "output_type": "display_data"
    },
    {
     "data": {
      "text/html": [
       "<strong>50%:</strong> 4.48882322642021"
      ],
      "text/latex": [
       "\\textbf{50\\textbackslash{}\\%:} 4.48882322642021"
      ],
      "text/markdown": [
       "**50%:** 4.48882322642021"
      ],
      "text/plain": [
       "     50% \n",
       "4.488823 "
      ]
     },
     "metadata": {},
     "output_type": "display_data"
    },
    {
     "data": {
      "text/html": [
       "8.99432199606672"
      ],
      "text/latex": [
       "8.99432199606672"
      ],
      "text/markdown": [
       "8.99432199606672"
      ],
      "text/plain": [
       "[1] 8.994322"
      ]
     },
     "metadata": {},
     "output_type": "display_data"
    },
    {
     "data": {
      "text/html": [
       "<strong>92%:</strong> 8.99432199606672"
      ],
      "text/latex": [
       "\\textbf{92\\textbackslash{}\\%:} 8.99432199606672"
      ],
      "text/markdown": [
       "**92%:** 8.99432199606672"
      ],
      "text/plain": [
       "     92% \n",
       "8.994322 "
      ]
     },
     "metadata": {},
     "output_type": "display_data"
    }
   ],
   "source": [
    "x<-runif(100,min=0,max=10)\n",
    "calcPercentile(x)\n",
    "quantile(x,0.5)\n",
    "\n",
    "calcPercentile(x,92)\n",
    "quantile(x,0.92)"
   ]
  },
  {
   "cell_type": "markdown",
   "metadata": {},
   "source": [
    " ## CSV edad española\n",
    " \n",
    " Usando el CSV del INE.¿Cual es la media de edad de la población española? ¿y la mediana? ¿la moda?"
   ]
  },
  {
   "cell_type": "code",
   "execution_count": 5,
   "metadata": {},
   "outputs": [],
   "source": [
    "poblacion<-read.csv(\"funcProbabilidad/9663c.csv\",skip=6,\n",
    "                    fileEncoding=\"ISO-8859-1\",header=F)\n",
    "poblacion$V5<-NULL\n",
    "colnames(poblacion)<-c(\"edadTxt\",\"Total\",\"Hombres\",\"Mujeres\")\n",
    "poblacion<-poblacion[1:105,]\n",
    "poblacion$edad<-0:104"
   ]
  },
  {
   "cell_type": "code",
   "execution_count": 6,
   "metadata": {},
   "outputs": [
    {
     "data": {
      "text/html": [
       "804223"
      ],
      "text/latex": [
       "804223"
      ],
      "text/markdown": [
       "804223"
      ],
      "text/plain": [
       "[1] 804223"
      ]
     },
     "metadata": {},
     "output_type": "display_data"
    }
   ],
   "source": [
    "max(poblacion$Total)"
   ]
  },
  {
   "cell_type": "code",
   "execution_count": 7,
   "metadata": {},
   "outputs": [
    {
     "data": {
      "text/html": [
       "<span style=white-space:pre-wrap>'La edad con más población, la moda, es:     41 años'</span>"
      ],
      "text/latex": [
       "'La edad con más población, la moda, es:     41 años'"
      ],
      "text/markdown": [
       "<span style=white-space:pre-wrap>'La edad con más población, la moda, es:     41 años'</span>"
      ],
      "text/plain": [
       "[1] \"La edad con más población, la moda, es:     41 años\""
      ]
     },
     "metadata": {},
     "output_type": "display_data"
    }
   ],
   "source": [
    "paste(\"La edad con más población, la moda, es:\",\n",
    "      poblacion$edadTxt[which.max(poblacion$Total)])"
   ]
  },
  {
   "cell_type": "markdown",
   "metadata": {},
   "source": [
    "\\\\[ \n",
    "    \\bar{x} =  \\frac{1}{\\text{poblaciónTotal}} \\sum _{i=1}^N edad_i · poblaciónConEdad_i \n",
    "\\\\]"
   ]
  },
  {
   "cell_type": "code",
   "execution_count": 8,
   "metadata": {},
   "outputs": [
    {
     "data": {
      "text/html": [
       "'La edad media es: 42.586387378654'"
      ],
      "text/latex": [
       "'La edad media es: 42.586387378654'"
      ],
      "text/markdown": [
       "'La edad media es: 42.586387378654'"
      ],
      "text/plain": [
       "[1] \"La edad media es: 42.586387378654\""
      ]
     },
     "metadata": {},
     "output_type": "display_data"
    }
   ],
   "source": [
    "paste(\"La edad media es:\",\n",
    "      sum(poblacion$edad*poblacion$Total)/sum(poblacion$Total))"
   ]
  },
  {
   "cell_type": "code",
   "execution_count": 9,
   "metadata": {},
   "outputs": [
    {
     "data": {
      "text/html": [
       "'La edad mediana es 42'"
      ],
      "text/latex": [
       "'La edad mediana es 42'"
      ],
      "text/markdown": [
       "'La edad mediana es 42'"
      ],
      "text/plain": [
       "[1] \"La edad mediana es 42\""
      ]
     },
     "metadata": {},
     "output_type": "display_data"
    }
   ],
   "source": [
    "paste(\"La edad mediana es\", \n",
    "      poblacion$edad[which.min(abs(cumsum(poblacion$Total/sum(poblacion$Total))-0.5))])"
   ]
  },
  {
   "cell_type": "markdown",
   "metadata": {},
   "source": [
    "## Peso al nacer\n",
    "\n",
    "Leer el dataset que se encuentra en tests/birthweight_reduced.csv. \n",
    "Quedarse con la columna Birthweight.\n",
    "Calcular cuantiles, media, desigualdad Chebyshev para k=2, y compararla con cuantiles. Boxplot.\n",
    "¿Sigue una distribución gaussiana?"
   ]
  },
  {
   "cell_type": "code",
   "execution_count": 10,
   "metadata": {},
   "outputs": [],
   "source": [
    "bwt<-read.csv(\"tests/birthweight_reduced.csv\")\n",
    "weight<-bwt$Birthweight"
   ]
  },
  {
   "cell_type": "code",
   "execution_count": 11,
   "metadata": {},
   "outputs": [
    {
     "data": {
      "text/html": [
       "<dl class=dl-horizontal>\n",
       "\t<dt>12.5%</dt>\n",
       "\t\t<dd>5.825</dd>\n",
       "\t<dt>25%</dt>\n",
       "\t\t<dd>6.45</dd>\n",
       "\t<dt>50%</dt>\n",
       "\t\t<dd>7.25</dd>\n",
       "\t<dt>75%</dt>\n",
       "\t\t<dd>8</dd>\n",
       "\t<dt>87.5%</dt>\n",
       "\t\t<dd>8.6</dd>\n",
       "</dl>\n"
      ],
      "text/latex": [
       "\\begin{description*}\n",
       "\\item[12.5\\textbackslash{}\\%] 5.825\n",
       "\\item[25\\textbackslash{}\\%] 6.45\n",
       "\\item[50\\textbackslash{}\\%] 7.25\n",
       "\\item[75\\textbackslash{}\\%] 8\n",
       "\\item[87.5\\textbackslash{}\\%] 8.6\n",
       "\\end{description*}\n"
      ],
      "text/markdown": [
       "12.5%\n",
       ":   5.82525%\n",
       ":   6.4550%\n",
       ":   7.2575%\n",
       ":   887.5%\n",
       ":   8.6\n",
       "\n"
      ],
      "text/plain": [
       "12.5%   25%   50%   75% 87.5% \n",
       "5.825 6.450 7.250 8.000 8.600 "
      ]
     },
     "metadata": {},
     "output_type": "display_data"
    }
   ],
   "source": [
    "quantile(weight,c(0.125,0.25,0.5,0.75,0.875))"
   ]
  },
  {
   "cell_type": "code",
   "execution_count": 12,
   "metadata": {},
   "outputs": [
    {
     "data": {
      "text/html": [
       "'Como máximo el 0.5 de las muestras estarán fuera del intervalo [5.38375091008086,9.14482051849057]'"
      ],
      "text/latex": [
       "'Como máximo el 0.5 de las muestras estarán fuera del intervalo {[}5.38375091008086,9.14482051849057{]}'"
      ],
      "text/markdown": [
       "'Como máximo el 0.5 de las muestras estarán fuera del intervalo [5.38375091008086,9.14482051849057]'"
      ],
      "text/plain": [
       "[1] \"Como máximo el 0.5 de las muestras estarán fuera del intervalo [5.38375091008086,9.14482051849057]\""
      ]
     },
     "metadata": {},
     "output_type": "display_data"
    },
    {
     "data": {
      "text/html": [
       "'Como máximo el 0.25 de las muestras estarán fuera del intervalo [4.60480788966458,9.92376353890685]'"
      ],
      "text/latex": [
       "'Como máximo el 0.25 de las muestras estarán fuera del intervalo {[}4.60480788966458,9.92376353890685{]}'"
      ],
      "text/markdown": [
       "'Como máximo el 0.25 de las muestras estarán fuera del intervalo [4.60480788966458,9.92376353890685]'"
      ],
      "text/plain": [
       "[1] \"Como máximo el 0.25 de las muestras estarán fuera del intervalo [4.60480788966458,9.92376353890685]\""
      ]
     },
     "metadata": {},
     "output_type": "display_data"
    }
   ],
   "source": [
    "k<- sqrt(2)\n",
    "limit_inf  <- mean(weight)-k*sd(weight)\n",
    "limit_sup <- mean(weight)+k*sd(weight)\n",
    "\n",
    "paste0(\"Como máximo el \",1/k^2,\" de las muestras estarán fuera del intervalo [\",limit_inf,\",\",limit_sup,\"]\")\n",
    "\n",
    "k<- 2\n",
    "limit_inf  <- mean(weight)-k*sd(weight)\n",
    "limit_sup <- mean(weight)+k*sd(weight)\n",
    "\n",
    "paste0(\"Como máximo el \",1/k^2,\" de las muestras estarán fuera del intervalo [\",limit_inf,\",\",limit_sup,\"]\")"
   ]
  },
  {
   "cell_type": "code",
   "execution_count": 13,
   "metadata": {},
   "outputs": [
    {
     "data": {
      "image/png": "[encoded data removed]",
      "text/plain": [
       "Plot with title “Peso al nacer”"
      ]
     },
     "metadata": {},
     "output_type": "display_data"
    }
   ],
   "source": [
    "options(repr.plot.height=4,repr.plot.width=3)\n",
    "boxplot(weight,main=\"Peso al nacer\")\n",
    "options(repr.plot.height=7,repr.plot.width=7)"
   ]
  },
  {
   "cell_type": "code",
   "execution_count": 14,
   "metadata": {},
   "outputs": [
    {
     "data": {
      "image/png": "[encoded data removed]",
      "text/plain": [
       "Plot with title “Normal Q-Q Plot”"
      ]
     },
     "metadata": {},
     "output_type": "display_data"
    }
   ],
   "source": [
    "qqnorm((weight-mean(weight))/sd(weight))\n",
    "qqline((weight-mean(weight))/sd(weight), col = 'orange', lwd =2)\n",
    "grid()"
   ]
  },
  {
   "cell_type": "markdown",
   "metadata": {},
   "source": [
    "### La paradoja del Autobús\n",
    "\n",
    "Un autobus tiene una frecuencia de 1 autobús cada 10 minutos. \n",
    "¿Cuanto tiempo de media tengo que esperar para ver pasar un autobús por la parada? \n",
    "¿Y para ver 2 autobuses pasar por la parada?  \n",
    "¿Cual es la probabilidad de que el autobús llegue antes de que pase 5 minutos esperando?"
   ]
  },
  {
   "cell_type": "markdown",
   "metadata": {},
   "source": [
    "### Hipótesis 1: \n",
    "\n",
    "El autobús tiene un horario fijo y preciso. Cada autobús sale cada 10 minutos exactamente. Podemos asumir que no hay atasco y los autobuses cumplen el horario previsto.\n",
    "\n",
    "Llegamos a la parada en un tiempo aleatorio. El autobús puede llegar en cualquier momento que siga una distribución en 0 y 10 minutos.\n",
    "\n",
    "La media de espera de un autobús es: $\\mu=\\frac{b-a}{2}-\\frac{10-0}{2}=5$ minutos\n",
    "\n",
    "La media de espera para ver dos autobuses es: 5+10=15 minutos\n",
    "\n",
    "La probabilidad de que el autobús llegue antes de que pase 5 minutos esperando es:\n",
    "\\\\[\n",
    "P(X<5)=\\int_0^5 \\frac{1}{10} dx = 0.5\n",
    "\\\\]\n"
   ]
  },
  {
   "cell_type": "code",
   "execution_count": 15,
   "metadata": {},
   "outputs": [
    {
     "data": {
      "text/html": [
       "'función de densisdad de probabilidad de que aparezca un autobús'"
      ],
      "text/latex": [
       "'función de densisdad de probabilidad de que aparezca un autobús'"
      ],
      "text/markdown": [
       "'función de densisdad de probabilidad de que aparezca un autobús'"
      ],
      "text/plain": [
       "[1] \"función de densisdad de probabilidad de que aparezca un autobús\""
      ]
     },
     "metadata": {},
     "output_type": "display_data"
    },
    {
     "data": {
      "image/png": "[encoded data removed]",
      "text/plain": [
       "plot without title"
      ]
     },
     "metadata": {},
     "output_type": "display_data"
    }
   ],
   "source": [
    "options(repr.plot.height=4,repr.plot.width=5)\n",
    "x<-seq(-5,20,by=0.1)\n",
    "plot(x,dunif( x,min=0,max=10 ),t='l')\n",
    "paste(\"función de densisdad de probabilidad de que aparezca un autobús\")\n",
    "options(repr.plot.height=3,repr.plot.width=5,xlab=\"minutos\")"
   ]
  },
  {
   "cell_type": "markdown",
   "metadata": {},
   "source": [
    "### Hipótesis 2: \n",
    "\n",
    "El autobús tiene un horario fijo y preciso. Cada autobús sale cada 10 minutos exactamente. Pero el tráfico no es fluido, hay mucha gente subiendo y bajando del autobús continuamente y nos encontramos en una parada lejana de la cabecera.\n",
    "\n",
    "Llegamos a la parada en un tiempo aleatorio. Podemos asumir que el hecho de que aparezca un autobús en la parada es independiente de cuando fue la última vez que pasó un autobús. Los autobuses aparecen en la parada siguiendo una distribución de Poisson y el tiempo de espera se modela con una distribución exponencial. Se producirá un evento (aparecerá un bus) con una media de $\\lambda=1/10$ cada minuto.\n",
    "\n",
    "La media de espera para ver un autobús sería $1/\\lambda=10$ minutos\n",
    "\n",
    "La media de espera para ver dos autobuses sería 20 minutos\n",
    "\n",
    "\n",
    "La probabilidad de que el autobús llegue antes de que pase 5 minutos esperando es:\n",
    "\\\\[\n",
    "P(X<5)=\\int_0^5 \\frac{1}{10}·e^{\\frac{-1}{10}} dx =-e^{-\\frac{1}{10}} \\Big|_0^5 = -e^{\\frac{-5}{10}}+e^0=0.3934\n",
    "\\\\]\n"
   ]
  }
 ],
 "metadata": {
  "kernelspec": {
   "display_name": "R",
   "language": "R",
   "name": "ir"
  },
  "language_info": {
   "codemirror_mode": "r",
   "file_extension": ".r",
   "mimetype": "text/x-r-source",
   "name": "R",
   "pygments_lexer": "r",
   "version": "3.2.3"
  }
 },
 "nbformat": 4,
 "nbformat_minor": 1
}
