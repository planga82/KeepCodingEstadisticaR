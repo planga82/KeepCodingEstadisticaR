{
 "cells": [
  {
   "cell_type": "markdown",
   "metadata": {},
   "source": [
    "# Origen de la vida\n",
    "\n",
    "\n",
    "La siguiente tabla muestra la complejidad de ADN de diferentes grupos de animales y su aparición en la tierra:\n",
    "\n",
    "| especies | genoma completo | genoma sin redundancia | aparición |\n",
    "| - | - | - | - |\n",
    "| mamíferos | $3.2 · 10^9$pb | $4.8 · 10^8$pb | 125 ma |\n",
    "| peces     | $4.8 · 10^8$pb | $1.6 · 10^8$pb | 500 ma |\n",
    "| gusanos   | $9.7 · 10^7$pb | $7.2 · 10^7$pb | 1000ma |\n",
    "| eucariotas| $2.9 · 10^6$pb | $2.9 · 10^6$pb | 2100ma |\n",
    "| procariotas|$5 · 10^5$pb   | $5 · 10^5$pb   | 3500ma |\n",
    "\n",
    "Las columnas significan:\n",
    "* especies: especies de animales.\n",
    "* genoma completo: Longitud del genoma de una especie medido en pares de bases de ADN.\n",
    "* genoma completo: Longitud del genoma de una especie, eliminando la redundancia, medido en pares de bases de ADN.\n",
    "* aparición: Cuando ese conjunto de especies aparecieron.\n",
    "\n",
    "Con estos datos tratar de obtener una regresión que indique cuando apareció un organismo con solo 1 par de bases genéticas. Esto podría marcar el origen de la vida.\n",
    "\n",
    "¿Qué columna habría que coger para hacer la regresión la del genoma completo o el que elimina la redundancia?\n",
    "\n",
    "Ayuda: Es mejor usar escalas logarítmicas."
   ]
  },
  {
   "cell_type": "code",
   "execution_count": 85,
   "metadata": {},
   "outputs": [],
   "source": []
  },
  {
   "cell_type": "markdown",
   "metadata": {},
   "source": [
    "## Cartera de acciones\n",
    "\n",
    "Utilizando el paquete *quantmod* nos bajaremos el valor de las acciones de Telefónica (TEF.MC) y BBVA (BBVA.MC) desde 2017-01-01 hasta 2018-01-01.\n",
    "\n",
    "Tareas:\n",
    "\n",
    "1- Calcular el logaritmo del retorno de inversión respecto al cierre de la acción del día anterior:\n",
    "\\\\[\n",
    "\\text{retorno_dia}_i=\\frac{Close.Adjusted[i]}{Close.Adjusted[i-1]}\n",
    "\\\\]\n",
    "Trabajar con:\n",
    "\\\\[\n",
    "R_i=log(\\text{retorno_dia}_i)\n",
    "\\\\]\n",
    "\n",
    "2- Crear un dataframe con dos columnas para almacenar el $R_i$ de las dos acciones\n",
    "\n",
    "3- Calcular la media de este data frame por columnas (se puede usar la función colMeans)\n",
    "\n",
    "4- Calcular la matriz de covarianza de este data frame\n",
    "\n",
    "5- Simulamos varios porforlios formados por las dos acciones. Utilizaremos la variable p para indicar el ratio de accioens que habrá de Telefónica, a su vez (1-p) será el ratio de acciones de BBVA de nuestro portfolio.\n",
    "\n",
    "La media de retorno del portfolio será:\n",
    "\\\\[\n",
    "retorno = p·\\mu_{Telefonica}+(1-p)·\\mu_{BBVA}\n",
    "\\\\]\n",
    "donde $\\mu_{Telefonica}$ y $\\mu_{BBVA}$ son las medias que hemos obtenido en el punto 3.\n",
    "\n",
    "La varianza del portfolio será:\n",
    "\\\\[\n",
    "varianza = p^2·\\sigma^2_{Telefonica}+(1-p)^2·\\sigma^2_{BBVA}+2·p·(1-p)·\\sigma^2_{BBVA,Telefonica}\n",
    "\\\\]\n",
    "donde $\\sigma_ij$ es el elemento correspondiente de la matriz de covarianza.\n",
    "\n",
    "Se hace un barrido de p con 1000 puntos entre 0 y 1.\n",
    "\n",
    "6 - Pintar en una gráfica el retorno vs varianza para los diferentes valore de p (se puede usar ggplot con geom_path).\n"
   ]
  },
  {
   "cell_type": "code",
   "execution_count": null,
   "metadata": {},
   "outputs": [],
   "source": []
  }
 ],
 "metadata": {
  "kernelspec": {
   "display_name": "R",
   "language": "R",
   "name": "ir"
  },
  "language_info": {
   "codemirror_mode": "r",
   "file_extension": ".r",
   "mimetype": "text/x-r-source",
   "name": "R",
   "pygments_lexer": "r",
   "version": "3.2.3"
  }
 },
 "nbformat": 4,
 "nbformat_minor": 2
}
