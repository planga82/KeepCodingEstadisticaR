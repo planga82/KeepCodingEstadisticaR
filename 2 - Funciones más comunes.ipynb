{
 "cells": [
  {
   "cell_type": "markdown",
   "metadata": {},
   "source": [
    "# Funciones en R\n",
    "\n",
    "\n",
    "\n",
    "Vamos a crear nuestra primera función para sumar dos números."
   ]
  },
  {
   "cell_type": "code",
   "execution_count": 1,
   "metadata": {
    "collapsed": false
   },
   "outputs": [],
   "source": [
    "restaDosNumeros<-function(x,y){\n",
    "    z<-x-y\n",
    "    return(z)\n",
    "}"
   ]
  },
  {
   "cell_type": "code",
   "execution_count": 2,
   "metadata": {
    "collapsed": false
   },
   "outputs": [
    {
     "data": {
      "text/html": [
       "3"
      ],
      "text/latex": [
       "3"
      ],
      "text/markdown": [
       "3"
      ],
      "text/plain": [
       "[1] 3"
      ]
     },
     "metadata": {},
     "output_type": "display_data"
    }
   ],
   "source": [
    "restaDosNumeros(10,7)"
   ]
  },
  {
   "cell_type": "markdown",
   "metadata": {},
   "source": [
    "Podemos referenciar los parámetros por nombre:"
   ]
  },
  {
   "cell_type": "code",
   "execution_count": 5,
   "metadata": {
    "collapsed": false
   },
   "outputs": [
    {
     "data": {
      "text/html": [
       "-3"
      ],
      "text/latex": [
       "-3"
      ],
      "text/markdown": [
       "-3"
      ],
      "text/plain": [
       "[1] -3"
      ]
     },
     "metadata": {},
     "output_type": "display_data"
    }
   ],
   "source": [
    "restaDosNumeros(y=10,x=7)"
   ]
  },
  {
   "cell_type": "markdown",
   "metadata": {},
   "source": [
    "Podemos definir parámetros opcionales con un valor por defecto."
   ]
  },
  {
   "cell_type": "code",
   "execution_count": 9,
   "metadata": {
    "collapsed": true
   },
   "outputs": [],
   "source": [
    "restaDosNumerosConEscala<-function(x,y,scale = 1){\n",
    "    (x-y)*scale\n",
    "}"
   ]
  },
  {
   "cell_type": "code",
   "execution_count": 10,
   "metadata": {
    "collapsed": false
   },
   "outputs": [
    {
     "data": {
      "text/html": [
       "3"
      ],
      "text/latex": [
       "3"
      ],
      "text/markdown": [
       "3"
      ],
      "text/plain": [
       "[1] 3"
      ]
     },
     "metadata": {},
     "output_type": "display_data"
    }
   ],
   "source": [
    "restaDosNumerosConEscala(10,7)"
   ]
  },
  {
   "cell_type": "code",
   "execution_count": 11,
   "metadata": {
    "collapsed": false
   },
   "outputs": [
    {
     "data": {
      "text/html": [
       "15"
      ],
      "text/latex": [
       "15"
      ],
      "text/markdown": [
       "15"
      ],
      "text/plain": [
       "[1] 15"
      ]
     },
     "metadata": {},
     "output_type": "display_data"
    }
   ],
   "source": [
    "restaDosNumerosConEscala(10,7,5)"
   ]
  },
  {
   "cell_type": "markdown",
   "metadata": {},
   "source": [
    "Las funciones en R son objetos como puede ser un número, un vector o un data frame."
   ]
  },
  {
   "cell_type": "code",
   "execution_count": 3,
   "metadata": {
    "collapsed": false
   },
   "outputs": [
    {
     "data": {
      "text/html": [
       "'restaDosNumeros'"
      ],
      "text/latex": [
       "'restaDosNumeros'"
      ],
      "text/markdown": [
       "'restaDosNumeros'"
      ],
      "text/plain": [
       "[1] \"restaDosNumeros\""
      ]
     },
     "metadata": {},
     "output_type": "display_data"
    }
   ],
   "source": [
    "ls()"
   ]
  },
  {
   "cell_type": "markdown",
   "metadata": {},
   "source": [
    "Podemos ver su contenido llamando al nombre del objeto, sin paréntesis."
   ]
  },
  {
   "cell_type": "code",
   "execution_count": 4,
   "metadata": {
    "collapsed": false
   },
   "outputs": [
    {
     "data": {
      "text/html": [
       "<pre class=language-r><code>function (x, y) \n",
       "{\n",
       "<span style=white-space:pre-wrap>    z &lt;- x - y</span>\n",
       "<span style=white-space:pre-wrap>    return(z)</span>\n",
       "}</code></pre>"
      ],
      "text/latex": [
       "\\begin{minted}{r}\n",
       "function (x, y) \n",
       "\\{\n",
       "    z <- x - y\n",
       "    return(z)\n",
       "\\}\n",
       "\\end{minted}"
      ],
      "text/markdown": [
       "```r\n",
       "function (x, y) \n",
       "{\n",
       "    z <- x - y\n",
       "    return(z)\n",
       "}\n",
       "```"
      ],
      "text/plain": [
       "function(x,y){\n",
       "    z<-x-y\n",
       "    return(z)\n",
       "}"
      ]
     },
     "metadata": {},
     "output_type": "display_data"
    }
   ],
   "source": [
    "restaDosNumeros"
   ]
  },
  {
   "cell_type": "markdown",
   "metadata": {},
   "source": [
    "## Estimador estadístico\n",
    "\n",
    "Vamos a ver varios ejemplos de funciones en R utilizando estimadores estadísticos.\n",
    "\n",
    "Un [estimador](https://es.wikipedia.org/wiki/Estimador) es un estadístico (esto es, una función de la muestra) usado para estimar un parámetro desconocido de la población.\n",
    "\n",
    "Un estimador es una función que coje valores de una muestra de datos y hace un resumen, **estima un valor que define la muestra**."
   ]
  },
  {
   "cell_type": "markdown",
   "metadata": {},
   "source": [
    "Como ejemplo de población utilizaremos el siguiente vector de alturas:"
   ]
  },
  {
   "cell_type": "code",
   "execution_count": 2,
   "metadata": {
    "collapsed": true
   },
   "outputs": [],
   "source": [
    "alturas<-c(1.80,1.60,1.50,1.90,1.75,1.63,1.65)"
   ]
  },
  {
   "cell_type": "markdown",
   "metadata": {},
   "source": [
    "### Media aritmética\n",
    "\n",
    "En matemáticas y estadística, la [media aritmética](https://es.wikipedia.org/wiki/Media_aritm%C3%A9tica) (también llamada promedio o media) de un conjunto finito de números es el valor característico de una serie de datos cuantitativos, objeto de estudio que parte del principio de la esperanza matemática o valor esperado, se obtiene a partir de la suma de todos sus valores dividida entre el número de sumandos. "
   ]
  },
  {
   "cell_type": "markdown",
   "metadata": {},
   "source": [
    "\\\\[ \\bar{x} =  \\frac{1}{N} \\sum _{i=1}^N x_i\\\\]"
   ]
  },
  {
   "cell_type": "markdown",
   "metadata": {},
   "source": [
    "En R la función de la media se podría definir así:"
   ]
  },
  {
   "cell_type": "code",
   "execution_count": 16,
   "metadata": {
    "collapsed": true
   },
   "outputs": [],
   "source": [
    "myMean<-function(X){\n",
    "    m<-0\n",
    "    for (xi in X){\n",
    "        m<-m+xi\n",
    "    }\n",
    "    m/length(X)\n",
    "}"
   ]
  },
  {
   "cell_type": "code",
   "execution_count": 17,
   "metadata": {
    "collapsed": false
   },
   "outputs": [
    {
     "data": {
      "text/html": [
       "1.69"
      ],
      "text/latex": [
       "1.69"
      ],
      "text/markdown": [
       "1.69"
      ],
      "text/plain": [
       "[1] 1.69"
      ]
     },
     "metadata": {},
     "output_type": "display_data"
    }
   ],
   "source": [
    "myMean(alturas)"
   ]
  },
  {
   "cell_type": "markdown",
   "metadata": {},
   "source": [
    "Evidentemente R tiene una función para la media cuya ejecución es mucho más rápida que nuestra función:"
   ]
  },
  {
   "cell_type": "code",
   "execution_count": 19,
   "metadata": {
    "collapsed": false
   },
   "outputs": [
    {
     "data": {
      "text/html": [
       "1.69"
      ],
      "text/latex": [
       "1.69"
      ],
      "text/markdown": [
       "1.69"
      ],
      "text/plain": [
       "[1] 1.69"
      ]
     },
     "metadata": {},
     "output_type": "display_data"
    }
   ],
   "source": [
    "mean(alturas)"
   ]
  },
  {
   "cell_type": "markdown",
   "metadata": {},
   "source": [
    "### Media geométrica\n",
    "\n",
    "La [media geométrica](https://es.wikipedia.org/wiki/Media_geom%C3%A9trica) de una cantidad arbitraria de números (por decir n números) es la raíz n-ésima del producto de todos los números."
   ]
  },
  {
   "cell_type": "markdown",
   "metadata": {},
   "source": [
    "\\\\[  \\sqrt[N] {\\prod _{i=1}^N x_i }\\\\]"
   ]
  },
  {
   "cell_type": "code",
   "execution_count": 117,
   "metadata": {
    "collapsed": true
   },
   "outputs": [],
   "source": [
    "myGeometricMean<-function(X,na.rm=F){\n",
    "    if (na.rm){\n",
    "        X<-na.omit(X)\n",
    "    }\n",
    "    m<-1\n",
    "    for (xi in X){\n",
    "        m<-m*xi        \n",
    "    }\n",
    "    m^(1/length(X))\n",
    "}"
   ]
  },
  {
   "cell_type": "markdown",
   "metadata": {},
   "source": [
    "**¿Cual es el TAE medio en el cambio Bitcoins en doláres desde 2011?**\n",
    "\n",
    "En la siguiente tabla podemos ver el precio a final de cada año, junto con su revalorización porcentual durante ese año."
   ]
  },
  {
   "cell_type": "code",
   "execution_count": 142,
   "metadata": {
    "collapsed": false
   },
   "outputs": [
    {
     "data": {
      "text/html": [
       "<table>\n",
       "<thead><tr><th scope=col>año</th><th scope=col>valor</th><th scope=col>TAE</th><th scope=col>ratio</th></tr></thead>\n",
       "<tbody>\n",
       "\t<tr><td>2010   </td><td>    0.3</td><td>     NA</td><td>     NA</td></tr>\n",
       "\t<tr><td>2011   </td><td>    4.7</td><td>1466.67</td><td>15.6667</td></tr>\n",
       "\t<tr><td>2012   </td><td>   13.2</td><td> 180.85</td><td> 2.8085</td></tr>\n",
       "\t<tr><td>2013   </td><td>  760.0</td><td>5657.58</td><td>57.5758</td></tr>\n",
       "\t<tr><td>2014   </td><td>  316.0</td><td> -58.42</td><td> 0.4158</td></tr>\n",
       "\t<tr><td>2015   </td><td>  430.0</td><td>  36.08</td><td> 1.3608</td></tr>\n",
       "\t<tr><td>2016   </td><td>  980.0</td><td> 127.91</td><td> 2.2791</td></tr>\n",
       "\t<tr><td>2017   </td><td>12000.0</td><td>1124.49</td><td>12.2449</td></tr>\n",
       "</tbody>\n",
       "</table>\n"
      ],
      "text/latex": [
       "\\begin{tabular}{r|llll}\n",
       " año & valor & TAE & ratio\\\\\n",
       "\\hline\n",
       "\t 2010    &     0.3 &      NA &      NA\\\\\n",
       "\t 2011    &     4.7 & 1466.67 & 15.6667\\\\\n",
       "\t 2012    &    13.2 &  180.85 &  2.8085\\\\\n",
       "\t 2013    &   760.0 & 5657.58 & 57.5758\\\\\n",
       "\t 2014    &   316.0 &  -58.42 &  0.4158\\\\\n",
       "\t 2015    &   430.0 &   36.08 &  1.3608\\\\\n",
       "\t 2016    &   980.0 &  127.91 &  2.2791\\\\\n",
       "\t 2017    & 12000.0 & 1124.49 & 12.2449\\\\\n",
       "\\end{tabular}\n"
      ],
      "text/markdown": [
       "\n",
       "año | valor | TAE | ratio | \n",
       "|---|---|---|---|---|---|---|---|\n",
       "| 2010    |     0.3 |      NA |      NA | \n",
       "| 2011    |     4.7 | 1466.67 | 15.6667 | \n",
       "| 2012    |    13.2 |  180.85 |  2.8085 | \n",
       "| 2013    |   760.0 | 5657.58 | 57.5758 | \n",
       "| 2014    |   316.0 |  -58.42 |  0.4158 | \n",
       "| 2015    |   430.0 |   36.08 |  1.3608 | \n",
       "| 2016    |   980.0 |  127.91 |  2.2791 | \n",
       "| 2017    | 12000.0 | 1124.49 | 12.2449 | \n",
       "\n",
       "\n"
      ],
      "text/plain": [
       "  año  valor   TAE     ratio  \n",
       "1 2010     0.3      NA      NA\n",
       "2 2011     4.7 1466.67 15.6667\n",
       "3 2012    13.2  180.85  2.8085\n",
       "4 2013   760.0 5657.58 57.5758\n",
       "5 2014   316.0  -58.42  0.4158\n",
       "6 2015   430.0   36.08  1.3608\n",
       "7 2016   980.0  127.91  2.2791\n",
       "8 2017 12000.0 1124.49 12.2449"
      ]
     },
     "metadata": {},
     "output_type": "display_data"
    }
   ],
   "source": [
    "year<-c(2010,2011,2012,2013,2014,2015,2016,2017)\n",
    "value<-c(0.3, 4.7,13.2,760,316,430,980,12000)\n",
    "ratio<-c(NA,value[2:length(value)]/value[1:length(value)-1])\n",
    "rate<-(ratio-1)*100\n",
    "\n",
    "bitcoinValue<-data.frame(año=year,valor=value,TAE=round(rate,2),ratio=round(ratio,4))\n",
    "bitcoinValue"
   ]
  },
  {
   "cell_type": "code",
   "execution_count": 132,
   "metadata": {
    "collapsed": false
   },
   "outputs": [
    {
     "name": "stdout",
     "output_type": "stream",
     "text": [
      "[1] \"La media aritmética de todos los interes TAE es: 1219.31%\"\n"
     ]
    }
   ],
   "source": [
    "print(paste0(\"La media aritmética de todos los interes TAE es: \",\n",
    "             round(mean(bitcoinValue$TAE,na.rm=T),2),\"%\"))"
   ]
  },
  {
   "cell_type": "code",
   "execution_count": 143,
   "metadata": {
    "collapsed": false
   },
   "outputs": [
    {
     "name": "stdout",
     "output_type": "stream",
     "text": [
      "[1] \"La media real de todos los interes TAE es:354.4%\"\n"
     ]
    }
   ],
   "source": [
    "realTAEmean<-(myGeometricMean(bitcoinValue$ratio,na.rm=T)-1)*100\n",
    "print(paste0(\"La media real de todos los interes TAE es:\",\n",
    "             round(realTAEmean,2),\"%\"))"
   ]
  },
  {
   "cell_type": "code",
   "execution_count": 160,
   "metadata": {
    "collapsed": false
   },
   "outputs": [
    {
     "name": "stdout",
     "output_type": "stream",
     "text": [
      "[1] \"Si hubieramos invertido $10 a un interés del 354.4% TAE, 7 años después tendríamos $400027\"\n"
     ]
    }
   ],
   "source": [
    "initialAmount<-10\n",
    "\n",
    "print(paste0(\"Si hubieramos invertido $\",initialAmount,\" a un interés del \",round(realTAEmean,2),\n",
    "             \"% TAE, 7 años después tendríamos $\", round(initialAmount*(realTAEmean/100+1)^7)))"
   ]
  },
  {
   "cell_type": "markdown",
   "metadata": {},
   "source": [
    "![Imagen no cargada. Edita y borra la @ ](http://confidenceisquiet.com/wp-content/uploads/2017/10/Compound-Interest-Einstein-768x347.png @ )\n"
   ]
  },
  {
   "cell_type": "markdown",
   "metadata": {},
   "source": [
    "![Imagen no cargada. Edita y borra la @ ](http://weknowmemes.com/wp-content/uploads/2012/07/dont-believe-everything-you-see-on-the-internet.jpg @ )\n"
   ]
  },
  {
   "cell_type": "markdown",
   "metadata": {},
   "source": [
    "### Varianza / desviación típica\n",
    "\n",
    "La [variancia](https://es.wikipedia.org/wiki/Varianza) (que suele representarse como $\\sigma ^{2}$,$s^2$ o $Var(X)$) de una variable aleatoria es una medida de dispersión definida como la esperanza del cuadrado de la desviación de dicha variable respecto a su media. O en pocas palabras, es la media de los residuos al cuadrado.\n",
    "\n",
    "Es decir, define lo mucho que varía una variable aleatoria respecto a la media:\n",
    "* Si todos los valores son iguales, no hay variación, la varianza es 0.\n",
    "* Si los valores son muy diferentes unos de otros la varianza es alta.\n",
    "\n",
    "La raíz cuadrada de la *varianza* es la **desviación típica** que indica **como de típica es la desviación respecto a la media en sus mismas unidades**."
   ]
  },
  {
   "cell_type": "markdown",
   "metadata": {},
   "source": [
    "\\\\[ Var[x] =  \\frac{1}{N} \\sum _{i=1}^N \\left( x_i-\\bar{x} \\right)^2 \\\\]\n",
    "\n"
   ]
  },
  {
   "cell_type": "markdown",
   "metadata": {},
   "source": [
    "En R la función de la varianza se podría definir así:"
   ]
  },
  {
   "cell_type": "code",
   "execution_count": 29,
   "metadata": {
    "collapsed": true
   },
   "outputs": [],
   "source": [
    "myVar<-function(X){\n",
    "    v<-0\n",
    "    m<-mean(alturas)\n",
    "    for (xi in X){\n",
    "        v<-v+(xi-m)^2\n",
    "    }\n",
    "    v/length(X)\n",
    "}"
   ]
  },
  {
   "cell_type": "code",
   "execution_count": 30,
   "metadata": {
    "collapsed": false
   },
   "outputs": [
    {
     "name": "stdout",
     "output_type": "stream",
     "text": [
      "[1] \"La varianza es: 0.0156\"\n",
      "[1] \"La desviación típica es: 0.124899959967968\"\n"
     ]
    }
   ],
   "source": [
    "print(paste(\"La varianza es:\",myVar(alturas)))\n",
    "print(paste(\"La desviación típica es:\",sqrt(myVar(alturas))))"
   ]
  },
  {
   "cell_type": "markdown",
   "metadata": {},
   "source": [
    "Evidentemente R tiene una función para la varianza (*var*) y la desviación típica (*sd*) cuya ejecución es mucho más rápida que nuestra función:"
   ]
  },
  {
   "cell_type": "code",
   "execution_count": 31,
   "metadata": {
    "collapsed": false
   },
   "outputs": [
    {
     "name": "stdout",
     "output_type": "stream",
     "text": [
      "[1] \"La varianza es: 0.0182\"\n",
      "[1] \"La desviación típica es: 0.13490737563232\"\n"
     ]
    }
   ],
   "source": [
    "print(paste(\"La varianza es:\",var(alturas)))\n",
    "print(paste(\"La desviación típica es:\",sd(alturas)))"
   ]
  },
  {
   "cell_type": "markdown",
   "metadata": {},
   "source": [
    "La varianza es un estimador sesgado y R utiliza la fórmula del estimador no sesgado. Veremos que significa eso en el futuro."
   ]
  },
  {
   "cell_type": "markdown",
   "metadata": {
    "collapsed": true
   },
   "source": [
    "#### Desigualdad de Chebyshev (Нера́венство Чебышёва)\n",
    "\n",
    "La desigualdad de Chebyshev es un resultado que ofrece una cota inferior a la probabilidad de que el valor de una variable aleatoria con varianza finita esté a una cierta distancia de su esperanza matemática."
   ]
  },
  {
   "cell_type": "markdown",
   "metadata": {},
   "source": [
    "\\\\[ Pr\\left( |X-\\bar{x}| \\geq k · \\sigma \\right) \\leq \\frac{1}{k^2} \\\\] "
   ]
  },
  {
   "cell_type": "markdown",
   "metadata": {},
   "source": [
    "O dicho de otras palabras, la probabilidad de que haya valores **fuera** del intervalo $\\left[ \\bar{x}-k\\sigma, \\bar{x}+k\\sigma \\right]$ es menor o igual a $1/{k^2}$."
   ]
  },
  {
   "cell_type": "code",
   "execution_count": 11,
   "metadata": {
    "collapsed": false
   },
   "outputs": [
    {
     "data": {
      "text/html": [
       "<table>\n",
       "<thead><tr><th scope=col>limite_inf</th><th scope=col>limite_sup</th><th scope=col>prob</th><th scope=col>k</th></tr></thead>\n",
       "<tbody>\n",
       "\t<tr><td>1.555093  </td><td>1.824907  </td><td>1.00000000</td><td>1.0       </td></tr>\n",
       "\t<tr><td>1.487639  </td><td>1.892361  </td><td>0.44444444</td><td>1.5       </td></tr>\n",
       "\t<tr><td>1.420185  </td><td>1.959815  </td><td>0.25000000</td><td>2.0       </td></tr>\n",
       "\t<tr><td>1.352732  </td><td>2.027268  </td><td>0.16000000</td><td>2.5       </td></tr>\n",
       "\t<tr><td>1.285278  </td><td>2.094722  </td><td>0.11111111</td><td>3.0       </td></tr>\n",
       "\t<tr><td>1.217824  </td><td>2.162176  </td><td>0.08163265</td><td>3.5       </td></tr>\n",
       "\t<tr><td>1.150370  </td><td>2.229630  </td><td>0.06250000</td><td>4.0       </td></tr>\n",
       "\t<tr><td>1.082917  </td><td>2.297083  </td><td>0.04938272</td><td>4.5       </td></tr>\n",
       "\t<tr><td>1.015463  </td><td>2.364537  </td><td>0.04000000</td><td>5.0       </td></tr>\n",
       "</tbody>\n",
       "</table>\n"
      ],
      "text/latex": [
       "\\begin{tabular}{r|llll}\n",
       " limite\\_inf & limite\\_sup & prob & k\\\\\n",
       "\\hline\n",
       "\t 1.555093   & 1.824907   & 1.00000000 & 1.0       \\\\\n",
       "\t 1.487639   & 1.892361   & 0.44444444 & 1.5       \\\\\n",
       "\t 1.420185   & 1.959815   & 0.25000000 & 2.0       \\\\\n",
       "\t 1.352732   & 2.027268   & 0.16000000 & 2.5       \\\\\n",
       "\t 1.285278   & 2.094722   & 0.11111111 & 3.0       \\\\\n",
       "\t 1.217824   & 2.162176   & 0.08163265 & 3.5       \\\\\n",
       "\t 1.150370   & 2.229630   & 0.06250000 & 4.0       \\\\\n",
       "\t 1.082917   & 2.297083   & 0.04938272 & 4.5       \\\\\n",
       "\t 1.015463   & 2.364537   & 0.04000000 & 5.0       \\\\\n",
       "\\end{tabular}\n"
      ],
      "text/markdown": [
       "\n",
       "limite_inf | limite_sup | prob | k | \n",
       "|---|---|---|---|---|---|---|---|---|\n",
       "| 1.555093   | 1.824907   | 1.00000000 | 1.0        | \n",
       "| 1.487639   | 1.892361   | 0.44444444 | 1.5        | \n",
       "| 1.420185   | 1.959815   | 0.25000000 | 2.0        | \n",
       "| 1.352732   | 2.027268   | 0.16000000 | 2.5        | \n",
       "| 1.285278   | 2.094722   | 0.11111111 | 3.0        | \n",
       "| 1.217824   | 2.162176   | 0.08163265 | 3.5        | \n",
       "| 1.150370   | 2.229630   | 0.06250000 | 4.0        | \n",
       "| 1.082917   | 2.297083   | 0.04938272 | 4.5        | \n",
       "| 1.015463   | 2.364537   | 0.04000000 | 5.0        | \n",
       "\n",
       "\n"
      ],
      "text/plain": [
       "  limite_inf limite_sup prob       k  \n",
       "1 1.555093   1.824907   1.00000000 1.0\n",
       "2 1.487639   1.892361   0.44444444 1.5\n",
       "3 1.420185   1.959815   0.25000000 2.0\n",
       "4 1.352732   2.027268   0.16000000 2.5\n",
       "5 1.285278   2.094722   0.11111111 3.0\n",
       "6 1.217824   2.162176   0.08163265 3.5\n",
       "7 1.150370   2.229630   0.06250000 4.0\n",
       "8 1.082917   2.297083   0.04938272 4.5\n",
       "9 1.015463   2.364537   0.04000000 5.0"
      ]
     },
     "metadata": {},
     "output_type": "display_data"
    }
   ],
   "source": [
    "k<-seq(from=1,to=5,by=0.5)\n",
    "margen<-data.frame(limite_inf=mean(alturas)-k*sd(alturas),limite_sup=mean(alturas)+k*sd(alturas),prob=1/k^2,k=k)\n",
    "\n",
    "margen"
   ]
  },
  {
   "cell_type": "code",
   "execution_count": 154,
   "metadata": {
    "collapsed": false
   },
   "outputs": [
    {
     "data": {
      "image/png": "[encoded data removed]",
      "text/plain": [
       "Plot with title “Desigualdad de Chebyshev”"
      ]
     },
     "metadata": {},
     "output_type": "display_data"
    }
   ],
   "source": [
    "plot(margen$k,margen$prob,t='l',xlab=\"k\",ylab=\"Probabilidad\",main=\"Desigualdad de Chebyshev\")\n",
    "grid()"
   ]
  },
  {
   "cell_type": "markdown",
   "metadata": {},
   "source": [
    "La desigualdad de Chebyshev es un límite muy pesimista, se pueden obtener mejores resultados cuando la distribución es conocida."
   ]
  },
  {
   "cell_type": "markdown",
   "metadata": {},
   "source": [
    "### Mediana"
   ]
  },
  {
   "cell_type": "markdown",
   "metadata": {},
   "source": [
    "La mediana es el valor de una distribución tal que la mitad de los elementos son superiores y la mitad son inferiores."
   ]
  },
  {
   "cell_type": "code",
   "execution_count": 50,
   "metadata": {
    "collapsed": false
   },
   "outputs": [],
   "source": [
    "myMedian<-function(x){\n",
    "    x<-sort(x)\n",
    "    i<-(length(x)+1)/2    \n",
    "    if (round(i)==i){\n",
    "        x[i]\n",
    "    }else{\n",
    "        (x[floor(i)]+x[ceiling(i)])/2\n",
    "    }    \n",
    "}"
   ]
  },
  {
   "cell_type": "code",
   "execution_count": 51,
   "metadata": {
    "collapsed": false
   },
   "outputs": [
    {
     "data": {
      "text/html": [
       "1.65"
      ],
      "text/latex": [
       "1.65"
      ],
      "text/markdown": [
       "1.65"
      ],
      "text/plain": [
       "[1] 1.65"
      ]
     },
     "metadata": {},
     "output_type": "display_data"
    }
   ],
   "source": [
    "myMedian(alturas)"
   ]
  },
  {
   "cell_type": "markdown",
   "metadata": {},
   "source": [
    "Como siempre es aconsejable utilizar la función que R ha preparado"
   ]
  },
  {
   "cell_type": "code",
   "execution_count": 52,
   "metadata": {
    "collapsed": false
   },
   "outputs": [
    {
     "data": {
      "text/html": [
       "1.65"
      ],
      "text/latex": [
       "1.65"
      ],
      "text/markdown": [
       "1.65"
      ],
      "text/plain": [
       "[1] 1.65"
      ]
     },
     "metadata": {},
     "output_type": "display_data"
    }
   ],
   "source": [
    "median(alturas)"
   ]
  },
  {
   "cell_type": "markdown",
   "metadata": {},
   "source": [
    "### Quartiles"
   ]
  },
  {
   "cell_type": "markdown",
   "metadata": {},
   "source": [
    "Los [cuartiles](https://es.wikipedia.org/wiki/Cuartil) son los tres valores que dividen un conjunto de datos ordenados en cuatro partes porcentualmente iguales.\n",
    "* Q1: El 25% de las muestras se encuentran por debajo del primer cuartil.\n",
    "* Q2: El 50% de las muestras se encuentran por debajo del segundo cuartil. Este valor también se le conoce como *mediana*\n",
    "* Q3: El 75% de las muestras se encuentran por debajo del tercer cuartil.\n",
    "\n",
    "Una forma muy práctica de mostrar estos valores es con el diagrama de cajas (boxplot en inglés)."
   ]
  },
  {
   "cell_type": "code",
   "execution_count": 59,
   "metadata": {
    "collapsed": false
   },
   "outputs": [
    {
     "data": {
      "image/png": "[encoded data removed]",
      "text/plain": [
       "plot without title"
      ]
     },
     "metadata": {},
     "output_type": "display_data"
    }
   ],
   "source": [
    "boxplot(alturas)\n",
    "grid()"
   ]
  },
  {
   "cell_type": "markdown",
   "metadata": {},
   "source": [
    "### Quantiles o percentiles\n",
    "\n",
    "El percentil indica el porcentaje de muestras que se encuentran debajo de un umbral dado. Es igual al cuantil, solo que este está dado en tanto por 1 mientras que el percentil está dado en tanto por ciento."
   ]
  },
  {
   "cell_type": "markdown",
   "metadata": {},
   "source": [
    "En R tenemos la función *quantile()*"
   ]
  },
  {
   "cell_type": "code",
   "execution_count": 61,
   "metadata": {
    "collapsed": false
   },
   "outputs": [
    {
     "data": {
      "text/html": [
       "<strong>90%:</strong> 1.84"
      ],
      "text/latex": [
       "\\textbf{90\\textbackslash{}\\%:} 1.84"
      ],
      "text/markdown": [
       "**90%:** 1.84"
      ],
      "text/plain": [
       " 90% \n",
       "1.84 "
      ]
     },
     "metadata": {},
     "output_type": "display_data"
    }
   ],
   "source": [
    "quantile(alturas,0.9)"
   ]
  },
  {
   "cell_type": "markdown",
   "metadata": {
    "collapsed": true
   },
   "source": [
    "\n",
    "### Moda\n",
    "\n",
    "Es el valor con mayor frecuencia en una distribución"
   ]
  }
 ],
 "metadata": {
  "kernelspec": {
   "display_name": "R",
   "language": "R",
   "name": "ir"
  },
  "language_info": {
   "codemirror_mode": "r",
   "file_extension": ".r",
   "mimetype": "text/x-r-source",
   "name": "R",
   "pygments_lexer": "r",
   "version": "3.4.2"
  }
 },
 "nbformat": 4,
 "nbformat_minor": 1
}
