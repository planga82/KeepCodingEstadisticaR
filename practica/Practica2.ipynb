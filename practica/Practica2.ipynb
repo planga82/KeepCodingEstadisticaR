{
 "cells": [
  {
   "cell_type": "markdown",
   "metadata": {},
   "source": [
    "# Introducción\n",
    "\n",
    "En esta práctica vamos a repasar diferentes tests estadísticos. Para ello nos ayudamos de los datos publicados por BCSC:\n",
    "*NCI-funded Breast Cancer Surveillance Consortium (P01 CA154292 and HHSN261201100031C). Downloaded mm/dd/yyyy from the Breast Cancer Surveillance Consortium Web site - http://www.bcsc-research.org/data/index.html.*\n",
    "\n",
    "Concretamente a través de este enlace:\n",
    "http://www.bcsc-research.org/data/rf/app2/DownloadRequest.aspx\n",
    "\n",
    "\n",
    "El fichero *BCSC_risk_factors_summarized.csv* descargado lo teneis en la carpeta *data*.\n",
    "\n",
    "Ese fichero es un CSV, la descripción de cada columna se puede ver en la siguiente tabla:"
   ]
  },
  {
   "cell_type": "markdown",
   "metadata": {},
   "source": [
    "\n",
    "| Nombre de variable | Descripción | Código | \n",
    "|-|-|-|\n",
    "| year | Año de la observación | Numérico, 2000-2009 |\n",
    "| year_group_5_years| Edad (años) en grupos de 5 años |  1 = Edad 18-29;  2 = Edad 30-34; 3 = Edad 35-39; 4 = Edad 40-44; 5 = Edad 45-49; 6 = Edad 50-54; 7 = Edad 55-59; 8 = Edad 60-64; 9 = Edad 65-69; 10 = Edad 70-74; 11 = Edad 75-79; 12 = Edad 80-84; 13 = Edad ≥85 |\n",
    "| race_eth | Grupo étnico | 1 = Non-Hispanic white; 2 = Non-Hispanic black; 3 = Asian/Pacific Islander; 4 = Native American; 5 = Hispanic; 6 = Other/mixed; 9 = Desconocido |\n",
    "| first_degree_hx | Historial de cancer de un familiar de primer grado | 0 = No; 1 = Sí; 9 = Desconocido |\n",
    "| Edad_menarche | Edad (años) at menarche |0 = Edad ≥14; 1 = Edad 12-13; 2 = Edad <12; 9 = Desconocido\n",
    "| Edad_first_birth | Edad (años) at first birth | 0 = Edad < 20; 1 = Edad 20-24; 2 = Edad 25-29; 3 = Edad ≥30; 4 = Nulliparous; 9 = Desconocido |\n",
    "| BIRADS_breast_density | BI-RADS densidad del cancer de pecho| 1 = Almost entirely fat; 2 =Scattered fibroglandular densities; 3 = Heterogeneously dense; 4 = Extremely dense; 9 = Desconocido |\n",
    "| current_hrt | Uso de terapia de hormonas de reemplazo | 0 = No; 1 = Sí; 9 = Desconocido |\n",
    "| menopaus | Menopausal status | 1 = Pre- or peri-menopausal; 2 = Post-menopausal; 3 = Surgical menopause; 9 = Desconocido |\n",
    "| bmi_group |  Body mass index | 1 = 10-24.99; 2 = 25-29.99; 3 = 30-34.99; 4 = 35 or more; 9 = Desconocido |\n",
    "| biophx | Biopsia previa o aspiración | 0 = No; 1 = Sí; 9 = Desconocido |\n",
    "| breast_cancer_history | Cancer diagnosticado con anterioridad | 0 = No; 1 = Sí; 9 = Desconocido |\n",
    "| count | Número de ocurrencias de estas covariables | Numérico|\n",
    "\n",
    "\n"
   ]
  },
  {
   "cell_type": "markdown",
   "metadata": {},
   "source": [
    "Leemos los datos del csv y los adaptamos. Pasos a seguir:\n",
    "1. Replicamos las filas indicadas por la columna *count*\n",
    "2. Los datos son muy grandes, para agilizar la práctica nos quedamos con 5000 muestras elegidas con muestreo aleatorio simple. El resto se puede descartar.\n",
    "3. Se adapta el resto"
   ]
  },
  {
   "cell_type": "code",
   "execution_count": 5,
   "metadata": {},
   "outputs": [],
   "source": [
    "riskFactors<-read.csv(\"./datos/BCSC_risk_factors_summarized.csv\", sep = \",\")"
   ]
  },
  {
   "cell_type": "code",
   "execution_count": 6,
   "metadata": {},
   "outputs": [],
   "source": [
    "riskFactors.exp <- riskFactors[rep(row.names(riskFactors), riskFactors$count), 1:12]"
   ]
  },
  {
   "cell_type": "markdown",
   "metadata": {},
   "source": [
    "El número de filas tras replicar las filas indicadas por la columna *count* es de 6318638. Como este número es muy alto para la máquina virtual que tenemos vamos a realizar una muestreo aleatorio simple y nos quedaremos con 5000 filas. El resto se descartan.\n",
    "\n",
    "*Nota:*Para el muestreo usad la semilla 12345, de esta forma todos tendresmos exactamente los mismos resultados."
   ]
  },
  {
   "cell_type": "code",
   "execution_count": 7,
   "metadata": {},
   "outputs": [],
   "source": [
    "#Definimos una semilla común para todos:\n",
    "set.seed(12345)\n",
    "#Utiliza muestreo aleatorio simple para quedarnos con 5000 muestras: \n",
    "riskFactors.m <- riskFactors.exp[ sample( 1:nrow( riskFactors.exp ), 5000 ), ]"
   ]
  },
  {
   "cell_type": "markdown",
   "metadata": {},
   "source": [
    "Formatear el dataframe:\n",
    "* Cambiamos los *Desconocido* por NA en las columnas \"race_eth\", \"first_degree_hx\", \"age_menarche\", \"age_first_birth\", \"BIRADS_breast_density\", \"current_hrt\", \"menopaus\", \"bmi_group\", \"biophx\", \"breast_cancer_history\"\n",
    "* Convertimos a factores las columnas que vamos a necesitar"
   ]
  },
  {
   "cell_type": "code",
   "execution_count": 8,
   "metadata": {},
   "outputs": [],
   "source": [
    "cols <- c(3:12)\n",
    "riskFactors.m[cols] <- lapply(riskFactors.m[cols],function(x){return(replace(x,x==9,NA))})"
   ]
  },
  {
   "cell_type": "code",
   "execution_count": 9,
   "metadata": {},
   "outputs": [],
   "source": [
    "cols <- c(2:12)\n",
    "riskFactors.m[cols] <- lapply(riskFactors.m[cols],factor)"
   ]
  },
  {
   "cell_type": "markdown",
   "metadata": {},
   "source": [
    "#### Edad y Antecedentes familiares"
   ]
  },
  {
   "cell_type": "markdown",
   "metadata": {},
   "source": [
    "Creamos una nueva columna con la edad estimada para un posterior análisis"
   ]
  },
  {
   "cell_type": "markdown",
   "metadata": {},
   "source": [
    "Representa en un diagrama de cajas cómo varía la **edad de aparición del cancer** en función de si ha habido **antecedentes familiares** o no.\n",
    "Ayuda:\n",
    "- Hay que crear una nueva columna con la edad estimada de cada rango."
   ]
  },
  {
   "cell_type": "code",
   "execution_count": 10,
   "metadata": {},
   "outputs": [],
   "source": [
    "riskFactors.m$edad.estimada<-0\n",
    "indices <- which(riskFactors.m$age_group_5_years==1)\n",
    "riskFactors.m[indices,]$edad.estimada <- mean(18:29)\n",
    "indices <- which(riskFactors.m$age_group_5_years==2)\n",
    "riskFactors.m[indices,]$edad.estimada <- mean(30:34)\n",
    "indices <- which(riskFactors.m$age_group_5_years==3)\n",
    "riskFactors.m[indices,]$edad.estimada <- mean(35:39)\n",
    "indices <- which(riskFactors.m$age_group_5_years==4)\n",
    "riskFactors.m[indices,]$edad.estimada <- mean(40:44)\n",
    "indices <- which(riskFactors.m$age_group_5_years==5)\n",
    "riskFactors.m[indices,]$edad.estimada <- mean(45:49)\n",
    "indices <- which(riskFactors.m$age_group_5_years==6)\n",
    "riskFactors.m[indices,]$edad.estimada <- mean(50:54)\n",
    "indices <- which(riskFactors.m$age_group_5_years==7)\n",
    "riskFactors.m[indices,]$edad.estimada <- mean(55:59)\n",
    "indices <- which(riskFactors.m$age_group_5_years==8)\n",
    "riskFactors.m[indices,]$edad.estimada <- mean(60:64)\n",
    "indices <- which(riskFactors.m$age_group_5_years==9)\n",
    "riskFactors.m[indices,]$edad.estimada <- mean(65:69)\n",
    "indices <- which(riskFactors.m$age_group_5_years==10)\n",
    "riskFactors.m[indices,]$edad.estimada <- mean(70:74)\n",
    "indices <- which(riskFactors.m$age_group_5_years==11)\n",
    "riskFactors.m[indices,]$edad.estimada <- mean(75:79)\n",
    "indices <- which(riskFactors.m$age_group_5_years==12)\n",
    "riskFactors.m[indices,]$edad.estimada <- mean(80:84)\n",
    "indices <- which(riskFactors.m$age_group_5_years==13)\n",
    "riskFactors.m[indices,]$edad.estimada <-90\n"
   ]
  },
  {
   "cell_type": "markdown",
   "metadata": {},
   "source": [
    "¿Existe una diferencia estadística significativa entre la edad de aparición del cancer y si hay antecedentes familiares? ¿Que test usarías para comprobarlo?"
   ]
  },
  {
   "cell_type": "markdown",
   "metadata": {},
   "source": [
    "Coprobamos que ambos subconjuntos no siguen una distribución normal, en ambos casos el p-valor es muy bajo"
   ]
  },
  {
   "cell_type": "code",
   "execution_count": 11,
   "metadata": {},
   "outputs": [
    {
     "data": {
      "text/plain": [
       "\n",
       "\tShapiro-Wilk normality test\n",
       "\n",
       "data:  edad.estimada.sin.antecedentes\n",
       "W = 0.95975, p-value < 2.2e-16\n"
      ]
     },
     "metadata": {},
     "output_type": "display_data"
    },
    {
     "data": {
      "text/plain": [
       "\n",
       "\tShapiro-Wilk normality test\n",
       "\n",
       "data:  edad.estimada.con.antecedentes\n",
       "W = 0.96961, p-value = 3.04e-11\n"
      ]
     },
     "metadata": {},
     "output_type": "display_data"
    }
   ],
   "source": [
    "edad.estimada.sin.antecedentes <- na.omit(riskFactors.m[riskFactors.m$first_degree_hx==0,]$edad.estimada)\n",
    "edad.estimada.con.antecedentes <- na.omit(riskFactors.m[riskFactors.m$first_degree_hx==1,]$edad.estimada)\n",
    "\n",
    "shapiro.test(edad.estimada.sin.antecedentes)\n",
    "shapiro.test(edad.estimada.con.antecedentes)"
   ]
  },
  {
   "cell_type": "markdown",
   "metadata": {},
   "source": [
    "Dado que no es una distribución normal, utilizamos el test Kruskal-wallis para comparar la media de ambas distribuciones. Como el p-valor es muy bajo, tenemos que rechazar la hipotesis nula y concluir que las medias de ambos conjuntos son diferentes."
   ]
  },
  {
   "cell_type": "code",
   "execution_count": 12,
   "metadata": {},
   "outputs": [
    {
     "data": {
      "text/plain": [
       "\n",
       "\tKruskal-Wallis rank sum test\n",
       "\n",
       "data:  edad.estimada by first_degree_hx\n",
       "Kruskal-Wallis chi-squared = 22.295, df = 1, p-value = 2.338e-06\n"
      ]
     },
     "metadata": {},
     "output_type": "display_data"
    }
   ],
   "source": [
    "kruskal.test( edad.estimada ~ first_degree_hx, data=riskFactors.m)"
   ]
  },
  {
   "cell_type": "markdown",
   "metadata": {},
   "source": [
    "Dibuja la curva de densidad de probabilidad de cómo varía la edad de aparición del cancer en función de si ha habido antecedentes familiares o no."
   ]
  },
  {
   "cell_type": "code",
   "execution_count": 13,
   "metadata": {},
   "outputs": [
    {
     "data": {},
     "metadata": {},
     "output_type": "display_data"
    },
    {
     "data": {
      "image/png": "[encoded data removed]",
      "text/plain": [
       "plot without title"
      ]
     },
     "metadata": {},
     "output_type": "display_data"
    }
   ],
   "source": [
    "library(\"ggplot2\")\n",
    "ggplot() + geom_density(data=data.frame(x=edad.estimada.sin.antecedentes), aes(x),color=\"green\") +\n",
    "    geom_density(data=data.frame(x=edad.estimada.con.antecedentes), aes(x),color=\"red\") +\n",
    "    geom_vline(xintercept = mean(edad.estimada.sin.antecedentes),color=\"green\", linetype=\"dotted\") +\n",
    "    geom_vline(xintercept = mean(edad.estimada.con.antecedentes),color=\"red\", linetype=\"dotted\")"
   ]
  },
  {
   "cell_type": "markdown",
   "metadata": {},
   "source": [
    "#### Edad y BIRADS"
   ]
  },
  {
   "cell_type": "markdown",
   "metadata": {},
   "source": [
    "Representa en un diagrama de cajas cómo varía la edad de aparición del cancer en función de la densidad del cancder (BIRADS)."
   ]
  },
  {
   "cell_type": "code",
   "execution_count": 14,
   "metadata": {},
   "outputs": [],
   "source": [
    "df.birads <- na.omit(data.frame(edad=riskFactors.m$edad.estimada,birads=riskFactors.m$BIRADS_breast_density))"
   ]
  },
  {
   "cell_type": "code",
   "execution_count": 15,
   "metadata": {},
   "outputs": [
    {
     "data": {},
     "metadata": {},
     "output_type": "display_data"
    },
    {
     "data": {
      "image/png": "[encoded data removed]",
      "text/plain": [
       "plot without title"
      ]
     },
     "metadata": {},
     "output_type": "display_data"
    }
   ],
   "source": [
    "ggplot(data=df.birads,aes(x=birads,y=edad,color=birads))+geom_boxplot()"
   ]
  },
  {
   "cell_type": "markdown",
   "metadata": {},
   "source": [
    "¿Existe una evidencia estadística significativa para decir que la edad en la que se detecta el cancer depende de la densidad del cancer (BIRADS)?\n",
    "\n",
    "¿Que test habría que aplicar?\n",
    "\n",
    "Primero aplicamos el test de shapiro a ver si las distribuciones siguen una distribución normal. Coprobamos por el p-valor que podemos asumir que no siguen una distribució normal, por lo que para compararlas tenemos que realizar un test de kruskal-Wallis."
   ]
  },
  {
   "cell_type": "code",
   "execution_count": 16,
   "metadata": {},
   "outputs": [
    {
     "data": {
      "text/plain": [
       "\n",
       "\tShapiro-Wilk normality test\n",
       "\n",
       "data:  df.birads[df.birads$birads == 1, ]$edad\n",
       "W = 0.97787, p-value = 0.0001488\n"
      ]
     },
     "metadata": {},
     "output_type": "display_data"
    },
    {
     "data": {
      "text/plain": [
       "\n",
       "\tShapiro-Wilk normality test\n",
       "\n",
       "data:  df.birads[df.birads$birads == 2, ]$edad\n",
       "W = 0.96388, p-value < 2.2e-16\n"
      ]
     },
     "metadata": {},
     "output_type": "display_data"
    },
    {
     "data": {
      "text/plain": [
       "\n",
       "\tShapiro-Wilk normality test\n",
       "\n",
       "data:  df.birads[df.birads$birads == 3, ]$edad\n",
       "W = 0.95387, p-value < 2.2e-16\n"
      ]
     },
     "metadata": {},
     "output_type": "display_data"
    },
    {
     "data": {
      "text/plain": [
       "\n",
       "\tShapiro-Wilk normality test\n",
       "\n",
       "data:  df.birads[df.birads$birads == 4, ]$edad\n",
       "W = 0.93281, p-value = 2.147e-09\n"
      ]
     },
     "metadata": {},
     "output_type": "display_data"
    }
   ],
   "source": [
    "shapiro.test(df.birads[df.birads$birads==1,]$edad)\n",
    "shapiro.test(df.birads[df.birads$birads==2,]$edad)\n",
    "shapiro.test(df.birads[df.birads$birads==3,]$edad)\n",
    "shapiro.test(df.birads[df.birads$birads==4,]$edad)"
   ]
  },
  {
   "cell_type": "markdown",
   "metadata": {},
   "source": [
    "Con el test podemos concluir que las medias de los conjuntos no son iguales como ya se veia en el boxplot "
   ]
  },
  {
   "cell_type": "code",
   "execution_count": 17,
   "metadata": {},
   "outputs": [
    {
     "data": {
      "text/plain": [
       "\n",
       "\tKruskal-Wallis rank sum test\n",
       "\n",
       "data:  edad by birads\n",
       "Kruskal-Wallis chi-squared = 156.19, df = 3, p-value < 2.2e-16\n"
      ]
     },
     "metadata": {},
     "output_type": "display_data"
    }
   ],
   "source": [
    "kruskal.test( edad ~ birads, data=df.birads)"
   ]
  },
  {
   "cell_type": "markdown",
   "metadata": {},
   "source": [
    "#### Tablas de contingencia: BIRADS"
   ]
  },
  {
   "cell_type": "markdown",
   "metadata": {},
   "source": [
    "¿Todos los  tipos de cancer (BIRADS) son igual de probables? ¿Con que test lo comprobarías?"
   ]
  },
  {
   "cell_type": "markdown",
   "metadata": {},
   "source": [
    "No todos los tipos de cancer son igual de probables, podemos observarlo en la tabla de conteos y comprobarlo con el test chi cuadrado"
   ]
  },
  {
   "cell_type": "code",
   "execution_count": 18,
   "metadata": {},
   "outputs": [
    {
     "data": {
      "text/plain": [
       "\n",
       "   1    2    3    4 \n",
       " 297 1665 1451  256 "
      ]
     },
     "metadata": {},
     "output_type": "display_data"
    },
    {
     "data": {
      "text/plain": [
       "\n",
       "\tChi-squared test for given probabilities\n",
       "\n",
       "data:  observed\n",
       "X-squared = 1816.3, df = 3, p-value < 2.2e-16\n"
      ]
     },
     "metadata": {},
     "output_type": "display_data"
    }
   ],
   "source": [
    "observed <-table(df.birads$birads)\n",
    "observed\n",
    "chisq.test(observed)"
   ]
  },
  {
   "cell_type": "markdown",
   "metadata": {},
   "source": [
    "¿Cual es el tipo de cancer (BIRADS) más común? ¿Con qué proporción?"
   ]
  },
  {
   "cell_type": "markdown",
   "metadata": {},
   "source": [
    "Si observamos la tabla de frecuencias, el mas comun es el tipo 2, aunque no tiene mucha diferencia con el tipo 3.Con el test Chi cuadrado comprobamos que el tipo 2 es significativamente mas probable que el de tipo 3"
   ]
  },
  {
   "cell_type": "code",
   "execution_count": 19,
   "metadata": {},
   "outputs": [
    {
     "data": {
      "text/plain": [
       "\n",
       "\tChi-squared test for given probabilities\n",
       "\n",
       "data:  table(df.birads$birads)[2:3]\n",
       "X-squared = 14.697, df = 1, p-value = 0.0001262\n"
      ]
     },
     "metadata": {},
     "output_type": "display_data"
    }
   ],
   "source": [
    "chisq.test(table(df.birads$birads)[2:3])"
   ]
  },
  {
   "cell_type": "markdown",
   "metadata": {},
   "source": [
    "¿Depende el tipo de cancer (BIRADS) de si ha habido o no antecedentes familiares?"
   ]
  },
  {
   "cell_type": "markdown",
   "metadata": {},
   "source": [
    "Realizamos un test de independencia con el test chi cuadrado, y como el p-valor es elevado, aceptamos la hipotesis nula, que las variables son independientes, el tipo de cancer no depende de si has tenido antecedentes familiares"
   ]
  },
  {
   "cell_type": "code",
   "execution_count": 20,
   "metadata": {},
   "outputs": [
    {
     "data": {
      "text/plain": [
       "            tipo\n",
       "antecedentes    1    2    3    4\n",
       "           0  223 1324 1135  190\n",
       "           1   56  248  229   45"
      ]
     },
     "metadata": {},
     "output_type": "display_data"
    },
    {
     "data": {
      "text/plain": [
       "\n",
       "\tPearson's Chi-squared test\n",
       "\n",
       "data:  t1\n",
       "X-squared = 4.2475, df = 3, p-value = 0.236\n"
      ]
     },
     "metadata": {},
     "output_type": "display_data"
    }
   ],
   "source": [
    "df1 <- data.frame(antecedentes=riskFactors.m$first_degree_hx, tipo=riskFactors.m$BIRADS_breast_density)\n",
    "t1 <- table(na.omit(df1))\n",
    "t1\n",
    "chisq.test(t1)\n"
   ]
  },
  {
   "cell_type": "markdown",
   "metadata": {},
   "source": [
    "¿Depende el tipo de cancer BIRADS del grupo étnico?"
   ]
  },
  {
   "cell_type": "markdown",
   "metadata": {},
   "source": [
    "realizamos el mismo test que en el caso anterior, pero en esta ocasión el p-valor es muy bajo, por lo que podemos asumir que hay relación entre los tipos de cancer y el grupo etnico"
   ]
  },
  {
   "cell_type": "code",
   "execution_count": 21,
   "metadata": {},
   "outputs": [
    {
     "data": {
      "text/plain": [
       "            tipo\n",
       "Grupo.Etnico    1    2    3    4\n",
       "           1  204 1208 1021  179\n",
       "           2   23  100   92   11\n",
       "           3   11   51   85   29\n",
       "           4    1    7    6    3\n",
       "           5   26   98   94   11\n",
       "           6    2   19   15    3"
      ]
     },
     "metadata": {},
     "output_type": "display_data"
    },
    {
     "name": "stderr",
     "output_type": "stream",
     "text": [
      "Warning message in chisq.test(t2):\n",
      "“Chi-squared approximation may be incorrect”"
     ]
    },
    {
     "data": {
      "text/plain": [
       "\n",
       "\tPearson's Chi-squared test\n",
       "\n",
       "data:  t2\n",
       "X-squared = 48.684, df = 15, p-value = 1.971e-05\n"
      ]
     },
     "metadata": {},
     "output_type": "display_data"
    }
   ],
   "source": [
    "t2 <- table(na.omit(data.frame(Grupo.Etnico=riskFactors.m$race_eth, tipo=riskFactors.m$BIRADS_breast_density)))\n",
    "t2\n",
    "chisq.test(t2)"
   ]
  },
  {
   "cell_type": "markdown",
   "metadata": {},
   "source": [
    "¿Cual es la probabilidad (con su margen de error del 95%) de que un *Native American* tenga un cancer de tipo *Almost entirely fat*?\n",
    "\n",
    "*Aviso*: Cuidado con los NA\n",
    "\n",
    "Nativo americano = 4\n",
    "Almost entirely fat = 1"
   ]
  },
  {
   "cell_type": "code",
   "execution_count": 22,
   "metadata": {},
   "outputs": [
    {
     "name": "stdout",
     "output_type": "stream",
     "text": [
      "[1] \"P(Native American,Almost enterrly fat)= 0.000303122158229767\"\n"
     ]
    },
    {
     "data": {
      "text/plain": [
       "\n",
       "\tExact binomial test\n",
       "\n",
       "data:  ns and n\n",
       "number of successes = 1, number of trials = 3299, p-value < 2.2e-16\n",
       "alternative hypothesis: true probability of success is not equal to 0.5\n",
       "95 percent confidence interval:\n",
       " 7.674359e-06 1.687719e-03\n",
       "sample estimates:\n",
       "probability of success \n",
       "          0.0003031222 \n"
      ]
     },
     "metadata": {},
     "output_type": "display_data"
    }
   ],
   "source": [
    "ns <- t2[4,1]\n",
    "n <- sum(t2)\n",
    "binom.test(ns,n)"
   ]
  },
  {
   "cell_type": "markdown",
   "metadata": {},
   "source": [
    "La probabilidad de que un Native American tenga un cancer de tipo Almost entirely fat es de 0.000303122158229767, con un intervalo de confianza del 95% de [7.674359e-06 - 1.687719e-03]"
   ]
  }
 ],
 "metadata": {
  "kernelspec": {
   "display_name": "R",
   "language": "R",
   "name": "ir"
  },
  "language_info": {
   "codemirror_mode": "r",
   "file_extension": ".r",
   "mimetype": "text/x-r-source",
   "name": "R",
   "pygments_lexer": "r",
   "version": "3.2.3"
  }
 },
 "nbformat": 4,
 "nbformat_minor": 1
}
