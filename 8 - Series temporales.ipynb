{
 "cells": [
  {
   "cell_type": "markdown",
   "metadata": {},
   "source": [
    "# Fechas en R\n",
    "\n",
    "Existen dos objetos para almacenar fechas en R.\n",
    "\n",
    "* Posixct es recubrimiento sobre un timestamp en segundos.\n",
    "* Posixlt es una lista de objetos que contiene la información de la fecha"
   ]
  },
  {
   "cell_type": "code",
   "execution_count": 4,
   "metadata": {},
   "outputs": [
    {
     "data": {
      "text/plain": [
       "[1] \"2018-10-05 15:40:00 UTC\""
      ]
     },
     "metadata": {},
     "output_type": "display_data"
    },
    {
     "data": {
      "text/plain": [
       "[1] \"2018-10-05 UTC\""
      ]
     },
     "metadata": {},
     "output_type": "display_data"
    }
   ],
   "source": [
    "d1<-as.POSIXct(\"2018-10-5 15:40\")\n",
    "d2<-as.POSIXct(\"5/10/2018 17:33\",format=\"%d/%m/%Y\")\n",
    "\n",
    "d1\n",
    "d2"
   ]
  },
  {
   "cell_type": "code",
   "execution_count": 6,
   "metadata": {},
   "outputs": [
    {
     "name": "stdout",
     "output_type": "stream",
     "text": [
      " POSIXct[1:1], format: \"2018-10-05 15:40:00\"\n"
     ]
    },
    {
     "data": {
      "text/html": [
       "1538754000"
      ],
      "text/latex": [
       "1538754000"
      ],
      "text/markdown": [
       "1538754000"
      ],
      "text/plain": [
       "[1] 1538754000\n",
       "attr(,\"tzone\")\n",
       "[1] \"\""
      ]
     },
     "metadata": {},
     "output_type": "display_data"
    }
   ],
   "source": [
    "str(d1)\n",
    "unclass(d1)"
   ]
  },
  {
   "cell_type": "code",
   "execution_count": 7,
   "metadata": {},
   "outputs": [
    {
     "data": {
      "text/plain": [
       "[1] \"2018-04-05 UTC\""
      ]
     },
     "metadata": {},
     "output_type": "display_data"
    }
   ],
   "source": [
    "d3<-as.POSIXlt(\"2018-4-5\")\n",
    "d3"
   ]
  },
  {
   "cell_type": "code",
   "execution_count": 9,
   "metadata": {},
   "outputs": [
    {
     "name": "stdout",
     "output_type": "stream",
     "text": [
      " POSIXlt[1:1], format: \"2018-04-05\"\n"
     ]
    },
    {
     "data": {
      "text/html": [
       "<dl>\n",
       "\t<dt>$sec</dt>\n",
       "\t\t<dd>0</dd>\n",
       "\t<dt>$min</dt>\n",
       "\t\t<dd>0</dd>\n",
       "\t<dt>$hour</dt>\n",
       "\t\t<dd>0</dd>\n",
       "\t<dt>$mday</dt>\n",
       "\t\t<dd>5</dd>\n",
       "\t<dt>$mon</dt>\n",
       "\t\t<dd>3</dd>\n",
       "\t<dt>$year</dt>\n",
       "\t\t<dd>118</dd>\n",
       "\t<dt>$wday</dt>\n",
       "\t\t<dd>4</dd>\n",
       "\t<dt>$yday</dt>\n",
       "\t\t<dd>94</dd>\n",
       "\t<dt>$isdst</dt>\n",
       "\t\t<dd>0</dd>\n",
       "\t<dt>$zone</dt>\n",
       "\t\t<dd>'UTC'</dd>\n",
       "\t<dt>$gmtoff</dt>\n",
       "\t\t<dd>&lt;NA&gt;</dd>\n",
       "</dl>\n"
      ],
      "text/latex": [
       "\\begin{description}\n",
       "\\item[\\$sec] 0\n",
       "\\item[\\$min] 0\n",
       "\\item[\\$hour] 0\n",
       "\\item[\\$mday] 5\n",
       "\\item[\\$mon] 3\n",
       "\\item[\\$year] 118\n",
       "\\item[\\$wday] 4\n",
       "\\item[\\$yday] 94\n",
       "\\item[\\$isdst] 0\n",
       "\\item[\\$zone] 'UTC'\n",
       "\\item[\\$gmtoff] <NA>\n",
       "\\end{description}\n"
      ],
      "text/markdown": [
       "$sec\n",
       ":   0\n",
       "$min\n",
       ":   0\n",
       "$hour\n",
       ":   0\n",
       "$mday\n",
       ":   5\n",
       "$mon\n",
       ":   3\n",
       "$year\n",
       ":   118\n",
       "$wday\n",
       ":   4\n",
       "$yday\n",
       ":   94\n",
       "$isdst\n",
       ":   0\n",
       "$zone\n",
       ":   'UTC'\n",
       "$gmtoff\n",
       ":   &lt;NA&gt;\n",
       "\n",
       "\n"
      ],
      "text/plain": [
       "$sec\n",
       "[1] 0\n",
       "\n",
       "$min\n",
       "[1] 0\n",
       "\n",
       "$hour\n",
       "[1] 0\n",
       "\n",
       "$mday\n",
       "[1] 5\n",
       "\n",
       "$mon\n",
       "[1] 3\n",
       "\n",
       "$year\n",
       "[1] 118\n",
       "\n",
       "$wday\n",
       "[1] 4\n",
       "\n",
       "$yday\n",
       "[1] 94\n",
       "\n",
       "$isdst\n",
       "[1] 0\n",
       "\n",
       "$zone\n",
       "[1] \"UTC\"\n",
       "\n",
       "$gmtoff\n",
       "[1] NA\n"
      ]
     },
     "metadata": {},
     "output_type": "display_data"
    }
   ],
   "source": [
    "str(d3)\n",
    "unclass(d3)"
   ]
  },
  {
   "cell_type": "markdown",
   "metadata": {},
   "source": [
    "# Series temporales\n",
    "\n",
    "Hablaremos de los objetos xts y los zoo que son de los que hereda."
   ]
  },
  {
   "cell_type": "code",
   "execution_count": 34,
   "metadata": {},
   "outputs": [
    {
     "data": {},
     "metadata": {},
     "output_type": "display_data"
    },
    {
     "data": {
      "image/png": "[encoded data removed]",
      "text/plain": [
       "plot without title"
      ]
     },
     "metadata": {},
     "output_type": "display_data"
    }
   ],
   "source": [
    "options(repr.plot.height=4,repr.plot.width=6)\n",
    "N<-100\n",
    "data <- rnorm(N)\n",
    "dates <- seq(as.POSIXct(\"2018-01-01\"), length = N, by = \"hour\")\n",
    "\n",
    "randdata <- xts(x = data, order.by = dates)\n",
    "plot(randdata)"
   ]
  },
  {
   "cell_type": "markdown",
   "metadata": {},
   "source": [
    "Primero creamos un objeto xts a partir del valor de las acciones de Apple"
   ]
  },
  {
   "cell_type": "code",
   "execution_count": 14,
   "metadata": {},
   "outputs": [],
   "source": [
    "suppressWarnings(require(\"quantmod\"))\n",
    "start <- as.Date(\"2007-01-01\")\n",
    "end <- as.Date(\"2018-01-01\")\n",
    "AAPL<-getSymbols(\"AAPL\", src = \"yahoo\", from = start, to = end,auto.assign = F)"
   ]
  },
  {
   "cell_type": "code",
   "execution_count": 15,
   "metadata": {},
   "outputs": [
    {
     "data": {
      "text/html": [
       "<ol class=list-inline>\n",
       "\t<li>'xts'</li>\n",
       "\t<li>'zoo'</li>\n",
       "</ol>\n"
      ],
      "text/latex": [
       "\\begin{enumerate*}\n",
       "\\item 'xts'\n",
       "\\item 'zoo'\n",
       "\\end{enumerate*}\n"
      ],
      "text/markdown": [
       "1. 'xts'\n",
       "2. 'zoo'\n",
       "\n",
       "\n"
      ],
      "text/plain": [
       "[1] \"xts\" \"zoo\""
      ]
     },
     "metadata": {},
     "output_type": "display_data"
    }
   ],
   "source": [
    "class(AAPL)"
   ]
  },
  {
   "cell_type": "markdown",
   "metadata": {},
   "source": [
    "Accedemos a la fecha mediante la función *index()*"
   ]
  },
  {
   "cell_type": "code",
   "execution_count": 52,
   "metadata": {},
   "outputs": [
    {
     "data": {
      "text/html": [
       "<ol class=list-inline>\n",
       "\t<li><time datetime=\"2007-01-03\">2007-01-03</time></li>\n",
       "\t<li><time datetime=\"2007-01-04\">2007-01-04</time></li>\n",
       "\t<li><time datetime=\"2007-01-05\">2007-01-05</time></li>\n",
       "</ol>\n"
      ],
      "text/latex": [
       "\\begin{enumerate*}\n",
       "\\item 2007-01-03\n",
       "\\item 2007-01-04\n",
       "\\item 2007-01-05\n",
       "\\end{enumerate*}\n"
      ],
      "text/markdown": [
       "1. 2007-01-03\n",
       "2. 2007-01-04\n",
       "3. 2007-01-05\n",
       "\n",
       "\n"
      ],
      "text/plain": [
       "[1] \"2007-01-03\" \"2007-01-04\" \"2007-01-05\""
      ]
     },
     "metadata": {},
     "output_type": "display_data"
    }
   ],
   "source": [
    "index(AAPL)[1:3]"
   ]
  },
  {
   "cell_type": "markdown",
   "metadata": {},
   "source": [
    "Al contenido, sin fecha, se accede con *coredata()*"
   ]
  },
  {
   "cell_type": "code",
   "execution_count": 54,
   "metadata": {},
   "outputs": [
    {
     "name": "stdout",
     "output_type": "stream",
     "text": [
      " num [1:2769, 1:6] 12.3 12 12.3 12.3 12.3 ...\n",
      " - attr(*, \"dimnames\")=List of 2\n",
      "  ..$ : NULL\n",
      "  ..$ : chr [1:6] \"AAPL.Open\" \"AAPL.High\" \"AAPL.Low\" \"AAPL.Close\" ...\n"
     ]
    }
   ],
   "source": [
    "str(coredata(AAPL))"
   ]
  },
  {
   "cell_type": "markdown",
   "metadata": {},
   "source": [
    "## Queries sobre fechas\n",
    "\n",
    "Podemos usar el formato  ISO-8601 para hacer queries sobre fechas:"
   ]
  },
  {
   "cell_type": "code",
   "execution_count": 23,
   "metadata": {},
   "outputs": [
    {
     "data": {
      "text/plain": [
       "           AAPL.Open AAPL.High AAPL.Low AAPL.Close AAPL.Volume AAPL.Adjusted\n",
       "2017-01-09    117.95    119.43   117.94     118.99    33561900      116.6313"
      ]
     },
     "metadata": {},
     "output_type": "display_data"
    }
   ],
   "source": [
    "AAPL[\"20170109\"]"
   ]
  },
  {
   "cell_type": "code",
   "execution_count": 22,
   "metadata": {},
   "outputs": [
    {
     "data": {
      "text/plain": [
       "           AAPL.Open AAPL.High AAPL.Low AAPL.Close AAPL.Volume AAPL.Adjusted\n",
       "2017-01-03    115.80    116.33   114.76     116.15    28781900      113.8476\n",
       "2017-01-04    115.85    116.51   115.75     116.02    21118100      113.7202\n",
       "2017-01-05    115.92    116.86   115.81     116.61    22193600      114.2985\n",
       "2017-01-06    116.78    118.16   116.47     117.91    31751900      115.5727\n",
       "2017-01-09    117.95    119.43   117.94     118.99    33561900      116.6313\n",
       "2017-01-10    118.77    119.38   118.30     119.11    24462100      116.7489"
      ]
     },
     "metadata": {},
     "output_type": "display_data"
    }
   ],
   "source": [
    "AAPL[\"20170101/20170110\"]"
   ]
  },
  {
   "cell_type": "code",
   "execution_count": 36,
   "metadata": {},
   "outputs": [
    {
     "data": {
      "text/plain": [
       "                        [,1]\n",
       "2018-01-01 08:00:00 1.997208\n",
       "2018-01-01 09:00:00 2.414453\n",
       "2018-01-01 10:00:00 1.012451"
      ]
     },
     "metadata": {},
     "output_type": "display_data"
    }
   ],
   "source": [
    "randdata[\"2018-01-01T08:00/2018-01-01T10:00\"]"
   ]
  },
  {
   "cell_type": "markdown",
   "metadata": {},
   "source": [
    "# Funciones \n",
    "\n",
    "Media, mediana movil"
   ]
  },
  {
   "cell_type": "code",
   "execution_count": 78,
   "metadata": {},
   "outputs": [
    {
     "data": {},
     "metadata": {},
     "output_type": "display_data"
    },
    {
     "data": {
      "image/png": "[encoded data removed]",
      "text/plain": [
       "plot without title"
      ]
     },
     "metadata": {},
     "output_type": "display_data"
    }
   ],
   "source": [
    "appl<-AAPL$AAPL.Adjusted\n",
    "meanappl<-rollmean(appl,k = 50)\n",
    "plot(meanappl)\n"
   ]
  },
  {
   "cell_type": "markdown",
   "metadata": {},
   "source": [
    "# Algorimto ARIMA"
   ]
  },
  {
   "cell_type": "code",
   "execution_count": 37,
   "metadata": {},
   "outputs": [
    {
     "name": "stderr",
     "output_type": "stream",
     "text": [
      "Warning message in dir.create(file.path(\"/home/vagrant/R/x86_64-pc-linux-gnu-library/3.2\"), :\n",
      "“'/home/vagrant/R/x86_64-pc-linux-gnu-library/3.2' already exists”also installing the dependencies ‘quadprog’, ‘tseries’, ‘fracdiff’, ‘lmtest’, ‘timeDate’, ‘RcppArmadillo’\n",
      "\n"
     ]
    },
    {
     "name": "stdout",
     "output_type": "stream",
     "text": [
      "\n",
      "The downloaded source packages are in\n",
      "\t‘/tmp/RtmpyTEaid/downloaded_packages’\n"
     ]
    }
   ],
   "source": [
    "dir.create(file.path(\"/home/vagrant/R/x86_64-pc-linux-gnu-library/3.2\"),recursive = T)\n",
    "install.packages(c('forecast'), lib=\"~/R/x86_64-pc-linux-gnu-library/3.2\", \n",
    "                 repos='https://cran.rstudio.com/',verbose=F)"
   ]
  },
  {
   "cell_type": "code",
   "execution_count": 38,
   "metadata": {},
   "outputs": [],
   "source": [
    "library(\"forecast\",lib.loc = \"/home/vagrant/R/x86_64-pc-linux-gnu-library/3.2\")"
   ]
  },
  {
   "cell_type": "code",
   "execution_count": 44,
   "metadata": {},
   "outputs": [
    {
     "name": "stdout",
     "output_type": "stream",
     "text": [
      "An ‘xts’ object on 2007-01-03/2017-12-29 containing:\n",
      "  Data: num [1:2769, 1] 8.1 8.28 8.23 8.27 8.95 ...\n",
      " - attr(*, \"dimnames\")=List of 2\n",
      "  ..$ : NULL\n",
      "  ..$ : chr \"AAPL.Adjusted\"\n",
      "  Indexed by objects of class: [Date] TZ: UTC\n",
      "  xts Attributes:  \n",
      "List of 2\n",
      " $ src    : chr \"yahoo\"\n",
      " $ updated: POSIXct[1:1], format: \"2018-02-27 18:17:42\"\n"
     ]
    }
   ],
   "source": [
    "str(AAPL$AAPL.Adjusted)"
   ]
  },
  {
   "cell_type": "code",
   "execution_count": 39,
   "metadata": {},
   "outputs": [],
   "source": [
    "model <- auto.arima(AAPL$AAPL.Adjusted)"
   ]
  },
  {
   "cell_type": "code",
   "execution_count": 40,
   "metadata": {},
   "outputs": [
    {
     "data": {
      "text/plain": [
       "Series: AAPL$AAPL.Adjusted \n",
       "ARIMA(0,1,0) with drift \n",
       "\n",
       "Coefficients:\n",
       "       drift\n",
       "      0.0580\n",
       "s.e.  0.0204\n",
       "\n",
       "sigma^2 estimated as 1.152:  log likelihood=-4122.56\n",
       "AIC=8249.12   AICc=8249.13   BIC=8260.97"
      ]
     },
     "metadata": {},
     "output_type": "display_data"
    }
   ],
   "source": [
    "model"
   ]
  },
  {
   "cell_type": "code",
   "execution_count": 41,
   "metadata": {},
   "outputs": [],
   "source": [
    "?auto.arima"
   ]
  },
  {
   "cell_type": "code",
   "execution_count": 43,
   "metadata": {},
   "outputs": [
    {
     "data": {
      "image/png": "[encoded data removed]",
      "text/plain": [
       "Plot with title “Forecasts from ARIMA(0,1,0) with drift”"
      ]
     },
     "metadata": {},
     "output_type": "display_data"
    }
   ],
   "source": [
    "plot(forecast(model,h=100))"
   ]
  },
  {
   "cell_type": "markdown",
   "metadata": {},
   "source": [
    "Las 10 próximas prediciones del modelo son:"
   ]
  },
  {
   "cell_type": "code",
   "execution_count": 50,
   "metadata": {},
   "outputs": [
    {
     "data": {
      "text/plain": [
       "     Point Forecast    Lo 80    Hi 80    Lo 95    Hi 95\n",
       "2770       168.6008 167.2255 169.9761 166.4974 170.7041\n",
       "2771       168.6588 166.7138 170.6037 165.6842 171.6333\n",
       "2772       168.7167 166.3346 171.0988 165.0736 172.3598\n",
       "2773       168.7747 166.0241 171.5253 164.5680 172.9814\n",
       "2774       168.8326 165.7574 171.9079 164.1294 173.5359\n",
       "2775       168.8906 165.5218 172.2594 163.7385 174.0427\n",
       "2776       168.9486 165.3098 172.5873 163.3836 174.5135\n",
       "2777       169.0065 165.1166 172.8965 163.0573 174.9557\n",
       "2778       169.0645 164.9386 173.1904 162.7544 175.3745\n",
       "2779       169.1225 164.7733 173.4716 162.4711 175.7738"
      ]
     },
     "metadata": {},
     "output_type": "display_data"
    }
   ],
   "source": [
    "forecast(model,h=10)"
   ]
  }
 ],
 "metadata": {
  "kernelspec": {
   "display_name": "R",
   "language": "R",
   "name": "ir"
  },
  "language_info": {
   "codemirror_mode": "r",
   "file_extension": ".r",
   "mimetype": "text/x-r-source",
   "name": "R",
   "pygments_lexer": "r",
   "version": "3.2.3"
  }
 },
 "nbformat": 4,
 "nbformat_minor": 2
}
