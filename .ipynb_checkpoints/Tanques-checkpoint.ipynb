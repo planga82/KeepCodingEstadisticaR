{
 "cells": [
  {
   "cell_type": "markdown",
   "metadata": {},
   "source": [
    "# Problema de los tanques alemanes"
   ]
  },
  {
   "cell_type": "markdown",
   "metadata": {},
   "source": [
    "## Objetivo\n",
    " \n",
    " * Mostrar cómo comparar diferentes estimadores: sesgo y varianza.\n",
    " * Cómo simular datos en R\n",
    " \n",
    "## Problema\n",
    "\n",
    "En la segunda guerra mundial los alemanes llegaron a conquistar una gran parte de Europa, para derrotarlos los Aliados tenían que conocer la fuerza de su oponente.\n",
    "\n",
    "\n",
    "### ¿Cuantos tanques Panzer fabricaban los alemanes?\n",
    "\n",
    "\n",
    "![Panzer II](panzer_II.jpg)\n",
    "\n",
    "Los Aliados se hacían esa pregunta y trataron de obtener respuesta utilizando dos métodos diferentes. \n",
    "* **métodos convecionales de inteligencia**: Mediante espionaje tratar de averiguar la capacidad productora.\n",
    "* **análisis estadístico**:  Analizando los números de serie de diferentes piezas de tanques destruidos en el campo de batalla.\n",
    "\n",
    "Tras finalizar la guerra se pudieron acceder a los registros alemanes y se vio que el análisis estadístico dio valores muy próximos a los reales:\n",
    "\n",
    "| Mes  | Estimación estadística| Estimación de espionaje | Registros alemanes |\n",
    "|-----|-----|-----|----|\n",
    "| June 1940 | 169 | 1,000 | 122 |\n",
    "| June 1941\t| 244 | 1,550 | 271 |\n",
    "| August 1942 |\t327\t| 1,550 | 342 |\n",
    "\n"
   ]
  },
  {
   "cell_type": "markdown",
   "metadata": {},
   "source": [
    "## ¿Cómo se estimó? \n",
    "\n",
    "Partiendo de las siguientes suposiciones:\n",
    "* Los alemanes ponen número de serie consecutivos a los tanques que fabrican.\n",
    "* El número de serie empieza en 1.\n",
    "* Tenemos los números de serie de diferentes tanques destruidos, los cuales son una muestra **aleatoria** de la población total de tanques.\n",
    "\n",
    "Consiste en estimar el **máximo** de una **distribución uniforme**.\n"
   ]
  },
  {
   "cell_type": "markdown",
   "metadata": {},
   "source": [
    "![title](Uniform_Distribution.png)\n",
    "\\begin{equation*}\n",
    "pdf(x)=\\left\\{\\begin{matrix}\n",
    "\\frac{1}{b-a} & para\\: a \\leq x \\leq b \\\\ \n",
    "0 & para\\: x<a \\;,\\; x>b\n",
    "\\end{matrix}\\right. \\\\\n",
    "\\mu=\\frac{a+b}{2}\\;\\;\\;\\;\\sigma^2=\\frac{(b-a)^2}{12}\n",
    "\\end{equation*}"
   ]
  },
  {
   "cell_type": "markdown",
   "metadata": {},
   "source": [
    "## Ejemplo\n",
    "\n",
    "\n",
    "Por ejemplo, imaginemos que los alemanes fabricaron en total 5000 tanques, con números de serie del 1 al 5000. Tentremos a=1, y querremos estimar b cuyo valor real será 5000.\n",
    "\n"
   ]
  },
  {
   "cell_type": "code",
   "execution_count": null,
   "metadata": {
    "collapsed": false
   },
   "outputs": [],
   "source": [
    "set.seed(123)\n",
    "totalPopulationSerialNo<-1:5000\n",
    "\n",
    "# Tamaño del gráfico en Jupyter\n",
    "options(repr.plot.width=4,repr.plot.height=3)\n",
    "\n",
    "#Vamos a dibujar la función de densidad de probabilidad \n",
    "a<-min(totalPopulationSerialNo)\n",
    "b<-max(totalPopulationSerialNo)\n",
    "pdf<-1/(b-a)\n",
    "\n",
    "plot(c(a,a,b,b), c(0,pdf,pdf,0),t=\"l\",xlim = c(0,b+1),ylim = c(0,0.0005),lwd=3,col=\"blue\",ylab=\"pdf(x)\",xlab=\"Num. serie\")\n",
    "\n",
    "\n",
    "# Capturamos 5 tanques\n",
    "capturedSerialNo<-sample(totalPopulationSerialNo,size = 5)\n",
    "\n",
    "points(capturedSerialNo,rep(pdf,length.out=length(capturedSerialNo)),col=\"black\",cex=1,pch=8)\n",
    "grid()\n",
    "\n",
    "print(paste(\"Los números de serie de tanques capturados son: \", paste(capturedSerialNo,collapse=\",\")))"
   ]
  },
  {
   "cell_type": "markdown",
   "metadata": {},
   "source": [
    "Los números de serie capturados consisten en un **muestreo aleatorio simple** de la población total de tanques.\n",
    "Nuestro objetivo es, sabiendo que se distribuyen siguiendo una función uniforme, estimar el máximo, que llamaremos **b**, suponiendo que **a=1**."
   ]
  },
  {
   "cell_type": "markdown",
   "metadata": {},
   "source": [
    "## Estimación utilizando la media\n"
   ]
  },
  {
   "cell_type": "markdown",
   "metadata": {},
   "source": [
    "En el caso de muestreo aleatoria simple, la **media** de la distribución original **coincide** con la de la muestra. Suponiendo que la media de la *población total* es $\\mu$ y que la media de nuestra distribución de *tanques capturados* es $\\bar{x}$, entonces.\n",
    "\\begin{equation*}\n",
    "\\mu=\\frac{a+b}{2}=\\frac{1}{N}\\sum_{i=1}^N{x_i}=\\bar{x}\n",
    "\\end{equation*}\n",
    "\n",
    "Desarollando llegamos a la fórmula:\n",
    "\n",
    "\\begin{equation*}\n",
    "\\bar{x}=\\frac{a+b}{2}\\\\\n",
    "2\\cdot\\bar{x}=a+b\\\\\n",
    "b=2\\cdot\\bar{x}-a \\\\\n",
    "\\end{equation*}\n"
   ]
  },
  {
   "cell_type": "code",
   "execution_count": null,
   "metadata": {
    "collapsed": false
   },
   "outputs": [],
   "source": [
    "a<-1\n",
    "b<-2*mean(capturedSerialNo)-a\n",
    "print(paste(\"Utilizando como estimador la media, el número máximo de tanques fabricados es\",round(b)))"
   ]
  },
  {
   "cell_type": "markdown",
   "metadata": {},
   "source": [
    "## Estimación utilizando la varianza\n",
    "\n",
    "Utilizando el mismo razonamiento que antes, podemos utilizar la varianza para calcular el máximo número de tanques. Sabemos que la varianza de la *población total* de tanques $\\sigma^2$ tiene que coincidir con la varianza de los *números de serie capturados* $Var[x]$.\n",
    "\\begin{equation*}\n",
    "\\sigma^2=\\frac{(b-a)^2}{12} \\\\\n",
    "Var[x]=\\frac{1}{N-1}\\sum_{i=1}^N{(x_i-\\bar{x})^2}\n",
    "\\end{equation*}\n",
    "Desarrollando llegamos a la fórmula:\n",
    "\\begin{equation*}\n",
    "Var[x]=\\frac{(b-a)^2}{12} \\\\\n",
    "12\\cdot Var[x]=(b-a)^2\\\\\n",
    "b=a+\\sqrt{12\\cdot Var[x]}\n",
    "\\end{equation*}\n",
    "\n",
    "\n"
   ]
  },
  {
   "cell_type": "code",
   "execution_count": null,
   "metadata": {
    "collapsed": false
   },
   "outputs": [],
   "source": [
    "a<-1\n",
    "b<-a+sqrt(12*var(capturedSerialNo))\n",
    "print(paste(\"Utilizando como estimador la varianza, el número máximo de tanques fabricados es\",round(b)))"
   ]
  },
  {
   "cell_type": "markdown",
   "metadata": {},
   "source": [
    "## ¿Cual es el mejor estimador?\n",
    "\n",
    "El mejor estimador será aquel que tenga una probabilidad mayor de dar un valor cercano al correcto.\n",
    "\n",
    "Repetimos el proceso varias veces, suponiendo que tenemos diferentes intententos o diferentes tipos de tanques que probar.\n"
   ]
  },
  {
   "cell_type": "code",
   "execution_count": null,
   "metadata": {
    "collapsed": false
   },
   "outputs": [],
   "source": [
    "numTries<-1e5\n",
    "numCapturedTanks<-5\n",
    "\n",
    "meanEstimated<-rep(NA,numTries)\n",
    "varEstimated<-rep(NA,numTries)\n",
    "for (i in 1:numTries){\n",
    "    capturedSerialNo<-sample(totalPopulationSerialNo,size = numCapturedTanks)\n",
    "    meanEstimated[i]<-2*mean(capturedSerialNo)-1\n",
    "    varEstimated[i]<-sqrt(12*var(capturedSerialNo))-1\n",
    "}\n",
    "df<-data.frame(mean=meanEstimated,var=varEstimated)\n",
    "margin_mean<-round(quantile(df$mean,c(0.05,0.95)))\n",
    "margin_var<-round(quantile(df$var,c(0.05,0.95)))\n",
    "\n",
    "library(ggplot2)\n",
    "library(reshape2)\n",
    "\n",
    "ggplot(data=melt(df),aes(x=value,color=variable))+geom_density()\n",
    "print(paste0(\"Estimador usando la media:    media: \",round(mean(df$mean)),\"  varianza: \",round(var(df$mean)),\n",
    "      \"  margen: [\",margin_mean[1],\",\",margin_mean[2],\"]\"))\n",
    "print(paste0(\"Estimador usando la varianza: media: \",round(mean(df$var)),\"  varianza: \",round(var(df$var)),\n",
    "      \"  margen: [\",margin_var[1],\",\",margin_var[2],\"]\"))"
   ]
  },
  {
   "cell_type": "markdown",
   "metadata": {},
   "source": [
    "## Estimador insesgado de varianza mínima"
   ]
  },
  {
   "cell_type": "markdown",
   "metadata": {},
   "source": [
    "Un **estimador insesgado de varianza mínima** es aquel que tiene menor varianza que cualquier otro estimador insesgado para todos los posibles valores del parámetro. Para el caso de una distribución uniforme es:\n",
    "\\begin{equation*}\n",
    "b=\\left(1+N^{-1}\\right)·x_N-1=x_N+\\frac{x_N}{N}-1\n",
    "\\end{equation*}\n",
    "Donde:\n",
    "* $x_N$ es el número de serie más grande capturado.\n",
    "* $N$ es el número total de tanques capturados.\n",
    "* $a=1$"
   ]
  },
  {
   "cell_type": "markdown",
   "metadata": {},
   "source": [
    "Esta fórmula sale de suponer que:\n",
    "\\begin{equation*}\n",
    "x_1-1  \\approx  b-x_N\n",
    "\\end{equation*}\n",
    "Lo que se puede extender a:\n",
    "\\begin{equation*}\n",
    "x_1-1 \\approx x_2-x_1-1 \\approx x_3-x_2-1 \\approx x_{N}-x_{N-1}-1 \\approx  b-x_N\\\\\n",
    "\\frac{(x_1-1) + (x_2-x_1-1) + (x_3-x_2-1) + \\cdots + (x_{N}-x_{N-1}-1)}{N} \\approx  b-x_N \\\\\n",
    "\\frac{x_{N}}{N}-1 \\approx  b-x_N \\\\\n",
    "b \\approx x_N +\\frac{x_N}{N}-1\n",
    "\\end{equation*}"
   ]
  },
  {
   "cell_type": "code",
   "execution_count": null,
   "metadata": {
    "collapsed": false
   },
   "outputs": [],
   "source": [
    "mvue<-rep(NA,numTries)\n",
    "for (i in 1:numTries){\n",
    "    capturedSerialNo<-sample(totalPopulationSerialNo,size = numCapturedTanks)\n",
    "    mvue[i]<-max(capturedSerialNo)*(1+1/length(capturedSerialNo))-1\n",
    "}\n",
    "df<-data.frame(mean=meanEstimated,var=varEstimated,mvue=mvue)\n",
    "\n",
    "ggplot(data=melt(df),aes(x=value,color=variable))+geom_density()\n",
    "\n",
    "margin_mean<-round(quantile(df$mean,c(0.05,0.95)))\n",
    "margin_var<-round(quantile(df$var,c(0.05,0.95)))\n",
    "margin_mvue<-round(quantile(df$mvue,c(0.05,0.95)))\n",
    "\n",
    "print(paste0(\"Estimador usando la media:    media: \",round(mean(df$mean)),\"  varianza: \",round(var(df$mean)),\n",
    "      \"  margen: [\",margin_mean[1],\",\",margin_mean[2],\"]\"))\n",
    "print(paste0(\"Estimador usando la varianza: media: \",round(mean(df$var)),\"  varianza: \",round(var(df$var)),\n",
    "      \"  margen: [\",margin_var[1],\",\",margin_var[2],\"]\"))\n",
    "print(paste0(\"Estimador usando la mvue:     media: \",round(mean(df$mvue)),\"  varianza: \",round(var(df$mvue)),\n",
    "      \"   margen: [\",margin_mvue[1],\",\",margin_mvue[2],\"]\"))"
   ]
  },
  {
   "cell_type": "markdown",
   "metadata": {},
   "source": [
    "## ¿Como varía el margen con el número de tanques capturados?"
   ]
  },
  {
   "cell_type": "markdown",
   "metadata": {},
   "source": [
    "Por ahora se han realizado experimentos con un número fijo de tanques recuperados. \n",
    "\n",
    "En esta sección veremos cómo varía el margen de error dado por cada estimador en función del número de tanques capturados.\n",
    "\n",
    "Así por ejemplo podemos saber cuantos tanques necesitamos capturar como mínimo para alcanzar el margen de error necesario.\n"
   ]
  },
  {
   "cell_type": "code",
   "execution_count": null,
   "metadata": {
    "collapsed": false
   },
   "outputs": [],
   "source": [
    "numTries<-1e3\n",
    "numTanksCaptured<-2:50\n",
    "\n",
    "margin_mean<-matrix(rep(NA,2*length(numTanksCaptured)),ncol=2)\n",
    "margin_var<-matrix(rep(NA,2*length(numTanksCaptured)),ncol=2)\n",
    "margin_mvue<-matrix(rep(NA,2*length(numTanksCaptured)),ncol=2)\n",
    "\n",
    "for (j in 1:length(numTanksCaptured)){\n",
    "    \n",
    "    meanEstimated<-rep(NA,numTries)\n",
    "    varEstimated<-rep(NA,numTries)\n",
    "    mvue<-rep(NA,numTries)\n",
    "    for (i in 1:numTries){\n",
    "        capturedSerialNo<-sample(totalPopulationSerialNo,size = numTanksCaptured[j])\n",
    "        meanEstimated[i]<-2*mean(capturedSerialNo)-1\n",
    "        varEstimated[i]<-sqrt(12*var(capturedSerialNo))-1\n",
    "        mvue[i]<-max(capturedSerialNo)*(1+1/length(capturedSerialNo))-1\n",
    "    }\n",
    "\n",
    "    margin_mean[j,]<-quantile(meanEstimated,c(0.05,0.95))\n",
    "    margin_var[j,]<-quantile(varEstimated,c(0.05,0.95))\n",
    "    margin_mvue[j,]<-quantile(mvue,c(0.05,0.95))\n",
    "}\n",
    "\n",
    "df_mean<-melt(data.frame(m1=margin_mean[,1],m2=margin_mean[,2],num=numTanksCaptured),id=\"num\")\n",
    "df_mean$group<-\"mean\"\n",
    "df_var<-melt(data.frame(v1=margin_var[,1],v2=margin_var[,2],num=numTanksCaptured),id=\"num\")\n",
    "df_var$group<-\"variance\"\n",
    "df_mvue<-melt(data.frame(n1=margin_mvue[,1],n2=margin_mvue[,2],num=numTanksCaptured),id=\"num\")\n",
    "df_mvue$group<-\"mvue\"\n",
    "df<-rbind(df_mean,df_var,df_mvue)\n",
    "\n",
    "ggplot(data=df,aes(x=num,y=value,group=variable,color=group))+geom_line()"
   ]
  }
 ],
 "metadata": {
  "kernelspec": {
   "display_name": "R",
   "language": "R",
   "name": "ir"
  },
  "language_info": {
   "codemirror_mode": "r",
   "file_extension": ".r",
   "mimetype": "text/x-r-source",
   "name": "R",
   "pygments_lexer": "r",
   "version": "3.4.2"
  }
 },
 "nbformat": 4,
 "nbformat_minor": 1
}
