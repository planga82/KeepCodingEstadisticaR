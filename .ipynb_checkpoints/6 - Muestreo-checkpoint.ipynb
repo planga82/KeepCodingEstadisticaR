{
 "cells": [
  {
   "cell_type": "markdown",
   "metadata": {},
   "source": [
    "# Muestreo\n",
    "\n",
    "Muchas veces es imposible acceder a los datos completos de una población entera, por ser una población demasiado grande o simplemente porque no toda la población original es visible directamente.\n",
    "\n",
    "Es por ello que recurrimos al muestreo, tomamos una muestra *significativa* de la población original y a partir de ella calculamos los estadísticos necesarios. \n",
    "\n",
    "Por ejemplo si queremos calcular la media de altura de la población española podemos elegir al azar a varias personas, medir su altura y calcular la media. Podríamos asumir que esa es la media de la población. Pero, ¿cómo de real es esa media? \n",
    "* Si mi muestra al azar la hago seleccionando a miembros de varios equipos de baloncesto, la media seguramente me saldrá **sesgada**, su media será mayor de lo esperado.\n",
    "* Si la muestra la hago partiendo de un grupo pequeño cabe esperar que tenga una gran **varianza**, es decir, si repito el experimento con otro grupo de personas igual de reducido el valor será bastante diferente.\n",
    "\n"
   ]
  },
  {
   "cell_type": "markdown",
   "metadata": {},
   "source": [
    "## Sesgo\n",
    "\n",
    "El sesgo (en inglés bias) nos dice la diferencia entre el valor del estimador esperado y el estimador real.\n",
    "\n",
    "### Varianza como estimador sesgado\n",
    "\n",
    "Por ejemplo, la varianza de una variable muestreada es un estimador sesgado.\n",
    "Recordemos, la varianza se definía como:\n",
    "\\\\[ Var[x] =  \\frac{1}{N} \\sum _{i=1}^N \\left( x_i-\\bar{x} \\right)^2 \\\\]\n",
    "\n",
    "Comprobemos si esto es cierto, supongamos que tenemos una distribución uniforme con media 0 y varianza 4. Si tomamos una población de 5 elementos, ¿cual es la varianza que típicamente?. Podemos repetir este experimento 10.000 veces para comprobar su resultado:"
   ]
  },
  {
   "cell_type": "code",
   "execution_count": 1,
   "metadata": {
    "collapsed": false
   },
   "outputs": [
    {
     "name": "stdout",
     "output_type": "stream",
     "text": [
      "[1] \"La varianza esperada es: 3.2167317056839\"\n"
     ]
    },
    {
     "data": {
      "image/png": "[encoded data removed]",
      "text/plain": [
       "Plot with title “Histogram of varianzaEstimada”"
      ]
     },
     "metadata": {},
     "output_type": "display_data"
    }
   ],
   "source": [
    "myVar<-function(X){\n",
    "    v<-0\n",
    "    m<-mean(X)\n",
    "    for (xi in X){\n",
    "        v<-v+(xi-m)^2\n",
    "    }\n",
    "    v/length(X)\n",
    "}\n",
    "\n",
    "n<-5\n",
    "\n",
    "varianzaEstimada<-c()\n",
    "for (i in 1:10000){\n",
    "    r<-rnorm(n,mean=0,sd=2)\n",
    "    varianzaEstimada<-c(varianzaEstimada,myVar(r))\n",
    "}\n",
    "hist(varianzaEstimada,15)\n",
    "print(paste(\"La varianza esperada es:\",mean(varianzaEstimada)))"
   ]
  },
  {
   "cell_type": "markdown",
   "metadata": {},
   "source": [
    "Como vemos obtenemos una varianza cercana a 3.176, cuando sabemos que la varianza es realmente 4.\n",
    "Lo que ocurre es que el estimador de la varianza está sesgado, hay que modificar su fórmula multiplicándolo por $\\frac{N}{N-1}$ donde $N$ es el número de elementos de la población muestreada. En nuestro caso N=5, así que:\n",
    "\\\\[\n",
    "\\frac{5}{5-1}·3.176=3.97\n",
    "\\\\]\n",
    "Lo cual da un valor mucho más próximo al esperado.\n",
    "Así pues hay que reescribir la fórmula de la varianza de la siguiente forma:\n",
    "\\\\[ Var[x] =  \\frac{1}{N-1} \\sum _{i=1}^N \\left( x_i-\\bar{x} \\right)^2 \\\\]\n",
    "\n",
    "Esta es la fórmula que utiliza R para la función *var()*\n"
   ]
  },
  {
   "cell_type": "markdown",
   "metadata": {},
   "source": [
    "### Sesgo de selección\n",
    "\n",
    "Es us sesgo en el que hay un error en la selección de elementos de la población. En nuestro ejemplo anterior el sesgo de selección sería ir a coger jugadores de baloncesto esperando que sean una muestra representativa de la altura española.\n",
    "\n",
    "Es un error sistemático que no depende del azar, es necesario identificarlo y tratar de neutraliza su efecto."
   ]
  },
  {
   "cell_type": "markdown",
   "metadata": {},
   "source": [
    "#### Sesgo del superviviente\n",
    "\n",
    "Es un tipo de sesgo de selección. Muchas veces los datos que disponemos no representan una parte fiable de la población que queremos medir, sino una parte de aquellos que han superado ciertos filtros.\n",
    "\n",
    "![Imagen no cargada. Edita y borra la @ ](https://xkcd.com/1827/ @ )"
   ]
  },
  {
   "cell_type": "markdown",
   "metadata": {},
   "source": [
    "Durante la segunda guerra mundial los aliados se enfrentaron con el problema de que muchos de sus aviones caian en combate. \n",
    "Una solución era poner más blindaje en ciertas partes estratégicas del avión, en las que sufrían más daño. Hicieron un estudio estadístico de las zonas más dañadas por el fuego nazi. Principalmente había más agujeros de bala en la parte central y en los extremos de las alas tal y como muestra la siguiente imagen de la [Wikipedia](https://en.wikipedia.org/wiki/Survivorship_bias#/media/File:Survivorship-bias.png).\n",
    "![](https://upload.wikimedia.org/wikipedia/commons/9/98/Survivorship-bias.png)\n",
    "\n",
    "Entre el ejercito empezó una corriente que sugería añadir más blindaje a las zonas donde había más daños. ¿Sería eso una buena idea?\n",
    "\n",
    "El estadista Abraham Wald recomendó exactamente lo contrario, podríamos asumir que el fuego dañaba por igual todas las partes del avión, pero los aviones que veiamos eran aquellos que a pesar de ser alcanzados podían haber continuado volando. \n",
    "\n",
    "Así pues había que aumentar el blindaje en las zonas donde no había marcas de disparos porque esos son los aviones que no habían sobrevido al viaje."
   ]
  },
  {
   "cell_type": "markdown",
   "metadata": {},
   "source": [
    "## Varianza \n",
    "\n",
    "La varianza de un estimador nos dice cuan de fiable, o cuanto error, nuestro estimador puede tener. "
   ]
  },
  {
   "cell_type": "markdown",
   "metadata": {},
   "source": [
    "## Problema de los tanques alemanes"
   ]
  },
  {
   "cell_type": "markdown",
   "metadata": {},
   "source": [
    "### Objetivo\n",
    " \n",
    " * Mostrar cómo comparar diferentes estimadores: sesgo y varianza.\n",
    " * Cómo simular datos en R\n",
    " \n",
    "### Problema\n",
    "\n",
    "En la segunda guerra mundial los alemanes llegaron a conquistar una gran parte de Europa, para derrotarlos los Aliados tenían que conocer la fuerza de su oponente.\n",
    "\n",
    "\n",
    "#### ¿Cuantos tanques Panzer fabricaban los alemanes?\n",
    "\n",
    "\n",
    "![Panzer II](panzer_II.jpg)\n",
    "\n",
    "Los Aliados se hacían esa pregunta y trataron de obtener respuesta utilizando dos métodos diferentes. \n",
    "* **métodos convecionales de inteligencia**: Mediante espionaje tratar de averiguar la capacidad productora.\n",
    "* **análisis estadístico**:  Analizando los números de serie de diferentes piezas de tanques destruidos en el campo de batalla.\n",
    "\n",
    "Tras finalizar la guerra se pudieron acceder a los registros alemanes y se vio que el análisis estadístico dio valores muy próximos a los reales:\n",
    "\n",
    "| Mes  | Estimación estadística| Estimación de espionaje | Registros alemanes |\n",
    "|-----|-----|-----|----|\n",
    "| June 1940 | 169 | 1,000 | 122 |\n",
    "| June 1941\t| 244 | 1,550 | 271 |\n",
    "| August 1942 |\t327\t| 1,550 | 342 |\n",
    "\n"
   ]
  },
  {
   "cell_type": "markdown",
   "metadata": {},
   "source": [
    "### ¿Cómo se estimó? \n",
    "\n",
    "Partiendo de las siguientes suposiciones:\n",
    "* Los alemanes ponen número de serie consecutivos a los tanques que fabrican.\n",
    "* El número de serie empieza en 1.\n",
    "* Tenemos los números de serie de diferentes tanques destruidos, los cuales son una muestra **aleatoria** de la población total de tanques.\n",
    "\n",
    "Consiste en estimar el **máximo** de una **distribución uniforme**.\n"
   ]
  },
  {
   "cell_type": "markdown",
   "metadata": {},
   "source": [
    "![title](Uniform_Distribution.png)\n",
    "\\begin{equation*}\n",
    "pdf(x)=\\left\\{\\begin{matrix}\n",
    "\\frac{1}{b-a} & para\\: a \\leq x \\leq b \\\\ \n",
    "0 & para\\: x<a \\;,\\; x>b\n",
    "\\end{matrix}\\right. \\\\\n",
    "\\mu=\\frac{a+b}{2}\\;\\;\\;\\;\\sigma^2=\\frac{(b-a)^2}{12}\n",
    "\\end{equation*}"
   ]
  },
  {
   "cell_type": "markdown",
   "metadata": {},
   "source": [
    "### Ejemplo\n",
    "\n",
    "\n",
    "Por ejemplo, imaginemos que los alemanes fabricaron en total 5000 tanques, con números de serie del 1 al 5000. Tentremos a=1, y querremos estimar b cuyo valor real será 5000.\n",
    "\n"
   ]
  },
  {
   "cell_type": "code",
   "execution_count": 2,
   "metadata": {
    "collapsed": false
   },
   "outputs": [
    {
     "name": "stdout",
     "output_type": "stream",
     "text": [
      "[1] \"Los números de serie de tanques capturados son:  1438,3941,2045,4413,4699\"\n"
     ]
    },
    {
     "data": {
      "image/png": "[encoded data removed]",
      "text/plain": [
       "plot without title"
      ]
     },
     "metadata": {},
     "output_type": "display_data"
    }
   ],
   "source": [
    "set.seed(123)\n",
    "totalPopulationSerialNo<-1:5000\n",
    "\n",
    "# Tamaño del gráfico en Jupyter\n",
    "options(repr.plot.width=4,repr.plot.height=3)\n",
    "\n",
    "#Vamos a dibujar la función de densidad de probabilidad \n",
    "a<-min(totalPopulationSerialNo)\n",
    "b<-max(totalPopulationSerialNo)\n",
    "pdf<-1/(b-a)\n",
    "\n",
    "plot(c(a,a,b,b), c(0,pdf,pdf,0),t=\"l\",xlim = c(0,b+1),ylim = c(0,0.0005),lwd=3,col=\"blue\",ylab=\"pdf(x)\",xlab=\"Num. serie\")\n",
    "\n",
    "\n",
    "# Capturamos 5 tanques\n",
    "capturedSerialNo<-sample(totalPopulationSerialNo,size = 5)\n",
    "\n",
    "points(capturedSerialNo,rep(pdf,length.out=length(capturedSerialNo)),col=\"black\",cex=1,pch=8)\n",
    "grid()\n",
    "\n",
    "print(paste(\"Los números de serie de tanques capturados son: \", paste(capturedSerialNo,collapse=\",\")))"
   ]
  },
  {
   "cell_type": "markdown",
   "metadata": {},
   "source": [
    "Los números de serie capturados consisten en un **muestreo aleatorio simple** de la población total de tanques.\n",
    "Nuestro objetivo es, sabiendo que se distribuyen siguiendo una función uniforme, estimar el máximo, que llamaremos **b**, suponiendo que **a=1**."
   ]
  },
  {
   "cell_type": "markdown",
   "metadata": {},
   "source": [
    "### Estimación utilizando la media\n"
   ]
  },
  {
   "cell_type": "markdown",
   "metadata": {},
   "source": [
    "En el caso de muestreo aleatoria simple, la **media** de la distribución original **coincide** con la de la muestra. Suponiendo que la media de la *población total* es $\\mu$ y que la media de nuestra distribución de *tanques capturados* es $\\bar{x}$, entonces.\n",
    "\\begin{equation*}\n",
    "\\mu=\\frac{a+b}{2}=\\frac{1}{N}\\sum_{i=1}^N{x_i}=\\bar{x}\n",
    "\\end{equation*}\n",
    "\n",
    "Desarollando llegamos a la fórmula:\n",
    "\n",
    "\\begin{equation*}\n",
    "\\bar{x}=\\frac{a+b}{2}\\\\\n",
    "2\\cdot\\bar{x}=a+b\\\\\n",
    "b=2\\cdot\\bar{x}-a \\\\\n",
    "\\end{equation*}\n"
   ]
  },
  {
   "cell_type": "code",
   "execution_count": 3,
   "metadata": {
    "collapsed": false
   },
   "outputs": [
    {
     "name": "stdout",
     "output_type": "stream",
     "text": [
      "[1] \"Utilizando como estimador la media, el número máximo de tanques fabricados es 6613\"\n"
     ]
    }
   ],
   "source": [
    "a<-1\n",
    "b<-2*mean(capturedSerialNo)-a\n",
    "print(paste(\"Utilizando como estimador la media, el número máximo de tanques fabricados es\",round(b)))"
   ]
  },
  {
   "cell_type": "markdown",
   "metadata": {},
   "source": [
    "### Estimación utilizando la varianza\n",
    "\n",
    "Utilizando el mismo razonamiento que antes, podemos utilizar la varianza para calcular el máximo número de tanques. Sabemos que la varianza de la *población total* de tanques $\\sigma^2$ tiene que coincidir con la varianza de los *números de serie capturados* $Var[x]$.\n",
    "\\begin{equation*}\n",
    "\\sigma^2=\\frac{(b-a)^2}{12} \\\\\n",
    "Var[x]=\\frac{1}{N-1}\\sum_{i=1}^N{(x_i-\\bar{x})^2}\n",
    "\\end{equation*}\n",
    "Desarrollando llegamos a la fórmula:\n",
    "\\begin{equation*}\n",
    "Var[x]=\\frac{(b-a)^2}{12} \\\\\n",
    "12\\cdot Var[x]=(b-a)^2\\\\\n",
    "b=a+\\sqrt{12\\cdot Var[x]}\n",
    "\\end{equation*}\n",
    "\n",
    "\n"
   ]
  },
  {
   "cell_type": "code",
   "execution_count": 4,
   "metadata": {
    "collapsed": false
   },
   "outputs": [
    {
     "name": "stdout",
     "output_type": "stream",
     "text": [
      "[1] \"Utilizando como estimador la varianza, el número máximo de tanques fabricados es 5095\"\n"
     ]
    }
   ],
   "source": [
    "a<-1\n",
    "b<-a+sqrt(12*var(capturedSerialNo))\n",
    "print(paste(\"Utilizando como estimador la varianza, el número máximo de tanques fabricados es\",round(b)))"
   ]
  },
  {
   "cell_type": "markdown",
   "metadata": {},
   "source": [
    "### ¿Cual es el mejor estimador?\n",
    "\n",
    "El mejor estimador será aquel que tenga una probabilidad mayor de dar un valor cercano al correcto.\n",
    "\n",
    "Repetimos el proceso varias veces, suponiendo que tenemos diferentes intententos o diferentes tipos de tanques que probar.\n"
   ]
  },
  {
   "cell_type": "code",
   "execution_count": 8,
   "metadata": {
    "collapsed": false
   },
   "outputs": [
    {
     "name": "stderr",
     "output_type": "stream",
     "text": [
      "No id variables; using all as measure variables\n"
     ]
    },
    {
     "data": {},
     "metadata": {},
     "output_type": "display_data"
    },
    {
     "name": "stdout",
     "output_type": "stream",
     "text": [
      "[1] \"Estimador usando la media:    media: 5004  varianza: 1666698  margen: [2862,7137]\"\n",
      "[1] \"Estimador usando la varianza: media: 4810  varianza: 1832723  margen: [2437,6874]\"\n"
     ]
    },
    {
     "data": {
      "image/png": "[encoded data removed]",
      "text/plain": [
       "plot without title"
      ]
     },
     "metadata": {},
     "output_type": "display_data"
    }
   ],
   "source": [
    "numTries<-1e5\n",
    "numCapturedTanks<-5\n",
    "\n",
    "meanEstimated<-rep(NA,numTries)\n",
    "varEstimated<-rep(NA,numTries)\n",
    "for (i in 1:numTries){\n",
    "    capturedSerialNo<-sample(totalPopulationSerialNo,size = numCapturedTanks)\n",
    "    meanEstimated[i]<-2*mean(capturedSerialNo)-1\n",
    "    varEstimated[i]<-sqrt(12*var(capturedSerialNo))-1\n",
    "}\n",
    "df<-data.frame(mean=meanEstimated,var=varEstimated)\n",
    "margin_mean<-round(quantile(df$mean,c(0.05,0.95)))\n",
    "margin_var<-round(quantile(df$var,c(0.05,0.95)))\n",
    "\n",
    "library(ggplot2)\n",
    "library(reshape2)\n",
    "\n",
    "ggplot(data=melt(df),aes(x=value,color=variable))+geom_density()\n",
    "print(paste0(\"Estimador usando la media:    media: \",round(mean(df$mean)),\"  varianza: \",round(var(df$mean)),\n",
    "      \"  margen: [\",margin_mean[1],\",\",margin_mean[2],\"]\"))\n",
    "print(paste0(\"Estimador usando la varianza: media: \",round(mean(df$var)),\"  varianza: \",round(var(df$var)),\n",
    "      \"  margen: [\",margin_var[1],\",\",margin_var[2],\"]\"))"
   ]
  },
  {
   "cell_type": "markdown",
   "metadata": {},
   "source": [
    "### Estimador insesgado de varianza mínima"
   ]
  },
  {
   "cell_type": "markdown",
   "metadata": {},
   "source": [
    "Un **estimador insesgado de varianza mínima** es aquel que tiene menor varianza que cualquier otro estimador insesgado para todos los posibles valores del parámetro. Para el caso de una distribución uniforme es:\n",
    "\\begin{equation*}\n",
    "b=\\left(1+N^{-1}\\right)·x_N-1=x_N+\\frac{x_N}{N}-1\n",
    "\\end{equation*}\n",
    "Donde:\n",
    "* $x_N$ es el número de serie más grande capturado.\n",
    "* $N$ es el número total de tanques capturados.\n",
    "* $a=1$"
   ]
  },
  {
   "cell_type": "markdown",
   "metadata": {},
   "source": [
    "Esta fórmula sale de suponer que:\n",
    "\\begin{equation*}\n",
    "x_1-1  \\approx  b-x_N\n",
    "\\end{equation*}\n",
    "Lo que se puede extender a:\n",
    "\\begin{equation*}\n",
    "x_1-1 \\approx x_2-x_1-1 \\approx x_3-x_2-1 \\approx x_{N}-x_{N-1}-1 \\approx  b-x_N\\\\\n",
    "\\frac{(x_1-1) + (x_2-x_1-1) + (x_3-x_2-1) + \\cdots + (x_{N}-x_{N-1}-1)}{N} \\approx  b-x_N \\\\\n",
    "\\frac{x_{N}}{N}-1 \\approx  b-x_N \\\\\n",
    "b \\approx x_N +\\frac{x_N}{N}-1\n",
    "\\end{equation*}"
   ]
  },
  {
   "cell_type": "code",
   "execution_count": 6,
   "metadata": {
    "collapsed": false
   },
   "outputs": [
    {
     "name": "stderr",
     "output_type": "stream",
     "text": [
      "No id variables; using all as measure variables\n"
     ]
    },
    {
     "data": {},
     "metadata": {},
     "output_type": "display_data"
    },
    {
     "name": "stdout",
     "output_type": "stream",
     "text": [
      "[1] \"Estimador usando la media:    media: 4999  varianza: 1666606  margen: [2866,7122]\"\n",
      "[1] \"Estimador usando la varianza: media: 4816  varianza: 1825464  margen: [2443,6876]\"\n",
      "[1] \"Estimador usando la mvue:     media: 5000  varianza: 715543   margen: [3287,5938]\"\n"
     ]
    },
    {
     "data": {
      "image/png": "[encoded data removed]",
      "text/plain": [
       "plot without title"
      ]
     },
     "metadata": {},
     "output_type": "display_data"
    }
   ],
   "source": [
    "mvue<-rep(NA,numTries)\n",
    "for (i in 1:numTries){\n",
    "    capturedSerialNo<-sample(totalPopulationSerialNo,size = numCapturedTanks)\n",
    "    mvue[i]<-max(capturedSerialNo)*(1+1/length(capturedSerialNo))-1\n",
    "}\n",
    "df<-data.frame(mean=meanEstimated,var=varEstimated,mvue=mvue)\n",
    "\n",
    "ggplot(data=melt(df),aes(x=value,color=variable))+geom_density()\n",
    "\n",
    "margin_mean<-round(quantile(df$mean,c(0.05,0.95)))\n",
    "margin_var<-round(quantile(df$var,c(0.05,0.95)))\n",
    "margin_mvue<-round(quantile(df$mvue,c(0.05,0.95)))\n",
    "\n",
    "print(paste0(\"Estimador usando la media:    media: \",round(mean(df$mean)),\"  varianza: \",round(var(df$mean)),\n",
    "      \"  margen: [\",margin_mean[1],\",\",margin_mean[2],\"]\"))\n",
    "print(paste0(\"Estimador usando la varianza: media: \",round(mean(df$var)),\"  varianza: \",round(var(df$var)),\n",
    "      \"  margen: [\",margin_var[1],\",\",margin_var[2],\"]\"))\n",
    "print(paste0(\"Estimador usando la mvue:     media: \",round(mean(df$mvue)),\"  varianza: \",round(var(df$mvue)),\n",
    "      \"   margen: [\",margin_mvue[1],\",\",margin_mvue[2],\"]\"))"
   ]
  },
  {
   "cell_type": "markdown",
   "metadata": {},
   "source": [
    "### ¿Como varía el margen con el número de tanques capturados?"
   ]
  },
  {
   "cell_type": "markdown",
   "metadata": {},
   "source": [
    "Por ahora se han realizado experimentos con un número fijo de tanques recuperados. \n",
    "\n",
    "En esta sección veremos cómo varía el margen de error dado por cada estimador en función del número de tanques capturados.\n",
    "\n",
    "Así por ejemplo podemos saber cuantos tanques necesitamos capturar como mínimo para alcanzar el margen de error necesario.\n"
   ]
  },
  {
   "cell_type": "code",
   "execution_count": 7,
   "metadata": {
    "collapsed": false
   },
   "outputs": [
    {
     "data": {},
     "metadata": {},
     "output_type": "display_data"
    },
    {
     "data": {
      "image/png": "[encoded data removed]",
      "text/plain": [
       "plot without title"
      ]
     },
     "metadata": {},
     "output_type": "display_data"
    }
   ],
   "source": [
    "numTries<-1e3\n",
    "numTanksCaptured<-2:50\n",
    "\n",
    "margin_mean<-matrix(rep(NA,2*length(numTanksCaptured)),ncol=2)\n",
    "margin_var<-matrix(rep(NA,2*length(numTanksCaptured)),ncol=2)\n",
    "margin_mvue<-matrix(rep(NA,2*length(numTanksCaptured)),ncol=2)\n",
    "\n",
    "for (j in 1:length(numTanksCaptured)){\n",
    "    \n",
    "    meanEstimated<-rep(NA,numTries)\n",
    "    varEstimated<-rep(NA,numTries)\n",
    "    mvue<-rep(NA,numTries)\n",
    "    for (i in 1:numTries){\n",
    "        capturedSerialNo<-sample(totalPopulationSerialNo,size = numTanksCaptured[j])\n",
    "        meanEstimated[i]<-2*mean(capturedSerialNo)-1\n",
    "        varEstimated[i]<-sqrt(12*var(capturedSerialNo))-1\n",
    "        mvue[i]<-max(capturedSerialNo)*(1+1/length(capturedSerialNo))-1\n",
    "    }\n",
    "\n",
    "    margin_mean[j,]<-quantile(meanEstimated,c(0.05,0.95))\n",
    "    margin_var[j,]<-quantile(varEstimated,c(0.05,0.95))\n",
    "    margin_mvue[j,]<-quantile(mvue,c(0.05,0.95))\n",
    "}\n",
    "\n",
    "df_mean<-melt(data.frame(m1=margin_mean[,1],m2=margin_mean[,2],num=numTanksCaptured),id=\"num\")\n",
    "df_mean$group<-\"mean\"\n",
    "df_var<-melt(data.frame(v1=margin_var[,1],v2=margin_var[,2],num=numTanksCaptured),id=\"num\")\n",
    "df_var$group<-\"variance\"\n",
    "df_mvue<-melt(data.frame(n1=margin_mvue[,1],n2=margin_mvue[,2],num=numTanksCaptured),id=\"num\")\n",
    "df_mvue$group<-\"mvue\"\n",
    "df<-rbind(df_mean,df_var,df_mvue)\n",
    "\n",
    "ggplot(data=df,aes(x=num,y=value,group=variable,color=group))+geom_line()"
   ]
  },
  {
   "cell_type": "markdown",
   "metadata": {
    "collapsed": true
   },
   "source": [
    "# Tipos de muestreo\n",
    "\n",
    "## Muestreo aleatorio simple \n",
    "\n",
    "En este grupo se encuentran los métodos en los cuales se toma una muestra aleatoria de la población total. Consiste en seleccionar al azar diferentes elementos de la población. Puede ser:\n",
    "* con reemplazo: Si un mismo elemento puede ser seleccionado más de una vez.\n",
    "* sin reemplazo: Una vez que se selecciona un elemento no se puede puede volver a seleccionar.\n",
    "\n",
    "Por ejemplo si de un mazo de cartas seleccionamos 5 al azar estaremos realizando muestreo aleatorio simple sin reemplazo.\n",
    "![](./muestreo/muestreoaleatorio.jpg)"
   ]
  },
  {
   "cell_type": "markdown",
   "metadata": {},
   "source": [
    "### Funciones en R\n",
    "\n",
    "En R existe la función *sample()* que permite hacer muestreo aleatorio con o sin reemplazo.\n",
    "\n",
    "Veamos un ejemplo con el dataset Iris"
   ]
  },
  {
   "cell_type": "code",
   "execution_count": 7,
   "metadata": {
    "collapsed": false
   },
   "outputs": [
    {
     "name": "stdout",
     "output_type": "stream",
     "text": [
      "[1] \"Los índices de los elementos seleccionados del dataset iris son: 9,124,137,115,122\"\n"
     ]
    },
    {
     "data": {
      "text/html": [
       "<table>\n",
       "<thead><tr><th></th><th scope=col>Sepal.Length</th><th scope=col>Sepal.Width</th><th scope=col>Petal.Length</th><th scope=col>Petal.Width</th><th scope=col>Species</th></tr></thead>\n",
       "<tbody>\n",
       "\t<tr><th scope=row>9</th><td>4.4      </td><td>2.9      </td><td>1.4      </td><td>0.2      </td><td>setosa   </td></tr>\n",
       "\t<tr><th scope=row>124</th><td>6.3      </td><td>2.7      </td><td>4.9      </td><td>1.8      </td><td>virginica</td></tr>\n",
       "\t<tr><th scope=row>137</th><td>6.3      </td><td>3.4      </td><td>5.6      </td><td>2.4      </td><td>virginica</td></tr>\n",
       "\t<tr><th scope=row>115</th><td>5.8      </td><td>2.8      </td><td>5.1      </td><td>2.4      </td><td>virginica</td></tr>\n",
       "\t<tr><th scope=row>122</th><td>5.6      </td><td>2.8      </td><td>4.9      </td><td>2.0      </td><td>virginica</td></tr>\n",
       "</tbody>\n",
       "</table>\n"
      ],
      "text/latex": [
       "\\begin{tabular}{r|lllll}\n",
       "  & Sepal.Length & Sepal.Width & Petal.Length & Petal.Width & Species\\\\\n",
       "\\hline\n",
       "\t9 & 4.4       & 2.9       & 1.4       & 0.2       & setosa   \\\\\n",
       "\t124 & 6.3       & 2.7       & 4.9       & 1.8       & virginica\\\\\n",
       "\t137 & 6.3       & 3.4       & 5.6       & 2.4       & virginica\\\\\n",
       "\t115 & 5.8       & 2.8       & 5.1       & 2.4       & virginica\\\\\n",
       "\t122 & 5.6       & 2.8       & 4.9       & 2.0       & virginica\\\\\n",
       "\\end{tabular}\n"
      ],
      "text/markdown": [
       "\n",
       "| <!--/--> | Sepal.Length | Sepal.Width | Petal.Length | Petal.Width | Species | \n",
       "|---|---|---|---|---|\n",
       "| 9 | 4.4       | 2.9       | 1.4       | 0.2       | setosa    | \n",
       "| 124 | 6.3       | 2.7       | 4.9       | 1.8       | virginica | \n",
       "| 137 | 6.3       | 3.4       | 5.6       | 2.4       | virginica | \n",
       "| 115 | 5.8       | 2.8       | 5.1       | 2.4       | virginica | \n",
       "| 122 | 5.6       | 2.8       | 4.9       | 2.0       | virginica | \n",
       "\n",
       "\n"
      ],
      "text/plain": [
       "    Sepal.Length Sepal.Width Petal.Length Petal.Width Species  \n",
       "9   4.4          2.9         1.4          0.2         setosa   \n",
       "124 6.3          2.7         4.9          1.8         virginica\n",
       "137 6.3          3.4         5.6          2.4         virginica\n",
       "115 5.8          2.8         5.1          2.4         virginica\n",
       "122 5.6          2.8         4.9          2.0         virginica"
      ]
     },
     "metadata": {},
     "output_type": "display_data"
    }
   ],
   "source": [
    "N<-5\n",
    "indices<-sample(1:nrow(iris),N, replace = F)\n",
    "print(paste(\"Los índices de los elementos seleccionados del dataset iris son:\",paste(indices,collapse=\",\")))\n",
    "iris[indices,]"
   ]
  },
  {
   "cell_type": "markdown",
   "metadata": {},
   "source": [
    "## Muestreo sistemático\n",
    "\n",
    "Se comienza colcando toda la población en el orden deseado, se selecciona el primer elemento y a continuación se va seleccionado el k-ésimo elemento siguiente al previamente seleccionado. *k* se conoce como intervalo de muestreo se puede calcular como:\n",
    "\\\\[\n",
    "k=\\frac{\\text{Tamaño población total}}{\\text{Tamaño de muestra}}\n",
    "\\\\]\n",
    "\n",
    "En el siguiente ejemplo con cartas se han seleccionado las cartas eligiendo un $k=3$:\n",
    "\n",
    "![](./muestreo/muestreosistematico.jpg)"
   ]
  },
  {
   "cell_type": "markdown",
   "metadata": {},
   "source": [
    "### Funciones en R\n",
    "\n",
    "En R podemos usar la función *seq(from,to, by=k)* para realizar el muestreo sistemático.\n",
    "\n",
    "Veamos un ejemplo con el dataset Iris"
   ]
  },
  {
   "cell_type": "code",
   "execution_count": 10,
   "metadata": {
    "collapsed": false
   },
   "outputs": [
    {
     "name": "stdout",
     "output_type": "stream",
     "text": [
      "[1] \"Los índices de los elementos seleccionados del dataset iris son: 1,31,61,91,121\"\n"
     ]
    },
    {
     "data": {
      "text/html": [
       "<table>\n",
       "<thead><tr><th></th><th scope=col>Sepal.Length</th><th scope=col>Sepal.Width</th><th scope=col>Petal.Length</th><th scope=col>Petal.Width</th><th scope=col>Species</th></tr></thead>\n",
       "<tbody>\n",
       "\t<tr><th scope=row>1</th><td>5.1       </td><td>3.5       </td><td>1.4       </td><td>0.2       </td><td>setosa    </td></tr>\n",
       "\t<tr><th scope=row>31</th><td>4.8       </td><td>3.1       </td><td>1.6       </td><td>0.2       </td><td>setosa    </td></tr>\n",
       "\t<tr><th scope=row>61</th><td>5.0       </td><td>2.0       </td><td>3.5       </td><td>1.0       </td><td>versicolor</td></tr>\n",
       "\t<tr><th scope=row>91</th><td>5.5       </td><td>2.6       </td><td>4.4       </td><td>1.2       </td><td>versicolor</td></tr>\n",
       "\t<tr><th scope=row>121</th><td>6.9       </td><td>3.2       </td><td>5.7       </td><td>2.3       </td><td>virginica </td></tr>\n",
       "</tbody>\n",
       "</table>\n"
      ],
      "text/latex": [
       "\\begin{tabular}{r|lllll}\n",
       "  & Sepal.Length & Sepal.Width & Petal.Length & Petal.Width & Species\\\\\n",
       "\\hline\n",
       "\t1 & 5.1        & 3.5        & 1.4        & 0.2        & setosa    \\\\\n",
       "\t31 & 4.8        & 3.1        & 1.6        & 0.2        & setosa    \\\\\n",
       "\t61 & 5.0        & 2.0        & 3.5        & 1.0        & versicolor\\\\\n",
       "\t91 & 5.5        & 2.6        & 4.4        & 1.2        & versicolor\\\\\n",
       "\t121 & 6.9        & 3.2        & 5.7        & 2.3        & virginica \\\\\n",
       "\\end{tabular}\n"
      ],
      "text/markdown": [
       "\n",
       "| <!--/--> | Sepal.Length | Sepal.Width | Petal.Length | Petal.Width | Species | \n",
       "|---|---|---|---|---|\n",
       "| 1 | 5.1        | 3.5        | 1.4        | 0.2        | setosa     | \n",
       "| 31 | 4.8        | 3.1        | 1.6        | 0.2        | setosa     | \n",
       "| 61 | 5.0        | 2.0        | 3.5        | 1.0        | versicolor | \n",
       "| 91 | 5.5        | 2.6        | 4.4        | 1.2        | versicolor | \n",
       "| 121 | 6.9        | 3.2        | 5.7        | 2.3        | virginica  | \n",
       "\n",
       "\n"
      ],
      "text/plain": [
       "    Sepal.Length Sepal.Width Petal.Length Petal.Width Species   \n",
       "1   5.1          3.5         1.4          0.2         setosa    \n",
       "31  4.8          3.1         1.6          0.2         setosa    \n",
       "61  5.0          2.0         3.5          1.0         versicolor\n",
       "91  5.5          2.6         4.4          1.2         versicolor\n",
       "121 6.9          3.2         5.7          2.3         virginica "
      ]
     },
     "metadata": {},
     "output_type": "display_data"
    }
   ],
   "source": [
    "k<-30\n",
    "indices<-seq(1,nrow(iris),by=k)\n",
    "print(paste(\"Los índices de los elementos seleccionados del dataset iris son:\",paste(indices,collapse=\",\")))\n",
    "iris[indices,]"
   ]
  },
  {
   "cell_type": "markdown",
   "metadata": {
    "collapsed": true
   },
   "source": [
    "## Muestreo estratificado\n",
    "\n",
    "Consiste en dividir los datos en grupos. Luego sobre cada grupo se selecciona el número de elementos deseado.\n",
    "\n",
    "![](./muestreo/muestreoestratificado.jpg)"
   ]
  },
  {
   "cell_type": "markdown",
   "metadata": {},
   "source": [
    "### Funciones en R\n",
    "\n",
    "En R podemos usar la función *subset* para elegir cada uno de los subgrupos y luego *sample* para elegir elementos dentro de cada grupo.\n",
    "\n",
    "Veamos un ejemplo con el dataset Iris"
   ]
  },
  {
   "cell_type": "code",
   "execution_count": 21,
   "metadata": {
    "collapsed": false
   },
   "outputs": [
    {
     "name": "stdout",
     "output_type": "stream",
     "text": [
      "[1] \"Hay 3 grupos, son: setosa,versicolor,virginica\"\n"
     ]
    },
    {
     "data": {
      "text/html": [
       "<table>\n",
       "<thead><tr><th></th><th scope=col>Sepal.Length</th><th scope=col>Sepal.Width</th><th scope=col>Petal.Length</th><th scope=col>Petal.Width</th><th scope=col>Species</th></tr></thead>\n",
       "<tbody>\n",
       "\t<tr><th scope=row>14</th><td>4.3       </td><td>3.0       </td><td>1.1       </td><td>0.1       </td><td>setosa    </td></tr>\n",
       "\t<tr><th scope=row>13</th><td>4.8       </td><td>3.0       </td><td>1.4       </td><td>0.1       </td><td>setosa    </td></tr>\n",
       "\t<tr><th scope=row>69</th><td>6.2       </td><td>2.2       </td><td>4.5       </td><td>1.5       </td><td>versicolor</td></tr>\n",
       "\t<tr><th scope=row>51</th><td>7.0       </td><td>3.2       </td><td>4.7       </td><td>1.4       </td><td>versicolor</td></tr>\n",
       "\t<tr><th scope=row>129</th><td>6.4       </td><td>2.8       </td><td>5.6       </td><td>2.1       </td><td>virginica </td></tr>\n",
       "\t<tr><th scope=row>143</th><td>5.8       </td><td>2.7       </td><td>5.1       </td><td>1.9       </td><td>virginica </td></tr>\n",
       "</tbody>\n",
       "</table>\n"
      ],
      "text/latex": [
       "\\begin{tabular}{r|lllll}\n",
       "  & Sepal.Length & Sepal.Width & Petal.Length & Petal.Width & Species\\\\\n",
       "\\hline\n",
       "\t14 & 4.3        & 3.0        & 1.1        & 0.1        & setosa    \\\\\n",
       "\t13 & 4.8        & 3.0        & 1.4        & 0.1        & setosa    \\\\\n",
       "\t69 & 6.2        & 2.2        & 4.5        & 1.5        & versicolor\\\\\n",
       "\t51 & 7.0        & 3.2        & 4.7        & 1.4        & versicolor\\\\\n",
       "\t129 & 6.4        & 2.8        & 5.6        & 2.1        & virginica \\\\\n",
       "\t143 & 5.8        & 2.7        & 5.1        & 1.9        & virginica \\\\\n",
       "\\end{tabular}\n"
      ],
      "text/markdown": [
       "\n",
       "| <!--/--> | Sepal.Length | Sepal.Width | Petal.Length | Petal.Width | Species | \n",
       "|---|---|---|---|---|---|\n",
       "| 14 | 4.3        | 3.0        | 1.1        | 0.1        | setosa     | \n",
       "| 13 | 4.8        | 3.0        | 1.4        | 0.1        | setosa     | \n",
       "| 69 | 6.2        | 2.2        | 4.5        | 1.5        | versicolor | \n",
       "| 51 | 7.0        | 3.2        | 4.7        | 1.4        | versicolor | \n",
       "| 129 | 6.4        | 2.8        | 5.6        | 2.1        | virginica  | \n",
       "| 143 | 5.8        | 2.7        | 5.1        | 1.9        | virginica  | \n",
       "\n",
       "\n"
      ],
      "text/plain": [
       "    Sepal.Length Sepal.Width Petal.Length Petal.Width Species   \n",
       "14  4.3          3.0         1.1          0.1         setosa    \n",
       "13  4.8          3.0         1.4          0.1         setosa    \n",
       "69  6.2          2.2         4.5          1.5         versicolor\n",
       "51  7.0          3.2         4.7          1.4         versicolor\n",
       "129 6.4          2.8         5.6          2.1         virginica \n",
       "143 5.8          2.7         5.1          1.9         virginica "
      ]
     },
     "metadata": {},
     "output_type": "display_data"
    }
   ],
   "source": [
    "groups<-unique(iris$Species)\n",
    "print(paste(\"Hay\",length(groups),\"grupos, son:\",paste(groups,collapse=\",\")))\n",
    "\n",
    "muestraIris<-iris[0,]\n",
    "\n",
    "for (group in groups){\n",
    "    subgrupoIris<-subset(iris,Species==group)\n",
    "    idx<-sample(1:nrow(subgrupoIris),2)\n",
    "    muestraIris<-rbind(muestraIris,subgrupoIris[idx,])\n",
    "}\n",
    "muestraIris\n"
   ]
  },
  {
   "cell_type": "markdown",
   "metadata": {},
   "source": [
    "# Margen de error\n",
    "\n",
    "Hasta ahora hemos hablado sobre como seleccionar elementos, pero ¿en qué afecta elegir más o menos elementos?"
   ]
  },
  {
   "cell_type": "markdown",
   "metadata": {},
   "source": [
    "## Distribución gaussiana\n",
    "\n",
    "### Media conocida\n",
    "\n",
    "\n",
    "De la muestra podemos calcular la media, la varianza es conocida e igual a $\\sigma^2$, el error estandar de la media es $\\sigma_M^2=\\frac{\\sigma^2}{n}$ donde $n$ es el número de elementos en nuestra muestra.\n",
    "\n",
    "\n"
   ]
  },
  {
   "cell_type": "code",
   "execution_count": 23,
   "metadata": {
    "collapsed": false
   },
   "outputs": [
    {
     "name": "stdout",
     "output_type": "stream",
     "text": [
      "[1] \"La media es 7.73694181012777 con un error de ±1.31478381086487\"\n"
     ]
    }
   ],
   "source": [
    "n=20\n",
    "s=3\n",
    "X<-rnorm(n,mean=7,sd=s)\n",
    "m<-mean(X)\n",
    "sm<-s/sqrt(n)\n",
    "error <- qnorm(0.975)*sm\n",
    "upl <- m+error\n",
    "lowl <- m-error\n",
    "print(paste0(\"La media es \",m,\" con un error de ±\",error))"
   ]
  },
  {
   "cell_type": "markdown",
   "metadata": {},
   "source": [
    "### Media desconocida"
   ]
  },
  {
   "cell_type": "code",
   "execution_count": 24,
   "metadata": {
    "collapsed": false
   },
   "outputs": [
    {
     "name": "stdout",
     "output_type": "stream",
     "text": [
      "[1] \"La media es 7.05316696875968 con un error de ±1.28665325133918\"\n"
     ]
    },
    {
     "data": {
      "text/plain": [
       "\n",
       "\tOne Sample t-test\n",
       "\n",
       "data:  X\n",
       "t = 11.474, df = 19, p-value = 5.506e-10\n",
       "alternative hypothesis: true mean is not equal to 0\n",
       "95 percent confidence interval:\n",
       " 5.766514 8.339820\n",
       "sample estimates:\n",
       "mean of x \n",
       " 7.053167 \n"
      ]
     },
     "metadata": {},
     "output_type": "display_data"
    }
   ],
   "source": [
    "n=20\n",
    "X<-rnorm(n,mean=7,sd=3)\n",
    "m<-mean(X)\n",
    "sm=sd(X)/sqrt(n)\n",
    "error <- qt(0.975,n-1)*sm\n",
    "upl <- m+error\n",
    "lowl <- m-error\n",
    "print(paste0(\"La media es \",m,\" con un error de ±\",error))\n",
    "t.test(x=X,conf.level=0.95)"
   ]
  },
  {
   "cell_type": "code",
   "execution_count": null,
   "metadata": {
    "collapsed": true
   },
   "outputs": [],
   "source": []
  }
 ],
 "metadata": {
  "kernelspec": {
   "display_name": "R",
   "language": "R",
   "name": "ir"
  },
  "language_info": {
   "codemirror_mode": "r",
   "file_extension": ".r",
   "mimetype": "text/x-r-source",
   "name": "R",
   "pygments_lexer": "r",
   "version": "3.4.2"
  }
 },
 "nbformat": 4,
 "nbformat_minor": 1
}
